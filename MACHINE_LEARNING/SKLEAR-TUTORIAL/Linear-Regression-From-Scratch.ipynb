{
 "cells": [
  {
   "cell_type": "code",
   "execution_count": 1,
   "id": "32832ecd",
   "metadata": {},
   "outputs": [],
   "source": [
    "import pandas as pd\n",
    "import numpy as np\n",
    "import seaborn as sns\n",
    "import matplotlib.pyplot as plt\n",
    "from sklearn import datasets\n",
    "from sklearn.model_selection import train_test_split"
   ]
  },
  {
   "cell_type": "code",
   "execution_count": null,
   "id": "205c7152",
   "metadata": {},
   "outputs": [],
   "source": []
  },
  {
   "cell_type": "code",
   "execution_count": 2,
   "id": "18ce2453",
   "metadata": {},
   "outputs": [],
   "source": [
    "\n",
    "class Linear_Regression:\n",
    "    \n",
    "    def __init__(self, learning_rate=0.01, no_itr=1000):\n",
    "        self.learning_rate = learning_rate\n",
    "        self.no_itr = no_itr\n",
    "               \n",
    "    def fit(self, X, y):\n",
    "        n_samples, n_features = X.shape\n",
    "        self.weights = np.zeros(n_features) # m_current\n",
    "        self.bias = 0 # b_current\n",
    "        \n",
    "        # iniciate gradient descent\n",
    "        for _ in range(self.no_itr):\n",
    "            # 1st calculate the approximate or predic y = wX + b\n",
    "            y_approxi = np.dot(X, self.weights) + self.bias\n",
    "            \n",
    "            # now work on the db and dw formula (Partial derivative of a and b)\n",
    "            db = (1/n_samples) * np.dot(X.T, (y_approxi - y))\n",
    "            dw = (1/n_samples) * np.sum(y_approxi - y)\n",
    "            \n",
    "            # update rules. but 1st get the y_approxi\n",
    "            # w = w - alpha * dw\n",
    "            # b = b - alpha * db\n",
    "            self.weights = self.weights - (self.learning_rate * dw)\n",
    "            self.bias = self.bias - (self.learning_rate * db)\n",
    "            \n",
    "    def predict(self, X):\n",
    "        y_predi = np.dot(X, self.weights) + self.bias\n",
    "        return y_predi \n",
    "    \n"
   ]
  },
  {
   "cell_type": "code",
   "execution_count": 3,
   "id": "3c204332",
   "metadata": {},
   "outputs": [
    {
     "data": {
      "image/png": "[encoded data removed]",
      "text/plain": [
       "<Figure size 432x288 with 1 Axes>"
      ]
     },
     "metadata": {
      "needs_background": "light"
     },
     "output_type": "display_data"
    }
   ],
   "source": [
    "\n",
    "X, y = datasets.make_regression(n_samples=100, n_features=1, noise=20, random_state=4)\n",
    "X_train, X_test, y_train, y_test = train_test_split(X, y, test_size=0.2, random_state=1234)\n",
    "\n",
    "m1 = plt.scatter(x=X_train, y=y_train)\n"
   ]
  },
  {
   "cell_type": "code",
   "execution_count": null,
   "id": "803de4dc",
   "metadata": {},
   "outputs": [],
   "source": []
  },
  {
   "cell_type": "code",
   "execution_count": 4,
   "id": "d615f0a5",
   "metadata": {},
   "outputs": [
    {
     "name": "stdout",
     "output_type": "stream",
     "text": [
      "[-137254.19699776   94676.40655705 1129613.4582498  1472952.41331701\n",
      "  507870.66507629 1393020.57268664  842367.86774043 -711828.34752146\n",
      "  572456.46511563 1657737.05116306  557981.99898934  315048.14905838\n",
      "  458752.9333304   347549.14760959  354431.91535204 1051825.73570004\n",
      " 1478878.94168095  457810.08306177  347450.44747605  428428.85742185]\n"
     ]
    }
   ],
   "source": [
    "myModel = Linear_Regression()\n",
    "myModel.fit(X_train, y_train)\n",
    "predi = myModel.predict(X_test)\n",
    "print(predi)"
   ]
  },
  {
   "cell_type": "code",
   "execution_count": 5,
   "id": "a92bbc52",
   "metadata": {},
   "outputs": [
    {
     "name": "stdout",
     "output_type": "stream",
     "text": [
      "MSE: 731997331338.0127\n",
      "Accuracy: 0.9253717934621973\n"
     ]
    }
   ],
   "source": [
    "from sklearn.metrics import r2_score, mean_squared_error\n",
    "\n",
    "def r2_score(y_true, y_pred):\n",
    "    corr_matrix = np.corrcoef(y_true, y_pred)\n",
    "    corr = corr_matrix[0, 1]\n",
    "    return corr ** 2\n",
    "\n",
    "def mean_squared_error(y_true, y_pred): \n",
    "    return np.mean((y_true - y_pred) ** 2)\n",
    "\n",
    "mse = mean_squared_error(y_test, predi)\n",
    "accu = r2_score(y_test, predi)\n",
    "\n",
    "print(\"MSE:\", mse)\n",
    "print(\"Accuracy:\", accu)"
   ]
  },
  {
   "cell_type": "code",
   "execution_count": 6,
   "id": "66d9cd9d",
   "metadata": {},
   "outputs": [],
   "source": [
    "# way to create a list\n",
    "x=np.arange(2*3*4*5)\n",
    "# x"
   ]
  },
  {
   "cell_type": "code",
   "execution_count": 7,
   "id": "6f6e68ad",
   "metadata": {},
   "outputs": [
    {
     "ename": "ValueError",
     "evalue": "maximum supported dimension for an ndarray is 32, found 33",
     "output_type": "error",
     "traceback": [
      "\u001b[0;31m---------------------------------------------------------------------------\u001b[0m",
      "\u001b[0;31mValueError\u001b[0m                                Traceback (most recent call last)",
      "\u001b[0;32m<ipython-input-7-b49631093f4f>\u001b[0m in \u001b[0;36m<module>\u001b[0;34m\u001b[0m\n\u001b[1;32m      1\u001b[0m \u001b[0;31m# This is one the errors that i faced while i was runing the LinearRegression !\u001b[0m\u001b[0;34m\u001b[0m\u001b[0;34m\u001b[0m\u001b[0;34m\u001b[0m\u001b[0m\n\u001b[0;32m----> 2\u001b[0;31m \u001b[0mnp\u001b[0m\u001b[0;34m.\u001b[0m\u001b[0mndarray\u001b[0m\u001b[0;34m(\u001b[0m\u001b[0;34m[\u001b[0m\u001b[0;36m1\u001b[0m\u001b[0;34m]\u001b[0m \u001b[0;34m*\u001b[0m \u001b[0;36m33\u001b[0m\u001b[0;34m)\u001b[0m\u001b[0;34m\u001b[0m\u001b[0;34m\u001b[0m\u001b[0m\n\u001b[0m",
      "\u001b[0;31mValueError\u001b[0m: maximum supported dimension for an ndarray is 32, found 33"
     ]
    }
   ],
   "source": [
    "# This is one the errors that i faced while i was runing the LinearRegression !\n",
    "np.ndarray([1] * 33)"
   ]
  },
  {
   "cell_type": "code",
   "execution_count": null,
   "id": "766205bf",
   "metadata": {},
   "outputs": [],
   "source": [
    "arr = [2, 4, 8, 4]"
   ]
  },
  {
   "cell_type": "markdown",
   "id": "8f429972",
   "metadata": {},
   "source": [
    "# Mean"
   ]
  },
  {
   "cell_type": "code",
   "execution_count": null,
   "id": "7afe535c",
   "metadata": {},
   "outputs": [],
   "source": [
    "def get_mean(arr):\n",
    "    return np.sum(arr) / len(arr)\n"
   ]
  },
  {
   "cell_type": "code",
   "execution_count": null,
   "id": "34d1891c",
   "metadata": {},
   "outputs": [],
   "source": []
  },
  {
   "cell_type": "markdown",
   "id": "8a58866e",
   "metadata": {},
   "source": [
    "# Variance or error"
   ]
  },
  {
   "cell_type": "code",
   "execution_count": null,
   "id": "a16f7ed8",
   "metadata": {},
   "outputs": [],
   "source": [
    "def get_variance(arr, mean):\n",
    "    return ((arr - mean) ** 2)"
   ]
  },
  {
   "cell_type": "code",
   "execution_count": null,
   "id": "df513f5f",
   "metadata": {},
   "outputs": [],
   "source": []
  },
  {
   "cell_type": "markdown",
   "id": "d070922d",
   "metadata": {},
   "source": [
    "# Covariance\n",
    "###### Covariance indicates the relationship of two variables whenever one variable changes. If an increase in one variable results in an increase in the other variable, both variables are said to have a positive covariance"
   ]
  },
  {
   "cell_type": "code",
   "execution_count": null,
   "id": "27be443b",
   "metadata": {},
   "outputs": [],
   "source": [
    "def get_covariance(arr_x, mean_x, arr_y, mean_y):\n",
    "    final_arr = (arr_x - mean_x) * (arr_y - mean_y)\n",
    "    return np.sum(final_arr)\n"
   ]
  },
  {
   "cell_type": "code",
   "execution_count": null,
   "id": "a5833508",
   "metadata": {},
   "outputs": [],
   "source": []
  },
  {
   "cell_type": "markdown",
   "id": "1e6ed19b",
   "metadata": {},
   "source": [
    "##### Now, the next step will be to calculate the coefficients and the Linear Regression Function so let’s see the code for those functions."
   ]
  },
  {
   "cell_type": "markdown",
   "id": "296ea8a7",
   "metadata": {},
   "source": [
    "#### Coefficient -> tells you how much the dependent variable is expected to increase when that independent variable increases by one,"
   ]
  },
  {
   "cell_type": "code",
   "execution_count": null,
   "id": "f0b38e28",
   "metadata": {},
   "outputs": [],
   "source": [
    "def get_coefficients(x, y):\n",
    "    x_mean = get_mean(x)\n",
    "    y_mean = get_mean(y)\n",
    "    m = get_covariance(x, x_mean, y, y_mean) / get_variance(x, x_mean)\n",
    "    m = np.squeeze(np.asarray(m))\n",
    "    b = y_mean - (m*x_mean)\n",
    "    return m, b"
   ]
  },
  {
   "cell_type": "code",
   "execution_count": null,
   "id": "a2b7b15d",
   "metadata": {},
   "outputs": [],
   "source": []
  },
  {
   "cell_type": "code",
   "execution_count": null,
   "id": "a375a871",
   "metadata": {},
   "outputs": [],
   "source": []
  },
  {
   "cell_type": "markdown",
   "id": "9512d94f",
   "metadata": {},
   "source": [
    "#### Can standardized regression weights be greater than 1? What doaes it means?"
   ]
  }
 ],
 "metadata": {
  "kernelspec": {
   "display_name": "Python 3 (ipykernel)",
   "language": "python",
   "name": "python3"
  },
  "language_info": {
   "codemirror_mode": {
    "name": "ipython",
    "version": 3
   },
   "file_extension": ".py",
   "mimetype": "text/x-python",
   "name": "python",
   "nbconvert_exporter": "python",
   "pygments_lexer": "ipython3",
   "version": "3.8.8"
  }
 },
 "nbformat": 4,
 "nbformat_minor": 5
}
