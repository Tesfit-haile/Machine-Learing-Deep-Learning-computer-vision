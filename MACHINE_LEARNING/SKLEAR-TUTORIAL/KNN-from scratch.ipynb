{
 "cells": [
  {
   "cell_type": "code",
   "execution_count": 1,
   "id": "25f052bb",
   "metadata": {},
   "outputs": [],
   "source": [
    "import pandas as pd\n",
    "import seaborn as sns\n",
    "import numpy as np\n",
    "from collections import Counter\n",
    "from sklearn import datasets\n",
    "from sklearn.model_selection import train_test_split"
   ]
  },
  {
   "cell_type": "code",
   "execution_count": 2,
   "id": "f959b8af",
   "metadata": {},
   "outputs": [],
   "source": [
    "def eucli_dist(x1, x2):\n",
    "    return np.sqrt((np.sum((x1 - x2) ** 2)))\n",
    "\n",
    "def accuracy(y_test, y_predi):\n",
    "    acc = np.sum((y_test == y_predi) / len(y_test))\n",
    "    return acc\n",
    " \n",
    "    \n",
    "class KnearestNeighbors():\n",
    "    \n",
    "    def __init__(self, k=5):\n",
    "        self.k = k\n",
    "        \n",
    "    def fit(self, X, y):\n",
    "        self.X_train = X\n",
    "        self.y_train = y\n",
    "        \n",
    "        \n",
    "    def predict(self, xTest):\n",
    "        my_box = []\n",
    "        # find the disance of the vectors to the new data\n",
    "        # Compute distances between x and all examples in the training set\n",
    "        \n",
    "        for xList in xTest: # looping through the 20% of the data            \n",
    "            dist = [ eucli_dist(xList, xTrain) for xTrain in self.X_train]\n",
    "            # [1.9748417658131496, 0.5000000000000003, 3.6823905279043934, [2.974894956128703, 0.8124038404635958,]] \n",
    "            # 👆<--- u'll have alot like the above \n",
    "            \n",
    "            # we are sorting with argsort from each list to find the shortest distance to the x\n",
    "            k_sort_ix = np.argsort(dist)[: self.k] # get the most closest\n",
    "            \n",
    "            # use it as a index and find it from the y_train by indexing  --- extract the knn labels\n",
    "            knn_labels = [self.y_train[i] for i in k_sort_ix]\n",
    "            \n",
    "            # find from every list or label the most common\n",
    "            mos_com = Counter(knn_labels).most_common(1)\n",
    "            my_box.append(mos_com[0][0])\n",
    "\n",
    "                        \n",
    "        return my_box \n",
    "\n",
    "        "
   ]
  },
  {
   "cell_type": "code",
   "execution_count": 3,
   "id": "d348ca52",
   "metadata": {},
   "outputs": [
    {
     "name": "stdout",
     "output_type": "stream",
     "text": [
      "[1, 2, 2, 0, 1, 0, 0, 0, 1, 2, 1, 0, 2, 1, 0, 1, 2, 0, 2, 1, 1, 1, 1, 1, 2, 0, 2, 1, 2, 0]\n",
      "0.9666666666666667\n"
     ]
    }
   ],
   "source": [
    "iris = datasets.load_iris()\n",
    "X, y = iris.data, iris.target\n",
    "\n",
    "X_train, X_test, y_train, y_test = train_test_split(X, y, test_size=0.2, random_state=1234)\n",
    "\n",
    "mo = KnearestNeighbors(k=7)\n",
    "mo.fit(X_train, y_train)\n",
    "predi = mo.predict(X_test)\n",
    "print(predi)\n",
    "\n",
    "my_acc = accuracy(y_test, predi)\n",
    "print(my_acc)"
   ]
  },
  {
   "cell_type": "code",
   "execution_count": null,
   "id": "2f454132",
   "metadata": {},
   "outputs": [],
   "source": []
  },
  {
   "cell_type": "markdown",
   "id": "b4b6af1e",
   "metadata": {},
   "source": [
    "# np.argsort()"
   ]
  },
  {
   "cell_type": "code",
   "execution_count": 4,
   "id": "057f0d9c",
   "metadata": {},
   "outputs": [
    {
     "name": "stdout",
     "output_type": "stream",
     "text": [
      "[3 1 2 0]\n"
     ]
    }
   ],
   "source": [
    "\n",
    "s = np.array([100, 3, 6, 0]) # the index is [0, 1, 2, 3]\n",
    "# then result is --> the smallest num in s is 0 and its position is 3 --> [3]\n",
    "# then the 2nd smallest num in s is 3 and its position is 1 --> [3, 1]\n",
    "# then [3 1 2 0]\n",
    "print(s.argsort())\n"
   ]
  },
  {
   "cell_type": "code",
   "execution_count": null,
   "id": "93cedcad",
   "metadata": {},
   "outputs": [],
   "source": []
  }
 ],
 "metadata": {
  "kernelspec": {
   "display_name": "Python 3",
   "language": "python",
   "name": "python3"
  },
  "language_info": {
   "codemirror_mode": {
    "name": "ipython",
    "version": 3
   },
   "file_extension": ".py",
   "mimetype": "text/x-python",
   "name": "python",
   "nbconvert_exporter": "python",
   "pygments_lexer": "ipython3",
   "version": "3.8.8"
  }
 },
 "nbformat": 4,
 "nbformat_minor": 5
}
