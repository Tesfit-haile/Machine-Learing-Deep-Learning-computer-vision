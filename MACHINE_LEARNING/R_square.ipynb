{
 "cells": [
  {
   "cell_type": "code",
   "execution_count": 1,
   "id": "1eaf72c5",
   "metadata": {},
   "outputs": [],
   "source": [
    "import pandas as pd\n",
    "import numpy as np\n",
    "import seaborn as sns\n",
    "import matplotlib.pyplot as plt"
   ]
  },
  {
   "cell_type": "markdown",
   "id": "18fda29e",
   "metadata": {},
   "source": [
    "# R_square --> tells us how good is the best fit line"
   ]
  },
  {
   "cell_type": "markdown",
   "id": "56fc4700",
   "metadata": {},
   "source": [
    "## All the work below is only for one X feature but usually we'll have many many X features"
   ]
  },
  {
   "cell_type": "code",
   "execution_count": 2,
   "id": "aa8f0b1a",
   "metadata": {
    "scrolled": true
   },
   "outputs": [
    {
     "data": {
      "text/html": [
       "<div>\n",
       "<style scoped>\n",
       "    .dataframe tbody tr th:only-of-type {\n",
       "        vertical-align: middle;\n",
       "    }\n",
       "\n",
       "    .dataframe tbody tr th {\n",
       "        vertical-align: top;\n",
       "    }\n",
       "\n",
       "    .dataframe thead th {\n",
       "        text-align: right;\n",
       "    }\n",
       "</style>\n",
       "<table border=\"1\" class=\"dataframe\">\n",
       "  <thead>\n",
       "    <tr style=\"text-align: right;\">\n",
       "      <th></th>\n",
       "      <th>X</th>\n",
       "      <th>Y</th>\n",
       "    </tr>\n",
       "  </thead>\n",
       "  <tbody>\n",
       "    <tr>\n",
       "      <th>0</th>\n",
       "      <td>1</td>\n",
       "      <td>2</td>\n",
       "    </tr>\n",
       "    <tr>\n",
       "      <th>1</th>\n",
       "      <td>2</td>\n",
       "      <td>4</td>\n",
       "    </tr>\n",
       "  </tbody>\n",
       "</table>\n",
       "</div>"
      ],
      "text/plain": [
       "   X  Y\n",
       "0  1  2\n",
       "1  2  4"
      ]
     },
     "execution_count": 2,
     "metadata": {},
     "output_type": "execute_result"
    }
   ],
   "source": [
    "x = np.array([1, 2, 3, 4, 5])\n",
    "y = np.array([2, 4, 5, 4, 5])\n",
    "\n",
    "df = pd.DataFrame()\n",
    "df['X'] = x\n",
    "df['Y'] = y\n",
    "df.head(2)\n"
   ]
  },
  {
   "cell_type": "code",
   "execution_count": 3,
   "id": "29eb7b23",
   "metadata": {},
   "outputs": [
    {
     "data": {
      "image/png": "[encoded data removed]",
      "text/plain": [
       "<Figure size 432x288 with 1 Axes>"
      ]
     },
     "metadata": {
      "needs_background": "light"
     },
     "output_type": "display_data"
    }
   ],
   "source": [
    "m1 = plt.scatter(x=df['X'], y=df['Y'])\n",
    "plt.xlabel('x label')\n",
    "plt.ylabel('y label')\n",
    "plt.show()"
   ]
  },
  {
   "cell_type": "markdown",
   "id": "d8b72b4a",
   "metadata": {},
   "source": [
    "## All the work below is only for one X feature but usually we'll have many many X features"
   ]
  },
  {
   "cell_type": "markdown",
   "id": "46185d1c",
   "metadata": {},
   "source": [
    "# To calculate the R_square\n",
    "1. find the mean value of the y axix\n",
    "2. then Subtract each value of y actual from the mean (actual - mean)\n",
    "3. then we draw a regression line and come up with the estimated values\n",
    "4. then estimated distance minuse the y mean (estimate - mean)\n",
    "5. "
   ]
  },
  {
   "cell_type": "code",
   "execution_count": 4,
   "id": "d8d2cd44",
   "metadata": {},
   "outputs": [
    {
     "name": "stdout",
     "output_type": "stream",
     "text": [
      "[4.0, 0.0, 1.0, 0.0, 1.0]\n"
     ]
    }
   ],
   "source": [
    "# 1. find the mean of y value\n",
    "def findTheMeanOfYvalue(yValues):\n",
    "    return sum(yValues) / len(yValues)\n",
    "\n",
    "\n",
    "# 2. then Subtract each value of y actual from the mean (actual - mean)\n",
    "def yActualMinuseYmean(yActual, yMean):\n",
    "    resu = []\n",
    "    for cell in yActual:\n",
    "        resu.append(cell - yMean)\n",
    "    return resu  # the sum of this should be 0\n",
    "\n",
    "\n",
    "def yActualMinuseYmeanSquare(yActual, yMean):\n",
    "    resu = []\n",
    "    for cell in yActual:\n",
    "        resu.append((cell - yMean) ** 2)\n",
    "    return resu\n",
    "\n",
    "\n",
    "rr = yActualMinuseYmeanSquare(df['Y'], findTheMeanOfYvalue(df['Y']))\n",
    "print(rr)"
   ]
  },
  {
   "cell_type": "markdown",
   "id": "43205a41",
   "metadata": {},
   "source": [
    "### Now lets draw a estimated line  of -----> y = 2.2 + 0.6*x"
   ]
  },
  {
   "cell_type": "code",
   "execution_count": 5,
   "id": "3304c6de",
   "metadata": {},
   "outputs": [
    {
     "data": {
      "text/plain": [
       "[2.8, 3.4, 4.0, 4.6, 5.2]"
      ]
     },
     "execution_count": 5,
     "metadata": {},
     "output_type": "execute_result"
    }
   ],
   "source": [
    "# 3. then we draw a regression line and come up with the estimated values\n",
    "\n",
    "def drawEstimatedLine(xValues):\n",
    "    estimateList = []\n",
    "    for xcell in xValues:\n",
    "        y = 2.2 + (0.6 * xcell)\n",
    "        estimateList.append(round(y, 2))\n",
    "    return estimateList\n",
    "myRes = drawEstimatedLine(df['X'])\n",
    "myRes"
   ]
  },
  {
   "cell_type": "code",
   "execution_count": 6,
   "id": "3206a920",
   "metadata": {},
   "outputs": [
    {
     "data": {
      "image/png": "[encoded data removed]",
      "text/plain": [
       "<Figure size 432x288 with 1 Axes>"
      ]
     },
     "metadata": {
      "needs_background": "light"
     },
     "output_type": "display_data"
    }
   ],
   "source": [
    "m2 = plt.scatter(x=df['X'], y=df['Y'])\n",
    "m3 = sns.scatterplot(x=df['X'], y=myRes)\n",
    "# m4 = plt.plot(df['X'], myRes, '-r', label='y=0.6x + 2.2')"
   ]
  },
  {
   "cell_type": "code",
   "execution_count": 17,
   "id": "f6e5a61d",
   "metadata": {},
   "outputs": [
    {
     "data": {
      "text/plain": [
       "[1.44, 0.36, 0.0, 0.36, 1.44]"
      ]
     },
     "execution_count": 17,
     "metadata": {},
     "output_type": "execute_result"
    }
   ],
   "source": [
    "# 4. then estimated distance minuse the y mean (estimate - mean)\n",
    "def estimatedMinuseMean(estimated, mean):\n",
    "    return [round(ycell - mean, 2) for ycell in estimated]\n",
    "c = estimatedMinuseMean(myRes,  findTheMeanOfYvalue(df['Y']))\n",
    "\n",
    "\n",
    "def estimatedMinuseMeanSquare(estimated, mean):\n",
    "    return [round((mean - ycell) ** 2, 2) for ycell in estimated]\n",
    "rrr = estimatedMinuseMeanSquare(myRes,  findTheMeanOfYvalue(df['Y']))\n",
    "rrr\n",
    "    "
   ]
  },
  {
   "cell_type": "code",
   "execution_count": null,
   "id": "81dba24d",
   "metadata": {},
   "outputs": [],
   "source": []
  },
  {
   "cell_type": "markdown",
   "id": "a07582c0",
   "metadata": {},
   "source": [
    "# Finally  R-square  =  sum(y_predicted - y_mean) ** 2  /  sum(y - y_mean) ** 2"
   ]
  },
  {
   "cell_type": "code",
   "execution_count": 18,
   "id": "a6486550",
   "metadata": {},
   "outputs": [],
   "source": [
    "r_square = 3.6 / 6\n",
    "r_square = 0.6\n",
    "\n",
    "# r_square = 0.6 is Pretty much good \n",
    "# when r_square gets closer to 1 it is the best line\n",
    "# if there is a large distance b/n the estimated line and the actual datas it is bad "
   ]
  },
  {
   "cell_type": "markdown",
   "id": "669fcbcf",
   "metadata": {},
   "source": [
    "# We can create a data frame"
   ]
  },
  {
   "cell_type": "code",
   "execution_count": 20,
   "id": "33b0cd15",
   "metadata": {},
   "outputs": [
    {
     "data": {
      "text/html": [
       "<div>\n",
       "<style scoped>\n",
       "    .dataframe tbody tr th:only-of-type {\n",
       "        vertical-align: middle;\n",
       "    }\n",
       "\n",
       "    .dataframe tbody tr th {\n",
       "        vertical-align: top;\n",
       "    }\n",
       "\n",
       "    .dataframe thead th {\n",
       "        text-align: right;\n",
       "    }\n",
       "</style>\n",
       "<table border=\"1\" class=\"dataframe\">\n",
       "  <thead>\n",
       "    <tr style=\"text-align: right;\">\n",
       "      <th></th>\n",
       "      <th>X</th>\n",
       "      <th>Y</th>\n",
       "      <th>y-y_mean</th>\n",
       "      <th>y-y_meanSquare</th>\n",
       "      <th>y_hot</th>\n",
       "      <th>y_hot-y_mean</th>\n",
       "      <th>y_hot-y_meanSquare</th>\n",
       "    </tr>\n",
       "  </thead>\n",
       "  <tbody>\n",
       "    <tr>\n",
       "      <th>0</th>\n",
       "      <td>1</td>\n",
       "      <td>2</td>\n",
       "      <td>-2.0</td>\n",
       "      <td>4.0</td>\n",
       "      <td>2.8</td>\n",
       "      <td>-1.2</td>\n",
       "      <td>1.44</td>\n",
       "    </tr>\n",
       "    <tr>\n",
       "      <th>1</th>\n",
       "      <td>2</td>\n",
       "      <td>4</td>\n",
       "      <td>0.0</td>\n",
       "      <td>0.0</td>\n",
       "      <td>3.4</td>\n",
       "      <td>-0.6</td>\n",
       "      <td>0.36</td>\n",
       "    </tr>\n",
       "    <tr>\n",
       "      <th>2</th>\n",
       "      <td>3</td>\n",
       "      <td>5</td>\n",
       "      <td>1.0</td>\n",
       "      <td>1.0</td>\n",
       "      <td>4.0</td>\n",
       "      <td>0.0</td>\n",
       "      <td>0.00</td>\n",
       "    </tr>\n",
       "    <tr>\n",
       "      <th>3</th>\n",
       "      <td>4</td>\n",
       "      <td>4</td>\n",
       "      <td>0.0</td>\n",
       "      <td>0.0</td>\n",
       "      <td>4.6</td>\n",
       "      <td>0.6</td>\n",
       "      <td>0.36</td>\n",
       "    </tr>\n",
       "    <tr>\n",
       "      <th>4</th>\n",
       "      <td>5</td>\n",
       "      <td>5</td>\n",
       "      <td>1.0</td>\n",
       "      <td>1.0</td>\n",
       "      <td>5.2</td>\n",
       "      <td>1.2</td>\n",
       "      <td>1.44</td>\n",
       "    </tr>\n",
       "  </tbody>\n",
       "</table>\n",
       "</div>"
      ],
      "text/plain": [
       "   X  Y  y-y_mean  y-y_meanSquare  y_hot  y_hot-y_mean  y_hot-y_meanSquare\n",
       "0  1  2      -2.0             4.0    2.8          -1.2                1.44\n",
       "1  2  4       0.0             0.0    3.4          -0.6                0.36\n",
       "2  3  5       1.0             1.0    4.0           0.0                0.00\n",
       "3  4  4       0.0             0.0    4.6           0.6                0.36\n",
       "4  5  5       1.0             1.0    5.2           1.2                1.44"
      ]
     },
     "execution_count": 20,
     "metadata": {},
     "output_type": "execute_result"
    }
   ],
   "source": [
    "df['y-y_mean'] = yActualMinuseYmean(df['Y'], findTheMeanOfYvalue(df['Y']))\n",
    "df['y-y_meanSquare'] = yActualMinuseYmeanSquare(df['Y'], findTheMeanOfYvalue(df['Y']))\n",
    "df['y_hot'] = drawEstimatedLine(df['X'])\n",
    "df['y_hot-y_mean'] = estimatedMinuseMean(df['y_hot'], findTheMeanOfYvalue(df['Y']))\n",
    "df['y_hot-y_meanSquare'] = estimatedMinuseMeanSquare(df['y_hot'], findTheMeanOfYvalue(df['Y']))\n",
    "df"
   ]
  },
  {
   "cell_type": "markdown",
   "id": "ce9976ca",
   "metadata": {},
   "source": [
    "## All the work above is only for one X feature but usually we'll have many many X features"
   ]
  },
  {
   "cell_type": "code",
   "execution_count": null,
   "id": "71dddd44",
   "metadata": {},
   "outputs": [],
   "source": []
  },
  {
   "cell_type": "code",
   "execution_count": null,
   "id": "d33a8eb4",
   "metadata": {},
   "outputs": [],
   "source": []
  },
  {
   "cell_type": "code",
   "execution_count": null,
   "id": "674ec88c",
   "metadata": {},
   "outputs": [],
   "source": []
  },
  {
   "cell_type": "code",
   "execution_count": null,
   "id": "4d41bfa5",
   "metadata": {},
   "outputs": [],
   "source": []
  },
  {
   "cell_type": "code",
   "execution_count": null,
   "id": "1ecd49b5",
   "metadata": {},
   "outputs": [],
   "source": []
  }
 ],
 "metadata": {
  "kernelspec": {
   "display_name": "Python 3 (ipykernel)",
   "language": "python",
   "name": "python3"
  },
  "language_info": {
   "codemirror_mode": {
    "name": "ipython",
    "version": 3
   },
   "file_extension": ".py",
   "mimetype": "text/x-python",
   "name": "python",
   "nbconvert_exporter": "python",
   "pygments_lexer": "ipython3",
   "version": "3.8.8"
  }
 },
 "nbformat": 4,
 "nbformat_minor": 5
}
