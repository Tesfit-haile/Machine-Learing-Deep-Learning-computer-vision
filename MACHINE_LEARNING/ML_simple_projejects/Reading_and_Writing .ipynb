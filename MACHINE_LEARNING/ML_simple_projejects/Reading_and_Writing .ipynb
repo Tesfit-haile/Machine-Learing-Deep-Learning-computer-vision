{
 "cells": [
  {
   "cell_type": "code",
   "execution_count": 1,
   "id": "13b621d2",
   "metadata": {},
   "outputs": [],
   "source": [
    "import pandas as pd\n",
    "\n",
    "# import thoes two files \n",
    "df = pd.read_csv('data/survey_results_public.csv')\n",
    "schecma_df = pd.read_csv('data/survey_results_schema.csv')"
   ]
  },
  {
   "cell_type": "code",
   "execution_count": 6,
   "id": "c668d9c1",
   "metadata": {},
   "outputs": [],
   "source": [
    "filt = df['Country'] == 'India'\n",
    "newData = df.loc[filt]\n"
   ]
  },
  {
   "cell_type": "markdown",
   "id": "b1a39b4e",
   "metadata": {},
   "source": [
    "# Reading and Writing \n",
    "   ### you can add *args as well"
   ]
  },
  {
   "cell_type": "code",
   "execution_count": null,
   "id": "3f70b24a",
   "metadata": {},
   "outputs": [],
   "source": []
  },
  {
   "cell_type": "code",
   "execution_count": 7,
   "id": "55b779f3",
   "metadata": {},
   "outputs": [],
   "source": [
    "newData.to_csv('data/newCSV.csv')"
   ]
  },
  {
   "cell_type": "code",
   "execution_count": 9,
   "id": "e22c4a87",
   "metadata": {},
   "outputs": [],
   "source": [
    "newData.to_excel('data/newExcel.xlsx')"
   ]
  },
  {
   "cell_type": "code",
   "execution_count": 16,
   "id": "e5f6297a",
   "metadata": {},
   "outputs": [],
   "source": [
    "readNewExcel = pd.read_excel('data/newExcel.xlsx', index_col='Respondent')"
   ]
  },
  {
   "cell_type": "code",
   "execution_count": 18,
   "id": "80672201",
   "metadata": {},
   "outputs": [],
   "source": [
    "newData.to_json('data/newJSON.json', orient='records', lines=True)"
   ]
  },
  {
   "cell_type": "markdown",
   "id": "faf495d3",
   "metadata": {},
   "source": [
    "#### while you are reading be aware of the args you pass them while u were writing"
   ]
  },
  {
   "cell_type": "code",
   "execution_count": 22,
   "id": "3fa0983a",
   "metadata": {},
   "outputs": [],
   "source": [
    "df_json = pd.read_json('data/newJSON.json', orient='records', lines=True)\n",
    "# df_json\n"
   ]
  },
  {
   "cell_type": "markdown",
   "id": "eb968c9d",
   "metadata": {},
   "source": [
    "##  We can READ/WRITE from & to d/t kinds of files or Databases(like postgres, mySQL, ...)"
   ]
  },
  {
   "cell_type": "code",
   "execution_count": null,
   "id": "718cbb49",
   "metadata": {},
   "outputs": [],
   "source": []
  }
 ],
 "metadata": {
  "kernelspec": {
   "display_name": "Python 3",
   "language": "python",
   "name": "python3"
  },
  "language_info": {
   "codemirror_mode": {
    "name": "ipython",
    "version": 3
   },
   "file_extension": ".py",
   "mimetype": "text/x-python",
   "name": "python",
   "nbconvert_exporter": "python",
   "pygments_lexer": "ipython3",
   "version": "3.8.8"
  }
 },
 "nbformat": 4,
 "nbformat_minor": 5
}
