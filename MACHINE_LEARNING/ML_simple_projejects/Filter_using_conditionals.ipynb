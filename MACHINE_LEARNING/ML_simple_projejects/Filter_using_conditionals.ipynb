{
 "cells": [
  {
   "cell_type": "code",
   "execution_count": 5,
   "id": "227f8780",
   "metadata": {},
   "outputs": [],
   "source": [
    "import pandas as pd\n",
    "\n",
    "# import thoes two files \n",
    "df = pd.read_csv('data/survey_results_public.csv')\n",
    "schecma_df = pd.read_csv('data/survey_results_schema.csv')"
   ]
  },
  {
   "cell_type": "markdown",
   "id": "06dcf581",
   "metadata": {},
   "source": [
    "# Filter"
   ]
  },
  {
   "cell_type": "code",
   "execution_count": 2,
   "id": "0d73507a",
   "metadata": {},
   "outputs": [
    {
     "data": {
      "text/plain": [
       "'Do you code as a hobby?'"
      ]
     },
     "execution_count": 2,
     "metadata": {},
     "output_type": "execute_result"
    }
   ],
   "source": [
    "# checking the row of specific column\n",
    "# in SQL we use => SELECT * FROM table WHERE colume_name = some_value [ try it in pandas ]\n",
    "r = schecma_df['Column'] == 'Hobbyist'\n",
    "schecma_df[r].loc[2, 'QuestionText']"
   ]
  },
  {
   "cell_type": "code",
   "execution_count": 3,
   "id": "18c3fdad",
   "metadata": {},
   "outputs": [],
   "source": [
    "# one way of filtering\n",
    "filtered_result = (df['Country'] == 'spain') | (df['Country'] == 'Tunisia') # or operator\n",
    "filtered_result = (df['Hobbyist'] == 'No') & (df['Country'] == 'Tunisia') # and operator\n",
    "\n",
    "# df.loc[filtered_result, ['Country', 'Age']]"
   ]
  },
  {
   "cell_type": "code",
   "execution_count": 33,
   "id": "638371f1",
   "metadata": {},
   "outputs": [],
   "source": [
    "# another way of filtering with [ isin method ]\n",
    "list_of_country = ['Germany', 'Tunisia', 'spani']\n",
    "filt = df['Country'].isin(list_of_country)\n",
    "df.loc[filt, ['Country']]\n",
    "\n",
    "# also same\n",
    "df[df['Country'].isin(['Tunisia'])].head(3)"
   ]
  },
  {
   "cell_type": "code",
   "execution_count": 16,
   "id": "fa421c97",
   "metadata": {},
   "outputs": [
    {
     "data": {
      "text/plain": [
       "2                             Objective-C;Python;Swift\n",
       "7                                           Python;SQL\n",
       "9                  HTML/CSS;Java;JavaScript;Python;SQL\n",
       "12                                 C;JavaScript;Python\n",
       "14    Bash/Shell/PowerShell;C;HTML/CSS;Java;Python;SQL\n",
       "Name: LanguageWorkedWith, dtype: object"
      ]
     },
     "execution_count": 16,
     "metadata": {},
     "output_type": "execute_result"
    }
   ],
   "source": [
    "# another way of filtering with [ contains method ]\n",
    "# find if a word exist in a specific row \n",
    "\n",
    "df['LanguageWorkedWith'] # this will return [ dtype('O') -> means Python obj]\n",
    "\n",
    "# do NOT forget the na=False incase some rows are NAN\n",
    "res = df['LanguageWorkedWith'].str.contains('Python', na=False) # will retun bool \n",
    "df.loc[res, 'LanguageWorkedWith'].head(5)\n"
   ]
  },
  {
   "cell_type": "code",
   "execution_count": 31,
   "id": "aed1d0a7",
   "metadata": {},
   "outputs": [],
   "source": [
    "# one way\n",
    "filt = df['ConvertedComp'].between(30, 40) # will return bool\n",
    "df.loc[filt].head(3)\n",
    "\n",
    "# another way same like above\n",
    "df[df['ConvertedComp'].between(30, 40)].head(4)"
   ]
  },
  {
   "cell_type": "code",
   "execution_count": 29,
   "id": "25907de1",
   "metadata": {},
   "outputs": [
    {
     "data": {
      "text/html": [
       "<div>\n",
       "<style scoped>\n",
       "    .dataframe tbody tr th:only-of-type {\n",
       "        vertical-align: middle;\n",
       "    }\n",
       "\n",
       "    .dataframe tbody tr th {\n",
       "        vertical-align: top;\n",
       "    }\n",
       "\n",
       "    .dataframe thead th {\n",
       "        text-align: right;\n",
       "    }\n",
       "</style>\n",
       "<table border=\"1\" class=\"dataframe\">\n",
       "  <thead>\n",
       "    <tr style=\"text-align: right;\">\n",
       "      <th></th>\n",
       "      <th>Respondent</th>\n",
       "      <th>MainBranch</th>\n",
       "      <th>Hobbyist</th>\n",
       "      <th>Age</th>\n",
       "      <th>Age1stCode</th>\n",
       "      <th>CompFreq</th>\n",
       "      <th>CompTotal</th>\n",
       "      <th>ConvertedComp</th>\n",
       "      <th>Country</th>\n",
       "      <th>CurrencyDesc</th>\n",
       "      <th>...</th>\n",
       "      <th>SurveyEase</th>\n",
       "      <th>SurveyLength</th>\n",
       "      <th>Trans</th>\n",
       "      <th>UndergradMajor</th>\n",
       "      <th>WebframeDesireNextYear</th>\n",
       "      <th>WebframeWorkedWith</th>\n",
       "      <th>WelcomeChange</th>\n",
       "      <th>WorkWeekHrs</th>\n",
       "      <th>YearsCode</th>\n",
       "      <th>YearsCodePro</th>\n",
       "    </tr>\n",
       "  </thead>\n",
       "  <tbody>\n",
       "    <tr>\n",
       "      <th>25</th>\n",
       "      <td>26</td>\n",
       "      <td>I am a developer by profession</td>\n",
       "      <td>No</td>\n",
       "      <td>NaN</td>\n",
       "      <td>12</td>\n",
       "      <td>Yearly</td>\n",
       "      <td>94000.0</td>\n",
       "      <td>71093.0</td>\n",
       "      <td>Canada</td>\n",
       "      <td>Canadian dollar</td>\n",
       "      <td>...</td>\n",
       "      <td>Easy</td>\n",
       "      <td>Too long</td>\n",
       "      <td>No</td>\n",
       "      <td>Computer science, computer engineering, or sof...</td>\n",
       "      <td>NaN</td>\n",
       "      <td>Django;React.js</td>\n",
       "      <td>Just as welcome now as I felt last year</td>\n",
       "      <td>40.0</td>\n",
       "      <td>17</td>\n",
       "      <td>10</td>\n",
       "    </tr>\n",
       "    <tr>\n",
       "      <th>31</th>\n",
       "      <td>32</td>\n",
       "      <td>I am a developer by profession</td>\n",
       "      <td>Yes</td>\n",
       "      <td>31.0</td>\n",
       "      <td>12</td>\n",
       "      <td>Monthly</td>\n",
       "      <td>3500.0</td>\n",
       "      <td>31764.0</td>\n",
       "      <td>Canada</td>\n",
       "      <td>Canadian dollar</td>\n",
       "      <td>...</td>\n",
       "      <td>Neither easy nor difficult</td>\n",
       "      <td>Too long</td>\n",
       "      <td>No</td>\n",
       "      <td>Computer science, computer engineering, or sof...</td>\n",
       "      <td>NaN</td>\n",
       "      <td>NaN</td>\n",
       "      <td>Just as welcome now as I felt last year</td>\n",
       "      <td>37.0</td>\n",
       "      <td>19</td>\n",
       "      <td>10</td>\n",
       "    </tr>\n",
       "    <tr>\n",
       "      <th>50</th>\n",
       "      <td>51</td>\n",
       "      <td>I am a developer by profession</td>\n",
       "      <td>No</td>\n",
       "      <td>NaN</td>\n",
       "      <td>10</td>\n",
       "      <td>Yearly</td>\n",
       "      <td>137000.0</td>\n",
       "      <td>103615.0</td>\n",
       "      <td>Canada</td>\n",
       "      <td>Canadian dollar</td>\n",
       "      <td>...</td>\n",
       "      <td>Difficult</td>\n",
       "      <td>Too long</td>\n",
       "      <td>NaN</td>\n",
       "      <td>I never declared a major</td>\n",
       "      <td>NaN</td>\n",
       "      <td>Django;React.js</td>\n",
       "      <td>Just as welcome now as I felt last year</td>\n",
       "      <td>35.0</td>\n",
       "      <td>23</td>\n",
       "      <td>7</td>\n",
       "    </tr>\n",
       "  </tbody>\n",
       "</table>\n",
       "<p>3 rows × 61 columns</p>\n",
       "</div>"
      ],
      "text/plain": [
       "    Respondent                      MainBranch Hobbyist   Age Age1stCode  \\\n",
       "25          26  I am a developer by profession       No   NaN         12   \n",
       "31          32  I am a developer by profession      Yes  31.0         12   \n",
       "50          51  I am a developer by profession       No   NaN         10   \n",
       "\n",
       "   CompFreq  CompTotal  ConvertedComp Country     CurrencyDesc  ...  \\\n",
       "25   Yearly    94000.0        71093.0  Canada  Canadian dollar  ...   \n",
       "31  Monthly     3500.0        31764.0  Canada  Canadian dollar  ...   \n",
       "50   Yearly   137000.0       103615.0  Canada  Canadian dollar  ...   \n",
       "\n",
       "                    SurveyEase SurveyLength Trans  \\\n",
       "25                        Easy     Too long    No   \n",
       "31  Neither easy nor difficult     Too long    No   \n",
       "50                   Difficult     Too long   NaN   \n",
       "\n",
       "                                       UndergradMajor WebframeDesireNextYear  \\\n",
       "25  Computer science, computer engineering, or sof...                    NaN   \n",
       "31  Computer science, computer engineering, or sof...                    NaN   \n",
       "50                           I never declared a major                    NaN   \n",
       "\n",
       "   WebframeWorkedWith                            WelcomeChange WorkWeekHrs  \\\n",
       "25    Django;React.js  Just as welcome now as I felt last year        40.0   \n",
       "31                NaN  Just as welcome now as I felt last year        37.0   \n",
       "50    Django;React.js  Just as welcome now as I felt last year        35.0   \n",
       "\n",
       "   YearsCode YearsCodePro  \n",
       "25        17           10  \n",
       "31        19           10  \n",
       "50        23            7  \n",
       "\n",
       "[3 rows x 61 columns]"
      ]
     },
     "execution_count": 29,
     "metadata": {},
     "output_type": "execute_result"
    }
   ],
   "source": [
    "# start with\n",
    "df[df['Country'].str.startswith('Ca', na=False)].head(3)"
   ]
  },
  {
   "cell_type": "markdown",
   "id": "a452156b",
   "metadata": {},
   "source": [
    "# count the people with the same income in a specific country see below 👇"
   ]
  },
  {
   "cell_type": "code",
   "execution_count": 14,
   "id": "8e2d16db",
   "metadata": {},
   "outputs": [
    {
     "data": {
      "text/plain": [
       "5028.0      66\n",
       "16754.0     62\n",
       "8377.0      55\n",
       "8376.0      55\n",
       "2508.0      53\n",
       "            ..\n",
       "32993.0      1\n",
       "27225.0      1\n",
       "3853.0       1\n",
       "11560.0      1\n",
       "120624.0     1\n",
       "Name: ConvertedComp, Length: 620, dtype: int64"
      ]
     },
     "execution_count": 14,
     "metadata": {},
     "output_type": "execute_result"
    }
   ],
   "source": [
    "\n",
    "filt = df['Country'] == 'India'\n",
    "df.loc[filt]['ConvertedComp'].value_counts()\n"
   ]
  },
  {
   "cell_type": "markdown",
   "id": "e003956c",
   "metadata": {},
   "source": [
    "# if you want for all the countries USE the groupby method"
   ]
  },
  {
   "cell_type": "code",
   "execution_count": 30,
   "id": "8245643a",
   "metadata": {},
   "outputs": [
    {
     "data": {
      "text/plain": [
       "Country      ConvertedComp\n",
       "Afghanistan  1000000.0        3\n",
       "             23328.0          2\n",
       "             0.0              1\n",
       "             109.0            1\n",
       "             780.0            1\n",
       "             1860.0           1\n",
       "             2328.0           1\n",
       "             4356.0           1\n",
       "             4509.0           1\n",
       "             4668.0           1\n",
       "             5448.0           1\n",
       "             8016.0           1\n",
       "             10884.0          1\n",
       "             13992.0          1\n",
       "             16335.0          1\n",
       "             18000.0          1\n",
       "             18660.0          1\n",
       "             20220.0          1\n",
       "             20950.0          1\n",
       "             130000.0         1\n",
       "             231192.0         1\n",
       "Albania      15900.0          3\n",
       "             25944.0          2\n",
       "             31788.0          2\n",
       "             0.0              1\n",
       "             2124.0           1\n",
       "             4344.0           1\n",
       "             5832.0           1\n",
       "             10596.0          1\n",
       "             10812.0          1\n",
       "Name: ConvertedComp, dtype: int64"
      ]
     },
     "execution_count": 30,
     "metadata": {},
     "output_type": "execute_result"
    }
   ],
   "source": [
    "# this one you can do it in normal filter as well\n",
    "country_salary = df.groupby(['Country'])\n",
    "country_salary.get_group('Tunisia')\n",
    "\n",
    "# for each country\n",
    "country_salary['ConvertedComp'].value_counts().head(30) # here is the magic"
   ]
  },
  {
   "cell_type": "markdown",
   "id": "9433ec8f",
   "metadata": {},
   "source": [
    "## Filter the Column"
   ]
  },
  {
   "cell_type": "code",
   "execution_count": 3,
   "id": "fb243303",
   "metadata": {},
   "outputs": [],
   "source": [
    "findIfExit = \"Hobbyist\" in df\n",
    "findIfExit"
   ]
  },
  {
   "cell_type": "code",
   "execution_count": null,
   "id": "2df485c5",
   "metadata": {},
   "outputs": [],
   "source": []
  }
 ],
 "metadata": {
  "kernelspec": {
   "display_name": "Python 3",
   "language": "python",
   "name": "python3"
  },
  "language_info": {
   "codemirror_mode": {
    "name": "ipython",
    "version": 3
   },
   "file_extension": ".py",
   "mimetype": "text/x-python",
   "name": "python",
   "nbconvert_exporter": "python",
   "pygments_lexer": "ipython3",
   "version": "3.8.8"
  }
 },
 "nbformat": 4,
 "nbformat_minor": 5
}
