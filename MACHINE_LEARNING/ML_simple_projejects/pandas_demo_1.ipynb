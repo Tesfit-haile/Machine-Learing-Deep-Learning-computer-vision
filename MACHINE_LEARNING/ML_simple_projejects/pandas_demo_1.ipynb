{
 "cells": [
  {
   "cell_type": "code",
   "execution_count": 2,
   "id": "618592ba",
   "metadata": {},
   "outputs": [],
   "source": [
    "import pandas as pd "
   ]
  },
  {
   "cell_type": "code",
   "execution_count": 3,
   "id": "d67e8fed",
   "metadata": {},
   "outputs": [],
   "source": [
    "df = pd.read_csv('data/survey_results_public.csv') # reading as data frame"
   ]
  },
  {
   "cell_type": "code",
   "execution_count": 10,
   "id": "7988f2ec",
   "metadata": {},
   "outputs": [
    {
     "data": {
      "text/plain": [
       "(64461, 61)"
      ]
     },
     "execution_count": 10,
     "metadata": {},
     "output_type": "execute_result"
    }
   ],
   "source": [
    "df.shape # will show u the total number of row and col in the data frame"
   ]
  },
  {
   "cell_type": "code",
   "execution_count": 11,
   "id": "97086dc3",
   "metadata": {},
   "outputs": [],
   "source": [
    "df.info() # for getting each of the columns and its type"
   ]
  },
  {
   "cell_type": "code",
   "execution_count": null,
   "id": "e3462b19",
   "metadata": {},
   "outputs": [],
   "source": [
    "df.set_option('display_max_columns', 20) # for showing only 20 columns"
   ]
  },
  {
   "cell_type": "code",
   "execution_count": null,
   "id": "7e5099bf",
   "metadata": {},
   "outputs": [],
   "source": [
    "df.set_option('display_max_rows', 10) # for showing only 10 rows"
   ]
  },
  {
   "cell_type": "code",
   "execution_count": 17,
   "id": "336144c3",
   "metadata": {},
   "outputs": [],
   "source": [
    "df.describe() # for checing each columns record - some they might not have"
   ]
  },
  {
   "cell_type": "code",
   "execution_count": 15,
   "id": "46745d6c",
   "metadata": {},
   "outputs": [],
   "source": [
    "df.values # values of every record"
   ]
  },
  {
   "cell_type": "code",
   "execution_count": 16,
   "id": "ae2da8ee",
   "metadata": {},
   "outputs": [],
   "source": []
  },
  {
   "cell_type": "code",
   "execution_count": null,
   "id": "2da672ec",
   "metadata": {},
   "outputs": [],
   "source": []
  }
 ],
 "metadata": {
  "kernelspec": {
   "display_name": "Python 3",
   "language": "python",
   "name": "python3"
  },
  "language_info": {
   "codemirror_mode": {
    "name": "ipython",
    "version": 3
   },
   "file_extension": ".py",
   "mimetype": "text/x-python",
   "name": "python",
   "nbconvert_exporter": "python",
   "pygments_lexer": "ipython3",
   "version": "3.8.8"
  }
 },
 "nbformat": 4,
 "nbformat_minor": 5
}
