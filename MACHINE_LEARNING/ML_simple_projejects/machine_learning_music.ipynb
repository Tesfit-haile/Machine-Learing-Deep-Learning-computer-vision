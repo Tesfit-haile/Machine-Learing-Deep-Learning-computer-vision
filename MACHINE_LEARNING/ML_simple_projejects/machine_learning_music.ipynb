{
 "cells": [
  {
   "cell_type": "code",
   "execution_count": 28,
   "id": "986f3d5e",
   "metadata": {},
   "outputs": [],
   "source": [
    "import pandas as pd\n",
    "# from sklearn.tree import DecisionTreeClassifier\n",
    "# from sklearn.model_selection import train_test_split\n",
    "# from sklearn.metrics import accuracy_score\n",
    "# import joblib\n",
    "\n",
    "# music_df = pd.read_csv('music.csv')\n",
    "\n",
    "# # separate in to two parts (input and output)\n",
    "# X = music_df.drop(columns=['genre'])\n",
    "# y = music_df['genre']\n",
    "\n",
    "# model = DecisionTreeClassifier() # creating an instance obj\n",
    "# model.fit(X, y) # feed & train\n",
    "# predictions = model.predict([[21, 1], [22, 0]]) # predict\n",
    "# predictions\n"
   ]
  },
  {
   "cell_type": "markdown",
   "id": "2f66bf5a",
   "metadata": {},
   "source": [
    "# acuracy"
   ]
  },
  {
   "cell_type": "markdown",
   "id": "03abf308",
   "metadata": {},
   "source": [
    "\n",
    "#### <p style='background: yellow'>The accuracy will change anytime b/c \" train_test_split \" will pick any random data in every run from the music_df</p>"
   ]
  },
  {
   "cell_type": "code",
   "execution_count": 2,
   "id": "18862db5",
   "metadata": {},
   "outputs": [],
   "source": [
    "# X_train, X_test, y_train, y_test = train_test_split(X, y, test_size=0.2)\n",
    "# X_train, X_test\n",
    "# model.fit(X_train, y_train) # feed & train\n",
    "# predictions = model.predict(X_test) # predict\n",
    "# score = accuracy_score(y_test, predictions)\n",
    "# score\n"
   ]
  },
  {
   "cell_type": "code",
   "execution_count": 3,
   "id": "f6e50396",
   "metadata": {},
   "outputs": [],
   "source": [
    "# y_train, y_test"
   ]
  },
  {
   "cell_type": "markdown",
   "id": "66541171",
   "metadata": {},
   "source": [
    "### We do not need to train our model every time , So save it & reuse it"
   ]
  },
  {
   "cell_type": "code",
   "execution_count": 4,
   "id": "83a0f0fb",
   "metadata": {},
   "outputs": [],
   "source": [
    "# saving to a file\n",
    "# joblib.dump(model, 'music-recommender.joblib')"
   ]
  },
  {
   "cell_type": "code",
   "execution_count": 5,
   "id": "25d5db00",
   "metadata": {},
   "outputs": [],
   "source": [
    "# Now load the file\n",
    "# loadedModel = joblib.load('music-recommender.joblib')\n",
    "# predictions_2 = loadedModel.predict([[21, 1]])\n",
    "# predictions_2"
   ]
  },
  {
   "cell_type": "code",
   "execution_count": null,
   "id": "d0e4ef99",
   "metadata": {},
   "outputs": [],
   "source": []
  },
  {
   "cell_type": "code",
   "execution_count": null,
   "id": "13e9fefc",
   "metadata": {},
   "outputs": [],
   "source": []
  },
  {
   "cell_type": "code",
   "execution_count": null,
   "id": "82f49d22",
   "metadata": {},
   "outputs": [],
   "source": []
  },
  {
   "cell_type": "code",
   "execution_count": null,
   "id": "153b0e1a",
   "metadata": {},
   "outputs": [],
   "source": []
  },
  {
   "cell_type": "markdown",
   "id": "7ae44a2f",
   "metadata": {},
   "source": [
    "# house predicting"
   ]
  },
  {
   "cell_type": "code",
   "execution_count": 11,
   "id": "7c593ade",
   "metadata": {},
   "outputs": [],
   "source": [
    "%pip install --upgrade scikit-learn==0.23.0"
   ]
  },
  {
   "cell_type": "code",
   "execution_count": 7,
   "id": "e838ed33",
   "metadata": {},
   "outputs": [],
   "source": [
    "from sklearn.datasets import load_boston"
   ]
  },
  {
   "cell_type": "code",
   "execution_count": 12,
   "id": "2b4591b7",
   "metadata": {},
   "outputs": [],
   "source": [
    "# return_X_y=True ->>> will set it to two arrays\n",
    "load_boston(return_X_y=True) "
   ]
  },
  {
   "cell_type": "code",
   "execution_count": 9,
   "id": "7d638fa6",
   "metadata": {},
   "outputs": [],
   "source": [
    "X, y = load_boston(return_X_y=True)"
   ]
  },
  {
   "cell_type": "code",
   "execution_count": 15,
   "id": "1e1c3d89",
   "metadata": {},
   "outputs": [
    {
     "data": {
      "text/plain": [
       "<matplotlib.collections.PathCollection at 0x7fb8e512aca0>"
      ]
     },
     "execution_count": 15,
     "metadata": {},
     "output_type": "execute_result"
    },
    {
     "data": {
      "image/png": "[encoded data removed]",
      "text/plain": [
       "<Figure size 432x288 with 1 Axes>"
      ]
     },
     "metadata": {
      "needs_background": "light"
     },
     "output_type": "display_data"
    }
   ],
   "source": [
    "from sklearn.neighbors import KNeighborsRegressor\n",
    "from sklearn.linear_model import LinearRegression\n",
    "import matplotlib.pyplot as plt\n",
    "\n",
    "# call the class abouve and create instance or obj from it\n",
    "# feed the model\n",
    "# then predict\n",
    "\n",
    "mod = LinearRegression()\n",
    "mod.fit(X, y)\n",
    "pred = mod.predict(X)\n",
    "plt.scatter(pred, y)\n",
    "\n"
   ]
  },
  {
   "cell_type": "markdown",
   "id": "85832175",
   "metadata": {},
   "source": [
    "# With Pipeline"
   ]
  },
  {
   "cell_type": "code",
   "execution_count": 30,
   "id": "add01ae0",
   "metadata": {},
   "outputs": [
    {
     "data": {
      "text/plain": [
       "<matplotlib.collections.PathCollection at 0x7fb8e8ac96a0>"
      ]
     },
     "execution_count": 30,
     "metadata": {},
     "output_type": "execute_result"
    },
    {
     "data": {
      "image/png": "[encoded data removed]",
      "text/plain": [
       "<Figure size 432x288 with 1 Axes>"
      ]
     },
     "metadata": {
      "needs_background": "light"
     },
     "output_type": "display_data"
    }
   ],
   "source": [
    "from sklearn.preprocessing import StandardScaler\n",
    "from sklearn.pipeline import Pipeline\n",
    "\n",
    "mod = LinearRegression()\n",
    "\n",
    "# build the pipeline\n",
    "pipe = Pipeline([('scale', StandardScaler() ), ('model', KNeighborsRegressor())])\n",
    "pipe.fit(X, y)\n",
    "pred = pipe.predict(X)\n",
    "plt.scatter(pred, y)"
   ]
  },
  {
   "cell_type": "markdown",
   "id": "f41ff98f",
   "metadata": {},
   "source": [
    "# GridSearch --> is best"
   ]
  },
  {
   "cell_type": "code",
   "execution_count": 34,
   "id": "7d9beed5",
   "metadata": {},
   "outputs": [],
   "source": [
    "from sklearn.model_selection import GridSearchCV\n",
    "# to get the params\n",
    "# pipeLine.get_params()\n",
    "mode2 = GridSearchCV(estimator=pipeLine, param_grid={'model__n_neighbors': [1,2,3,4,5,6,7,8,9,10]}, cv=3)\n",
    "# mode2.fit(X, y)\n",
    "# mode2.cv_results_\n",
    "# pd.DataFrame(mode2.cv_results_)"
   ]
  },
  {
   "cell_type": "code",
   "execution_count": null,
   "id": "d1269e97",
   "metadata": {},
   "outputs": [],
   "source": []
  },
  {
   "cell_type": "code",
   "execution_count": null,
   "id": "bb0c6adb",
   "metadata": {},
   "outputs": [],
   "source": []
  }
 ],
 "metadata": {
  "kernelspec": {
   "display_name": "Python 3",
   "language": "python",
   "name": "python3"
  },
  "language_info": {
   "codemirror_mode": {
    "name": "ipython",
    "version": 3
   },
   "file_extension": ".py",
   "mimetype": "text/x-python",
   "name": "python",
   "nbconvert_exporter": "python",
   "pygments_lexer": "ipython3",
   "version": "3.8.8"
  }
 },
 "nbformat": 4,
 "nbformat_minor": 5
}
