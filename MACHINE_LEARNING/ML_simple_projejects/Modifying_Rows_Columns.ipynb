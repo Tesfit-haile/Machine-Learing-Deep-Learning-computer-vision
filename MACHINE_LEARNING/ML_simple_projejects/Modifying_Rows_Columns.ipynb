{
 "cells": [
  {
   "cell_type": "code",
   "execution_count": 1,
   "id": "518d789d",
   "metadata": {},
   "outputs": [],
   "source": [
    "import pandas as pd\n",
    "\n",
    "# import thoes two files \n",
    "df = pd.read_csv('data/survey_results_public.csv')\n",
    "schecma_df = pd.read_csv('data/survey_results_schema.csv')"
   ]
  },
  {
   "cell_type": "markdown",
   "id": "b3753670",
   "metadata": {},
   "source": [
    "### we can modify Rows & Columns in d/t ways but there are 4 main methods\n",
    "\n",
    "1. apply\n",
    "2. applymap\n",
    "3. map\n",
    "4. replace"
   ]
  },
  {
   "cell_type": "code",
   "execution_count": 3,
   "id": "5bbcfb56",
   "metadata": {},
   "outputs": [],
   "source": [
    "# one way of modifying the column\n",
    "\n",
    "df.columns = ['list all your columns change here in order'] # will modify all ur columns\n",
    "df.rename(columns={'key': 'value', 'key': 'value'}, inplace=True) # for specific columns or column\n",
    "df.str.replace('_', ' ')"
   ]
  },
  {
   "cell_type": "markdown",
   "id": "c3364b0d",
   "metadata": {},
   "source": [
    "## Serices\n",
    " ### <i style=\"color: black\"> => is a collection of columns e.g all the data of 'Hobbyist' col.</i>"
   ]
  },
  {
   "cell_type": "markdown",
   "id": "7ffc4dd1",
   "metadata": {},
   "source": [
    "## DataFrame\n",
    "### <i style=\"color: black\"> => is a collection of serice</i>"
   ]
  },
  {
   "cell_type": "markdown",
   "id": "97b5de59",
   "metadata": {},
   "source": [
    "###  <p style=\"color: red\"> ! Some methods works only in Serice or in DataFrame BUT some in both </p>"
   ]
  },
  {
   "cell_type": "code",
   "execution_count": 11,
   "id": "a5e3c1df",
   "metadata": {},
   "outputs": [],
   "source": [
    "# we can change some of the columns eg 'ConvertedComp' to SalaryUSD\n",
    "df.rename(columns={'ConvertedComp': 'SalaryUSD'}, inplace=True)\n"
   ]
  },
  {
   "cell_type": "markdown",
   "id": "f8d7598e",
   "metadata": {},
   "source": [
    "### <p style=\"background-color: yellow; width: 70%\"> If you can NOT add the inplace=True then assgin it to a variable</p>"
   ]
  },
  {
   "cell_type": "code",
   "execution_count": 24,
   "id": "88a3e323",
   "metadata": {},
   "outputs": [
    {
     "data": {
      "text/plain": [
       "0         True\n",
       "1        False\n",
       "2         True\n",
       "3         True\n",
       "4         True\n",
       "         ...  \n",
       "64456     True\n",
       "64457     True\n",
       "64458     True\n",
       "64459     True\n",
       "64460     True\n",
       "Name: Hobbyist, Length: 64461, dtype: object"
      ]
     },
     "execution_count": 24,
     "metadata": {},
     "output_type": "execute_result"
    }
   ],
   "source": [
    "df['Hobbyist'].map({'Yes': True, 'No': False})"
   ]
  },
  {
   "cell_type": "code",
   "execution_count": 26,
   "id": "1a3fbc62",
   "metadata": {},
   "outputs": [],
   "source": [
    "# df['Hobbyist'] = df['Hobbyist'].map({'Yes': True, 'No': False}) you can do it this way"
   ]
  },
  {
   "cell_type": "code",
   "execution_count": 27,
   "id": "fd5aa794",
   "metadata": {},
   "outputs": [],
   "source": [
    "# if we have otherthan 'Yes or No' e.g like 'not sure ...' SO it is time to use Replace\n",
    "# so that u will not get the NAN result\n",
    "# you can do it this way\n",
    "df['Hobbyist'].replace({'Yes': True, 'No': False})  # her also we can use the inplace=True"
   ]
  },
  {
   "cell_type": "code",
   "execution_count": 29,
   "id": "0c3815d9",
   "metadata": {},
   "outputs": [
    {
     "data": {
      "text/plain": [
       "Respondent            64461\n",
       "MainBranch            64461\n",
       "Hobbyist              64461\n",
       "Age                   64461\n",
       "Age1stCode            64461\n",
       "                      ...  \n",
       "WebframeWorkedWith    64461\n",
       "WelcomeChange         64461\n",
       "WorkWeekHrs           64461\n",
       "YearsCode             64461\n",
       "YearsCodePro          64461\n",
       "Length: 61, dtype: int64"
      ]
     },
     "execution_count": 29,
     "metadata": {},
     "output_type": "execute_result"
    }
   ],
   "source": [
    "df.apply(len)"
   ]
  },
  {
   "cell_type": "code",
   "execution_count": 33,
   "id": "ed854cc5",
   "metadata": {},
   "outputs": [],
   "source": [
    "# df.applymap(len) # this will give you -> TypeError: object of type 'int' has no len()"
   ]
  },
  {
   "cell_type": "code",
   "execution_count": 35,
   "id": "ea9d3ace",
   "metadata": {},
   "outputs": [],
   "source": [
    "# df.applymap(str.lower) # TypeError: descriptor 'lower' for 'str' objects doesn't apply to a 'int' object"
   ]
  },
  {
   "cell_type": "code",
   "execution_count": 42,
   "id": "05a390f4",
   "metadata": {},
   "outputs": [],
   "source": [
    "df.applymap(lambda x: len(str(x))) # we can use this with dataFrame"
   ]
  },
  {
   "cell_type": "code",
   "execution_count": null,
   "id": "b48ad086",
   "metadata": {},
   "outputs": [],
   "source": []
  },
  {
   "cell_type": "code",
   "execution_count": null,
   "id": "e504a2fd",
   "metadata": {},
   "outputs": [],
   "source": []
  }
 ],
 "metadata": {
  "kernelspec": {
   "display_name": "Python 3",
   "language": "python",
   "name": "python3"
  },
  "language_info": {
   "codemirror_mode": {
    "name": "ipython",
    "version": 3
   },
   "file_extension": ".py",
   "mimetype": "text/x-python",
   "name": "python",
   "nbconvert_exporter": "python",
   "pygments_lexer": "ipython3",
   "version": "3.8.8"
  }
 },
 "nbformat": 4,
 "nbformat_minor": 5
}
