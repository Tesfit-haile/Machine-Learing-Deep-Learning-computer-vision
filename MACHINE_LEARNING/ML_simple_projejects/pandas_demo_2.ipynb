{
 "cells": [
  {
   "cell_type": "code",
   "execution_count": 1,
   "id": "266fefce",
   "metadata": {},
   "outputs": [],
   "source": [
    "import pandas as pd\n",
    "\n",
    "# haveing access to thoes two files \n",
    "df = pd.read_csv('data/survey_results_public.csv')\n",
    "schecma_df = pd.read_csv('data/survey_results_schema.csv')"
   ]
  },
  {
   "cell_type": "markdown",
   "id": "b2d7f7c7",
   "metadata": {},
   "source": [
    "##### pd.set_option is a special method of pandas for modifing the dataFrame's stracture\n",
    " "
   ]
  },
  {
   "cell_type": "code",
   "execution_count": 64,
   "id": "142abfdf",
   "metadata": {},
   "outputs": [],
   "source": [
    " \n",
    "pd.set_option('display.max_columns', 2)\n",
    "pd.set_option('display.max_rows', 6)\n",
    "# df"
   ]
  },
  {
   "cell_type": "markdown",
   "id": "93dcbcaf",
   "metadata": {},
   "source": [
    "## loc & iloc \n",
    "### for acce\n",
    "\n",
    "###### for accessing by index or names => think of like a func expecting 2 *args(df.loc[ [1, 2], 'email' ] ) or (df.loc[1:3, 'email')"
   ]
  },
  {
   "cell_type": "markdown",
   "id": "022c292a",
   "metadata": {},
   "source": [
    "### <h3 style=\"background: yellow\">for accesing a Row use .loc or .iloc</h3>\n",
    "### <h3 style=\"background: yellow\">for accesing a Col use df['ur col'].something</h3>"
   ]
  },
  {
   "cell_type": "markdown",
   "id": "0e1c9e13",
   "metadata": {},
   "source": [
    "schecma_df.iloc[[2]] # ====> to have access to a row "
   ]
  },
  {
   "cell_type": "code",
   "execution_count": 8,
   "id": "5f06f98b",
   "metadata": {},
   "outputs": [
    {
     "data": {
      "text/plain": [
       "0    Randomized respondent ID number (not in order ...\n",
       "1    Which of the following options best describes ...\n",
       "2                              Do you code as a hobby?\n",
       "Name: QuestionText, dtype: object"
      ]
     },
     "execution_count": 8,
     "metadata": {},
     "output_type": "execute_result"
    }
   ],
   "source": [
    "schecma_df.iloc[2, 1] # 2- for the row  1- for the question\n",
    "# schecma_df.iloc[0:3] # three rows\n",
    "schecma_df.iloc[0:3, 1] # displays three rows of the second column\n",
    "# schecma_df.iloc[0:3, 0] # displays three rows of the first column\n"
   ]
  },
  {
   "cell_type": "markdown",
   "id": "5cb17f12",
   "metadata": {},
   "source": [
    "### value_counts() for conting the values of a specific columns"
   ]
  },
  {
   "cell_type": "code",
   "execution_count": 28,
   "id": "c3c75ef2",
   "metadata": {},
   "outputs": [
    {
     "data": {
      "text/plain": [
       "Yes    50388\n",
       "No     14028\n",
       "Name: Hobbyist, dtype: int64"
      ]
     },
     "execution_count": 28,
     "metadata": {},
     "output_type": "execute_result"
    }
   ],
   "source": [
    "df['Hobbyist'].value_counts()"
   ]
  },
  {
   "cell_type": "code",
   "execution_count": 42,
   "id": "e4a15309",
   "metadata": {},
   "outputs": [
    {
     "data": {
      "text/plain": [
       "0     Yes\n",
       "1      No\n",
       "2     Yes\n",
       "     ... \n",
       "11     No\n",
       "12    Yes\n",
       "13    Yes\n",
       "Name: Hobbyist, Length: 14, dtype: object"
      ]
     },
     "execution_count": 42,
     "metadata": {},
     "output_type": "execute_result"
    }
   ],
   "source": [
    "df.loc[0:13, 'Hobbyist']"
   ]
  },
  {
   "cell_type": "code",
   "execution_count": 63,
   "id": "f9d3b505",
   "metadata": {},
   "outputs": [
    {
     "data": {
      "text/html": [
       "<div>\n",
       "<style scoped>\n",
       "    .dataframe tbody tr th:only-of-type {\n",
       "        vertical-align: middle;\n",
       "    }\n",
       "\n",
       "    .dataframe tbody tr th {\n",
       "        vertical-align: top;\n",
       "    }\n",
       "\n",
       "    .dataframe thead th {\n",
       "        text-align: right;\n",
       "    }\n",
       "</style>\n",
       "<table border=\"1\" class=\"dataframe\">\n",
       "  <thead>\n",
       "    <tr style=\"text-align: right;\">\n",
       "      <th></th>\n",
       "      <th>Hobbyist</th>\n",
       "      <th>...</th>\n",
       "      <th>CompFreq</th>\n",
       "    </tr>\n",
       "  </thead>\n",
       "  <tbody>\n",
       "    <tr>\n",
       "      <th>0</th>\n",
       "      <td>Yes</td>\n",
       "      <td>...</td>\n",
       "      <td>Monthly</td>\n",
       "    </tr>\n",
       "    <tr>\n",
       "      <th>1</th>\n",
       "      <td>No</td>\n",
       "      <td>...</td>\n",
       "      <td>NaN</td>\n",
       "    </tr>\n",
       "    <tr>\n",
       "      <th>2</th>\n",
       "      <td>Yes</td>\n",
       "      <td>...</td>\n",
       "      <td>NaN</td>\n",
       "    </tr>\n",
       "    <tr>\n",
       "      <th>3</th>\n",
       "      <td>Yes</td>\n",
       "      <td>...</td>\n",
       "      <td>NaN</td>\n",
       "    </tr>\n",
       "    <tr>\n",
       "      <th>4</th>\n",
       "      <td>Yes</td>\n",
       "      <td>...</td>\n",
       "      <td>NaN</td>\n",
       "    </tr>\n",
       "  </tbody>\n",
       "</table>\n",
       "<p>5 rows × 4 columns</p>\n",
       "</div>"
      ],
      "text/plain": [
       "  Hobbyist  ...  CompFreq\n",
       "0      Yes  ...   Monthly\n",
       "1       No  ...       NaN\n",
       "2      Yes  ...       NaN\n",
       "3      Yes  ...       NaN\n",
       "4      Yes  ...       NaN\n",
       "\n",
       "[5 rows x 4 columns]"
      ]
     },
     "execution_count": 63,
     "metadata": {},
     "output_type": "execute_result"
    }
   ],
   "source": [
    "df.loc[0:4, 'Hobbyist':'CompFreq'] # slicing through the columns\n"
   ]
  },
  {
   "cell_type": "code",
   "execution_count": 66,
   "id": "ae844f4d",
   "metadata": {},
   "outputs": [
    {
     "data": {
      "text/plain": [
       "Index(['Respondent', 'MainBranch', 'Hobbyist', 'Age', 'Age1stCode', 'CompFreq',\n",
       "       'CompTotal', 'ConvertedComp', 'Country', 'CurrencyDesc',\n",
       "       'CurrencySymbol', 'DatabaseDesireNextYear', 'DatabaseWorkedWith',\n",
       "       'DevType', 'EdLevel', 'Employment', 'Ethnicity', 'Gender', 'JobFactors',\n",
       "       'JobSat', 'JobSeek', 'LanguageDesireNextYear', 'LanguageWorkedWith',\n",
       "       'MiscTechDesireNextYear', 'MiscTechWorkedWith',\n",
       "       'NEWCollabToolsDesireNextYear', 'NEWCollabToolsWorkedWith', 'NEWDevOps',\n",
       "       'NEWDevOpsImpt', 'NEWEdImpt', 'NEWJobHunt', 'NEWJobHuntResearch',\n",
       "       'NEWLearn', 'NEWOffTopic', 'NEWOnboardGood', 'NEWOtherComms',\n",
       "       'NEWOvertime', 'NEWPurchaseResearch', 'NEWPurpleLink', 'NEWSOSites',\n",
       "       'NEWStuck', 'OpSys', 'OrgSize', 'PlatformDesireNextYear',\n",
       "       'PlatformWorkedWith', 'PurchaseWhat', 'Sexuality', 'SOAccount',\n",
       "       'SOComm', 'SOPartFreq', 'SOVisitFreq', 'SurveyEase', 'SurveyLength',\n",
       "       'Trans', 'UndergradMajor', 'WebframeDesireNextYear',\n",
       "       'WebframeWorkedWith', 'WelcomeChange', 'WorkWeekHrs', 'YearsCode',\n",
       "       'YearsCodePro'],\n",
       "      dtype='object')"
      ]
     },
     "execution_count": 66,
     "metadata": {},
     "output_type": "execute_result"
    }
   ],
   "source": [
    "# to desplay all the columns\n",
    "df.columns"
   ]
  },
  {
   "cell_type": "code",
   "execution_count": 69,
   "id": "08a7e31a",
   "metadata": {},
   "outputs": [
    {
     "data": {
      "text/plain": [
       "(64461, 61)"
      ]
     },
     "execution_count": 69,
     "metadata": {},
     "output_type": "execute_result"
    }
   ],
   "source": [
    "# desplays all the number of rows and columns\n",
    "df.shape"
   ]
  },
  {
   "cell_type": "code",
   "execution_count": 71,
   "id": "5415ea72",
   "metadata": {},
   "outputs": [],
   "source": [
    "# displays all the columns and its data type\n",
    "# object usually means string in this case\n",
    "df.info()"
   ]
  },
  {
   "cell_type": "code",
   "execution_count": 73,
   "id": "b56208e5",
   "metadata": {},
   "outputs": [
    {
     "data": {
      "text/html": [
       "<div>\n",
       "<style scoped>\n",
       "    .dataframe tbody tr th:only-of-type {\n",
       "        vertical-align: middle;\n",
       "    }\n",
       "\n",
       "    .dataframe tbody tr th {\n",
       "        vertical-align: top;\n",
       "    }\n",
       "\n",
       "    .dataframe thead th {\n",
       "        text-align: right;\n",
       "    }\n",
       "</style>\n",
       "<table border=\"1\" class=\"dataframe\">\n",
       "  <thead>\n",
       "    <tr style=\"text-align: right;\">\n",
       "      <th></th>\n",
       "      <th>Column</th>\n",
       "      <th>QuestionText</th>\n",
       "    </tr>\n",
       "  </thead>\n",
       "  <tbody>\n",
       "    <tr>\n",
       "      <th>count</th>\n",
       "      <td>61</td>\n",
       "      <td>61</td>\n",
       "    </tr>\n",
       "    <tr>\n",
       "      <th>unique</th>\n",
       "      <td>61</td>\n",
       "      <td>52</td>\n",
       "    </tr>\n",
       "    <tr>\n",
       "      <th>top</th>\n",
       "      <td>EdLevel</td>\n",
       "      <td>Which of the following describe you, if any? P...</td>\n",
       "    </tr>\n",
       "    <tr>\n",
       "      <th>freq</th>\n",
       "      <td>1</td>\n",
       "      <td>3</td>\n",
       "    </tr>\n",
       "  </tbody>\n",
       "</table>\n",
       "</div>"
      ],
      "text/plain": [
       "         Column                                       QuestionText\n",
       "count        61                                                 61\n",
       "unique       61                                                 52\n",
       "top     EdLevel  Which of the following describe you, if any? P...\n",
       "freq          1                                                  3"
      ]
     },
     "execution_count": 73,
     "metadata": {},
     "output_type": "execute_result"
    }
   ],
   "source": [
    "schecma_df.describe() # usfull for checking the count or unique and others of the schema"
   ]
  },
  {
   "cell_type": "code",
   "execution_count": null,
   "id": "2581958f",
   "metadata": {},
   "outputs": [],
   "source": []
  }
 ],
 "metadata": {
  "kernelspec": {
   "display_name": "Python 3",
   "language": "python",
   "name": "python3"
  },
  "language_info": {
   "codemirror_mode": {
    "name": "ipython",
    "version": 3
   },
   "file_extension": ".py",
   "mimetype": "text/x-python",
   "name": "python",
   "nbconvert_exporter": "python",
   "pygments_lexer": "ipython3",
   "version": "3.8.8"
  }
 },
 "nbformat": 4,
 "nbformat_minor": 5
}
