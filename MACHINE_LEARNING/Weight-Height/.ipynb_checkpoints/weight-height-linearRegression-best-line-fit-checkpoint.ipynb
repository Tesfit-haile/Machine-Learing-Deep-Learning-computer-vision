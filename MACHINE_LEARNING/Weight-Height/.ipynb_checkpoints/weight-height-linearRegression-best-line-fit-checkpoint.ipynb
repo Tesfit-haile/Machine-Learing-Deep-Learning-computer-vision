{
 "cells": [
  {
   "cell_type": "code",
   "execution_count": 25,
   "id": "03445dcf",
   "metadata": {},
   "outputs": [
    {
     "data": {
      "text/html": [
       "<div>\n",
       "<style scoped>\n",
       "    .dataframe tbody tr th:only-of-type {\n",
       "        vertical-align: middle;\n",
       "    }\n",
       "\n",
       "    .dataframe tbody tr th {\n",
       "        vertical-align: top;\n",
       "    }\n",
       "\n",
       "    .dataframe thead th {\n",
       "        text-align: right;\n",
       "    }\n",
       "</style>\n",
       "<table border=\"1\" class=\"dataframe\">\n",
       "  <thead>\n",
       "    <tr style=\"text-align: right;\">\n",
       "      <th></th>\n",
       "      <th>Gender</th>\n",
       "      <th>Height</th>\n",
       "      <th>Weight</th>\n",
       "    </tr>\n",
       "  </thead>\n",
       "  <tbody>\n",
       "    <tr>\n",
       "      <th>0</th>\n",
       "      <td>Male</td>\n",
       "      <td>73.847017</td>\n",
       "      <td>241.893563</td>\n",
       "    </tr>\n",
       "    <tr>\n",
       "      <th>1</th>\n",
       "      <td>Male</td>\n",
       "      <td>68.781904</td>\n",
       "      <td>162.310473</td>\n",
       "    </tr>\n",
       "    <tr>\n",
       "      <th>2</th>\n",
       "      <td>Male</td>\n",
       "      <td>74.110105</td>\n",
       "      <td>212.740856</td>\n",
       "    </tr>\n",
       "  </tbody>\n",
       "</table>\n",
       "</div>"
      ],
      "text/plain": [
       "  Gender     Height      Weight\n",
       "0   Male  73.847017  241.893563\n",
       "1   Male  68.781904  162.310473\n",
       "2   Male  74.110105  212.740856"
      ]
     },
     "execution_count": 25,
     "metadata": {},
     "output_type": "execute_result"
    }
   ],
   "source": [
    "import pandas as pd\n",
    "import numpy as np\n",
    "\n",
    "df = pd.read_csv('weight-height.csv')\n",
    "male_df = df[df['Gender'] == 'Male'][:200]\n",
    "male_df.head(3)"
   ]
  },
  {
   "cell_type": "markdown",
   "id": "e99c1acb",
   "metadata": {},
   "source": [
    "# Cleaning data -----------> inch to cm <<>> pound to kg"
   ]
  },
  {
   "cell_type": "code",
   "execution_count": 26,
   "id": "f1de0576",
   "metadata": {},
   "outputs": [],
   "source": [
    "def gram_to_kg(grm):\n",
    "    return grm * 0.45359237\n",
    "\n",
    "def inch_to_cm(inch):\n",
    "    return inch * 2.54\n"
   ]
  },
  {
   "cell_type": "code",
   "execution_count": 27,
   "id": "b01a9458",
   "metadata": {},
   "outputs": [],
   "source": [
    "# convet \n",
    "df['Height'] = df['Height'].apply(lambda x: inch_to_cm(x))\n",
    "df['Weight'] = df['Weight'].apply(lambda x: gram_to_kg(x))"
   ]
  },
  {
   "cell_type": "code",
   "execution_count": 28,
   "id": "a6bf65e9",
   "metadata": {},
   "outputs": [
    {
     "data": {
      "text/html": [
       "<div>\n",
       "<style scoped>\n",
       "    .dataframe tbody tr th:only-of-type {\n",
       "        vertical-align: middle;\n",
       "    }\n",
       "\n",
       "    .dataframe tbody tr th {\n",
       "        vertical-align: top;\n",
       "    }\n",
       "\n",
       "    .dataframe thead th {\n",
       "        text-align: right;\n",
       "    }\n",
       "</style>\n",
       "<table border=\"1\" class=\"dataframe\">\n",
       "  <thead>\n",
       "    <tr style=\"text-align: right;\">\n",
       "      <th></th>\n",
       "      <th>Gender</th>\n",
       "      <th>Height</th>\n",
       "      <th>Weight</th>\n",
       "    </tr>\n",
       "  </thead>\n",
       "  <tbody>\n",
       "    <tr>\n",
       "      <th>0</th>\n",
       "      <td>Male</td>\n",
       "      <td>187.571423</td>\n",
       "      <td>109.721075</td>\n",
       "    </tr>\n",
       "    <tr>\n",
       "      <th>1</th>\n",
       "      <td>Male</td>\n",
       "      <td>174.706036</td>\n",
       "      <td>73.622792</td>\n",
       "    </tr>\n",
       "    <tr>\n",
       "      <th>2</th>\n",
       "      <td>Male</td>\n",
       "      <td>188.239668</td>\n",
       "      <td>96.497629</td>\n",
       "    </tr>\n",
       "  </tbody>\n",
       "</table>\n",
       "</div>"
      ],
      "text/plain": [
       "  Gender      Height      Weight\n",
       "0   Male  187.571423  109.721075\n",
       "1   Male  174.706036   73.622792\n",
       "2   Male  188.239668   96.497629"
      ]
     },
     "execution_count": 28,
     "metadata": {},
     "output_type": "execute_result"
    }
   ],
   "source": [
    "df.head(3)"
   ]
  },
  {
   "cell_type": "markdown",
   "id": "afee8fd8",
   "metadata": {},
   "source": []
  },
  {
   "cell_type": "markdown",
   "id": "0f3e9940",
   "metadata": {},
   "source": [
    "#### Convert the DF series to list"
   ]
  },
  {
   "cell_type": "code",
   "execution_count": 30,
   "id": "94f33bfe",
   "metadata": {},
   "outputs": [
    {
     "data": {
      "text/plain": [
       "pandas.core.series.Series"
      ]
     },
     "execution_count": 30,
     "metadata": {},
     "output_type": "execute_result"
    }
   ],
   "source": [
    "type(male_df['Height'])  # Now it is a series"
   ]
  },
  {
   "cell_type": "code",
   "execution_count": 31,
   "id": "9ff64164",
   "metadata": {},
   "outputs": [
    {
     "data": {
      "text/plain": [
       "list"
      ]
     },
     "execution_count": 31,
     "metadata": {},
     "output_type": "execute_result"
    }
   ],
   "source": [
    "height_list = male_df['Height'].tolist()\n",
    "weight_list = male_df['Weight'].tolist()\n",
    "\n",
    "type(height_list)  # Now it is a List"
   ]
  },
  {
   "cell_type": "code",
   "execution_count": null,
   "id": "8590d965",
   "metadata": {},
   "outputs": [],
   "source": []
  },
  {
   "cell_type": "markdown",
   "id": "b8128d0a",
   "metadata": {},
   "source": [
    "### Convert to numpy list"
   ]
  },
  {
   "cell_type": "code",
   "execution_count": 33,
   "id": "301a8fd9",
   "metadata": {},
   "outputs": [],
   "source": [
    "xs = np.array(height_list, dtype=np.float64)\n",
    "xy = np.array(weight_list, dtype=np.float64)"
   ]
  },
  {
   "cell_type": "code",
   "execution_count": null,
   "id": "734c4d7c",
   "metadata": {},
   "outputs": [],
   "source": []
  },
  {
   "cell_type": "markdown",
   "id": "a25dd53f",
   "metadata": {},
   "source": [
    "# My own func"
   ]
  },
  {
   "cell_type": "code",
   "execution_count": null,
   "id": "5742b647",
   "metadata": {},
   "outputs": [],
   "source": [
    "# def best_line_fit(xs, ys):\n",
    "#     slope = ((mean(xs) * (mean(xy))) - mean(xs * ys) /  (mean(xs) * (mean(xy))) - mean(xs * xs))\n",
    "#     y_intr = mean(ys) - slope * mean(xs)\n",
    "    "
   ]
  },
  {
   "cell_type": "markdown",
   "id": "f6d6310a",
   "metadata": {},
   "source": [
    "# LinearRegration"
   ]
  },
  {
   "cell_type": "code",
   "execution_count": 41,
   "id": "1a6cc634",
   "metadata": {},
   "outputs": [
    {
     "data": {
      "text/plain": [
       "<seaborn.axisgrid.FacetGrid at 0x7faaacd12ca0>"
      ]
     },
     "execution_count": 41,
     "metadata": {},
     "output_type": "execute_result"
    },
    {
     "data": {
      "image/png": "[encoded data removed]",
      "text/plain": [
       "<Figure size 423.6x360 with 1 Axes>"
      ]
     },
     "metadata": {},
     "output_type": "display_data"
    }
   ],
   "source": [
    "import seaborn as sns\n",
    "sns.set()\n",
    "sns.set_style('whitegrid')\n",
    "sns.lmplot(x ='Height', y ='Weight', data=male_df, hue='Gender', markers =['v'], palette ='plasma')"
   ]
  },
  {
   "cell_type": "code",
   "execution_count": null,
   "id": "e889d83f",
   "metadata": {},
   "outputs": [],
   "source": []
  }
 ],
 "metadata": {
  "kernelspec": {
   "display_name": "Python 3",
   "language": "python",
   "name": "python3"
  },
  "language_info": {
   "codemirror_mode": {
    "name": "ipython",
    "version": 3
   },
   "file_extension": ".py",
   "mimetype": "text/x-python",
   "name": "python",
   "nbconvert_exporter": "python",
   "pygments_lexer": "ipython3",
   "version": "3.8.8"
  }
 },
 "nbformat": 4,
 "nbformat_minor": 5
}
