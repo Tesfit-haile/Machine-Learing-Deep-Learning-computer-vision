{
 "cells": [
  {
   "cell_type": "code",
   "execution_count": 1,
   "id": "8acbca83",
   "metadata": {},
   "outputs": [],
   "source": [
    "import pandas as pd\n",
    "import numpy as np"
   ]
  },
  {
   "cell_type": "markdown",
   "id": "446736b2",
   "metadata": {},
   "source": [
    "# Standard deviation ----->  SD = square root of sumation( x - x_mean) ** 2 / n"
   ]
  },
  {
   "cell_type": "code",
   "execution_count": null,
   "id": "eb59ff56",
   "metadata": {},
   "outputs": [],
   "source": [
    "\"\"\" THE PURPOSE OF SD IS -> we do NOT want to have unbalanced distribution of data in our col\"\"\"\n",
    "\"\"\" So we need to Normalize or scale it\"\"\""
   ]
  },
  {
   "cell_type": "code",
   "execution_count": 18,
   "id": "c9349c61",
   "metadata": {},
   "outputs": [
    {
     "data": {
      "text/html": [
       "<div>\n",
       "<style scoped>\n",
       "    .dataframe tbody tr th:only-of-type {\n",
       "        vertical-align: middle;\n",
       "    }\n",
       "\n",
       "    .dataframe tbody tr th {\n",
       "        vertical-align: top;\n",
       "    }\n",
       "\n",
       "    .dataframe thead th {\n",
       "        text-align: right;\n",
       "    }\n",
       "</style>\n",
       "<table border=\"1\" class=\"dataframe\">\n",
       "  <thead>\n",
       "    <tr style=\"text-align: right;\">\n",
       "      <th></th>\n",
       "      <th>x1</th>\n",
       "      <th>x2</th>\n",
       "    </tr>\n",
       "  </thead>\n",
       "  <tbody>\n",
       "    <tr>\n",
       "      <th>0</th>\n",
       "      <td>401</td>\n",
       "      <td>10</td>\n",
       "    </tr>\n",
       "    <tr>\n",
       "      <th>1</th>\n",
       "      <td>220</td>\n",
       "      <td>1</td>\n",
       "    </tr>\n",
       "    <tr>\n",
       "      <th>2</th>\n",
       "      <td>200</td>\n",
       "      <td>3</td>\n",
       "    </tr>\n",
       "  </tbody>\n",
       "</table>\n",
       "</div>"
      ],
      "text/plain": [
       "    x1  x2\n",
       "0  401  10\n",
       "1  220   1\n",
       "2  200   3"
      ]
     },
     "execution_count": 18,
     "metadata": {},
     "output_type": "execute_result"
    }
   ],
   "source": [
    "from numpy import asarray\n",
    "from sklearn.preprocessing import StandardScaler\n",
    "\n",
    "data = asarray([[401, 10], [220, 1], [200, 3]])\n",
    "\n",
    "\n",
    "# create dataframe\n",
    "dfScale = pd.DataFrame(data, columns = ['x1', 'x2'])\n",
    "\n",
    "def xMean(col):\n",
    "    return sum(col) / len(col)\n",
    "    \n",
    "\n",
    "def x_minuseXmean(col, xMean):\n",
    "    box = []\n",
    "    for cell in col:\n",
    "        box.append((cell - xMean))\n",
    "    return box\n",
    "\n",
    "\n",
    "def x_minuseXmeanSqueared(newCol):\n",
    "    return [cell ** 2 for cell in newCol]\n",
    "    \n",
    "dfScale"
   ]
  },
  {
   "cell_type": "code",
   "execution_count": 19,
   "id": "66ec4c9b",
   "metadata": {},
   "outputs": [
    {
     "name": "stdout",
     "output_type": "stream",
     "text": [
      "90.4077184512227\n",
      "[ 1.40843432 -0.59360713 -0.81482718]\n"
     ]
    }
   ],
   "source": [
    "# StandardDeviation of X1\n",
    "\n",
    "# find the mean and Standard deviation\n",
    "x1Mean = xMean(dfScale['x1'])\n",
    "x1MinuseMean = x_minuseXmean(dfScale['x1'], x1Mean)\n",
    "x1MinuseMeanSquared = x_minuseXmeanSqueared(x1MinuseMean)\n",
    "\n",
    "\n",
    "# SD = square root of sumation( x - x_mean) ** 2 / n\n",
    "standardDeviation_1 = np.sqrt(sum(x1MinuseMeanSquared)  / len(dfScale['x1']) )\n",
    "print(standardDeviation_1)\n",
    "\n",
    "\n",
    "#### StandardScaler formula -->.    s = (x1 - xMean) / standardDeviation\n",
    "s1 = (x1MinuseMean) / standardDeviation_1\n",
    "print(s1)"
   ]
  },
  {
   "cell_type": "code",
   "execution_count": null,
   "id": "9f580eb9",
   "metadata": {},
   "outputs": [],
   "source": []
  },
  {
   "cell_type": "code",
   "execution_count": 20,
   "id": "4305974b",
   "metadata": {},
   "outputs": [
    {
     "name": "stdout",
     "output_type": "stream",
     "text": [
      "3.858612300930075\n",
      "[ 1.38218948 -0.95025527 -0.43193421]\n"
     ]
    }
   ],
   "source": [
    "# StandardDeviation of X2\n",
    "\n",
    "# find the mean and Standard deviation of x2\n",
    "x2Mean = xMean(dfScale['x2'])\n",
    "x2MinuseMean = x_minuseXmean(dfScale['x2'], x2Mean)\n",
    "x2MinuseMeanSquared = x_minuseXmeanSqueared(x2MinuseMean)\n",
    "\n",
    "\n",
    "# SD = square root of sumation( x - x_mean) ** 2 / n\n",
    "standardDeviation_2 = np.sqrt(sum(x2MinuseMeanSquared)  / len(dfScale['x2']) )\n",
    "print(standardDeviation_2)\n",
    "\n",
    "\n",
    "#### StandardScaler formula -->.    s = (x2 - xMean) / standardDeviation2\n",
    "s2 = (x2MinuseMean) / standardDeviation_2\n",
    "print(s2)"
   ]
  },
  {
   "cell_type": "code",
   "execution_count": 21,
   "id": "a885d130",
   "metadata": {},
   "outputs": [
    {
     "name": "stdout",
     "output_type": "stream",
     "text": [
      "[[[ 1.40843432 -0.59360713 -0.81482718]]\n",
      "\n",
      " [[ 1.38218948 -0.95025527 -0.43193421]]]\n"
     ]
    }
   ],
   "source": [
    "# Same as the builtinfunction\n",
    "\n",
    "print(np.asarray([[s1], [s2]]))"
   ]
  },
  {
   "cell_type": "code",
   "execution_count": 22,
   "id": "09efa8d8",
   "metadata": {},
   "outputs": [
    {
     "name": "stdout",
     "output_type": "stream",
     "text": [
      "[[ 1.40843432  1.38218948]\n",
      " [-0.59360713 -0.95025527]\n",
      " [-0.81482718 -0.43193421]]\n"
     ]
    }
   ],
   "source": [
    "scaler = StandardScaler()\n",
    "# transform data\n",
    "scaled = scaler.fit_transform(data)\n",
    "print(scaled)"
   ]
  },
  {
   "cell_type": "code",
   "execution_count": null,
   "id": "6a8e801c",
   "metadata": {},
   "outputs": [],
   "source": []
  },
  {
   "cell_type": "code",
   "execution_count": null,
   "id": "3f977818",
   "metadata": {},
   "outputs": [],
   "source": []
  }
 ],
 "metadata": {
  "kernelspec": {
   "display_name": "Python 3 (ipykernel)",
   "language": "python",
   "name": "python3"
  },
  "language_info": {
   "codemirror_mode": {
    "name": "ipython",
    "version": 3
   },
   "file_extension": ".py",
   "mimetype": "text/x-python",
   "name": "python",
   "nbconvert_exporter": "python",
   "pygments_lexer": "ipython3",
   "version": "3.8.8"
  }
 },
 "nbformat": 4,
 "nbformat_minor": 5
}
