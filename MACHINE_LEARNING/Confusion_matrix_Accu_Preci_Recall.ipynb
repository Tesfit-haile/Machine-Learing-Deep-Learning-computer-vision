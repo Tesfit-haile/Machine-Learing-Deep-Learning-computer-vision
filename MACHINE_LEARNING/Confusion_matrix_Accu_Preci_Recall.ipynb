{
 "cells": [
  {
   "cell_type": "code",
   "execution_count": 11,
   "id": "bfbdae7f",
   "metadata": {},
   "outputs": [],
   "source": [
    "import pandas as pd\n",
    "from sklearn.metrics import confusion_matrix\n",
    "import matplotlib.pyplot as plt\n",
    "import seaborn as sns"
   ]
  },
  {
   "cell_type": "code",
   "execution_count": 12,
   "id": "49ab5a10",
   "metadata": {},
   "outputs": [
    {
     "data": {
      "image/png": "[encoded data removed]",
      "text/plain": [
       "<Figure size 720x504 with 2 Axes>"
      ]
     },
     "metadata": {
      "needs_background": "light"
     },
     "output_type": "display_data"
    }
   ],
   "source": [
    "# Source code credit for this function: https://gist.github.com/shaypal5/94c53d765083101efc0240d776a23823\n",
    "def print_confusion_matrix(confusion_matrix, class_names, figsize = (10,7), fontsize=16):\n",
    "    \n",
    "    df_cm = pd.DataFrame(confusion_matrix, index=class_names, columns=class_names,)\n",
    "    fig = plt.figure(figsize=figsize)\n",
    "    \n",
    "    heatmap = sns.heatmap(df_cm, annot=True, fmt=\"d\")\n",
    "    \n",
    "    heatmap.yaxis.set_ticklabels(heatmap.yaxis.get_ticklabels(), rotation=0, ha='right', fontsize=fontsize)\n",
    "    heatmap.xaxis.set_ticklabels(heatmap.xaxis.get_ticklabels(), rotation=45, ha='right', fontsize=fontsize)\n",
    "    \n",
    "    plt.ylabel('Truth')\n",
    "    plt.xlabel('Prediction')\n",
    "\n",
    "\n",
    "truth =      [\"Dog\",\"Not a dog\",\"Dog\",\"Dog\",\"Dog\", \"Not a dog\", \"Not a dog\", \"Dog\",\"Dog\", \"Not a dog\"]\n",
    "prediction = [\"Dog\",\"Dog\", \"Dog\",\"Not a dog\",\"Dog\", \"Not a dog\", \"Dog\", \"Not a dog\", \"Dog\", \"Dog\"]\n",
    "\n",
    "cm = confusion_matrix(truth, prediction)\n",
    "print_confusion_matrix(cm,[\"Dog\",\"Not a dog\"])"
   ]
  },
  {
   "cell_type": "code",
   "execution_count": null,
   "id": "63e85bd6",
   "metadata": {},
   "outputs": [],
   "source": [
    "# We have 6 dogs and 4 not-dogs\n",
    "# But my prediction is 7 dogs and 3 not-dogs"
   ]
  },
  {
   "cell_type": "code",
   "execution_count": null,
   "id": "6870bc84",
   "metadata": {},
   "outputs": [],
   "source": []
  },
  {
   "cell_type": "code",
   "execution_count": 29,
   "id": "d173a4a6",
   "metadata": {},
   "outputs": [
    {
     "data": {
      "text/html": [
       "<div>\n",
       "<style scoped>\n",
       "    .dataframe tbody tr th:only-of-type {\n",
       "        vertical-align: middle;\n",
       "    }\n",
       "\n",
       "    .dataframe tbody tr th {\n",
       "        vertical-align: top;\n",
       "    }\n",
       "\n",
       "    .dataframe thead th {\n",
       "        text-align: right;\n",
       "    }\n",
       "</style>\n",
       "<table border=\"1\" class=\"dataframe\">\n",
       "  <thead>\n",
       "    <tr style=\"text-align: right;\">\n",
       "      <th></th>\n",
       "      <th>Dog</th>\n",
       "      <th>Not_Dog</th>\n",
       "    </tr>\n",
       "  </thead>\n",
       "  <tbody>\n",
       "    <tr>\n",
       "      <th>0</th>\n",
       "      <td>Dog</td>\n",
       "      <td>Dog</td>\n",
       "    </tr>\n",
       "    <tr>\n",
       "      <th>1</th>\n",
       "      <td>Not a dog</td>\n",
       "      <td>Dog</td>\n",
       "    </tr>\n",
       "    <tr>\n",
       "      <th>2</th>\n",
       "      <td>Dog</td>\n",
       "      <td>Dog</td>\n",
       "    </tr>\n",
       "    <tr>\n",
       "      <th>3</th>\n",
       "      <td>Dog</td>\n",
       "      <td>Not a dog</td>\n",
       "    </tr>\n",
       "    <tr>\n",
       "      <th>4</th>\n",
       "      <td>Dog</td>\n",
       "      <td>Dog</td>\n",
       "    </tr>\n",
       "  </tbody>\n",
       "</table>\n",
       "</div>"
      ],
      "text/plain": [
       "         Dog    Not_Dog\n",
       "0        Dog        Dog\n",
       "1  Not a dog        Dog\n",
       "2        Dog        Dog\n",
       "3        Dog  Not a dog\n",
       "4        Dog        Dog"
      ]
     },
     "execution_count": 29,
     "metadata": {},
     "output_type": "execute_result"
    }
   ],
   "source": [
    "truth =      [\"Dog\",\"Not a dog\", \"Dog\",  \"Dog\",        \"Dog\", \"Not a dog\", \"Not a dog\", \"Dog\",        \"Dog\",\"Not a dog\"]\n",
    "prediction = [\"Dog\",\"Dog\",        \"Dog\", \"Not a dog\",  \"Dog\", \"Not a dog\", \"Dog\",        \"Not a dog\", \"Dog\", \"Dog\"]\n",
    "\n",
    "df = pd.DataFrame()\n",
    "df['Dog'] = truth\n",
    "df['Not_Dog'] = prediction\n",
    "df.head()"
   ]
  },
  {
   "cell_type": "code",
   "execution_count": 14,
   "id": "06c3cb7a",
   "metadata": {},
   "outputs": [
    {
     "data": {
      "text/plain": [
       "array([[4, 2],\n",
       "       [3, 1]])"
      ]
     },
     "execution_count": 14,
     "metadata": {},
     "output_type": "execute_result"
    }
   ],
   "source": [
    "con_mat = confusion_matrix(df['Dog'], df['Not_Dog'])\n",
    "con_mat"
   ]
  },
  {
   "cell_type": "markdown",
   "id": "0569caef",
   "metadata": {},
   "source": [
    "### we use accu only if our dataset is balanced otherwise use precision or recall"
   ]
  },
  {
   "cell_type": "markdown",
   "id": "f0ab96c3",
   "metadata": {},
   "source": [
    "# Accuracy"
   ]
  },
  {
   "cell_type": "code",
   "execution_count": 25,
   "id": "34a651d2",
   "metadata": {},
   "outputs": [
    {
     "data": {
      "text/plain": [
       "0.5"
      ]
     },
     "execution_count": 25,
     "metadata": {},
     "output_type": "execute_result"
    }
   ],
   "source": [
    "# total true predicted / total pic\n",
    "ac = (4 + 1) / 10\n",
    "ac"
   ]
  },
  {
   "cell_type": "markdown",
   "id": "a820fe63",
   "metadata": {},
   "source": [
    "# Precision"
   ]
  },
  {
   "cell_type": "code",
   "execution_count": 4,
   "id": "fb490fa3",
   "metadata": {},
   "outputs": [
    {
     "data": {
      "text/plain": [
       "0.5714285714285714"
      ]
     },
     "execution_count": 4,
     "metadata": {},
     "output_type": "execute_result"
    }
   ],
   "source": [
    "# true predicted / true + false predicted\n",
    "# How many of the dog prdiction is correct from the dog prediction\n",
    "pre = 4 / 7\n",
    "pre"
   ]
  },
  {
   "cell_type": "markdown",
   "id": "73e077bf",
   "metadata": {},
   "source": [
    "# Recall"
   ]
  },
  {
   "cell_type": "code",
   "execution_count": 5,
   "id": "7a0b8a0b",
   "metadata": {},
   "outputs": [
    {
     "data": {
      "text/plain": [
       "0.6666666666666666"
      ]
     },
     "execution_count": 5,
     "metadata": {},
     "output_type": "execute_result"
    }
   ],
   "source": [
    "# true pred / acctual true\n",
    "# How many precent of dog prediction is correct from the true dogs\n",
    "rec = 4 / 6\n",
    "rec"
   ]
  },
  {
   "cell_type": "code",
   "execution_count": null,
   "id": "348690ef",
   "metadata": {},
   "outputs": [],
   "source": []
  }
 ],
 "metadata": {
  "kernelspec": {
   "display_name": "Python 3 (ipykernel)",
   "language": "python",
   "name": "python3"
  },
  "language_info": {
   "codemirror_mode": {
    "name": "ipython",
    "version": 3
   },
   "file_extension": ".py",
   "mimetype": "text/x-python",
   "name": "python",
   "nbconvert_exporter": "python",
   "pygments_lexer": "ipython3",
   "version": "3.8.8"
  }
 },
 "nbformat": 4,
 "nbformat_minor": 5
}
