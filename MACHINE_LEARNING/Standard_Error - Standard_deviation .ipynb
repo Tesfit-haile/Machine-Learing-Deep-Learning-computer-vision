{
 "cells": [
  {
   "cell_type": "markdown",
   "id": "80187038",
   "metadata": {},
   "source": [
    "# Linear Regression, -----> y=mx+c\n",
    "\n",
    "# Standard_error --------->  SE = square root of sumation( y_hot - y ) ** 2 / n-2\n",
    "\n",
    "# Standard deviation ----->  SD = square root of sumation( y - y_mean) ** 2 / n"
   ]
  },
  {
   "cell_type": "code",
   "execution_count": 1,
   "id": "b46d2e6f",
   "metadata": {},
   "outputs": [],
   "source": [
    "a = [15, 15, 15, 13]\n",
    "b = [4, 15, 40, 72]"
   ]
  },
  {
   "cell_type": "markdown",
   "id": "42cd27cb",
   "metadata": {},
   "source": [
    "### SD tell us -> tells us the distrubition of the data from the mean,\n",
    "****How the accuracy of thier mean --> if my sd is close to \"0\" it means the we can trust the mean\n",
    "****it Measures How much observations vary from each other.\n",
    "\n",
    "## Standard_erorr ---> How precise the sample mean to the true population mean.\n"
   ]
  },
  {
   "cell_type": "code",
   "execution_count": 2,
   "id": "a8ef316f",
   "metadata": {},
   "outputs": [
    {
     "data": {
      "text/plain": [
       "'The goal of this file is first how to find a slope and intercept then find the best fit line'"
      ]
     },
     "execution_count": 2,
     "metadata": {},
     "output_type": "execute_result"
    }
   ],
   "source": [
    "'The goal of this file is first how to find a slope and intercept then find the best fit line'"
   ]
  },
  {
   "cell_type": "code",
   "execution_count": 3,
   "id": "da9f7eb3",
   "metadata": {},
   "outputs": [],
   "source": [
    "import pandas as pd\n",
    "import numpy as np\n",
    "import seaborn as sns\n",
    "import matplotlib.pyplot as plt\n",
    "from sklearn import datasets\n",
    "from sklearn.model_selection import train_test_split"
   ]
  },
  {
   "cell_type": "code",
   "execution_count": 4,
   "id": "f01ed104",
   "metadata": {},
   "outputs": [
    {
     "data": {
      "text/html": [
       "<div>\n",
       "<style scoped>\n",
       "    .dataframe tbody tr th:only-of-type {\n",
       "        vertical-align: middle;\n",
       "    }\n",
       "\n",
       "    .dataframe tbody tr th {\n",
       "        vertical-align: top;\n",
       "    }\n",
       "\n",
       "    .dataframe thead th {\n",
       "        text-align: right;\n",
       "    }\n",
       "</style>\n",
       "<table border=\"1\" class=\"dataframe\">\n",
       "  <thead>\n",
       "    <tr style=\"text-align: right;\">\n",
       "      <th></th>\n",
       "      <th>X</th>\n",
       "      <th>Y</th>\n",
       "    </tr>\n",
       "  </thead>\n",
       "  <tbody>\n",
       "    <tr>\n",
       "      <th>0</th>\n",
       "      <td>1</td>\n",
       "      <td>2</td>\n",
       "    </tr>\n",
       "    <tr>\n",
       "      <th>1</th>\n",
       "      <td>2</td>\n",
       "      <td>4</td>\n",
       "    </tr>\n",
       "    <tr>\n",
       "      <th>2</th>\n",
       "      <td>3</td>\n",
       "      <td>5</td>\n",
       "    </tr>\n",
       "  </tbody>\n",
       "</table>\n",
       "</div>"
      ],
      "text/plain": [
       "   X  Y\n",
       "0  1  2\n",
       "1  2  4\n",
       "2  3  5"
      ]
     },
     "execution_count": 4,
     "metadata": {},
     "output_type": "execute_result"
    }
   ],
   "source": [
    "x = np.array([1, 2, 3, 4, 5])\n",
    "y = np.array([2, 4, 5, 4, 5])\n",
    "\n",
    "# create dataFrame\n",
    "df = pd.DataFrame()\n",
    "df['X'] = x\n",
    "df['Y'] = y\n",
    "df.head(3)\n"
   ]
  },
  {
   "cell_type": "code",
   "execution_count": 5,
   "id": "05939559",
   "metadata": {},
   "outputs": [
    {
     "data": {
      "image/png": "[encoded data removed]",
      "text/plain": [
       "<Figure size 432x288 with 1 Axes>"
      ]
     },
     "metadata": {
      "needs_background": "light"
     },
     "output_type": "display_data"
    }
   ],
   "source": [
    "m1 = plt.scatter(x=df['X'], y=df['Y'])\n",
    "plt.xlabel('x label')\n",
    "plt.ylabel('y label')\n",
    "plt.show()"
   ]
  },
  {
   "cell_type": "markdown",
   "id": "46d2141b",
   "metadata": {},
   "source": [
    "### find the predicted value of y corsspending value of x using  y = mx + c wher m = 0.6  c = 2.2\n",
    "### Or you can can calculate it the value of m and c  >> look below👇"
   ]
  },
  {
   "cell_type": "code",
   "execution_count": null,
   "id": "9de23923",
   "metadata": {},
   "outputs": [],
   "source": []
  },
  {
   "cell_type": "code",
   "execution_count": 6,
   "id": "2c96dc22",
   "metadata": {},
   "outputs": [
    {
     "data": {
      "text/plain": [
       "5.2"
      ]
     },
     "execution_count": 6,
     "metadata": {},
     "output_type": "execute_result"
    }
   ],
   "source": [
    "#y = mx + c\n",
    "# x = 1 => 2.8\n",
    "# x = 2 => 3.40\n",
    "# x = 3 => 4\n",
    "# x = 4 => 4.6\n",
    "# x = 5 => 5.2\n",
    "\n",
    "y = (0.6 * 5) + 2.2 \n",
    "y\n"
   ]
  },
  {
   "cell_type": "markdown",
   "id": "d8eae617",
   "metadata": {},
   "source": [
    "# Now \n",
    "**built the prediction "
   ]
  },
  {
   "cell_type": "code",
   "execution_count": 7,
   "id": "5472caf6",
   "metadata": {},
   "outputs": [],
   "source": [
    "\n",
    "def find_Y_predicted(df):\n",
    "    predi_box = []\n",
    "    for cell in df['X']:\n",
    "        y = (0.6 * cell) + 2.2\n",
    "        predi_box.append(round(y, 2))\n",
    "\n",
    "    return predi_box\n",
    "\n",
    "\n",
    "def y_minuseY_y_predicted(predi_box):\n",
    "    box2 = []\n",
    "    for i in range(len(predi_box)):\n",
    "        y = df['Y'].iloc[i] - predi_box[i] \n",
    "        box2.append(round(y, 2))\n",
    "    return box2\n",
    "\n",
    "\n",
    "def find_y_minuse_yMean_Squared(y):\n",
    "    yMean = sum(y) / len(y)\n",
    "    \n",
    "    box7 = []\n",
    "    for cell in y:\n",
    "        box7.append((round(cell - yMean, 2)) ** 2)\n",
    "    return box7\n",
    "         \n",
    "    \n",
    "\n",
    "def y_minuseY_y_predictedSquared(y_predicted_minuseY):\n",
    "    return [round((cell ** 2), 2) for cell in y_predicted_minuseY]\n",
    "\n",
    "\n",
    "\n",
    "# This is cost function \n",
    "# cost function (which minimize our error metric)  \n",
    "# makeing the value +ve by squaring it\n",
    "# the measure of distance of our model from the data point \n",
    "# learning-rate is the steps you take during gradiante distance\n"
   ]
  },
  {
   "cell_type": "code",
   "execution_count": null,
   "id": "bdb787c4",
   "metadata": {},
   "outputs": [],
   "source": []
  },
  {
   "cell_type": "code",
   "execution_count": 8,
   "id": "196c70d5",
   "metadata": {},
   "outputs": [
    {
     "name": "stdout",
     "output_type": "stream",
     "text": [
      "[2.8, 3.4, 4.0, 4.6, 5.2] [-0.8, 0.6, 1.0, -0.6, -0.2] [0.64, 0.36, 1.0, 0.36, 0.04]\n"
     ]
    }
   ],
   "source": [
    "y_predicted = find_Y_predicted(df)\n",
    "box2 = y_minuseY_y_predicted(y_predicted)\n",
    "box3 = y_minuseY_y_predictedSquared(box2)\n",
    "\n",
    "df['Y_predicted'] = y_predicted\n",
    "df['(Y-Y_predicted)'] = box2\n",
    "\n",
    "print(y_predicted, box2, box3)"
   ]
  },
  {
   "cell_type": "code",
   "execution_count": null,
   "id": "a12963e7",
   "metadata": {},
   "outputs": [],
   "source": [
    "\n"
   ]
  },
  {
   "cell_type": "markdown",
   "id": "886903f1",
   "metadata": {},
   "source": [
    "# Not Sure Check this ----> ??? Euclidian-distance ---- is \n",
    "*** 'The square root of the sum of difference b/n a new point X and an existed point Y' ***"
   ]
  },
  {
   "cell_type": "code",
   "execution_count": 9,
   "id": "a55153cc",
   "metadata": {},
   "outputs": [
    {
     "data": {
      "text/html": [
       "<div>\n",
       "<style scoped>\n",
       "    .dataframe tbody tr th:only-of-type {\n",
       "        vertical-align: middle;\n",
       "    }\n",
       "\n",
       "    .dataframe tbody tr th {\n",
       "        vertical-align: top;\n",
       "    }\n",
       "\n",
       "    .dataframe thead th {\n",
       "        text-align: right;\n",
       "    }\n",
       "</style>\n",
       "<table border=\"1\" class=\"dataframe\">\n",
       "  <thead>\n",
       "    <tr style=\"text-align: right;\">\n",
       "      <th></th>\n",
       "      <th>X</th>\n",
       "      <th>Y</th>\n",
       "      <th>Y_predicted</th>\n",
       "      <th>(Y-Y_predicted)</th>\n",
       "      <th>(Y_predicted - Y )squared</th>\n",
       "      <th>y_minuse_y_meanSquared</th>\n",
       "    </tr>\n",
       "  </thead>\n",
       "  <tbody>\n",
       "    <tr>\n",
       "      <th>0</th>\n",
       "      <td>1</td>\n",
       "      <td>2</td>\n",
       "      <td>2.8</td>\n",
       "      <td>-0.8</td>\n",
       "      <td>0.64</td>\n",
       "      <td>4.0</td>\n",
       "    </tr>\n",
       "    <tr>\n",
       "      <th>1</th>\n",
       "      <td>2</td>\n",
       "      <td>4</td>\n",
       "      <td>3.4</td>\n",
       "      <td>0.6</td>\n",
       "      <td>0.36</td>\n",
       "      <td>0.0</td>\n",
       "    </tr>\n",
       "    <tr>\n",
       "      <th>2</th>\n",
       "      <td>3</td>\n",
       "      <td>5</td>\n",
       "      <td>4.0</td>\n",
       "      <td>1.0</td>\n",
       "      <td>1.00</td>\n",
       "      <td>1.0</td>\n",
       "    </tr>\n",
       "  </tbody>\n",
       "</table>\n",
       "</div>"
      ],
      "text/plain": [
       "   X  Y  Y_predicted  (Y-Y_predicted)  (Y_predicted - Y )squared  \\\n",
       "0  1  2          2.8             -0.8                       0.64   \n",
       "1  2  4          3.4              0.6                       0.36   \n",
       "2  3  5          4.0              1.0                       1.00   \n",
       "\n",
       "   y_minuse_y_meanSquared  \n",
       "0                     4.0  \n",
       "1                     0.0  \n",
       "2                     1.0  "
      ]
     },
     "execution_count": 9,
     "metadata": {},
     "output_type": "execute_result"
    }
   ],
   "source": [
    "df['(Y_predicted - Y )squared'] = box3 # this is the Euclidian distance \n",
    "df['y_minuse_y_meanSquared'] = find_y_minuse_yMean_Squared(df['Y'])\n",
    "df.head(3)"
   ]
  },
  {
   "cell_type": "code",
   "execution_count": null,
   "id": "94df8451",
   "metadata": {},
   "outputs": [],
   "source": []
  },
  {
   "cell_type": "markdown",
   "id": "638b9fda",
   "metadata": {},
   "source": [
    "# find_standard_error"
   ]
  },
  {
   "cell_type": "code",
   "execution_count": 10,
   "id": "79d2fe2c",
   "metadata": {},
   "outputs": [
    {
     "name": "stdout",
     "output_type": "stream",
     "text": [
      "0.8944271909999159\n"
     ]
    }
   ],
   "source": [
    "def find_standard_error():\n",
    "    #SE = square root of sumation( y_hot - y ) ** 2 / n-2\n",
    "    se = np.sqrt(sum(df['(Y_predicted - Y )squared']) / (5 - 2))\n",
    "    return se\n",
    "\n",
    "print(find_standard_error())"
   ]
  },
  {
   "cell_type": "code",
   "execution_count": null,
   "id": "1f8ed4ab",
   "metadata": {},
   "outputs": [],
   "source": []
  },
  {
   "cell_type": "markdown",
   "id": "a4744a4a",
   "metadata": {},
   "source": [
    "# find_standard_deviation\n",
    "### =======> tells us how close the values in the dataset are to the mean\n",
    "### ==> the hiegher the sd the more data spread from the mean and visversa"
   ]
  },
  {
   "cell_type": "code",
   "execution_count": 11,
   "id": "970e27b8",
   "metadata": {},
   "outputs": [
    {
     "name": "stdout",
     "output_type": "stream",
     "text": [
      "1.0954451150103321\n"
     ]
    }
   ],
   "source": [
    "def find_standard_deviation():\n",
    "    #SD = square root of sumation( y - y_mean) ** 2 / n\n",
    "    sd = np.sqrt(sum(df['y_minuse_y_meanSquared']) / 5 )\n",
    "    return sd\n",
    "\n",
    "print(find_standard_deviation())\n"
   ]
  },
  {
   "cell_type": "markdown",
   "id": "f9f0ad84",
   "metadata": {},
   "source": [
    "# Add all (Y-Y_predicted-square) to get the sumation  means Euclidian-distance"
   ]
  },
  {
   "cell_type": "code",
   "execution_count": 12,
   "id": "13a3f8be",
   "metadata": {},
   "outputs": [
    {
     "name": "stdout",
     "output_type": "stream",
     "text": [
      "-5.551115123125783e-17\n"
     ]
    }
   ],
   "source": [
    "total = 0\n",
    "for cell in df['(Y-Y_predicted)']:\n",
    "    total += cell\n",
    "print(total)"
   ]
  },
  {
   "cell_type": "code",
   "execution_count": null,
   "id": "a78c8ff2",
   "metadata": {},
   "outputs": [],
   "source": []
  },
  {
   "cell_type": "markdown",
   "id": "71bc3d8d",
   "metadata": {},
   "source": [
    "# Finding Slope and Intercept"
   ]
  },
  {
   "cell_type": "code",
   "execution_count": 13,
   "id": "85e57da3",
   "metadata": {},
   "outputs": [
    {
     "name": "stdout",
     "output_type": "stream",
     "text": [
      "slope : >>> 0.6 Intercepte : >>> 2.2\n"
     ]
    }
   ],
   "source": [
    "n = len(df['X'])\n",
    "\n",
    "x_times_y = [ (df['X'].iloc[ix] * df['Y'].iloc[ix]) for ix in range(len(df['X'])) ]\n",
    "x_square = [(cell ** 2) for cell in df['X']]\n",
    "\n",
    "Slope = ( (n*(sum(x_times_y))) - (sum(df['X']) * sum(df['Y'])) ) / ( (n * sum(x_square)) - (sum(df['X']) ** 2) )\n",
    "Slope\n",
    "\n",
    "# m = (687 - 638) / (627 - 576)\n",
    "\n",
    "intercept = ( ((sum(df['Y']) * sum(x_square))) - (sum(df['X']) * sum(x_times_y)) ) / ( (n * sum(x_square)) - (sum(df['X']) ** 2) )\n",
    "\n",
    "print(f'slope : >>> {Slope}', f'Intercepte : >>> {intercept}')"
   ]
  },
  {
   "cell_type": "markdown",
   "id": "e90c960f",
   "metadata": {},
   "source": [
    "# Or you can create a create a data fram for calculating a slope and intercept\n",
    "#### Now we can find easly slope and intercept by appling the long formula as the above"
   ]
  },
  {
   "cell_type": "code",
   "execution_count": 14,
   "id": "5536802c",
   "metadata": {},
   "outputs": [
    {
     "data": {
      "text/html": [
       "<div>\n",
       "<style scoped>\n",
       "    .dataframe tbody tr th:only-of-type {\n",
       "        vertical-align: middle;\n",
       "    }\n",
       "\n",
       "    .dataframe tbody tr th {\n",
       "        vertical-align: top;\n",
       "    }\n",
       "\n",
       "    .dataframe thead th {\n",
       "        text-align: right;\n",
       "    }\n",
       "</style>\n",
       "<table border=\"1\" class=\"dataframe\">\n",
       "  <thead>\n",
       "    <tr style=\"text-align: right;\">\n",
       "      <th></th>\n",
       "      <th>X</th>\n",
       "      <th>Y</th>\n",
       "      <th>Y_predicted</th>\n",
       "      <th>(Y-Y_predicted)</th>\n",
       "      <th>(Y_predicted - Y )squared</th>\n",
       "      <th>y_minuse_y_meanSquared</th>\n",
       "      <th>(X**2)</th>\n",
       "      <th>Y**2</th>\n",
       "      <th>X*Y</th>\n",
       "    </tr>\n",
       "  </thead>\n",
       "  <tbody>\n",
       "    <tr>\n",
       "      <th>0</th>\n",
       "      <td>1</td>\n",
       "      <td>2</td>\n",
       "      <td>2.8</td>\n",
       "      <td>-0.8</td>\n",
       "      <td>0.64</td>\n",
       "      <td>4.0</td>\n",
       "      <td>1</td>\n",
       "      <td>4</td>\n",
       "      <td>2</td>\n",
       "    </tr>\n",
       "    <tr>\n",
       "      <th>1</th>\n",
       "      <td>2</td>\n",
       "      <td>4</td>\n",
       "      <td>3.4</td>\n",
       "      <td>0.6</td>\n",
       "      <td>0.36</td>\n",
       "      <td>0.0</td>\n",
       "      <td>4</td>\n",
       "      <td>16</td>\n",
       "      <td>8</td>\n",
       "    </tr>\n",
       "    <tr>\n",
       "      <th>2</th>\n",
       "      <td>3</td>\n",
       "      <td>5</td>\n",
       "      <td>4.0</td>\n",
       "      <td>1.0</td>\n",
       "      <td>1.00</td>\n",
       "      <td>1.0</td>\n",
       "      <td>9</td>\n",
       "      <td>25</td>\n",
       "      <td>15</td>\n",
       "    </tr>\n",
       "    <tr>\n",
       "      <th>3</th>\n",
       "      <td>4</td>\n",
       "      <td>4</td>\n",
       "      <td>4.6</td>\n",
       "      <td>-0.6</td>\n",
       "      <td>0.36</td>\n",
       "      <td>0.0</td>\n",
       "      <td>16</td>\n",
       "      <td>16</td>\n",
       "      <td>16</td>\n",
       "    </tr>\n",
       "    <tr>\n",
       "      <th>4</th>\n",
       "      <td>5</td>\n",
       "      <td>5</td>\n",
       "      <td>5.2</td>\n",
       "      <td>-0.2</td>\n",
       "      <td>0.04</td>\n",
       "      <td>1.0</td>\n",
       "      <td>25</td>\n",
       "      <td>25</td>\n",
       "      <td>25</td>\n",
       "    </tr>\n",
       "  </tbody>\n",
       "</table>\n",
       "</div>"
      ],
      "text/plain": [
       "   X  Y  Y_predicted  (Y-Y_predicted)  (Y_predicted - Y )squared  \\\n",
       "0  1  2          2.8             -0.8                       0.64   \n",
       "1  2  4          3.4              0.6                       0.36   \n",
       "2  3  5          4.0              1.0                       1.00   \n",
       "3  4  4          4.6             -0.6                       0.36   \n",
       "4  5  5          5.2             -0.2                       0.04   \n",
       "\n",
       "   y_minuse_y_meanSquared  (X**2)  Y**2  X*Y  \n",
       "0                     4.0       1     4    2  \n",
       "1                     0.0       4    16    8  \n",
       "2                     1.0       9    25   15  \n",
       "3                     0.0      16    16   16  \n",
       "4                     1.0      25    25   25  "
      ]
     },
     "execution_count": 14,
     "metadata": {},
     "output_type": "execute_result"
    }
   ],
   "source": [
    "df['(X**2)'] = [(cell ** 2) for cell in df['X']]\n",
    "df['Y**2'] = [(cell ** 2) for cell in df['Y']]\n",
    "df['X*Y'] = [ (df['X'].iloc[ix] * df['Y'].iloc[ix]) for ix in range(len(df['X'])) ]\n",
    "df"
   ]
  },
  {
   "cell_type": "code",
   "execution_count": null,
   "id": "c66a0b01",
   "metadata": {},
   "outputs": [],
   "source": []
  },
  {
   "cell_type": "code",
   "execution_count": null,
   "id": "c9c0a799",
   "metadata": {},
   "outputs": [],
   "source": []
  },
  {
   "cell_type": "code",
   "execution_count": null,
   "id": "2af922dc",
   "metadata": {},
   "outputs": [],
   "source": []
  },
  {
   "cell_type": "code",
   "execution_count": 15,
   "id": "4cdc8f88",
   "metadata": {},
   "outputs": [
    {
     "data": {
      "image/png": "[encoded data removed]",
      "text/plain": [
       "<Figure size 432x288 with 1 Axes>"
      ]
     },
     "metadata": {
      "needs_background": "light"
     },
     "output_type": "display_data"
    }
   ],
   "source": [
    "m1 = plt.scatter(x=df['X'], y=df['Y'])\n",
    "m2 = sns.scatterplot(x=df['X'], y=df['Y_predicted'])"
   ]
  },
  {
   "cell_type": "code",
   "execution_count": null,
   "id": "e73aacfd",
   "metadata": {},
   "outputs": [],
   "source": []
  },
  {
   "cell_type": "code",
   "execution_count": 16,
   "id": "a557ee39",
   "metadata": {},
   "outputs": [
    {
     "data": {
      "text/plain": [
       "'The square root of the sum of difference b/n a new point Y_predicted and an existed point Y'"
      ]
     },
     "execution_count": 16,
     "metadata": {},
     "output_type": "execute_result"
    }
   ],
   "source": [
    "'The square root of the sum of difference b/n a new point Y_predicted and an existed point Y'"
   ]
  },
  {
   "cell_type": "markdown",
   "id": "5b5e1825",
   "metadata": {},
   "source": [
    "# More line with minimum b value ===========================\n",
    "##### you can keep drowing a line with d/t slope and intercept then use the above method then find the least sum the squred value !!!!!"
   ]
  },
  {
   "cell_type": "code",
   "execution_count": null,
   "id": "fcd7c054",
   "metadata": {},
   "outputs": [],
   "source": []
  },
  {
   "cell_type": "code",
   "execution_count": 17,
   "id": "71f248c4",
   "metadata": {},
   "outputs": [
    {
     "name": "stdout",
     "output_type": "stream",
     "text": [
      "[2.3, 2.9, 3.5, 4.1, 4.7] [-0.3, 1.1, 1.5, -0.1, 0.3] [0.09, 1.21, 2.25, 0.01, 0.09]\n"
     ]
    },
    {
     "data": {
      "text/html": [
       "<div>\n",
       "<style scoped>\n",
       "    .dataframe tbody tr th:only-of-type {\n",
       "        vertical-align: middle;\n",
       "    }\n",
       "\n",
       "    .dataframe tbody tr th {\n",
       "        vertical-align: top;\n",
       "    }\n",
       "\n",
       "    .dataframe thead th {\n",
       "        text-align: right;\n",
       "    }\n",
       "</style>\n",
       "<table border=\"1\" class=\"dataframe\">\n",
       "  <thead>\n",
       "    <tr style=\"text-align: right;\">\n",
       "      <th></th>\n",
       "      <th>X</th>\n",
       "      <th>Y</th>\n",
       "      <th>Y_predicted</th>\n",
       "      <th>(Y-Y_predicted)</th>\n",
       "      <th>(Y_predicted - Y )squared</th>\n",
       "      <th>y_minuse_y_meanSquared</th>\n",
       "      <th>(X**2)</th>\n",
       "      <th>Y**2</th>\n",
       "      <th>X*Y</th>\n",
       "    </tr>\n",
       "  </thead>\n",
       "  <tbody>\n",
       "    <tr>\n",
       "      <th>0</th>\n",
       "      <td>1</td>\n",
       "      <td>2</td>\n",
       "      <td>2.8</td>\n",
       "      <td>-0.8</td>\n",
       "      <td>0.64</td>\n",
       "      <td>4.0</td>\n",
       "      <td>1</td>\n",
       "      <td>4</td>\n",
       "      <td>2</td>\n",
       "    </tr>\n",
       "    <tr>\n",
       "      <th>1</th>\n",
       "      <td>2</td>\n",
       "      <td>4</td>\n",
       "      <td>3.4</td>\n",
       "      <td>0.6</td>\n",
       "      <td>0.36</td>\n",
       "      <td>0.0</td>\n",
       "      <td>4</td>\n",
       "      <td>16</td>\n",
       "      <td>8</td>\n",
       "    </tr>\n",
       "    <tr>\n",
       "      <th>2</th>\n",
       "      <td>3</td>\n",
       "      <td>5</td>\n",
       "      <td>4.0</td>\n",
       "      <td>1.0</td>\n",
       "      <td>1.00</td>\n",
       "      <td>1.0</td>\n",
       "      <td>9</td>\n",
       "      <td>25</td>\n",
       "      <td>15</td>\n",
       "    </tr>\n",
       "    <tr>\n",
       "      <th>3</th>\n",
       "      <td>4</td>\n",
       "      <td>4</td>\n",
       "      <td>4.6</td>\n",
       "      <td>-0.6</td>\n",
       "      <td>0.36</td>\n",
       "      <td>0.0</td>\n",
       "      <td>16</td>\n",
       "      <td>16</td>\n",
       "      <td>16</td>\n",
       "    </tr>\n",
       "    <tr>\n",
       "      <th>4</th>\n",
       "      <td>5</td>\n",
       "      <td>5</td>\n",
       "      <td>5.2</td>\n",
       "      <td>-0.2</td>\n",
       "      <td>0.04</td>\n",
       "      <td>1.0</td>\n",
       "      <td>25</td>\n",
       "      <td>25</td>\n",
       "      <td>25</td>\n",
       "    </tr>\n",
       "  </tbody>\n",
       "</table>\n",
       "</div>"
      ],
      "text/plain": [
       "   X  Y  Y_predicted  (Y-Y_predicted)  (Y_predicted - Y )squared  \\\n",
       "0  1  2          2.8             -0.8                       0.64   \n",
       "1  2  4          3.4              0.6                       0.36   \n",
       "2  3  5          4.0              1.0                       1.00   \n",
       "3  4  4          4.6             -0.6                       0.36   \n",
       "4  5  5          5.2             -0.2                       0.04   \n",
       "\n",
       "   y_minuse_y_meanSquared  (X**2)  Y**2  X*Y  \n",
       "0                     4.0       1     4    2  \n",
       "1                     0.0       4    16    8  \n",
       "2                     1.0       9    25   15  \n",
       "3                     0.0      16    16   16  \n",
       "4                     1.0      25    25   25  "
      ]
     },
     "execution_count": 17,
     "metadata": {},
     "output_type": "execute_result"
    }
   ],
   "source": [
    "def find_Y_predicted2(df):\n",
    "    predi_box2 = []\n",
    "    for cell in df['X']:\n",
    "        y = (0.6 * cell) + 1.7\n",
    "        predi_box2.append(round(y, 2))\n",
    "\n",
    "    return predi_box2\n",
    "\n",
    "\n",
    "def y_minuse_Y_predicted2(predi_box2):\n",
    "    box8 = []\n",
    "    for i in range(len(predi_box2)):\n",
    "        y = df['Y'].iloc[i] - predi_box2[i]\n",
    "        box8.append(round(y, 2))\n",
    "    return box8\n",
    "          \n",
    "    \n",
    "def y_minuse_Y_predicted_square2(Y_minuse_Ypredicted2):\n",
    "    return [round((cell ** 2), 2) for cell in Y_minuse_Ypredicted2]\n",
    "\n",
    "\n",
    "y_predicted2 = find_Y_predicted2(df)\n",
    "box5 = y_minuse_Y_predicted2(y_predicted2)\n",
    "box6 = y_minuse_Y_predicted_square2(box5)\n",
    "\n",
    "print(y_predicted2, box5, box6)\n",
    "\n",
    "#df.drop(columns=['[Y_predicted222]', '[Y-Y_predicted222]', '[Y-Y_predicted222_square222]' ], inplace=True)\n",
    "df"
   ]
  },
  {
   "cell_type": "code",
   "execution_count": null,
   "id": "68aceef9",
   "metadata": {},
   "outputs": [],
   "source": []
  },
  {
   "cell_type": "code",
   "execution_count": 18,
   "id": "2ab58927",
   "metadata": {},
   "outputs": [
    {
     "data": {
      "text/html": [
       "<div>\n",
       "<style scoped>\n",
       "    .dataframe tbody tr th:only-of-type {\n",
       "        vertical-align: middle;\n",
       "    }\n",
       "\n",
       "    .dataframe tbody tr th {\n",
       "        vertical-align: top;\n",
       "    }\n",
       "\n",
       "    .dataframe thead th {\n",
       "        text-align: right;\n",
       "    }\n",
       "</style>\n",
       "<table border=\"1\" class=\"dataframe\">\n",
       "  <thead>\n",
       "    <tr style=\"text-align: right;\">\n",
       "      <th></th>\n",
       "      <th>X</th>\n",
       "      <th>Y</th>\n",
       "      <th>Y_predicted</th>\n",
       "      <th>(Y-Y_predicted)</th>\n",
       "      <th>(Y_predicted - Y )squared</th>\n",
       "      <th>y_minuse_y_meanSquared</th>\n",
       "      <th>(X**2)</th>\n",
       "      <th>Y**2</th>\n",
       "      <th>X*Y</th>\n",
       "      <th>[Y_predicted2]</th>\n",
       "      <th>[Y-Y_predicted2]</th>\n",
       "      <th>[Y-Y_predicted2_square2]</th>\n",
       "    </tr>\n",
       "  </thead>\n",
       "  <tbody>\n",
       "    <tr>\n",
       "      <th>0</th>\n",
       "      <td>1</td>\n",
       "      <td>2</td>\n",
       "      <td>2.8</td>\n",
       "      <td>-0.8</td>\n",
       "      <td>0.64</td>\n",
       "      <td>4.0</td>\n",
       "      <td>1</td>\n",
       "      <td>4</td>\n",
       "      <td>2</td>\n",
       "      <td>2.3</td>\n",
       "      <td>-0.3</td>\n",
       "      <td>0.09</td>\n",
       "    </tr>\n",
       "    <tr>\n",
       "      <th>1</th>\n",
       "      <td>2</td>\n",
       "      <td>4</td>\n",
       "      <td>3.4</td>\n",
       "      <td>0.6</td>\n",
       "      <td>0.36</td>\n",
       "      <td>0.0</td>\n",
       "      <td>4</td>\n",
       "      <td>16</td>\n",
       "      <td>8</td>\n",
       "      <td>2.9</td>\n",
       "      <td>1.1</td>\n",
       "      <td>1.21</td>\n",
       "    </tr>\n",
       "    <tr>\n",
       "      <th>2</th>\n",
       "      <td>3</td>\n",
       "      <td>5</td>\n",
       "      <td>4.0</td>\n",
       "      <td>1.0</td>\n",
       "      <td>1.00</td>\n",
       "      <td>1.0</td>\n",
       "      <td>9</td>\n",
       "      <td>25</td>\n",
       "      <td>15</td>\n",
       "      <td>3.5</td>\n",
       "      <td>1.5</td>\n",
       "      <td>2.25</td>\n",
       "    </tr>\n",
       "  </tbody>\n",
       "</table>\n",
       "</div>"
      ],
      "text/plain": [
       "   X  Y  Y_predicted  (Y-Y_predicted)  (Y_predicted - Y )squared  \\\n",
       "0  1  2          2.8             -0.8                       0.64   \n",
       "1  2  4          3.4              0.6                       0.36   \n",
       "2  3  5          4.0              1.0                       1.00   \n",
       "\n",
       "   y_minuse_y_meanSquared  (X**2)  Y**2  X*Y  [Y_predicted2]  \\\n",
       "0                     4.0       1     4    2             2.3   \n",
       "1                     0.0       4    16    8             2.9   \n",
       "2                     1.0       9    25   15             3.5   \n",
       "\n",
       "   [Y-Y_predicted2]  [Y-Y_predicted2_square2]  \n",
       "0              -0.3                      0.09  \n",
       "1               1.1                      1.21  \n",
       "2               1.5                      2.25  "
      ]
     },
     "execution_count": 18,
     "metadata": {},
     "output_type": "execute_result"
    }
   ],
   "source": [
    "df['[Y_predicted2]'] = y_predicted2\n",
    "df['[Y-Y_predicted2]'] = box5\n",
    "df['[Y-Y_predicted2_square2]'] = box6 # this is the Euclidian distance\n",
    "df.head(3)"
   ]
  },
  {
   "cell_type": "code",
   "execution_count": null,
   "id": "23dc0deb",
   "metadata": {},
   "outputs": [],
   "source": []
  },
  {
   "cell_type": "markdown",
   "id": "1c788a87",
   "metadata": {},
   "source": [
    "# Add all (Y-Y_predicted-square) to get the sumation  means Euclidian-distance"
   ]
  },
  {
   "cell_type": "code",
   "execution_count": 19,
   "id": "b800a8d4",
   "metadata": {},
   "outputs": [
    {
     "ename": "KeyError",
     "evalue": "'[Y-Y_predicted222_square2]'",
     "output_type": "error",
     "traceback": [
      "\u001b[0;31m---------------------------------------------------------------------------\u001b[0m",
      "\u001b[0;31mKeyError\u001b[0m                                  Traceback (most recent call last)",
      "\u001b[0;32m~/opt/anaconda3/lib/python3.8/site-packages/pandas/core/indexes/base.py\u001b[0m in \u001b[0;36mget_loc\u001b[0;34m(self, key, method, tolerance)\u001b[0m\n\u001b[1;32m   3360\u001b[0m             \u001b[0;32mtry\u001b[0m\u001b[0;34m:\u001b[0m\u001b[0;34m\u001b[0m\u001b[0;34m\u001b[0m\u001b[0m\n\u001b[0;32m-> 3361\u001b[0;31m                 \u001b[0;32mreturn\u001b[0m \u001b[0mself\u001b[0m\u001b[0;34m.\u001b[0m\u001b[0m_engine\u001b[0m\u001b[0;34m.\u001b[0m\u001b[0mget_loc\u001b[0m\u001b[0;34m(\u001b[0m\u001b[0mcasted_key\u001b[0m\u001b[0;34m)\u001b[0m\u001b[0;34m\u001b[0m\u001b[0;34m\u001b[0m\u001b[0m\n\u001b[0m\u001b[1;32m   3362\u001b[0m             \u001b[0;32mexcept\u001b[0m \u001b[0mKeyError\u001b[0m \u001b[0;32mas\u001b[0m \u001b[0merr\u001b[0m\u001b[0;34m:\u001b[0m\u001b[0;34m\u001b[0m\u001b[0;34m\u001b[0m\u001b[0m\n",
      "\u001b[0;32m~/opt/anaconda3/lib/python3.8/site-packages/pandas/_libs/index.pyx\u001b[0m in \u001b[0;36mpandas._libs.index.IndexEngine.get_loc\u001b[0;34m()\u001b[0m\n",
      "\u001b[0;32m~/opt/anaconda3/lib/python3.8/site-packages/pandas/_libs/index.pyx\u001b[0m in \u001b[0;36mpandas._libs.index.IndexEngine.get_loc\u001b[0;34m()\u001b[0m\n",
      "\u001b[0;32mpandas/_libs/hashtable_class_helper.pxi\u001b[0m in \u001b[0;36mpandas._libs.hashtable.PyObjectHashTable.get_item\u001b[0;34m()\u001b[0m\n",
      "\u001b[0;32mpandas/_libs/hashtable_class_helper.pxi\u001b[0m in \u001b[0;36mpandas._libs.hashtable.PyObjectHashTable.get_item\u001b[0;34m()\u001b[0m\n",
      "\u001b[0;31mKeyError\u001b[0m: '[Y-Y_predicted222_square2]'",
      "\nThe above exception was the direct cause of the following exception:\n",
      "\u001b[0;31mKeyError\u001b[0m                                  Traceback (most recent call last)",
      "\u001b[0;32m/var/folders/hb/vbxxmjpx5c52f0b_pm6z0p0h0000gn/T/ipykernel_36346/3115337692.py\u001b[0m in \u001b[0;36m<module>\u001b[0;34m\u001b[0m\n\u001b[1;32m      1\u001b[0m \u001b[0mtotal2\u001b[0m \u001b[0;34m=\u001b[0m \u001b[0;36m0\u001b[0m\u001b[0;34m\u001b[0m\u001b[0;34m\u001b[0m\u001b[0m\n\u001b[0;32m----> 2\u001b[0;31m \u001b[0;32mfor\u001b[0m \u001b[0mcell\u001b[0m \u001b[0;32min\u001b[0m \u001b[0mdf\u001b[0m\u001b[0;34m[\u001b[0m\u001b[0;34m'[Y-Y_predicted222_square2]'\u001b[0m\u001b[0;34m]\u001b[0m\u001b[0;34m:\u001b[0m\u001b[0;34m\u001b[0m\u001b[0;34m\u001b[0m\u001b[0m\n\u001b[0m\u001b[1;32m      3\u001b[0m     \u001b[0mtotal2\u001b[0m \u001b[0;34m+=\u001b[0m \u001b[0mcell\u001b[0m\u001b[0;34m\u001b[0m\u001b[0;34m\u001b[0m\u001b[0m\n\u001b[1;32m      4\u001b[0m \u001b[0mprint\u001b[0m\u001b[0;34m(\u001b[0m\u001b[0mtotal2\u001b[0m\u001b[0;34m)\u001b[0m\u001b[0;34m\u001b[0m\u001b[0;34m\u001b[0m\u001b[0m\n",
      "\u001b[0;32m~/opt/anaconda3/lib/python3.8/site-packages/pandas/core/frame.py\u001b[0m in \u001b[0;36m__getitem__\u001b[0;34m(self, key)\u001b[0m\n\u001b[1;32m   3453\u001b[0m             \u001b[0;32mif\u001b[0m \u001b[0mself\u001b[0m\u001b[0;34m.\u001b[0m\u001b[0mcolumns\u001b[0m\u001b[0;34m.\u001b[0m\u001b[0mnlevels\u001b[0m \u001b[0;34m>\u001b[0m \u001b[0;36m1\u001b[0m\u001b[0;34m:\u001b[0m\u001b[0;34m\u001b[0m\u001b[0;34m\u001b[0m\u001b[0m\n\u001b[1;32m   3454\u001b[0m                 \u001b[0;32mreturn\u001b[0m \u001b[0mself\u001b[0m\u001b[0;34m.\u001b[0m\u001b[0m_getitem_multilevel\u001b[0m\u001b[0;34m(\u001b[0m\u001b[0mkey\u001b[0m\u001b[0;34m)\u001b[0m\u001b[0;34m\u001b[0m\u001b[0;34m\u001b[0m\u001b[0m\n\u001b[0;32m-> 3455\u001b[0;31m             \u001b[0mindexer\u001b[0m \u001b[0;34m=\u001b[0m \u001b[0mself\u001b[0m\u001b[0;34m.\u001b[0m\u001b[0mcolumns\u001b[0m\u001b[0;34m.\u001b[0m\u001b[0mget_loc\u001b[0m\u001b[0;34m(\u001b[0m\u001b[0mkey\u001b[0m\u001b[0;34m)\u001b[0m\u001b[0;34m\u001b[0m\u001b[0;34m\u001b[0m\u001b[0m\n\u001b[0m\u001b[1;32m   3456\u001b[0m             \u001b[0;32mif\u001b[0m \u001b[0mis_integer\u001b[0m\u001b[0;34m(\u001b[0m\u001b[0mindexer\u001b[0m\u001b[0;34m)\u001b[0m\u001b[0;34m:\u001b[0m\u001b[0;34m\u001b[0m\u001b[0;34m\u001b[0m\u001b[0m\n\u001b[1;32m   3457\u001b[0m                 \u001b[0mindexer\u001b[0m \u001b[0;34m=\u001b[0m \u001b[0;34m[\u001b[0m\u001b[0mindexer\u001b[0m\u001b[0;34m]\u001b[0m\u001b[0;34m\u001b[0m\u001b[0;34m\u001b[0m\u001b[0m\n",
      "\u001b[0;32m~/opt/anaconda3/lib/python3.8/site-packages/pandas/core/indexes/base.py\u001b[0m in \u001b[0;36mget_loc\u001b[0;34m(self, key, method, tolerance)\u001b[0m\n\u001b[1;32m   3361\u001b[0m                 \u001b[0;32mreturn\u001b[0m \u001b[0mself\u001b[0m\u001b[0;34m.\u001b[0m\u001b[0m_engine\u001b[0m\u001b[0;34m.\u001b[0m\u001b[0mget_loc\u001b[0m\u001b[0;34m(\u001b[0m\u001b[0mcasted_key\u001b[0m\u001b[0;34m)\u001b[0m\u001b[0;34m\u001b[0m\u001b[0;34m\u001b[0m\u001b[0m\n\u001b[1;32m   3362\u001b[0m             \u001b[0;32mexcept\u001b[0m \u001b[0mKeyError\u001b[0m \u001b[0;32mas\u001b[0m \u001b[0merr\u001b[0m\u001b[0;34m:\u001b[0m\u001b[0;34m\u001b[0m\u001b[0;34m\u001b[0m\u001b[0m\n\u001b[0;32m-> 3363\u001b[0;31m                 \u001b[0;32mraise\u001b[0m \u001b[0mKeyError\u001b[0m\u001b[0;34m(\u001b[0m\u001b[0mkey\u001b[0m\u001b[0;34m)\u001b[0m \u001b[0;32mfrom\u001b[0m \u001b[0merr\u001b[0m\u001b[0;34m\u001b[0m\u001b[0;34m\u001b[0m\u001b[0m\n\u001b[0m\u001b[1;32m   3364\u001b[0m \u001b[0;34m\u001b[0m\u001b[0m\n\u001b[1;32m   3365\u001b[0m         \u001b[0;32mif\u001b[0m \u001b[0mis_scalar\u001b[0m\u001b[0;34m(\u001b[0m\u001b[0mkey\u001b[0m\u001b[0;34m)\u001b[0m \u001b[0;32mand\u001b[0m \u001b[0misna\u001b[0m\u001b[0;34m(\u001b[0m\u001b[0mkey\u001b[0m\u001b[0;34m)\u001b[0m \u001b[0;32mand\u001b[0m \u001b[0;32mnot\u001b[0m \u001b[0mself\u001b[0m\u001b[0;34m.\u001b[0m\u001b[0mhasnans\u001b[0m\u001b[0;34m:\u001b[0m\u001b[0;34m\u001b[0m\u001b[0;34m\u001b[0m\u001b[0m\n",
      "\u001b[0;31mKeyError\u001b[0m: '[Y-Y_predicted222_square2]'"
     ]
    }
   ],
   "source": [
    "total2 = 0\n",
    "for cell in df['[Y-Y_predicted222_square2]']:\n",
    "    total2 += cell\n",
    "print(total2)"
   ]
  },
  {
   "cell_type": "code",
   "execution_count": null,
   "id": "c829e57a",
   "metadata": {},
   "outputs": [],
   "source": [
    "data1 = plt.scatter(x=df['X'], y=df['Y'])\n",
    "slope1 = plt.scatter(x=df['X'], y=df['Y_predicted'], color='yellow')\n",
    "slope2 = sns.scatterplot(x=df['X'], y=df['[Y_predicted2]'], color='red')\n"
   ]
  },
  {
   "cell_type": "code",
   "execution_count": null,
   "id": "f3fb2f8b",
   "metadata": {},
   "outputs": [],
   "source": [
    "data1 = plt.scatter(x=df['X'], y=df['Y'])\n",
    "\n",
    "plt.plot(df['X'], df['Y_predicted'], ':b', color='green', label='y=0.6x+2.2')\n",
    "plt.plot(df['X'], df['[Y_predicted2]'], '--m', color='red', label='y=0.6x+1.7') # best fit line\n",
    "\n",
    "plt.title('Graph of y=2x+1')\n",
    "plt.legend(loc='upper left')\n",
    "plt.grid()\n",
    "plt.show()"
   ]
  },
  {
   "cell_type": "markdown",
   "id": "347b38ea",
   "metadata": {},
   "source": [
    "### Cost-func will with the help of gradient-descent will help us to find the minimam cost value (means best fit line)"
   ]
  },
  {
   "cell_type": "code",
   "execution_count": null,
   "id": "530f16a0",
   "metadata": {},
   "outputs": [],
   "source": [
    "'The smallest The square root of the sum of difference b/n a new point Y_predicted and an existed point Y IS THE BEST FIT LINE'"
   ]
  },
  {
   "cell_type": "code",
   "execution_count": null,
   "id": "fa93b771",
   "metadata": {},
   "outputs": [],
   "source": [
    "'You can find the best fit line by rotating the line means by giving d/t value to the intercept(b) y=mx+b'"
   ]
  },
  {
   "cell_type": "code",
   "execution_count": null,
   "id": "5a3776c1",
   "metadata": {},
   "outputs": [],
   "source": []
  },
  {
   "cell_type": "code",
   "execution_count": null,
   "id": "5cbca657",
   "metadata": {},
   "outputs": [],
   "source": [
    "\"\"\"\n",
    "The standard deviation measures the spread of the data about the mean value. \n",
    "It is useful in comparing sets of data which may have the same mean but a different range. \n",
    "For example, the mean of the following two is the same: 15, 15, 15, 14, 16 and 2, 7, 14, 22, 30. \n",
    "However, the second is clearly more spread out.\n",
    "\n",
    "\"\"\"\n"
   ]
  },
  {
   "cell_type": "code",
   "execution_count": null,
   "id": "98565930",
   "metadata": {},
   "outputs": [],
   "source": []
  },
  {
   "cell_type": "code",
   "execution_count": null,
   "id": "af861667",
   "metadata": {},
   "outputs": [],
   "source": []
  },
  {
   "cell_type": "code",
   "execution_count": null,
   "id": "9b734879",
   "metadata": {},
   "outputs": [],
   "source": [
    "\"\"\"\n",
    "Example\n",
    "\n",
    "Find the standard deviation of 4, 9, 11, 12, 17, 5, 8, 12, 14\n",
    "First work out the mean: 10.222\n",
    "Now, subtract the mean individually from each of the numbers given and square the result. \n",
    "This is equivalent to the (x - x bar)² step. x refers to the values given in the question.\n",
    "Now add up these results (this is the 'sigma' in the formula): 139.55\n",
    "Divide by n. n is the number of values, so in this case is 9. This gives us: 15.51\n",
    "And finally, square root this: 3.94\n",
    "\n",
    "\"\"\""
   ]
  },
  {
   "cell_type": "code",
   "execution_count": null,
   "id": "7563b3b9",
   "metadata": {},
   "outputs": [],
   "source": []
  }
 ],
 "metadata": {
  "kernelspec": {
   "display_name": "Python 3 (ipykernel)",
   "language": "python",
   "name": "python3"
  },
  "language_info": {
   "codemirror_mode": {
    "name": "ipython",
    "version": 3
   },
   "file_extension": ".py",
   "mimetype": "text/x-python",
   "name": "python",
   "nbconvert_exporter": "python",
   "pygments_lexer": "ipython3",
   "version": "3.8.8"
  }
 },
 "nbformat": 4,
 "nbformat_minor": 5
}
