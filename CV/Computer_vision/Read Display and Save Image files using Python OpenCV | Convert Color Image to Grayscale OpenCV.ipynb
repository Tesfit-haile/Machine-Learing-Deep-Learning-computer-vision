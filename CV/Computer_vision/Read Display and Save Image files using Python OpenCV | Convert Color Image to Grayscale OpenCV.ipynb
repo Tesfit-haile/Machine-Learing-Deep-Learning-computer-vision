{
 "cells": [
  {
   "cell_type": "code",
   "execution_count": 1,
   "id": "f72557b5",
   "metadata": {},
   "outputs": [],
   "source": [
    "#!pip install opencv-python"
   ]
  },
  {
   "cell_type": "code",
   "execution_count": 2,
   "id": "af5108b2",
   "metadata": {},
   "outputs": [],
   "source": [
    "import cv2\n",
    "import numpy as np"
   ]
  },
  {
   "cell_type": "markdown",
   "id": "a3b767eb",
   "metadata": {},
   "source": [
    "# read an image"
   ]
  },
  {
   "cell_type": "code",
   "execution_count": 3,
   "id": "fc59685a",
   "metadata": {},
   "outputs": [],
   "source": [
    "# show loaded image\n",
    "# image_data = cv2.imread('sample_4.jpeg')\n",
    "# print(image_data.shape)\n",
    "\n",
    "# cv2.imshow('sample_4 image', image_data)\n",
    "# cv2.waitKey(6000)\n",
    "# cv2.destroyAllWindows()"
   ]
  },
  {
   "cell_type": "markdown",
   "id": "d028d44c",
   "metadata": {},
   "source": [
    "# Zeros"
   ]
  },
  {
   "cell_type": "code",
   "execution_count": 4,
   "id": "a48ae522",
   "metadata": {},
   "outputs": [],
   "source": [
    "# blackImg_matrix = np.zeros((1024, 1024, 3))\n",
    "# cv2.imshow('blackImg_matrix', blackImg_matrix)\n",
    "# cv2.waitKey(6000)\n",
    "\n",
    "# cv2.destroyAllWindows()"
   ]
  },
  {
   "cell_type": "markdown",
   "id": "90daf089",
   "metadata": {},
   "source": [
    "# Ones"
   ]
  },
  {
   "cell_type": "code",
   "execution_count": 5,
   "id": "df72c8fc",
   "metadata": {},
   "outputs": [],
   "source": [
    "# white_img = np.ones((1024, 1024, 3))\n",
    "# cv2.imshow('white_img', white_img)\n",
    "# cv2.waitKey(6000)\n",
    "\n",
    "# cv2.destroyAllWindows()"
   ]
  },
  {
   "cell_type": "markdown",
   "id": "92e1a406",
   "metadata": {},
   "source": [
    "# Convert img to a gray format\n",
    "#### lots of openCV func works with gray image"
   ]
  },
  {
   "cell_type": "code",
   "execution_count": 6,
   "id": "510d00c2",
   "metadata": {},
   "outputs": [],
   "source": [
    "# use imread and then cv2.cvtColor(image_data, cv2.COLOR_BGR2GRAY)\n",
    "# image_data = cv2.imread('sample_4.jpeg', 0)\n",
    "# print(image_data.shape)\n",
    "# cv2.imshow('GRAY_sample_4', image_data)\n",
    "# cv2.waitKey(6000)\n",
    "# cv2.destroyAllWindows()\n"
   ]
  },
  {
   "cell_type": "code",
   "execution_count": 7,
   "id": "e4883788",
   "metadata": {},
   "outputs": [],
   "source": [
    "# cv2.imwrite('gray_sample_4.jpg', image_data)"
   ]
  },
  {
   "cell_type": "markdown",
   "id": "be868be9",
   "metadata": {},
   "source": [
    "## Create a black image"
   ]
  },
  {
   "cell_type": "code",
   "execution_count": 8,
   "id": "3f390f0d",
   "metadata": {},
   "outputs": [],
   "source": [
    "##### generate a black image\n",
    "\n",
    "# black_img = np.zeros((1024, 1024, 3))\n",
    "# cv2.imshow('black-image', black_img)\n",
    "# cv2.waitKey(5000)\n",
    "# cv2.destroyAllWindows()"
   ]
  },
  {
   "cell_type": "markdown",
   "id": "16bf250e",
   "metadata": {},
   "source": [
    "# Create a florecent line"
   ]
  },
  {
   "cell_type": "code",
   "execution_count": 9,
   "id": "3563f2ca",
   "metadata": {},
   "outputs": [],
   "source": [
    "######## create black image\n",
    "# black_img = np.zeros((512, 512, 3))\n",
    "# cv2.line(black_img, (1, 1), (250, 250), (100, 255, 0), 4)\n",
    "# cv2.imshow('blackImg', black_img)\n",
    "# cv2.waitKey(5000)\n",
    "# cv2.destroyAllWindows()\n"
   ]
  },
  {
   "cell_type": "markdown",
   "id": "c26338e4",
   "metadata": {},
   "source": [
    "#  cirle, square, and add text to the image"
   ]
  },
  {
   "cell_type": "code",
   "execution_count": 10,
   "id": "8dae7daf",
   "metadata": {},
   "outputs": [],
   "source": [
    "####### Circle\n",
    "# black_img = np.zeros((512, 512, 3))\n",
    "# cv2.circle(black_img, (200, 200), 75, (255, 0, 0), 4)\n",
    "# cv2.imshow('circle', black_img)\n",
    "# cv2.waitKey(5000)\n",
    "# cv2.destroyAllWindows()\n",
    "\n",
    "\n",
    "# ####### Rectangle\n",
    "# black_img = np.zeros((512, 512, 3))\n",
    "# cv2.rectangle(black_img, (50, 50), (250, 250), (255, 0, 0), 4)\n",
    "# cv2.imshow('Rectangle', black_img)\n",
    "# cv2.waitKey(5000)\n",
    "# cv2.destroyAllWindows()\n",
    "\n",
    "####### Write a text\n",
    "# black_img = np.zeros((512, 512, 3))\n",
    "# cv2.putText(black_img, 'This is Awesome !',(10,100),cv2.FONT_HERSHEY_SCRIPT_COMPLEX, 2,(100,17,0), 1)\n",
    "# cv2.imshow('text', black_img)\n",
    "# cv2.waitKey(5000)\n",
    "# cv2.destroyAllWindows()\n"
   ]
  },
  {
   "cell_type": "markdown",
   "id": "11535360",
   "metadata": {},
   "source": [
    "# Geometric shapes with mouth"
   ]
  },
  {
   "cell_type": "code",
   "execution_count": 11,
   "id": "ae6f463e",
   "metadata": {},
   "outputs": [],
   "source": [
    "# black_img = np.zeros((1000, 1000, 3))\n",
    "\n",
    "# def circle_creater_byMouse(event, x, y, flagval, par):\n",
    "    \n",
    "#     if event == cv2.EVENT_LBUTTONDOWN:\n",
    "#         cv2.circle(black_img, (x, y), 75, (250, 0, 200), -1)\n",
    "#     elif event == cv2.EVENT_RBUTTONDOWN\n",
    "#         cv2.rectangle(black_img, (x, y), (250, 250), (255, 0, 0), 4)\n",
    "\n",
    "        \n",
    "# cv2.namedWindow(winname = 'Image_Window')# naming the window\n",
    "# cv2.setMouseCallback('Image_Window', circle_creater_byMouse) # conn the mouse to the callback func\n",
    "\n",
    "# while True: \n",
    "#     cv2.imshow('Image_Window', black_img)\n",
    "    \n",
    "#     if cv2.waitKey(20) & 0xff == 27: # press enter to quit\n",
    "#         break\n",
    "# cv2.destroyAllWindows()\n"
   ]
  },
  {
   "cell_type": "markdown",
   "id": "a4f45513",
   "metadata": {},
   "source": [
    "# Draw a rectangle by dragging  a mouse"
   ]
  },
  {
   "cell_type": "code",
   "execution_count": 12,
   "id": "546721fb",
   "metadata": {},
   "outputs": [],
   "source": [
    "# black_img = np.zeros((1024, 1024, 3))\n",
    "\n",
    "# draw = False\n",
    "# ix, iy = -1,-1\n",
    "\n",
    "# def rectangel_byDraggingMouse(event, x, y, flagval, par):\n",
    "#     global draw, ix,iy\n",
    "#     if event == cv2.EVENT_LBUTTONDOWN:\n",
    "#         draw = True\n",
    "#         ix, iy = x,y\n",
    "        \n",
    "#     elif event == cv2.EVENT_MOUSEMOVE:\n",
    "#         if draw == True:\n",
    "#             cv2.rectangle(black_img, (ix, iy), (x, y), (220, 0, 210), -1)\n",
    "#     elif event == cv2.EVENT_LBUTTONUP:\n",
    "#         draw = False\n",
    "#         cv2.rectangle(black_img, (ix, iy), (x, y), (220, 0, 210), -1)\n",
    "\n",
    "        \n",
    "        \n",
    "# cv2.namedWindow(winname = 'Image_Window')# naming the window\n",
    "# cv2.setMouseCallback('Image_Window', rectangel_byDraggingMouse) # conn the mouse to the callback func\n",
    "\n",
    "# while True: \n",
    "#     cv2.imshow('Image_Window', black_img)\n",
    "    \n",
    "#     if cv2.waitKey(20) & 0xff == 27: # press enter to quit\n",
    "#         break\n",
    "# cv2.destroyAllWindows()"
   ]
  },
  {
   "cell_type": "markdown",
   "id": "32c7b4b9",
   "metadata": {},
   "source": [
    "# Resize image"
   ]
  },
  {
   "cell_type": "code",
   "execution_count": 13,
   "id": "eb0ddc50",
   "metadata": {},
   "outputs": [],
   "source": [
    "# data_img = cv2.imread('sample_4.jpeg')\n",
    "# cv2.imshow('sample_img', data_img)\n",
    "# cv2.waitKey(6000)\n",
    "\n",
    "# # make an img half of its origin\n",
    "# scaled_img1 = cv2.resize(data_img, None, fx=0.5, fy=0.5)\n",
    "# cv2.imshow('half_img', scaled_img1)\n",
    "# cv2.waitKey(6000)\n",
    "\n",
    "# # make an img 1.5 times of its original\n",
    "# scaled_img2 = cv2.resize(data_img, None, fx=1.5, fy=1.5, interpolotion=cv2.INTER_AREA)\n",
    "# cv2.imshow('interpolotion_img', scaled_img2)\n",
    "# cv2.waitKey(6000)\n",
    "\n",
    "# cv2.destroyAllWindows()\n"
   ]
  },
  {
   "cell_type": "markdown",
   "id": "735052d4",
   "metadata": {},
   "source": [
    "# image-pyramiding"
   ]
  },
  {
   "cell_type": "code",
   "execution_count": 14,
   "id": "b0504598",
   "metadata": {},
   "outputs": [],
   "source": [
    "# data_img = cv2.imread('sample_4.jpeg')\n",
    "\n",
    "# small_img = cv2.pyrDown(data_img)\n",
    "# big_img = cv2.pyrUp(data_img)\n",
    "\n",
    "# cv2.imshow('samll_img', small_img)\n",
    "# cv2.imshow('big_img', big_img)\n",
    "\n",
    "# cv2.waitKey(6000)\n",
    "# cv2.destroyAllWindows()\n"
   ]
  },
  {
   "cell_type": "markdown",
   "id": "c766c95c",
   "metadata": {},
   "source": [
    "# Rotate and Flip an image useing opneCV"
   ]
  },
  {
   "cell_type": "code",
   "execution_count": 15,
   "id": "cd2ebef3",
   "metadata": {},
   "outputs": [],
   "source": [
    "# data_img = cv2.imread('sample_4.jpeg')\n",
    "# height, width = data_img.shape[:2]\n",
    "# print(height, width)\n",
    "\n",
    "# rotationMatrix = cv2.getRotationMatrix2D((width/2, height/2), 45, .5)\n",
    "# imageOutPut = cv2.warpAffine(data_img, rotationMatrix, (width, height))\n",
    "\n",
    "# cv2.imshow('rotatedImg',imageOutPut)\n",
    "# cv2.waitKey(6000)\n",
    "\n",
    "# cv2.destroyAllWindows()\n"
   ]
  },
  {
   "cell_type": "markdown",
   "id": "193c07f4",
   "metadata": {},
   "source": [
    "# we can use Flip  for x or y axix"
   ]
  },
  {
   "cell_type": "code",
   "execution_count": 16,
   "id": "8905934c",
   "metadata": {},
   "outputs": [],
   "source": [
    "# data_img = cv2.imread('sample_4.jpeg')\n",
    "# flipedImg = cv2.flip(data_img, 1)\n",
    "\n",
    "# cv2.imshow('fliped_img', flipedImg)\n",
    "# cv2.waitKey(6000)\n",
    "# cv2.destroyAllWindows()\n"
   ]
  },
  {
   "cell_type": "markdown",
   "id": "1e16d6ca",
   "metadata": {},
   "source": [
    "# Translation not clear..."
   ]
  },
  {
   "cell_type": "code",
   "execution_count": null,
   "id": "0e5c13f9",
   "metadata": {},
   "outputs": [],
   "source": []
  },
  {
   "cell_type": "markdown",
   "id": "b25dc078",
   "metadata": {},
   "source": [
    "# Adjust Britnes and darnes to the image"
   ]
  },
  {
   "cell_type": "code",
   "execution_count": 17,
   "id": "005a7705",
   "metadata": {},
   "outputs": [],
   "source": [
    "# to adjust an image's britnes & darknes we need to multiply it with \n",
    "# the same dim of matrix. so lets gerate the metrix\n",
    "\n",
    "# Generate a metrix \n",
    "# data_img = cv2.imread('sample_4.jpeg')\n",
    "# generate_ones_metrix = np.ones(data_img.shape, dtype='uint8') \n",
    "# generate_ones_metrix =  generate_ones_metrix * 80 # means[0 - 255]the intensity of the matrix\n",
    "# # print(generate_ones_metrix)\n",
    "\n",
    "# brittened_img = cv2.add(data_img, generate_ones_metrix)\n",
    "# cv2.imshow('brite_img', brittened_img)\n",
    "\n",
    "# brittened_img = cv2.subtract(data_img, generate_ones_metrix)\n",
    "# cv2.imshow('dark_img', brittened_img)\n",
    "\n",
    "# cv2.waitKey(6000)\n",
    "# cv2.destroyAllWindows()"
   ]
  },
  {
   "cell_type": "code",
   "execution_count": null,
   "id": "b1139f48",
   "metadata": {},
   "outputs": [],
   "source": []
  },
  {
   "cell_type": "markdown",
   "id": "469ba79c",
   "metadata": {},
   "source": [
    "# Crop image\n",
    "##### Ask Royal how the coordinats work ......"
   ]
  },
  {
   "cell_type": "code",
   "execution_count": 18,
   "id": "65890086",
   "metadata": {},
   "outputs": [],
   "source": [
    "# data_img = cv2.imread('sample_4.jpeg')\n",
    "# height, width = data_img.shape[:2]\n",
    "# print(height, width)"
   ]
  },
  {
   "cell_type": "code",
   "execution_count": 19,
   "id": "a45ec07c",
   "metadata": {},
   "outputs": [],
   "source": [
    "# Extract the pixle coordinates (starting from top left)\n",
    "# start_row, start_col = int(height * .20), int(width * .20)\n",
    "\n",
    "# # Extract the pixle coordinates (ending to bottom right)\n",
    "# end_row, end_col   = int(height * .80), int(width * .80)\n",
    "\n",
    "# croped_image = data_img[start_row : end_row, start_col : end_col]\n",
    "\n",
    "# cv2.imshow('croped_img', croped_image)\n",
    "# cv2.waitKey(6000)\n",
    "# cv2.destroyAllWindows()\n"
   ]
  },
  {
   "cell_type": "markdown",
   "id": "d523ea4b",
   "metadata": {},
   "source": [
    "# Bitwise operation on shapes\n",
    "\n",
    "#### Clear"
   ]
  },
  {
   "cell_type": "code",
   "execution_count": 20,
   "id": "a195b815",
   "metadata": {},
   "outputs": [],
   "source": [
    "# square = np.zeros((400, 400, 1))\n",
    "# cv2.rectangle(square, (75, 75), (300, 300), 255, -2) # margine and padding\n",
    "# cv2.imshow('squareImg', square)\n",
    "# cv2.waitKey(6000)\n",
    "\n",
    "# circle = np.zeros((400, 400, 1))\n",
    "# cv2.circle(circle, (300, 300), 75, (255,0,0), -1) # margine and padding\n",
    "# cv2.imshow('circleImg', circle)\n",
    "# cv2.waitKey(6000)\n",
    "\n",
    "# cv2.destroyAllWindows()"
   ]
  },
  {
   "cell_type": "code",
   "execution_count": 21,
   "id": "02b7153a",
   "metadata": {},
   "outputs": [],
   "source": [
    "# And_operation = cv2.bitwise_and(square, circle)\n",
    "# cv2.imshow('And-oper', And_operation)\n",
    "# cv2.waitKey(0)\n",
    "\n",
    "# or_operation = cv2.bitwise_or(square, circle)\n",
    "# cv2.imshow('or_operation', or_operation)\n",
    "# cv2.waitKey(0)\n",
    "\n",
    "# xor_operation = cv2.bitwise_xor(square, circle)\n",
    "# cv2.imshow('xor_operation', xor_operation)\n",
    "# cv2.waitKey(0)\n",
    "\n",
    "# not_operating = cv2.bitwise_not(square)\n",
    "# cv2.imshow('not_operaImg', not_operating)\n",
    "# cv2.waitKey(0)\n",
    "\n",
    "# cv2.destroyAllWindows()"
   ]
  },
  {
   "cell_type": "markdown",
   "id": "b5b1c305",
   "metadata": {},
   "source": [
    "# BLUR an img"
   ]
  },
  {
   "cell_type": "code",
   "execution_count": 22,
   "id": "83453389",
   "metadata": {},
   "outputs": [],
   "source": [
    "# data_img = cv2.imread('sample_4.jpeg')\n",
    "\n",
    "# #### gaussian\n",
    "# gaussian_img = cv2.GaussianBlur(data_img, (7, 7), 0) ###(7,7) is the filter size\n",
    "# cv2.imshow('gaussian_img', gaussian_img)\n",
    "# cv2.waitKey(6000)\n",
    "\n",
    "# #### blur\n",
    "# blur_img = cv2.blur(data_img, (3, 3)) ### (3,3) is the filter size\n",
    "# cv2.imshow('blur_img', blur_img)\n",
    "# cv2.waitKey(6000)\n",
    "\n",
    "# #### MedianBlur\n",
    "# medianBlur_img = cv2.medianBlur(data_img, 5)\n",
    "# cv2.imshow('MedianBlur_img', medianBlur_img)\n",
    "# cv2.waitKey(6000)\n",
    "\n",
    "\n",
    "# #### bilateral_filter\n",
    "# bilateral_filterImg = cv2.bilateralFilter(data_img, 9, 75, 75)\n",
    "# cv2.imshow('bilateral_filterImg', bilateral_filterImg)\n",
    "# cv2.waitKey(6000)\n",
    "\n",
    "# cv2.destroyAllWindows()\n"
   ]
  },
  {
   "cell_type": "markdown",
   "id": "11a1c3e9",
   "metadata": {},
   "source": [
    "# Image sharpening\n",
    "## i think shaprpennig is the revese of process of blurning"
   ]
  },
  {
   "cell_type": "code",
   "execution_count": 23,
   "id": "733ee210",
   "metadata": {},
   "outputs": [],
   "source": [
    "# data_img = cv2.imread('sample_4.jpeg')\n",
    "\n",
    "# #### gaussian\n",
    "# sharpening_filter = np.array([\n",
    "#                             [-1,-1,-1],\n",
    "#                             [-1,9,-1],\n",
    "#                             [-1,-1,-1] ])\n",
    "\n",
    "# sharpened_img = cv2.filter2D(data_img, -1, sharpening_filter)\n",
    "# cv2.imshow('sharpened_img', sharpened_img)\n",
    "# cv2.waitKey(6000)\n",
    "\n",
    "# cv2.destroyAllWindows()"
   ]
  },
  {
   "cell_type": "markdown",
   "id": "e411e728",
   "metadata": {},
   "source": [
    "# Image Threshold & Normalization"
   ]
  },
  {
   "cell_type": "code",
   "execution_count": 24,
   "id": "0a512fb6",
   "metadata": {},
   "outputs": [],
   "source": [
    "# data_img = cv2.imread('sample_4.jpeg', 0) # in Threshold img must be changed to gray wth the 0\n",
    "\n",
    "# #### everything below 127 will be black(0), rest everything above 125 will be white(255) \n",
    "# re, threshold_1 = cv2.threshold(data_img, 127, 255, cv2.THRESH_BINARY)\n",
    "# cv2.imshow('threshold_1', threshold_1)\n",
    "# cv2.waitKey(6000)\n",
    "\n",
    "\n",
    "# #### everything below 127 will be white(255), rest everything above 125 will be black(0) \n",
    "# re, threshold_2 = cv2.threshold(data_img, 127, 255, cv2.THRESH_BINARY_INV)\n",
    "# cv2.imshow('threshold_2', threshold_2)\n",
    "# cv2.waitKey(6000)\n",
    "\n",
    "\n",
    "# #### everything abouve 127 will be white(255) truncated,\n",
    "# re, threshold_3 = cv2.threshold(data_img, 127, 255, cv2.THRESH_TRUNC)\n",
    "# cv2.imshow('threshold_3', threshold_3)\n",
    "# cv2.waitKey(6000)\n",
    "\n",
    "# cv2.destroyAllWindows()"
   ]
  },
  {
   "cell_type": "markdown",
   "id": "34998aff",
   "metadata": {},
   "source": [
    "# Morophorolical transformation"
   ]
  },
  {
   "cell_type": "code",
   "execution_count": 25,
   "id": "4e277ff7",
   "metadata": {},
   "outputs": [],
   "source": [
    "# data_img = cv2.imread('sample_4.jpeg')\n",
    "\n",
    "# # generate a kernel\n",
    "# kernel = np.ones((3, 3), np.uint8)\n",
    "\n",
    "# #### Erod operation\n",
    "# erosion_op = cv2.erode(data_img, kernel)\n",
    "# cv2.imshow('erosion_op..', erosion_op)\n",
    "# cv2.waitKey(6000)\n",
    "\n",
    "\n",
    "# #### Dilate operation\n",
    "# dilate_op = cv2.dilate(data_img, kernel)\n",
    "# cv2.imshow('dilate_op..', dilate_op)\n",
    "# cv2.waitKey(6000)\n",
    "\n",
    "\n",
    "# cv2.destroyAllWindows()"
   ]
  },
  {
   "cell_type": "markdown",
   "id": "94646b72",
   "metadata": {},
   "source": [
    "# Opening and Closing operation for removing noise"
   ]
  },
  {
   "cell_type": "markdown",
   "id": "0e7a208c",
   "metadata": {},
   "source": [
    "### ቀጢን ጽሑፍ እንተሃልዩና የርጉዶ፤ ረጒድ እንተኮይኑ ከኣ የቕጥኖ"
   ]
  },
  {
   "cell_type": "code",
   "execution_count": 26,
   "id": "732b54af",
   "metadata": {},
   "outputs": [],
   "source": [
    "# #### open operation\n",
    "# data_img = cv2.imread('english_black_white_text_1.jpeg')\n",
    "# # generate a kernelEdge Detection OpenCV | Laplacian Sobel and Canny Edge Detection \n",
    "# kernel = np.ones((3, 3), np.uint8)\n",
    "\n",
    "\n",
    "# open_op = cv2.morphologyEx(data_img, cv2.MORPH_OPEN, kernel)\n",
    "# cv2.imshow('open_op..', open_op)\n",
    "# cv2.waitKey(6000)\n",
    "\n",
    "# #### close operation\n",
    "# close_op = cv2.morphologyEx(data_img, cv2.MORPH_CLOSE, kernel)\n",
    "# cv2.imshow('close_op..', close_op)\n",
    "# cv2.waitKey(6000)\n",
    "\n",
    "\n",
    "# cv2.destroyAllWindows()"
   ]
  },
  {
   "cell_type": "markdown",
   "id": "263e58b7",
   "metadata": {},
   "source": [
    "## Edge Detection OpenCV | Laplacian Sobel and Canny Edge Detection "
   ]
  },
  {
   "cell_type": "code",
   "execution_count": 27,
   "id": "3e67d9e6",
   "metadata": {},
   "outputs": [],
   "source": [
    "# data_img = cv2.imread('car.jpeg', 0)\n",
    "\n",
    "# #### Extract sobel edges\n",
    "# sobel_edg_x = cv2.Sobel(data_img, cv2.CV_64F, 0, 1, ksize=5) # horizontal sobel\n",
    "# sobel_edg_y = cv2.Sobel(data_img, cv2.CV_64F, 1, 0, ksize=5) # vertical sobel\n",
    "\n",
    "# cv2.imshow('sobel_edg_x', sobel_edg_x)\n",
    "# cv2.imshow('sobel_edg_y', sobel_edg_y)\n",
    "# cv2.waitKey(6000)\n",
    "\n",
    "\n",
    "# #### Apply OR operation\n",
    "# or_operation = cv2.bitwise_or(sobel_edg_x, sobel_edg_y)\n",
    "# cv2.imshow('or_operation', sobel_edg_y)\n",
    "# cv2.waitKey(6000)\n",
    "\n",
    "\n",
    "# #### laplacian edge detection\n",
    "# laplacianOpe = cv2.Laplacian(data_img, cv2.CV_64F)\n",
    "# cv2.imshow('laplacianOpe', laplacianOpe)\n",
    "# cv2.waitKey(6000)\n",
    "\n",
    "\n",
    "# #### Canny edge detection\n",
    "# cannyEdgeDete = cv2.Canny(data_img, 30, 180) ### value < 30 will consider as NOT edge, > 30 yes\n",
    "# cv2.imshow('cannyEdgeDete', cannyEdgeDete)\n",
    "# cv2.waitKey(6000)\n",
    "\n",
    "# cv2.destroyAllWindows()\n"
   ]
  },
  {
   "cell_type": "markdown",
   "id": "c30d4449",
   "metadata": {},
   "source": [
    "# Blob Detection"
   ]
  },
  {
   "cell_type": "code",
   "execution_count": 28,
   "id": "a4a7cc21",
   "metadata": {},
   "outputs": [],
   "source": [
    "# data_img = cv2.imread('yellow_flower.jpeg', 0)\n",
    "\n",
    "# ### initiate the object\n",
    "# detector_obj = cv2.SimpleBlobDetector_create()\n",
    "# Displaying_blobs = detector_obj.detect(data_img)\n",
    "\n",
    "# blobs_result = cv2.drawKeypoints(data_img, Displaying_blobs, np.array([]), (255,0,0), cv2.DRAW_MATCHES_FLAGS_DRAW_RICH_KEYPOINTS)\n",
    "\n",
    "# cv2.imshow('Displaying_blobs', blobs_result)\n",
    "# cv2.waitKey(6000)\n",
    "\n",
    "# cv2.destroyAllWindows()"
   ]
  },
  {
   "cell_type": "markdown",
   "id": "e4d472c6",
   "metadata": {},
   "source": [
    "# Line Detection\n",
    "## We need to care full with the size & the extension of the img"
   ]
  },
  {
   "cell_type": "code",
   "execution_count": 29,
   "id": "f77af3fc",
   "metadata": {},
   "outputs": [],
   "source": [
    "# data_img = cv2.imread('grid_img.jpeg', 0)\n",
    "# canny_edgs = cv2.Canny(data_img, 100, 170, apertureSize = 3)\n",
    "\n",
    "# # hough line detection\n",
    "# line_info = cv2.HoughLinesP(canny_edgs, 1, np.pi/180, 250, 110, 10)\n",
    "\n",
    "# for lin in line_info:\n",
    "#     for x1, y1, x2, y2 in lin:\n",
    "#         cv2.line(data_img, (x1, y1), (x2, y2), (255, 0, 0), 2)\n",
    "\n",
    "# cv2.imshow('line_info_img', data_img)\n",
    "# cv2.waitKey(6000)\n",
    "# cv2.destroyAllWindows()"
   ]
  },
  {
   "cell_type": "code",
   "execution_count": null,
   "id": "f5872e5c",
   "metadata": {},
   "outputs": [],
   "source": []
  },
  {
   "cell_type": "code",
   "execution_count": 33,
   "id": "db4c4c48",
   "metadata": {},
   "outputs": [
    {
     "name": "stdout",
     "output_type": "stream",
     "text": [
      "number you want....4\n"
     ]
    },
    {
     "data": {
      "text/plain": [
       "24"
      ]
     },
     "execution_count": 33,
     "metadata": {},
     "output_type": "execute_result"
    }
   ],
   "source": [
    "x = int(input(\"number you want....\"))\n",
    "\n",
    "def factorial_cal(x):   \n",
    "    y=1\n",
    "    \n",
    "    while x!=1:\n",
    "        y=x*y\n",
    "        x=x-1\n",
    "    return y\n",
    "\n",
    "factorial_cal(x)\n"
   ]
  },
  {
   "cell_type": "code",
   "execution_count": null,
   "id": "ebb4aaff",
   "metadata": {},
   "outputs": [],
   "source": []
  }
 ],
 "metadata": {
  "kernelspec": {
   "display_name": "Python 3 (ipykernel)",
   "language": "python",
   "name": "python3"
  },
  "language_info": {
   "codemirror_mode": {
    "name": "ipython",
    "version": 3
   },
   "file_extension": ".py",
   "mimetype": "text/x-python",
   "name": "python",
   "nbconvert_exporter": "python",
   "pygments_lexer": "ipython3",
   "version": "3.8.8"
  }
 },
 "nbformat": 4,
 "nbformat_minor": 5
}
