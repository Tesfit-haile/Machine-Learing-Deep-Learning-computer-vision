{
 "cells": [
  {
   "cell_type": "markdown",
   "id": "cb1e8b55",
   "metadata": {},
   "source": [
    "# RNN"
   ]
  },
  {
   "cell_type": "code",
   "execution_count": 1,
   "id": "6adae237",
   "metadata": {},
   "outputs": [],
   "source": [
    "import torch\n",
    "import torch.nn as nn\n",
    "import torch.nn.functional as F\n",
    "import torchvision\n",
    "import torchvision.transforms as transforms\n",
    "import matplotlib.pyplot as plt"
   ]
  },
  {
   "cell_type": "code",
   "execution_count": 2,
   "id": "4c504ef6",
   "metadata": {},
   "outputs": [],
   "source": [
    "#### parameters\n",
    "# i think RNN take one row in a time not like CNN takes 784 at once(the whole pic)\n",
    "input_size = 28 \n",
    "sequence_len = 28 \n",
    "hidden_size = 128 # you can chose any number\n",
    "num_classes = 10\n",
    "num_layers = 2\n",
    "num_epochs = 2\n",
    "batch_size = 100\n",
    "learning_rate = 0.001"
   ]
  },
  {
   "cell_type": "code",
   "execution_count": 3,
   "id": "ccd87457",
   "metadata": {},
   "outputs": [
    {
     "data": {
      "text/plain": [
       "RNN(\n",
       "  (rnn): RNN(28, 128, num_layers=2, batch_first=True)\n",
       "  (fc1): Linear(in_features=128, out_features=10, bias=True)\n",
       ")"
      ]
     },
     "execution_count": 3,
     "metadata": {},
     "output_type": "execute_result"
    }
   ],
   "source": [
    "#### Model\n",
    "class RNN(nn.Module):\n",
    "    \n",
    "    def __init__(self, input_size, hidden_size, num_layers, num_classes):\n",
    "        super(RNN, self).__init__()\n",
    "        \n",
    "        self.num_layers = num_layers\n",
    "        self.hidden_size = hidden_size\n",
    "        \n",
    "        self.rnn = nn.RNN(input_size, hidden_size, num_layers, batch_first=True)\n",
    "        self.fc1 = nn.Linear(hidden_size, num_classes)\n",
    "        \n",
    "    def forward(self, x):\n",
    "        ##### i think here below we are initiating the (num_layers and hidden_size) klte layer with 128 nodes\n",
    "        h0 = torch.zeros(self.num_layers, x.size(0), self.hidden_size) # not clear\n",
    "        #print('print from forward method >>>', len(h0[0][0]), len(h0[1][0]))\n",
    "        out, _ = self.rnn(x, h0)\n",
    "        out = out[:, -1, :]\n",
    "        out = self.fc1(out)\n",
    "        return out\n",
    "    \n",
    "RNN_model = RNN(input_size, hidden_size, num_layers, num_classes)\n",
    "RNN_model"
   ]
  },
  {
   "cell_type": "code",
   "execution_count": 4,
   "id": "bd22bd9b",
   "metadata": {},
   "outputs": [],
   "source": [
    "loss_func = nn.CrossEntropyLoss()\n",
    "optimizer = torch.optim.Adam(RNN_model.parameters(), lr=learning_rate)"
   ]
  },
  {
   "cell_type": "code",
   "execution_count": 5,
   "id": "6c7358c4",
   "metadata": {},
   "outputs": [],
   "source": [
    "training_data = torchvision.datasets.MNIST('dataMNIST/', train=True, transform=transforms.ToTensor(), download=True)\n",
    "testing_data  = torchvision.datasets.MNIST('dataMNIST/', train=False, transform=transforms.ToTensor(), download=True)\n",
    "\n",
    "train_loader = torch.utils.data.DataLoader(dataset=training_data, batch_size=batch_size, shuffle=True)\n",
    "test_loader = torch.utils.data.DataLoader(dataset=testing_data, batch_size=batch_size, shuffle=True) \n"
   ]
  },
  {
   "cell_type": "code",
   "execution_count": 6,
   "id": "4f71a196",
   "metadata": {},
   "outputs": [
    {
     "name": "stdout",
     "output_type": "stream",
     "text": [
      "torch.Size([100, 1, 28, 28]) tensor([2, 0, 2, 1, 1, 6, 4, 4, 4, 0, 1, 1, 2, 4, 1, 3, 1, 2, 6, 0, 8, 2, 2, 0,\n",
      "        9, 9, 2, 4, 1, 5, 0, 5, 0, 3, 3, 8, 8, 5, 4, 4, 4, 3, 7, 0, 3, 8, 4, 1,\n",
      "        1, 8, 4, 4, 7, 5, 1, 5, 1, 9, 9, 9, 7, 5, 1, 9, 8, 7, 9, 1, 9, 1, 7, 3,\n",
      "        7, 4, 8, 4, 2, 5, 8, 2, 4, 9, 0, 1, 8, 4, 6, 5, 2, 1, 3, 3, 3, 3, 3, 5,\n",
      "        0, 7, 9, 7])\n"
     ]
    }
   ],
   "source": [
    "#### Training loop\n",
    "\n",
    "for images, labels in train_loader:\n",
    "    print(images.shape, labels) #### we got 100 images with 100 labels\n",
    "    break"
   ]
  },
  {
   "cell_type": "markdown",
   "id": "051c7eca",
   "metadata": {},
   "source": [
    "# First Check if your loss error is reducing"
   ]
  },
  {
   "cell_type": "code",
   "execution_count": 7,
   "id": "f83fe2fe",
   "metadata": {},
   "outputs": [
    {
     "name": "stdout",
     "output_type": "stream",
     "text": [
      "tensor(2.3210, grad_fn=<NllLossBackward0>)\n",
      "tensor(2.2959, grad_fn=<NllLossBackward0>)\n",
      "tensor(2.2746, grad_fn=<NllLossBackward0>)\n",
      "tensor(2.2538, grad_fn=<NllLossBackward0>)\n",
      "tensor(2.2314, grad_fn=<NllLossBackward0>)\n",
      "tensor(2.2043, grad_fn=<NllLossBackward0>)\n",
      "tensor(2.1672, grad_fn=<NllLossBackward0>)\n",
      "tensor(2.1144, grad_fn=<NllLossBackward0>)\n",
      "tensor(2.0453, grad_fn=<NllLossBackward0>)\n",
      "tensor(1.9655, grad_fn=<NllLossBackward0>)\n",
      "tensor(1.8849, grad_fn=<NllLossBackward0>)\n",
      "tensor(1.8185, grad_fn=<NllLossBackward0>)\n"
     ]
    }
   ],
   "source": [
    "images, labels = next(iter(train_loader))\n",
    "ix = 0\n",
    "\n",
    "for i in range(12):\n",
    "    images = images.reshape(-1, 28, 28) # important\n",
    "    model_score = RNN_model(images)\n",
    "    loss = loss_func(model_score, labels)\n",
    "    optimizer.zero_grad()\n",
    "    loss.backward()\n",
    "    optimizer.step()\n",
    "    \n",
    "    ix+=0\n",
    "    \n",
    "    if ix % 100 == 0:\n",
    "            print(loss)\n"
   ]
  },
  {
   "cell_type": "markdown",
   "id": "9e927753",
   "metadata": {},
   "source": [
    "## 👉when you see our loss is reducing now we can train our model with a banch of data ########"
   ]
  },
  {
   "cell_type": "markdown",
   "id": "5ff4c191",
   "metadata": {},
   "source": [
    "# Calculating loss and Training accu"
   ]
  },
  {
   "cell_type": "code",
   "execution_count": 9,
   "id": "accc99df",
   "metadata": {},
   "outputs": [
    {
     "name": "stdout",
     "output_type": "stream",
     "text": [
      "tensor(1.2823, grad_fn=<NllLossBackward0>)\n",
      "tensor(0.9543, grad_fn=<NllLossBackward0>)\n",
      "tensor(0.5456, grad_fn=<NllLossBackward0>)\n",
      "tensor(0.4733, grad_fn=<NllLossBackward0>)\n",
      "tensor(0.4870, grad_fn=<NllLossBackward0>)\n",
      "tensor(0.3414, grad_fn=<NllLossBackward0>)\n",
      "76.02666666666667\n",
      "tensor(0.2906, grad_fn=<NllLossBackward0>)\n",
      "tensor(0.2118, grad_fn=<NllLossBackward0>)\n",
      "tensor(0.5696, grad_fn=<NllLossBackward0>)\n",
      "tensor(0.4748, grad_fn=<NllLossBackward0>)\n",
      "tensor(0.2743, grad_fn=<NllLossBackward0>)\n",
      "tensor(0.2154, grad_fn=<NllLossBackward0>)\n",
      "91.54333333333334\n"
     ]
    }
   ],
   "source": [
    "for epoch in range(num_epochs):\n",
    "    corr = 0\n",
    "    n_samples = 0\n",
    "    ix = 0\n",
    "    \n",
    "    for images, labels in train_loader:\n",
    "        #print(images.shape, labels) #### we got 100 images with 100 labels\n",
    "        \n",
    "        #torch.Size([100, 1, 28, 28])\n",
    "        images = images.reshape(-1, 28, 28) #! Important...................\n",
    "        #torch.Size([100, 128])\n",
    "\n",
    "        #forward\n",
    "        scores_pred = RNN_model(images)\n",
    "        loss = loss_func(scores_pred, labels)\n",
    "\n",
    "        #backward\n",
    "        optimizer.zero_grad()\n",
    "        loss.backward()\n",
    "\n",
    "        # gradient descent update step/adam step\n",
    "        optimizer.step()\n",
    "        \n",
    "        _, predictions = torch.max(scores_pred, 1)\n",
    "        good_pred = (predictions == labels).sum().item()\n",
    "        \n",
    "        corr += good_pred\n",
    "        n_samples += labels.size(0)\n",
    "        ix += 1\n",
    "    \n",
    "        if ix % 100 == 0:\n",
    "            print(loss)\n",
    "            \n",
    "    print(100 * corr / n_samples)"
   ]
  },
  {
   "cell_type": "markdown",
   "id": "217997d3",
   "metadata": {},
   "source": [
    "# Testing accu"
   ]
  },
  {
   "cell_type": "code",
   "execution_count": 11,
   "id": "2f1bce9d",
   "metadata": {},
   "outputs": [
    {
     "name": "stdout",
     "output_type": "stream",
     "text": [
      "94.44\n"
     ]
    }
   ],
   "source": [
    "# Trainig Test\n",
    "\n",
    "with torch.no_grad():\n",
    "    corr = 0\n",
    "    for x, y in test_loader:\n",
    "        x = x.reshape(-1, 28, 28) # Important\n",
    "        y = y\n",
    "        \n",
    "        scores_pred = RNN_model(x)\n",
    "        _, predictions = torch.max(scores_pred, 1)\n",
    "        corr += (predictions == y).sum().item()\n",
    "        \n",
    "    print(corr / len(test_loader))\n"
   ]
  },
  {
   "cell_type": "code",
   "execution_count": null,
   "id": "b4940762",
   "metadata": {},
   "outputs": [],
   "source": []
  }
 ],
 "metadata": {
  "kernelspec": {
   "display_name": "Python 3 (ipykernel)",
   "language": "python",
   "name": "python3"
  },
  "language_info": {
   "codemirror_mode": {
    "name": "ipython",
    "version": 3
   },
   "file_extension": ".py",
   "mimetype": "text/x-python",
   "name": "python",
   "nbconvert_exporter": "python",
   "pygments_lexer": "ipython3",
   "version": "3.8.8"
  }
 },
 "nbformat": 4,
 "nbformat_minor": 5
}
