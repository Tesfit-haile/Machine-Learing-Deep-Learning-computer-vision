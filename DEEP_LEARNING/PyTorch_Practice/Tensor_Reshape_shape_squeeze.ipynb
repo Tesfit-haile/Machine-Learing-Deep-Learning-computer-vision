{
 "cells": [
  {
   "cell_type": "code",
   "execution_count": 1,
   "id": "9f1be85d",
   "metadata": {},
   "outputs": [],
   "source": [
    "import torch"
   ]
  },
  {
   "cell_type": "code",
   "execution_count": 14,
   "id": "6c50ab11",
   "metadata": {},
   "outputs": [
    {
     "data": {
      "text/plain": [
       "tensor([0, 1, 2, 3, 4, 5, 6, 7, 8])"
      ]
     },
     "execution_count": 14,
     "metadata": {},
     "output_type": "execute_result"
    }
   ],
   "source": [
    "a = torch.arange(9)\n",
    "a"
   ]
  },
  {
   "cell_type": "code",
   "execution_count": 15,
   "id": "7b697713",
   "metadata": {},
   "outputs": [
    {
     "name": "stdout",
     "output_type": "stream",
     "text": [
      "0\n",
      "1\n",
      "2\n",
      "3\n",
      "4\n",
      "5\n",
      "6\n",
      "7\n",
      "8\n"
     ]
    }
   ],
   "source": [
    "for i in a:\n",
    "    print(i.item())"
   ]
  },
  {
   "cell_type": "code",
   "execution_count": 16,
   "id": "0d168be5",
   "metadata": {},
   "outputs": [
    {
     "data": {
      "text/plain": [
       "(9, 9)"
      ]
     },
     "execution_count": 16,
     "metadata": {},
     "output_type": "execute_result"
    }
   ],
   "source": [
    "a.shape[0], a.size(0)"
   ]
  },
  {
   "cell_type": "markdown",
   "id": "9ea67e89",
   "metadata": {},
   "source": [
    "# Reshape function"
   ]
  },
  {
   "cell_type": "code",
   "execution_count": 18,
   "id": "56f9a375",
   "metadata": {},
   "outputs": [
    {
     "data": {
      "text/plain": [
       "tensor([[0, 1, 2],\n",
       "        [3, 4, 5],\n",
       "        [6, 7, 8]])"
      ]
     },
     "execution_count": 18,
     "metadata": {},
     "output_type": "execute_result"
    }
   ],
   "source": [
    "a_reshaped = torch.reshape(a, (3, 3))\n",
    "a_reshaped # the size will be (3, 3)"
   ]
  },
  {
   "cell_type": "markdown",
   "id": "375f54e0",
   "metadata": {},
   "source": [
    "# Flatten Tensor"
   ]
  },
  {
   "cell_type": "code",
   "execution_count": 24,
   "id": "6e2c69d5",
   "metadata": {},
   "outputs": [
    {
     "data": {
      "text/plain": [
       "tensor([4, 6, 2, 7])"
      ]
     },
     "execution_count": 24,
     "metadata": {},
     "output_type": "execute_result"
    }
   ],
   "source": [
    "b = torch.tensor([[4, 6], [2, 7]])\n",
    "b_flattened = torch.reshape(b, (-1,))\n",
    "b_flattened"
   ]
  },
  {
   "cell_type": "markdown",
   "id": "0855b0ad",
   "metadata": {},
   "source": [
    "# Squeeze"
   ]
  },
  {
   "cell_type": "code",
   "execution_count": 38,
   "id": "e52b0497",
   "metadata": {},
   "outputs": [
    {
     "name": "stdout",
     "output_type": "stream",
     "text": [
      "tensor([[[[[0.],\n",
      "           [0.]]],\n",
      "\n",
      "\n",
      "         [[[0.],\n",
      "           [0.]]]]])\n"
     ]
    }
   ],
   "source": [
    "x = torch.zeros(1,2,1,2,1)\n",
    "print(x)"
   ]
  },
  {
   "cell_type": "code",
   "execution_count": 40,
   "id": "337a1536",
   "metadata": {},
   "outputs": [
    {
     "data": {
      "text/plain": [
       "tensor([[0., 0.],\n",
       "        [0., 0.]])"
      ]
     },
     "execution_count": 40,
     "metadata": {},
     "output_type": "execute_result"
    }
   ],
   "source": [
    "squeezed_x = torch.squeeze(x) # will drop the tensor whose inputs are 1 dimensions \n",
    "squeezed_x "
   ]
  },
  {
   "cell_type": "markdown",
   "id": "f8a97b23",
   "metadata": {},
   "source": [
    "# adding two tensor with different data types"
   ]
  },
  {
   "cell_type": "code",
   "execution_count": 48,
   "id": "e775f4b3",
   "metadata": {},
   "outputs": [
    {
     "data": {
      "text/plain": [
       "tensor([2., 4., 6.])"
      ]
     },
     "execution_count": 48,
     "metadata": {},
     "output_type": "execute_result"
    }
   ],
   "source": [
    "t1 = torch.tensor([1,2,3])\n",
    "t2 = torch.tensor([1.,2.,3.])\n",
    "t1 + t2"
   ]
  },
  {
   "cell_type": "code",
   "execution_count": 46,
   "id": "bd1ac01e",
   "metadata": {},
   "outputs": [
    {
     "data": {
      "text/plain": [
       "(torch.int64, torch.float32)"
      ]
     },
     "execution_count": 46,
     "metadata": {},
     "output_type": "execute_result"
    }
   ],
   "source": [
    "t1.dtype, t2.dtype\n"
   ]
  },
  {
   "cell_type": "code",
   "execution_count": 50,
   "id": "2c44f57b",
   "metadata": {},
   "outputs": [
    {
     "data": {
      "text/plain": [
       "numpy.ndarray"
      ]
     },
     "execution_count": 50,
     "metadata": {},
     "output_type": "execute_result"
    }
   ],
   "source": [
    "import numpy as np\n",
    "\n",
    "data = np.array([1, 2, 3])\n",
    "type(data)"
   ]
  },
  {
   "cell_type": "code",
   "execution_count": 56,
   "id": "de22bf67",
   "metadata": {},
   "outputs": [
    {
     "data": {
      "text/plain": [
       "torch.float32"
      ]
     },
     "execution_count": 56,
     "metadata": {},
     "output_type": "execute_result"
    }
   ],
   "source": [
    "res1 = torch.Tensor(data)\n",
    "res1.dtype"
   ]
  },
  {
   "cell_type": "code",
   "execution_count": 57,
   "id": "0d9b25d9",
   "metadata": {},
   "outputs": [
    {
     "data": {
      "text/plain": [
       "torch.int64"
      ]
     },
     "execution_count": 57,
     "metadata": {},
     "output_type": "execute_result"
    }
   ],
   "source": [
    "res2 = torch.tensor(data)\n",
    "res2.dtype"
   ]
  },
  {
   "cell_type": "markdown",
   "id": "01e95adc",
   "metadata": {},
   "source": [
    "# Zeros"
   ]
  },
  {
   "cell_type": "code",
   "execution_count": 58,
   "id": "294b2f09",
   "metadata": {},
   "outputs": [
    {
     "data": {
      "text/plain": [
       "tensor([[0., 0.],\n",
       "        [0., 0.]])"
      ]
     },
     "execution_count": 58,
     "metadata": {},
     "output_type": "execute_result"
    }
   ],
   "source": [
    "torch.zeros(2, 2)"
   ]
  },
  {
   "cell_type": "code",
   "execution_count": 59,
   "id": "334ea7d6",
   "metadata": {},
   "outputs": [
    {
     "data": {
      "text/plain": [
       "tensor([[1., 1.],\n",
       "        [1., 1.]])"
      ]
     },
     "execution_count": 59,
     "metadata": {},
     "output_type": "execute_result"
    }
   ],
   "source": [
    "torch.ones(2, 2)"
   ]
  },
  {
   "cell_type": "code",
   "execution_count": 60,
   "id": "27a35630",
   "metadata": {},
   "outputs": [
    {
     "data": {
      "text/plain": [
       "tensor([[0.5644, 0.9444],\n",
       "        [0.6894, 0.7165]])"
      ]
     },
     "execution_count": 60,
     "metadata": {},
     "output_type": "execute_result"
    }
   ],
   "source": [
    "torch.rand(2, 2)"
   ]
  },
  {
   "cell_type": "markdown",
   "id": "61865e0c",
   "metadata": {},
   "source": [
    "# Ones"
   ]
  },
  {
   "cell_type": "code",
   "execution_count": 113,
   "id": "15d3b76f",
   "metadata": {},
   "outputs": [
    {
     "data": {
      "text/plain": [
       "torch.Size([1, 1, 28, 28])"
      ]
     },
     "execution_count": 113,
     "metadata": {},
     "output_type": "execute_result"
    }
   ],
   "source": [
    "sample_one = torch.ones(1, 1, 28, 28)\n",
    "sample_one.shape"
   ]
  },
  {
   "cell_type": "code",
   "execution_count": null,
   "id": "c013a447",
   "metadata": {},
   "outputs": [],
   "source": [
    "# # simple Hang man\n",
    "# import random\n",
    "\n",
    "# words = ['God', 'Gduod']\n",
    "\n",
    "# random_word = [letter for letter in random.choice(words)]\n",
    "# print(random_word)\n",
    "\n",
    "# decrypted = ['-' for letter in random_word]\n",
    "# print(\" \".join(decrypted))\n",
    "\n",
    "# i = 0\n",
    "\n",
    "# not_found = True\n",
    "\n",
    "# while i < len(random_word):\n",
    "#     user_guess = input('Enter your guess letter below ...')\n",
    "#     for ix in range(len(random_word)):\n",
    "#         if random_word[ix] == user_guess:\n",
    "#             decrypted[ix] = user_guess\n",
    "#             print(\" \".join(decrypted))\n",
    "#             i += 1\n",
    "#     if user_guess not in random_word:\n",
    "#         print(f'{user_guess} not founded.......')\n",
    "\n",
    "#     if decrypted == random_word:\n",
    "#         print('Won ... . ')\n"
   ]
  },
  {
   "cell_type": "markdown",
   "id": "b3a61610",
   "metadata": {},
   "source": [
    "# To contact tensors use the stack"
   ]
  },
  {
   "cell_type": "code",
   "execution_count": 65,
   "id": "3515b7f5",
   "metadata": {},
   "outputs": [
    {
     "data": {
      "text/plain": [
       "torch.Size([3, 4, 4])"
      ]
     },
     "execution_count": 65,
     "metadata": {},
     "output_type": "execute_result"
    }
   ],
   "source": [
    "data_1 = torch.tensor([\n",
    "    [1,1,1,1],\n",
    "    [1,1,1,1],\n",
    "    [1,1,1,1],\n",
    "    [1,1,1,1]\n",
    "])\n",
    "\n",
    "data_2 = torch.tensor([\n",
    "    [2,2,2,2],\n",
    "    [2,2,2,2],\n",
    "    [2,2,2,2],\n",
    "    [2,2,2,2]\n",
    "])\n",
    "\n",
    "data_3 = torch.tensor([\n",
    "    [3,3,3,3],\n",
    "    [3,3,3,3],\n",
    "    [3,3,3,3],\n",
    "    [3,3,3,3]\n",
    "])\n",
    "\n",
    "allDatas = torch.stack((data_1, data_2, data_3))\n",
    "allDatas.shape\n",
    "# torch.Size([3, 4, 4]) ---> 3 is the batch_size, 4,4 tells us the height and width"
   ]
  },
  {
   "cell_type": "code",
   "execution_count": 66,
   "id": "1df0efd8",
   "metadata": {},
   "outputs": [
    {
     "data": {
      "text/plain": [
       "tensor([[[1, 1, 1, 1],\n",
       "         [1, 1, 1, 1],\n",
       "         [1, 1, 1, 1],\n",
       "         [1, 1, 1, 1]],\n",
       "\n",
       "        [[2, 2, 2, 2],\n",
       "         [2, 2, 2, 2],\n",
       "         [2, 2, 2, 2],\n",
       "         [2, 2, 2, 2]],\n",
       "\n",
       "        [[3, 3, 3, 3],\n",
       "         [3, 3, 3, 3],\n",
       "         [3, 3, 3, 3],\n",
       "         [3, 3, 3, 3]]])"
      ]
     },
     "execution_count": 66,
     "metadata": {},
     "output_type": "execute_result"
    }
   ],
   "source": [
    "allDatas"
   ]
  },
  {
   "cell_type": "code",
   "execution_count": 67,
   "id": "e109a2c2",
   "metadata": {},
   "outputs": [
    {
     "data": {
      "text/plain": [
       "tensor([3, 4])"
      ]
     },
     "execution_count": 67,
     "metadata": {},
     "output_type": "execute_result"
    }
   ],
   "source": [
    "v = torch.tensor([1,2])\n",
    "v + 2"
   ]
  },
  {
   "cell_type": "markdown",
   "id": "6a293b5a",
   "metadata": {},
   "source": [
    "# !!!!!  dim=1 dim=0 during sum"
   ]
  },
  {
   "cell_type": "code",
   "execution_count": 71,
   "id": "29f27b75",
   "metadata": {},
   "outputs": [],
   "source": [
    "data_4 = torch.tensor([\n",
    "    [1,1,1,1],\n",
    "    [2,2,2,2],\n",
    "    [4,4,4,4]\n",
    "])"
   ]
  },
  {
   "cell_type": "code",
   "execution_count": 72,
   "id": "9c7d0c0b",
   "metadata": {},
   "outputs": [
    {
     "data": {
      "text/plain": [
       "tensor([7, 7, 7, 7])"
      ]
     },
     "execution_count": 72,
     "metadata": {},
     "output_type": "execute_result"
    }
   ],
   "source": [
    "data_4.sum(dim=0)"
   ]
  },
  {
   "cell_type": "code",
   "execution_count": 73,
   "id": "5241abbd",
   "metadata": {
    "scrolled": true
   },
   "outputs": [
    {
     "data": {
      "text/plain": [
       "tensor([ 4,  8, 16])"
      ]
     },
     "execution_count": 73,
     "metadata": {},
     "output_type": "execute_result"
    }
   ],
   "source": [
    "data_4.sum(dim=1)"
   ]
  },
  {
   "cell_type": "markdown",
   "id": "75e1c01f",
   "metadata": {},
   "source": [
    "# Linear layer"
   ]
  },
  {
   "cell_type": "code",
   "execution_count": 106,
   "id": "7ceea60a",
   "metadata": {},
   "outputs": [],
   "source": [
    "in_featuresOne = torch.tensor([1,2,3,4])"
   ]
  },
  {
   "cell_type": "code",
   "execution_count": 107,
   "id": "1f2b5d62",
   "metadata": {},
   "outputs": [],
   "source": [
    "weight_matrix = torch.tensor([\n",
    "    [1,2,3,4],\n",
    "    [2,3,4,5],\n",
    "    [3,4,5,6]\n",
    "])"
   ]
  },
  {
   "cell_type": "code",
   "execution_count": 110,
   "id": "aee7e758",
   "metadata": {},
   "outputs": [
    {
     "data": {
      "text/plain": [
       "tensor([30, 40, 50])"
      ]
     },
     "execution_count": 110,
     "metadata": {},
     "output_type": "execute_result"
    }
   ],
   "source": [
    "weight_matrix.matmul(in_featuresOne) # we are Implementing the matrix multiplication operation "
   ]
  },
  {
   "cell_type": "markdown",
   "id": "a6fb39a9",
   "metadata": {},
   "source": [
    "# PyTorch Linear Layer"
   ]
  },
  {
   "cell_type": "code",
   "execution_count": 111,
   "id": "f4b95584",
   "metadata": {},
   "outputs": [
    {
     "data": {
      "text/plain": [
       "Linear(in_features=4, out_features=3, bias=True)"
      ]
     },
     "execution_count": 111,
     "metadata": {},
     "output_type": "execute_result"
    }
   ],
   "source": [
    "import torch.nn as nn\n",
    "fc = nn.Linear(in_features=4, out_features=3)\n",
    "fc"
   ]
  },
  {
   "cell_type": "code",
   "execution_count": 13,
   "id": "d6729a69",
   "metadata": {},
   "outputs": [
    {
     "name": "stdout",
     "output_type": "stream",
     "text": [
      "\n",
      "*\n",
      "**\n",
      "***\n",
      "****\n"
     ]
    }
   ],
   "source": [
    "for i in range(5):\n",
    "    print(\"*\" * i)"
   ]
  },
  {
   "cell_type": "code",
   "execution_count": 42,
   "id": "9a96a40d",
   "metadata": {},
   "outputs": [
    {
     "name": "stdout",
     "output_type": "stream",
     "text": [
      " _  _  _  _  _  _ "
     ]
    }
   ],
   "source": [
    "import random\n",
    "players_name = ['Messi', 'Chrstiano', 'Seim', 'Tesfit']\n",
    "\n",
    "name_to_gues = random.choice(players_name)\n",
    "\n",
    "for alp in name_to_gues:\n",
    "    print(' _ ', end='')\n",
    "    "
   ]
  },
  {
   "cell_type": "code",
   "execution_count": null,
   "id": "f7da0c69",
   "metadata": {},
   "outputs": [],
   "source": [
    "_ _ _ _ _"
   ]
  },
  {
   "cell_type": "code",
   "execution_count": null,
   "id": "c78718a7",
   "metadata": {},
   "outputs": [],
   "source": [
    "class Players():\n",
    "    \n",
    "    def __init__(self, name, age, hei):\n",
    "        self.name = name\n",
    "        self.height = height\n",
    "        \n",
    "    def show_name():\n",
    "        name = \n",
    "        \n",
    "        \n",
    "players('Siem', 23, 170)"
   ]
  },
  {
   "cell_type": "code",
   "execution_count": null,
   "id": "c23e90e2",
   "metadata": {},
   "outputs": [],
   "source": []
  },
  {
   "cell_type": "code",
   "execution_count": null,
   "id": "a6a89753",
   "metadata": {},
   "outputs": [],
   "source": []
  },
  {
   "cell_type": "code",
   "execution_count": null,
   "id": "c14d4866",
   "metadata": {},
   "outputs": [],
   "source": [
    "\n"
   ]
  },
  {
   "cell_type": "code",
   "execution_count": null,
   "id": "43d3be91",
   "metadata": {},
   "outputs": [
    {
     "name": "stdout",
     "output_type": "stream",
     "text": [
      "['S', 'e', 'i', 'm']\n",
      "[' _ ', ' _ ', ' _ ', ' _ ']\n"
     ]
    }
   ],
   "source": [
    "import random\n",
    "\n",
    "words = ['Seim', 'Tesfit', 'Royal']\n",
    "\n",
    "\n",
    "random_word = [letter for letter in random.choice(words)]\n",
    "print(random_word)\n",
    "\n",
    "hide  = [\" _ \" for letter in random_word] \n",
    "print(hide)\n",
    "\n",
    "\n",
    "# then check if the user's letter is in the random word\n",
    "\n",
    "\n",
    "\n",
    "while True:\n",
    "    # first ask user\n",
    "    user_input = input('Enter a letter to start the game...')\n",
    "    \n",
    "    \n",
    "    for index in range(len(random_word)):\n",
    "        if user_input == random_word[index]:\n",
    "           # if user gues is correct Encrypt \n",
    "            hide[index] = user_input\n",
    "            print (\" \".join(hide))\n",
    "        \n",
    "        if hide == random_word:\n",
    "            print('You got all the letters, Congrats you 🏅')\n",
    "        \n",
    "        if user_input not in random_word:\n",
    "            print('The letter u have entered is not in the game')\n"
   ]
  },
  {
   "cell_type": "code",
   "execution_count": null,
   "id": "9f37e764",
   "metadata": {},
   "outputs": [],
   "source": []
  },
  {
   "cell_type": "code",
   "execution_count": null,
   "id": "ecfd9164",
   "metadata": {},
   "outputs": [],
   "source": []
  },
  {
   "cell_type": "code",
   "execution_count": null,
   "id": "40720dd6",
   "metadata": {},
   "outputs": [],
   "source": []
  },
  {
   "cell_type": "code",
   "execution_count": null,
   "id": "d7877adf",
   "metadata": {},
   "outputs": [],
   "source": []
  },
  {
   "cell_type": "code",
   "execution_count": null,
   "id": "c4785f68",
   "metadata": {},
   "outputs": [],
   "source": []
  }
 ],
 "metadata": {
  "kernelspec": {
   "display_name": "Python 3 (ipykernel)",
   "language": "python",
   "name": "python3"
  },
  "language_info": {
   "codemirror_mode": {
    "name": "ipython",
    "version": 3
   },
   "file_extension": ".py",
   "mimetype": "text/x-python",
   "name": "python",
   "nbconvert_exporter": "python",
   "pygments_lexer": "ipython3",
   "version": "3.8.8"
  }
 },
 "nbformat": 4,
 "nbformat_minor": 5
}
