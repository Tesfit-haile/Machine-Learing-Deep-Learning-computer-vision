{
 "cells": [
  {
   "cell_type": "code",
   "execution_count": 52,
   "id": "96ff5521",
   "metadata": {},
   "outputs": [],
   "source": [
    "# https://www.youtube.com/watch?v=0fSn9WG8MrA\n",
    "import pandas as pd\n",
    "import seaborn as sns\n",
    "import matplotlib.pyplot as plt"
   ]
  },
  {
   "cell_type": "code",
   "execution_count": null,
   "id": "4ccac464",
   "metadata": {},
   "outputs": [],
   "source": []
  },
  {
   "cell_type": "code",
   "execution_count": 208,
   "id": "1601b462",
   "metadata": {},
   "outputs": [
    {
     "name": "stdout",
     "output_type": "stream",
     "text": [
      "yes siem is in the sentence\n"
     ]
    }
   ],
   "source": [
    "# 3. create a function that converts only the \n",
    "# first letter of the names to upercase \n",
    "\n",
    "sentence = 'siem and tesfit are friends'\n"
   ]
  },
  {
   "cell_type": "code",
   "execution_count": 226,
   "id": "2177bbc7",
   "metadata": {},
   "outputs": [
    {
     "name": "stdout",
     "output_type": "stream",
     "text": [
      "['Siem', 'and', 'Tesfit', 'are', 'frieds']\n"
     ]
    }
   ],
   "source": [
    "mySentence = ['siem', 'and', 'tesfit', 'are', 'frieds']\n",
    "\n",
    "def capitlizerFunc(mySentence):\n",
    "    \n",
    "    myNewSentence = []\n",
    "    \n",
    "    for item in mySentence:\n",
    "    \n",
    "        if item == 'siem' or item == 'tesfit':\n",
    "            item = item.capitalize()\n",
    "            myNewSentence.append(item)\n",
    "        \n",
    "#         elif item == 'tesfit':\n",
    "#             item = item.capitalize()\n",
    "#             myNewSentence.append(item)\n",
    "            \n",
    "        else:\n",
    "            myNewSentence.append(item)\n",
    "            \n",
    "    \n",
    "    return myNewSentence\n",
    "\n",
    "result = capitlizerFunc(mySentence)\n",
    "print(result)\n"
   ]
  },
  {
   "cell_type": "code",
   "execution_count": null,
   "id": "2fa24766",
   "metadata": {},
   "outputs": [],
   "source": [
    "variable_1 = ['siem', 'and', 'tesfit', 'are', 'frieds']\n",
    "if 'siem' in variable_1:\n",
    "    \n"
   ]
  },
  {
   "cell_type": "code",
   "execution_count": null,
   "id": "bf35029d",
   "metadata": {},
   "outputs": [],
   "source": []
  },
  {
   "cell_type": "code",
   "execution_count": null,
   "id": "4745b387",
   "metadata": {},
   "outputs": [],
   "source": []
  },
  {
   "cell_type": "code",
   "execution_count": null,
   "id": "ee8c1d6a",
   "metadata": {},
   "outputs": [],
   "source": []
  },
  {
   "cell_type": "code",
   "execution_count": null,
   "id": "f58260e3",
   "metadata": {},
   "outputs": [],
   "source": []
  },
  {
   "cell_type": "code",
   "execution_count": null,
   "id": "45e1159b",
   "metadata": {},
   "outputs": [],
   "source": []
  },
  {
   "cell_type": "markdown",
   "id": "c1cb09bc",
   "metadata": {},
   "source": [
    "# Steps\n",
    "1. read the csv file by selecting the features that you need !!!\n",
    "2. do the preprocessing --- meaning make the data ready by checking the null or others...\n",
    "#do feature engeenering, preprocessing [get catagorical features, fill the NaN, drive(create) new features....]\n",
    "3. catagorize the features you think need to be catagorized\n",
    "4. check the years, date, ... in the columns if they need to be modified\n",
    "5. LabelEncoder the cataforical features\n",
    "6. Convert them first to numpy then to tensor\n",
    "7. "
   ]
  },
  {
   "cell_type": "code",
   "execution_count": null,
   "id": "3c3c87f9",
   "metadata": {},
   "outputs": [],
   "source": []
  },
  {
   "cell_type": "markdown",
   "id": "e20a91d1",
   "metadata": {},
   "source": [
    "# Questions\n",
    "1. When do we need to worry about the data type while we are doing the feature engineering...."
   ]
  },
  {
   "cell_type": "code",
   "execution_count": null,
   "id": "8f02e073",
   "metadata": {},
   "outputs": [],
   "source": []
  },
  {
   "cell_type": "code",
   "execution_count": null,
   "id": "41c85098",
   "metadata": {},
   "outputs": [],
   "source": []
  },
  {
   "cell_type": "markdown",
   "id": "efa229ed",
   "metadata": {},
   "source": [
    "# dimention is vector or number"
   ]
  },
  {
   "cell_type": "code",
   "execution_count": 2,
   "id": "234bfc39",
   "metadata": {},
   "outputs": [
    {
     "data": {
      "text/plain": [
       "(1201, 10)"
      ]
     },
     "execution_count": 2,
     "metadata": {},
     "output_type": "execute_result"
    }
   ],
   "source": [
    "df=pd.read_csv('houseprice.csv' , usecols=[\"SalePrice\", \"MSSubClass\", \"MSZoning\", \"LotFrontage\", \"LotArea\",\n",
    "                                         \"Street\", \"YearBuilt\", \"LotShape\", \"1stFlrSF\", \"2ndFlrSF\"]).dropna()\n",
    "df.shape"
   ]
  },
  {
   "cell_type": "code",
   "execution_count": 3,
   "id": "d1a399db",
   "metadata": {},
   "outputs": [
    {
     "data": {
      "text/html": [
       "<div>\n",
       "<style scoped>\n",
       "    .dataframe tbody tr th:only-of-type {\n",
       "        vertical-align: middle;\n",
       "    }\n",
       "\n",
       "    .dataframe tbody tr th {\n",
       "        vertical-align: top;\n",
       "    }\n",
       "\n",
       "    .dataframe thead th {\n",
       "        text-align: right;\n",
       "    }\n",
       "</style>\n",
       "<table border=\"1\" class=\"dataframe\">\n",
       "  <thead>\n",
       "    <tr style=\"text-align: right;\">\n",
       "      <th></th>\n",
       "      <th>MSSubClass</th>\n",
       "      <th>MSZoning</th>\n",
       "      <th>LotFrontage</th>\n",
       "      <th>LotArea</th>\n",
       "      <th>Street</th>\n",
       "      <th>LotShape</th>\n",
       "      <th>YearBuilt</th>\n",
       "      <th>1stFlrSF</th>\n",
       "      <th>2ndFlrSF</th>\n",
       "      <th>SalePrice</th>\n",
       "    </tr>\n",
       "  </thead>\n",
       "  <tbody>\n",
       "    <tr>\n",
       "      <th>0</th>\n",
       "      <td>60</td>\n",
       "      <td>RL</td>\n",
       "      <td>65.0</td>\n",
       "      <td>8450</td>\n",
       "      <td>Pave</td>\n",
       "      <td>Reg</td>\n",
       "      <td>2003</td>\n",
       "      <td>856</td>\n",
       "      <td>854</td>\n",
       "      <td>208500</td>\n",
       "    </tr>\n",
       "    <tr>\n",
       "      <th>1</th>\n",
       "      <td>20</td>\n",
       "      <td>RL</td>\n",
       "      <td>80.0</td>\n",
       "      <td>9600</td>\n",
       "      <td>Pave</td>\n",
       "      <td>Reg</td>\n",
       "      <td>1976</td>\n",
       "      <td>1262</td>\n",
       "      <td>0</td>\n",
       "      <td>181500</td>\n",
       "    </tr>\n",
       "    <tr>\n",
       "      <th>2</th>\n",
       "      <td>60</td>\n",
       "      <td>RL</td>\n",
       "      <td>68.0</td>\n",
       "      <td>11250</td>\n",
       "      <td>Pave</td>\n",
       "      <td>IR1</td>\n",
       "      <td>2001</td>\n",
       "      <td>920</td>\n",
       "      <td>866</td>\n",
       "      <td>223500</td>\n",
       "    </tr>\n",
       "  </tbody>\n",
       "</table>\n",
       "</div>"
      ],
      "text/plain": [
       "   MSSubClass MSZoning  LotFrontage  LotArea Street LotShape  YearBuilt  \\\n",
       "0          60       RL         65.0     8450   Pave      Reg       2003   \n",
       "1          20       RL         80.0     9600   Pave      Reg       1976   \n",
       "2          60       RL         68.0    11250   Pave      IR1       2001   \n",
       "\n",
       "   1stFlrSF  2ndFlrSF  SalePrice  \n",
       "0       856       854     208500  \n",
       "1      1262         0     181500  \n",
       "2       920       866     223500  "
      ]
     },
     "execution_count": 3,
     "metadata": {},
     "output_type": "execute_result"
    }
   ],
   "source": [
    "df.head(3)"
   ]
  },
  {
   "cell_type": "markdown",
   "id": "f4ba63c6",
   "metadata": {},
   "source": [
    "# Feature Engneering"
   ]
  },
  {
   "cell_type": "code",
   "execution_count": 4,
   "id": "4853bb1f",
   "metadata": {},
   "outputs": [
    {
     "name": "stdout",
     "output_type": "stream",
     "text": [
      "<class 'pandas.core.frame.DataFrame'>\n",
      "Int64Index: 1201 entries, 0 to 1459\n",
      "Data columns (total 10 columns):\n",
      " #   Column       Non-Null Count  Dtype  \n",
      "---  ------       --------------  -----  \n",
      " 0   MSSubClass   1201 non-null   int64  \n",
      " 1   MSZoning     1201 non-null   object \n",
      " 2   LotFrontage  1201 non-null   float64\n",
      " 3   LotArea      1201 non-null   int64  \n",
      " 4   Street       1201 non-null   object \n",
      " 5   LotShape     1201 non-null   object \n",
      " 6   YearBuilt    1201 non-null   int64  \n",
      " 7   1stFlrSF     1201 non-null   int64  \n",
      " 8   2ndFlrSF     1201 non-null   int64  \n",
      " 9   SalePrice    1201 non-null   int64  \n",
      "dtypes: float64(1), int64(6), object(3)\n",
      "memory usage: 103.2+ KB\n"
     ]
    }
   ],
   "source": [
    "df.info()"
   ]
  },
  {
   "cell_type": "markdown",
   "id": "71264965",
   "metadata": {},
   "source": [
    "# Check the columns which needs catagorical feature"
   ]
  },
  {
   "cell_type": "code",
   "execution_count": 5,
   "id": "71a3108b",
   "metadata": {},
   "outputs": [
    {
     "name": "stdout",
     "output_type": "stream",
     "text": [
      "MSSubClass 15\n",
      "MSZoning 5\n",
      "LotFrontage 110\n",
      "LotArea 869\n",
      "Street 2\n",
      "LotShape 4\n",
      "YearBuilt 112\n",
      "1stFlrSF 678\n",
      "2ndFlrSF 368\n",
      "SalePrice 597\n"
     ]
    }
   ],
   "source": [
    "#### from this loop u can know which one is catagorical or not ====> feature with less value is a catagorical..\n",
    "for col in df.columns:\n",
    "    print(col, len(df[col].unique()))"
   ]
  },
  {
   "cell_type": "code",
   "execution_count": 6,
   "id": "c9a07af3",
   "metadata": {},
   "outputs": [
    {
     "data": {
      "text/html": [
       "<div>\n",
       "<style scoped>\n",
       "    .dataframe tbody tr th:only-of-type {\n",
       "        vertical-align: middle;\n",
       "    }\n",
       "\n",
       "    .dataframe tbody tr th {\n",
       "        vertical-align: top;\n",
       "    }\n",
       "\n",
       "    .dataframe thead th {\n",
       "        text-align: right;\n",
       "    }\n",
       "</style>\n",
       "<table border=\"1\" class=\"dataframe\">\n",
       "  <thead>\n",
       "    <tr style=\"text-align: right;\">\n",
       "      <th></th>\n",
       "      <th>MSSubClass</th>\n",
       "      <th>MSZoning</th>\n",
       "      <th>LotFrontage</th>\n",
       "      <th>LotArea</th>\n",
       "      <th>Street</th>\n",
       "      <th>LotShape</th>\n",
       "      <th>YearBuilt</th>\n",
       "      <th>1stFlrSF</th>\n",
       "      <th>2ndFlrSF</th>\n",
       "      <th>SalePrice</th>\n",
       "    </tr>\n",
       "  </thead>\n",
       "  <tbody>\n",
       "    <tr>\n",
       "      <th>0</th>\n",
       "      <td>5</td>\n",
       "      <td>3</td>\n",
       "      <td>65.0</td>\n",
       "      <td>8450</td>\n",
       "      <td>1</td>\n",
       "      <td>3</td>\n",
       "      <td>2003</td>\n",
       "      <td>856</td>\n",
       "      <td>854</td>\n",
       "      <td>208500</td>\n",
       "    </tr>\n",
       "    <tr>\n",
       "      <th>1</th>\n",
       "      <td>0</td>\n",
       "      <td>3</td>\n",
       "      <td>80.0</td>\n",
       "      <td>9600</td>\n",
       "      <td>1</td>\n",
       "      <td>3</td>\n",
       "      <td>1976</td>\n",
       "      <td>1262</td>\n",
       "      <td>0</td>\n",
       "      <td>181500</td>\n",
       "    </tr>\n",
       "    <tr>\n",
       "      <th>2</th>\n",
       "      <td>5</td>\n",
       "      <td>3</td>\n",
       "      <td>68.0</td>\n",
       "      <td>11250</td>\n",
       "      <td>1</td>\n",
       "      <td>0</td>\n",
       "      <td>2001</td>\n",
       "      <td>920</td>\n",
       "      <td>866</td>\n",
       "      <td>223500</td>\n",
       "    </tr>\n",
       "    <tr>\n",
       "      <th>3</th>\n",
       "      <td>6</td>\n",
       "      <td>3</td>\n",
       "      <td>60.0</td>\n",
       "      <td>9550</td>\n",
       "      <td>1</td>\n",
       "      <td>0</td>\n",
       "      <td>1915</td>\n",
       "      <td>961</td>\n",
       "      <td>756</td>\n",
       "      <td>140000</td>\n",
       "    </tr>\n",
       "    <tr>\n",
       "      <th>4</th>\n",
       "      <td>5</td>\n",
       "      <td>3</td>\n",
       "      <td>84.0</td>\n",
       "      <td>14260</td>\n",
       "      <td>1</td>\n",
       "      <td>0</td>\n",
       "      <td>2000</td>\n",
       "      <td>1145</td>\n",
       "      <td>1053</td>\n",
       "      <td>250000</td>\n",
       "    </tr>\n",
       "  </tbody>\n",
       "</table>\n",
       "</div>"
      ],
      "text/plain": [
       "   MSSubClass  MSZoning  LotFrontage  LotArea  Street  LotShape  YearBuilt  \\\n",
       "0           5         3         65.0     8450       1         3       2003   \n",
       "1           0         3         80.0     9600       1         3       1976   \n",
       "2           5         3         68.0    11250       1         0       2001   \n",
       "3           6         3         60.0     9550       1         0       1915   \n",
       "4           5         3         84.0    14260       1         0       2000   \n",
       "\n",
       "   1stFlrSF  2ndFlrSF  SalePrice  \n",
       "0       856       854     208500  \n",
       "1      1262         0     181500  \n",
       "2       920       866     223500  \n",
       "3       961       756     140000  \n",
       "4      1145      1053     250000  "
      ]
     },
     "execution_count": 6,
     "metadata": {},
     "output_type": "execute_result"
    }
   ],
   "source": [
    "# Now you can LabelEncode them... thoes with few catagories\n",
    "from sklearn.preprocessing import LabelEncoder\n",
    "lbEn = LabelEncoder()\n",
    "\n",
    "categorical_features = ['MSSubClass', 'MSZoning', 'Street', 'LotShape']\n",
    "for col in categorical_features:\n",
    "    df[col] = lbEn.fit_transform(df[col])\n",
    "\n",
    "df.head()"
   ]
  },
  {
   "cell_type": "markdown",
   "id": "c54c4465",
   "metadata": {},
   "source": [
    "# Modify the years col"
   ]
  },
  {
   "cell_type": "code",
   "execution_count": 7,
   "id": "87cf9685",
   "metadata": {},
   "outputs": [
    {
     "data": {
      "text/plain": [
       "2022"
      ]
     },
     "execution_count": 7,
     "metadata": {},
     "output_type": "execute_result"
    }
   ],
   "source": [
    "import datetime\n",
    "current_year = datetime.datetime.now().year\n",
    "current_year"
   ]
  },
  {
   "cell_type": "code",
   "execution_count": 10,
   "id": "d6b516c8",
   "metadata": {},
   "outputs": [
    {
     "data": {
      "text/html": [
       "<div>\n",
       "<style scoped>\n",
       "    .dataframe tbody tr th:only-of-type {\n",
       "        vertical-align: middle;\n",
       "    }\n",
       "\n",
       "    .dataframe tbody tr th {\n",
       "        vertical-align: top;\n",
       "    }\n",
       "\n",
       "    .dataframe thead th {\n",
       "        text-align: right;\n",
       "    }\n",
       "</style>\n",
       "<table border=\"1\" class=\"dataframe\">\n",
       "  <thead>\n",
       "    <tr style=\"text-align: right;\">\n",
       "      <th></th>\n",
       "      <th>MSSubClass</th>\n",
       "      <th>MSZoning</th>\n",
       "      <th>LotFrontage</th>\n",
       "      <th>LotArea</th>\n",
       "      <th>Street</th>\n",
       "      <th>LotShape</th>\n",
       "      <th>YearBuilt</th>\n",
       "      <th>1stFlrSF</th>\n",
       "      <th>2ndFlrSF</th>\n",
       "      <th>SalePrice</th>\n",
       "      <th>Modified_year</th>\n",
       "    </tr>\n",
       "  </thead>\n",
       "  <tbody>\n",
       "    <tr>\n",
       "      <th>0</th>\n",
       "      <td>5</td>\n",
       "      <td>3</td>\n",
       "      <td>65.0</td>\n",
       "      <td>8450</td>\n",
       "      <td>1</td>\n",
       "      <td>3</td>\n",
       "      <td>2003</td>\n",
       "      <td>856</td>\n",
       "      <td>854</td>\n",
       "      <td>208500</td>\n",
       "      <td>19</td>\n",
       "    </tr>\n",
       "    <tr>\n",
       "      <th>1</th>\n",
       "      <td>0</td>\n",
       "      <td>3</td>\n",
       "      <td>80.0</td>\n",
       "      <td>9600</td>\n",
       "      <td>1</td>\n",
       "      <td>3</td>\n",
       "      <td>1976</td>\n",
       "      <td>1262</td>\n",
       "      <td>0</td>\n",
       "      <td>181500</td>\n",
       "      <td>46</td>\n",
       "    </tr>\n",
       "    <tr>\n",
       "      <th>2</th>\n",
       "      <td>5</td>\n",
       "      <td>3</td>\n",
       "      <td>68.0</td>\n",
       "      <td>11250</td>\n",
       "      <td>1</td>\n",
       "      <td>0</td>\n",
       "      <td>2001</td>\n",
       "      <td>920</td>\n",
       "      <td>866</td>\n",
       "      <td>223500</td>\n",
       "      <td>21</td>\n",
       "    </tr>\n",
       "  </tbody>\n",
       "</table>\n",
       "</div>"
      ],
      "text/plain": [
       "   MSSubClass  MSZoning  LotFrontage  LotArea  Street  LotShape  YearBuilt  \\\n",
       "0           5         3         65.0     8450       1         3       2003   \n",
       "1           0         3         80.0     9600       1         3       1976   \n",
       "2           5         3         68.0    11250       1         0       2001   \n",
       "\n",
       "   1stFlrSF  2ndFlrSF  SalePrice  Modified_year  \n",
       "0       856       854     208500             19  \n",
       "1      1262         0     181500             46  \n",
       "2       920       866     223500             21  "
      ]
     },
     "execution_count": 10,
     "metadata": {},
     "output_type": "execute_result"
    }
   ],
   "source": [
    "df['Modified_year'] = current_year - df['YearBuilt']\n",
    "df.head(3)"
   ]
  },
  {
   "cell_type": "code",
   "execution_count": null,
   "id": "a27273b3",
   "metadata": {},
   "outputs": [],
   "source": [
    "type(df['Street']) ### our deep learing model does NOT accept a pandas.core.series.Series type so convert it to tensor"
   ]
  },
  {
   "cell_type": "markdown",
   "id": "fc2ca80d",
   "metadata": {},
   "source": [
    "# Convert all the categorical featuers to Numpy then to Tensor"
   ]
  },
  {
   "cell_type": "code",
   "execution_count": 11,
   "id": "46ef123b",
   "metadata": {},
   "outputs": [
    {
     "data": {
      "text/plain": [
       "array([[5, 3, 1, 3],\n",
       "       [0, 3, 1, 3],\n",
       "       [5, 3, 1, 0],\n",
       "       ...,\n",
       "       [6, 3, 1, 3],\n",
       "       [0, 3, 1, 3],\n",
       "       [0, 3, 1, 3]])"
      ]
     },
     "execution_count": 11,
     "metadata": {},
     "output_type": "execute_result"
    }
   ],
   "source": [
    "import numpy as np\n",
    "cate_featu_numpy = np.stack([df['MSSubClass'], df['MSZoning'], df['Street'], df['LotShape']], 1)\n",
    "cate_featu_numpy"
   ]
  },
  {
   "cell_type": "code",
   "execution_count": 13,
   "id": "9e371f6e",
   "metadata": {},
   "outputs": [
    {
     "data": {
      "text/plain": [
       "tensor([[5, 3, 1, 3],\n",
       "        [0, 3, 1, 3],\n",
       "        [5, 3, 1, 0],\n",
       "        ...,\n",
       "        [6, 3, 1, 3],\n",
       "        [0, 3, 1, 3],\n",
       "        [0, 3, 1, 3]])"
      ]
     },
     "execution_count": 13,
     "metadata": {},
     "output_type": "execute_result"
    }
   ],
   "source": [
    "import torch\n",
    "cate_featu_tensor = torch.tensor(cate_featu_numpy, dtype=torch.int64)\n",
    "cate_featu_tensor"
   ]
  },
  {
   "cell_type": "markdown",
   "id": "f9ec8ab8",
   "metadata": {},
   "source": [
    "# Convert all the Continues featuers to Numpy then to Tensor"
   ]
  },
  {
   "cell_type": "code",
   "execution_count": 15,
   "id": "f6ddae38",
   "metadata": {},
   "outputs": [
    {
     "name": "stdout",
     "output_type": "stream",
     "text": [
      "['LotFrontage', 'LotArea', 'YearBuilt', '1stFlrSF', '2ndFlrSF', 'Modified_year']\n"
     ]
    }
   ],
   "source": [
    "conti_features = []\n",
    "\n",
    "for col in df.columns:\n",
    "    if col in ['MSSubClass', 'MSZoning', 'Street', 'LotShape', 'SalePrice']:\n",
    "        pass\n",
    "    else:\n",
    "        conti_features.append(col)\n",
    "\n",
    "print(conti_features)  "
   ]
  },
  {
   "cell_type": "code",
   "execution_count": 16,
   "id": "325a56d6",
   "metadata": {},
   "outputs": [
    {
     "data": {
      "text/plain": [
       "tensor([[   65.,  8450.,  2003.,   856.,   854.,    19.],\n",
       "        [   80.,  9600.,  1976.,  1262.,     0.,    46.],\n",
       "        [   68., 11250.,  2001.,   920.,   866.,    21.],\n",
       "        ...,\n",
       "        [   66.,  9042.,  1941.,  1188.,  1152.,    81.],\n",
       "        [   68.,  9717.,  1950.,  1078.,     0.,    72.],\n",
       "        [   75.,  9937.,  1965.,  1256.,     0.,    57.]])"
      ]
     },
     "execution_count": 16,
     "metadata": {},
     "output_type": "execute_result"
    }
   ],
   "source": [
    "#### convert to numpy then to tensor\n",
    "conti_featu_numpy = np.stack([df[col] for col in conti_features], axis=1)\n",
    "conti_featu_tensor=torch.tensor(conti_featu_numpy, dtype=torch.float)\n",
    "conti_featu_tensor"
   ]
  },
  {
   "cell_type": "markdown",
   "id": "58d9afe5",
   "metadata": {},
   "source": [
    "# Convert the target also to tensor"
   ]
  },
  {
   "cell_type": "code",
   "execution_count": 17,
   "id": "3fd1d823",
   "metadata": {},
   "outputs": [
    {
     "data": {
      "text/plain": [
       "tensor([[208500],\n",
       "        [181500],\n",
       "        [223500],\n",
       "        ...,\n",
       "        [266500],\n",
       "        [142125],\n",
       "        [147500]])"
      ]
     },
     "execution_count": 17,
     "metadata": {},
     "output_type": "execute_result"
    }
   ],
   "source": [
    "#  df['SalePrice'].values  ---- one way of converting to an array\n",
    "y = np.stack([df['SalePrice']], axis=1)\n",
    "y = torch.tensor(y)\n",
    "y"
   ]
  },
  {
   "cell_type": "markdown",
   "id": "ac3001e4",
   "metadata": {},
   "source": [
    "# Check  the shape of all the features"
   ]
  },
  {
   "cell_type": "code",
   "execution_count": 18,
   "id": "b6097b99",
   "metadata": {
    "scrolled": true
   },
   "outputs": [
    {
     "data": {
      "text/plain": [
       "(torch.Size([1201, 4]), torch.Size([1201, 6]), torch.Size([1201, 1]))"
      ]
     },
     "execution_count": 18,
     "metadata": {},
     "output_type": "execute_result"
    }
   ],
   "source": [
    "cate_featu_tensor.shape, conti_featu_tensor.shape, y.shape"
   ]
  },
  {
   "cell_type": "code",
   "execution_count": null,
   "id": "ad74b2f5",
   "metadata": {},
   "outputs": [],
   "source": []
  },
  {
   "cell_type": "markdown",
   "id": "9efdcfb5",
   "metadata": {},
   "source": [
    "# #################################################################"
   ]
  },
  {
   "cell_type": "markdown",
   "id": "3675c5b9",
   "metadata": {},
   "source": [
    "# Embedding for categorical features"
   ]
  },
  {
   "cell_type": "code",
   "execution_count": 22,
   "id": "788f37a1",
   "metadata": {},
   "outputs": [],
   "source": [
    "# based on the dim our embedding layer will decided the output e.g. if our input is 15 the output will be 8\n",
    "# so we need to get the unique values of our categorical features .... see below"
   ]
  },
  {
   "cell_type": "code",
   "execution_count": 19,
   "id": "a11227f1",
   "metadata": {},
   "outputs": [
    {
     "data": {
      "text/plain": [
       "[15, 5, 2, 4]"
      ]
     },
     "execution_count": 19,
     "metadata": {},
     "output_type": "execute_result"
    }
   ],
   "source": [
    "categorical_features = ['MSSubClass', 'MSZoning', 'Street', 'LotShape']\n",
    "cat_dim = [len(df[name].unique()) for name in categorical_features]\n",
    "cat_dim "
   ]
  },
  {
   "cell_type": "code",
   "execution_count": 20,
   "id": "df0d8075",
   "metadata": {},
   "outputs": [
    {
     "data": {
      "text/plain": [
       "[(15, 8), (5, 3), (2, 1), (4, 2)]"
      ]
     },
     "execution_count": 20,
     "metadata": {},
     "output_type": "execute_result"
    }
   ],
   "source": [
    "embedding_dim = [(x, (min(50, (x+1) // 2))) for x in cat_dim]\n",
    "embedding_dim # this implies -- my output value is half of the input value\n",
    "# why 50 -- it is a rule"
   ]
  },
  {
   "cell_type": "code",
   "execution_count": 23,
   "id": "b020a8f5",
   "metadata": {},
   "outputs": [],
   "source": [
    "#### In the above if 15 is my input 8 will be the output ...... if 5 then 3 will be output"
   ]
  },
  {
   "cell_type": "markdown",
   "id": "f8c05c5e",
   "metadata": {},
   "source": [
    "## So now Once we get the embedding_dim --------> we can create our embedding_layer"
   ]
  },
  {
   "cell_type": "code",
   "execution_count": 25,
   "id": "304e6b48",
   "metadata": {},
   "outputs": [],
   "source": [
    "import torch\n",
    "import torch.nn as nn\n",
    "import torch.nn.functional as F"
   ]
  },
  {
   "cell_type": "code",
   "execution_count": 26,
   "id": "74911107",
   "metadata": {},
   "outputs": [
    {
     "data": {
      "text/plain": [
       "ModuleList(\n",
       "  (0): Embedding(15, 8)\n",
       "  (1): Embedding(5, 3)\n",
       "  (2): Embedding(2, 1)\n",
       "  (3): Embedding(4, 2)\n",
       ")"
      ]
     },
     "execution_count": 26,
     "metadata": {},
     "output_type": "execute_result"
    }
   ],
   "source": [
    "embed_layer = nn.ModuleList([nn.Embedding(inp, out) for inp, out in embedding_dim])\n",
    "embed_layer"
   ]
  },
  {
   "cell_type": "code",
   "execution_count": 135,
   "id": "53f3ab85",
   "metadata": {},
   "outputs": [
    {
     "name": "stdout",
     "output_type": "stream",
     "text": [
      "total out put >>> 14\n",
      "8\n",
      "3\n",
      "1\n",
      "2\n"
     ]
    }
   ],
   "source": [
    "##### Testing.....\n",
    "r = sum([out for inp, out in embedding_dim])\n",
    "print('total out put >>>', r)\n",
    "for inp, out in embedding_dim:\n",
    "    print(out)"
   ]
  },
  {
   "cell_type": "code",
   "execution_count": 60,
   "id": "0c9258a8",
   "metadata": {},
   "outputs": [
    {
     "data": {
      "text/plain": [
       "tensor([[5, 3, 1, 3],\n",
       "        [0, 3, 1, 3],\n",
       "        [5, 3, 1, 0],\n",
       "        [6, 3, 1, 0]])"
      ]
     },
     "execution_count": 60,
     "metadata": {},
     "output_type": "execute_result"
    }
   ],
   "source": [
    "#### lets take the first 4 items from the tensor\n",
    "new_cate_features = cate_featu_tensor[:4] #### for embedding\n",
    "new_cate_features #### Blow 👇 each vector [5, 3, 1, 3] will represent differently after the embedding... "
   ]
  },
  {
   "cell_type": "code",
   "execution_count": 185,
   "id": "0a9bc6ac",
   "metadata": {},
   "outputs": [
    {
     "data": {
      "text/plain": [
       "tensor([5, 3, 1, 3])"
      ]
     },
     "execution_count": 185,
     "metadata": {},
     "output_type": "execute_result"
    }
   ],
   "source": [
    "new_cate_features[0]"
   ]
  },
  {
   "cell_type": "code",
   "execution_count": 46,
   "id": "6d3a8015",
   "metadata": {},
   "outputs": [],
   "source": [
    "# not necessary i think\n",
    "pd.set_option('display.max_row', 50)"
   ]
  },
  {
   "cell_type": "markdown",
   "id": "ec8d7eab",
   "metadata": {},
   "source": [
    "# Complicated"
   ]
  },
  {
   "cell_type": "code",
   "execution_count": 198,
   "id": "f8492bc5",
   "metadata": {},
   "outputs": [
    {
     "name": "stdout",
     "output_type": "stream",
     "text": [
      "Embedding(15, 8)\n",
      "Embedding(5, 3)\n",
      "Embedding(2, 1)\n",
      "Embedding(4, 2)\n",
      "[tensor([[-1.3532, -0.4814,  0.7058,  0.1107,  0.6865,  0.2970,  0.2951,  0.2009],\n",
      "        [ 0.2783,  0.6812,  1.3637,  1.1531,  1.9027, -1.0939, -0.6018, -1.7852],\n",
      "        [-1.3532, -0.4814,  0.7058,  0.1107,  0.6865,  0.2970,  0.2951,  0.2009],\n",
      "        [-0.2468,  1.4672, -1.5903,  0.9857,  0.7242, -0.5992, -0.0103, -0.1395]],\n",
      "       grad_fn=<EmbeddingBackward0>), tensor([[ 0.6473, -0.0180,  0.9882],\n",
      "        [ 0.6473, -0.0180,  0.9882],\n",
      "        [ 0.6473, -0.0180,  0.9882],\n",
      "        [ 0.6473, -0.0180,  0.9882]], grad_fn=<EmbeddingBackward0>), tensor([[-0.3923],\n",
      "        [-0.3923],\n",
      "        [-0.3923],\n",
      "        [-0.3923]], grad_fn=<EmbeddingBackward0>), tensor([[-1.1430,  2.9287],\n",
      "        [-1.1430,  2.9287],\n",
      "        [ 0.9440, -1.3560],\n",
      "        [ 0.9440, -1.3560]], grad_fn=<EmbeddingBackward0>)]\n"
     ]
    }
   ],
   "source": [
    "#### This line of code is going to show as the output of the embedding_dim from the above\n",
    "embedding_value = []\n",
    "for i, e in enumerate(embed_layer):\n",
    "    print(e)\n",
    "    embedding_value.append(e(new_cate_features[:, i])) # e([5, 3, 1, 3]) at first iteration..\n",
    "    \n",
    "print(embedding_value)\n"
   ]
  },
  {
   "cell_type": "code",
   "execution_count": 54,
   "id": "52263a9f",
   "metadata": {},
   "outputs": [
    {
     "data": {
      "text/plain": [
       "tensor([[-1.3532, -0.4814,  0.7058,  0.1107,  0.6865,  0.2970,  0.2951,  0.2009,\n",
       "          0.6473, -0.0180,  0.9882, -0.3923, -1.1430,  2.9287],\n",
       "        [ 0.2783,  0.6812,  1.3637,  1.1531,  1.9027, -1.0939, -0.6018, -1.7852,\n",
       "          0.6473, -0.0180,  0.9882, -0.3923, -1.1430,  2.9287],\n",
       "        [-1.3532, -0.4814,  0.7058,  0.1107,  0.6865,  0.2970,  0.2951,  0.2009,\n",
       "          0.6473, -0.0180,  0.9882, -0.3923,  0.9440, -1.3560],\n",
       "        [-0.2468,  1.4672, -1.5903,  0.9857,  0.7242, -0.5992, -0.0103, -0.1395,\n",
       "          0.6473, -0.0180,  0.9882, -0.3923,  0.9440, -1.3560]],\n",
       "       grad_fn=<CatBackward0>)"
      ]
     },
     "execution_count": 54,
     "metadata": {},
     "output_type": "execute_result"
    }
   ],
   "source": [
    "### BUT we need to format it the correct way like the [ new_cate_features ]\n",
    "### so we use for that the cat method\n",
    "\n",
    "organized_embedding = torch.cat(embedding_value, 1)\n",
    "organized_embedding #👍 meaning we are concatinating them in sequence [like [5, 3, 1, 3]]"
   ]
  },
  {
   "cell_type": "markdown",
   "id": "a9497f83",
   "metadata": {},
   "source": [
    "# Dropout \n",
    "#### inorder to over come overfitting"
   ]
  },
  {
   "cell_type": "code",
   "execution_count": 58,
   "id": "6dee25ec",
   "metadata": {},
   "outputs": [
    {
     "data": {
      "text/plain": [
       "tensor([[-2.2553, -0.8023,  1.1764,  0.1845,  1.1442,  0.0000,  0.4918,  0.3348,\n",
       "          1.0788, -0.0300,  0.0000, -0.0000, -1.9050,  4.8811],\n",
       "        [ 0.4639,  1.1354,  2.2729,  0.0000,  3.1712, -1.8231, -0.0000, -0.0000,\n",
       "          1.0788, -0.0300,  1.6470, -0.0000, -0.0000,  0.0000],\n",
       "        [-0.0000, -0.8023,  1.1764,  0.0000,  0.0000,  0.0000,  0.0000,  0.3348,\n",
       "          1.0788, -0.0000,  1.6470, -0.6538,  0.0000, -0.0000],\n",
       "        [-0.4113,  2.4453, -2.6504,  0.0000,  0.0000, -0.9986, -0.0171, -0.2325,\n",
       "          1.0788, -0.0300,  0.0000, -0.6538,  0.0000, -0.0000]],\n",
       "       grad_fn=<MulBackward0>)"
      ]
     },
     "execution_count": 58,
     "metadata": {},
     "output_type": "execute_result"
    }
   ],
   "source": [
    "# this is one of the regularization method\n",
    "dropout = nn.Dropout(.4) # 40%\n",
    "final_embedd = dropout(organized_embedding)\n",
    "final_embedd ##### we can see it below Some of the values have become zeros"
   ]
  },
  {
   "cell_type": "markdown",
   "id": "b9863a96",
   "metadata": {},
   "source": [
    "# #################################################################"
   ]
  },
  {
   "cell_type": "markdown",
   "id": "2e17677b",
   "metadata": {},
   "source": [
    "## 🤔 from the embedding till this step will be performed inside our ANN class model"
   ]
  },
  {
   "cell_type": "code",
   "execution_count": 67,
   "id": "faf37b91",
   "metadata": {},
   "outputs": [],
   "source": [
    "import torch\n",
    "import torch.nn as nn\n",
    "import torch.functional as F"
   ]
  },
  {
   "cell_type": "code",
   "execution_count": 169,
   "id": "91b8039c",
   "metadata": {},
   "outputs": [],
   "source": [
    "class FeedForwardNN(nn.Module):\n",
    "    def __init__(self, embedding_dim, n_continuse, out_sz, layers, p=0.5):\n",
    "        super().__init__()\n",
    "        \n",
    "        self.embedding_layers = nn.ModuleList([nn.Embedding(inpt, out) for inpt,out in embedding_dim])\n",
    "        self.embed_dropout = nn.Dropout(p)\n",
    "        self.batchNorm_continuse = nn.BatchNorm1d(n_continuse)# watch a tutorial\n",
    "        \n",
    "        sumNumEmbedingDim = sum((out for inpt,out in embedding_dim))\n",
    "        n_inpt = sumNumEmbedingDim + n_continuse # >> 14 + 6 = 20 \n",
    "        \n",
    "        layerList = []\n",
    "        for i in layers:\n",
    "            layerList.append(nn.Linear(n_inpt, i))\n",
    "            layerList.append(nn.ReLU(inplace=True))\n",
    "            layerList.append(nn.BatchNorm1d(i))\n",
    "            layerList.append(nn.Dropout(p))\n",
    "\n",
    "        layerList.append(nn.Linear(layers[-1], out_sz)) # not clear.....\n",
    "\n",
    "        self.layers = nn.Sequential(*layerList) # not clear....\n",
    "        \n",
    "        \n",
    "    def forward(self, train_cate, train_conti):\n",
    "        embeddings  = []\n",
    "        \n",
    "        for i, e in enumerate(self.embedding_layers):\n",
    "            \n",
    "            embeddings.append(e(train_cate[:, i])) # Not sure if we need this \",\" \n",
    "            \n",
    "        x = torch.cat(embeddings, 1)\n",
    "        x = self.embed_dropout(x)\n",
    "\n",
    "        train_conti = self.batchNorm_continuse(train_conti)\n",
    "        x = torch.cat([x, train_conti], 1)\n",
    "        x = self.layers(x)\n",
    "        return x\n"
   ]
  },
  {
   "cell_type": "code",
   "execution_count": 170,
   "id": "dd2f5a57",
   "metadata": {},
   "outputs": [
    {
     "name": "stdout",
     "output_type": "stream",
     "text": [
      "Len of conti_features >>  6\n"
     ]
    },
    {
     "data": {
      "text/plain": [
       "FeedForwardNN(\n",
       "  (embedding_layers): ModuleList(\n",
       "    (0): Embedding(15, 8)\n",
       "    (1): Embedding(5, 3)\n",
       "    (2): Embedding(2, 1)\n",
       "    (3): Embedding(4, 2)\n",
       "  )\n",
       "  (embed_dropout): Dropout(p=0.4, inplace=False)\n",
       "  (batchNorm_continuse): BatchNorm1d(6, eps=1e-05, momentum=0.1, affine=True, track_running_stats=True)\n",
       "  (layers): Sequential(\n",
       "    (0): Linear(in_features=20, out_features=100, bias=True)\n",
       "    (1): ReLU(inplace=True)\n",
       "    (2): BatchNorm1d(100, eps=1e-05, momentum=0.1, affine=True, track_running_stats=True)\n",
       "    (3): Dropout(p=0.4, inplace=False)\n",
       "    (4): Linear(in_features=20, out_features=50, bias=True)\n",
       "    (5): ReLU(inplace=True)\n",
       "    (6): BatchNorm1d(50, eps=1e-05, momentum=0.1, affine=True, track_running_stats=True)\n",
       "    (7): Dropout(p=0.4, inplace=False)\n",
       "    (8): Linear(in_features=50, out_features=1, bias=True)\n",
       "  )\n",
       ")"
      ]
     },
     "execution_count": 170,
     "metadata": {},
     "output_type": "execute_result"
    }
   ],
   "source": [
    "print('Len of conti_features >> ', len(conti_features))\n",
    "\n",
    "torch.manual_seed(100)\n",
    "model = FeedForwardNN(embedding_dim, len(conti_features), 1, [100, 50], p=0.4)\n",
    "model\n"
   ]
  },
  {
   "cell_type": "markdown",
   "id": "c4d8653b",
   "metadata": {},
   "source": [
    "# Loss & Optimzer"
   ]
  },
  {
   "cell_type": "code",
   "execution_count": 86,
   "id": "bfd836a4",
   "metadata": {},
   "outputs": [],
   "source": [
    "loss_func = nn.MSELoss()\n",
    "optimizer = torch.optim.Adam(model.parameters(), lr=0.001)"
   ]
  },
  {
   "cell_type": "markdown",
   "id": "df5ebb0c",
   "metadata": {},
   "source": [
    "# Train, Test....... split"
   ]
  },
  {
   "cell_type": "code",
   "execution_count": 133,
   "id": "1b45fdb7",
   "metadata": {},
   "outputs": [],
   "source": [
    "batch_size =1200 \n",
    "test_size = int(batch_size * 0.15)\n",
    "\n",
    "train_cate_featu = cate_featu_tensor[:batch_size - test_size]\n",
    "test_cate_featu = cate_featu_tensor[batch_size - test_size : batch_size]\n",
    "\n",
    "train_conti = conti_featu_tensor[:batch_size - test_size]\n",
    "test_conti = conti_featu_tensor[batch_size - test_size : batch_size]\n",
    "\n",
    "# y_train = \n",
    "# y_test = \n"
   ]
  },
  {
   "cell_type": "markdown",
   "id": "746a00ae",
   "metadata": {},
   "source": [
    "# Question :-\n",
    "1. Why do we need to split the categorical and continues features Separately ....... ????"
   ]
  },
  {
   "cell_type": "code",
   "execution_count": 134,
   "id": "7bd9422a",
   "metadata": {},
   "outputs": [
    {
     "data": {
      "text/plain": [
       "(1020, 180, 1020, 180)"
      ]
     },
     "execution_count": 134,
     "metadata": {},
     "output_type": "execute_result"
    }
   ],
   "source": [
    "len(train_categorical), len(test_categorical), len(train_conti), len(test_conti)"
   ]
  },
  {
   "cell_type": "code",
   "execution_count": null,
   "id": "19dba92d",
   "metadata": {},
   "outputs": [],
   "source": []
  },
  {
   "cell_type": "code",
   "execution_count": null,
   "id": "67a94710",
   "metadata": {},
   "outputs": [],
   "source": []
  },
  {
   "cell_type": "markdown",
   "id": "5d9ef7e6",
   "metadata": {},
   "source": [
    "# List Slicing"
   ]
  },
  {
   "cell_type": "code",
   "execution_count": 168,
   "id": "d026ffbe",
   "metadata": {},
   "outputs": [
    {
     "name": "stdout",
     "output_type": "stream",
     "text": [
      "[70, 50]\n",
      "[70, 30, 20, 90]\n",
      "[50, 70, 30]\n",
      "[20, 90, 10, 50]\n"
     ]
    }
   ],
   "source": [
    "# Initialize list\n",
    "Lst = [50, 70, 30, 20, 90, 10, 50]\n",
    "\n",
    "# Display list\n",
    "print(Lst[1::5])\n",
    "print(Lst[1:5])\n",
    "print(Lst[:3])\n",
    "print(Lst[3:])\n",
    "\n"
   ]
  },
  {
   "cell_type": "code",
   "execution_count": null,
   "id": "ac72174a",
   "metadata": {},
   "outputs": [],
   "source": []
  },
  {
   "cell_type": "markdown",
   "id": "e9431192",
   "metadata": {},
   "source": [
    "### The procese of using LabelEncoding is cuz down the road we are going to use the embeding procese"
   ]
  },
  {
   "cell_type": "markdown",
   "id": "deb8df6f",
   "metadata": {},
   "source": [
    "#### My understanding about this project"
   ]
  },
  {
   "cell_type": "code",
   "execution_count": null,
   "id": "e487ff65",
   "metadata": {},
   "outputs": [],
   "source": [
    "# 1. get the data print it by filltering only with the important features...!\n",
    "# 2. do feature engeenering, preprocessing [get catagorical features, fill the NaN, drive(create) new features....]\n",
    "# 3. use LabelEncoding cuz you will need to use embedding layers later\n",
    "# 4. Embedding is not clear\n",
    "\n",
    "# I have not finished this project\n"
   ]
  },
  {
   "cell_type": "markdown",
   "id": "ecb018e1",
   "metadata": {},
   "source": [
    "# Questions"
   ]
  },
  {
   "cell_type": "code",
   "execution_count": null,
   "id": "3cf92a82",
   "metadata": {},
   "outputs": [],
   "source": [
    "# 1. how do we know which one of our Features need to be LabelEncoded ?\n",
    "# 2. "
   ]
  }
 ],
 "metadata": {
  "kernelspec": {
   "display_name": "Python 3 (ipykernel)",
   "language": "python",
   "name": "python3"
  },
  "language_info": {
   "codemirror_mode": {
    "name": "ipython",
    "version": 3
   },
   "file_extension": ".py",
   "mimetype": "text/x-python",
   "name": "python",
   "nbconvert_exporter": "python",
   "pygments_lexer": "ipython3",
   "version": "3.8.8"
  }
 },
 "nbformat": 4,
 "nbformat_minor": 5
}
