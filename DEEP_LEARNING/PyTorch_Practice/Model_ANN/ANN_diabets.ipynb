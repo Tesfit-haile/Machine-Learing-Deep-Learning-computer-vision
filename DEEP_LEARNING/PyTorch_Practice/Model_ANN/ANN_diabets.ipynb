{
 "cells": [
  {
   "cell_type": "code",
   "execution_count": 1,
   "id": "f99f85a2",
   "metadata": {},
   "outputs": [],
   "source": [
    "import pandas as pd\n",
    "from sklearn.model_selection import train_test_split"
   ]
  },
  {
   "cell_type": "code",
   "execution_count": 2,
   "id": "c79989bf",
   "metadata": {},
   "outputs": [
    {
     "data": {
      "text/html": [
       "<div>\n",
       "<style scoped>\n",
       "    .dataframe tbody tr th:only-of-type {\n",
       "        vertical-align: middle;\n",
       "    }\n",
       "\n",
       "    .dataframe tbody tr th {\n",
       "        vertical-align: top;\n",
       "    }\n",
       "\n",
       "    .dataframe thead th {\n",
       "        text-align: right;\n",
       "    }\n",
       "</style>\n",
       "<table border=\"1\" class=\"dataframe\">\n",
       "  <thead>\n",
       "    <tr style=\"text-align: right;\">\n",
       "      <th></th>\n",
       "      <th>Pregnancies</th>\n",
       "      <th>Glucose</th>\n",
       "      <th>BloodPressure</th>\n",
       "      <th>SkinThickness</th>\n",
       "      <th>Insulin</th>\n",
       "      <th>BMI</th>\n",
       "      <th>DiabetesPedigreeFunction</th>\n",
       "      <th>Age</th>\n",
       "      <th>Outcome</th>\n",
       "    </tr>\n",
       "  </thead>\n",
       "  <tbody>\n",
       "    <tr>\n",
       "      <th>0</th>\n",
       "      <td>6</td>\n",
       "      <td>148</td>\n",
       "      <td>72</td>\n",
       "      <td>35</td>\n",
       "      <td>0</td>\n",
       "      <td>33.6</td>\n",
       "      <td>0.627</td>\n",
       "      <td>50</td>\n",
       "      <td>1</td>\n",
       "    </tr>\n",
       "    <tr>\n",
       "      <th>1</th>\n",
       "      <td>1</td>\n",
       "      <td>85</td>\n",
       "      <td>66</td>\n",
       "      <td>29</td>\n",
       "      <td>0</td>\n",
       "      <td>26.6</td>\n",
       "      <td>0.351</td>\n",
       "      <td>31</td>\n",
       "      <td>0</td>\n",
       "    </tr>\n",
       "    <tr>\n",
       "      <th>2</th>\n",
       "      <td>8</td>\n",
       "      <td>183</td>\n",
       "      <td>64</td>\n",
       "      <td>0</td>\n",
       "      <td>0</td>\n",
       "      <td>23.3</td>\n",
       "      <td>0.672</td>\n",
       "      <td>32</td>\n",
       "      <td>1</td>\n",
       "    </tr>\n",
       "  </tbody>\n",
       "</table>\n",
       "</div>"
      ],
      "text/plain": [
       "   Pregnancies  Glucose  BloodPressure  SkinThickness  Insulin   BMI  \\\n",
       "0            6      148             72             35        0  33.6   \n",
       "1            1       85             66             29        0  26.6   \n",
       "2            8      183             64              0        0  23.3   \n",
       "\n",
       "   DiabetesPedigreeFunction  Age  Outcome  \n",
       "0                     0.627   50        1  \n",
       "1                     0.351   31        0  \n",
       "2                     0.672   32        1  "
      ]
     },
     "execution_count": 2,
     "metadata": {},
     "output_type": "execute_result"
    }
   ],
   "source": [
    "df = pd.read_csv('diabetes.csv')\n",
    "df.head(3)"
   ]
  },
  {
   "cell_type": "code",
   "execution_count": 3,
   "id": "d99d0c31",
   "metadata": {},
   "outputs": [
    {
     "data": {
      "text/plain": [
       "(768, 9)"
      ]
     },
     "execution_count": 3,
     "metadata": {},
     "output_type": "execute_result"
    }
   ],
   "source": [
    "df.shape"
   ]
  },
  {
   "cell_type": "code",
   "execution_count": 4,
   "id": "c2ef77e8",
   "metadata": {},
   "outputs": [
    {
     "data": {
      "text/plain": [
       "Pregnancies                 0\n",
       "Glucose                     0\n",
       "BloodPressure               0\n",
       "SkinThickness               0\n",
       "Insulin                     0\n",
       "BMI                         0\n",
       "DiabetesPedigreeFunction    0\n",
       "Age                         0\n",
       "Outcome                     0\n",
       "dtype: int64"
      ]
     },
     "execution_count": 4,
     "metadata": {},
     "output_type": "execute_result"
    }
   ],
   "source": [
    "df.isnull().sum()"
   ]
  },
  {
   "cell_type": "code",
   "execution_count": 5,
   "id": "12f5dedc",
   "metadata": {},
   "outputs": [],
   "source": [
    "# df['Outcome'].values"
   ]
  },
  {
   "cell_type": "markdown",
   "id": "1f27b739",
   "metadata": {},
   "source": [
    "### ! Do Not forget .values --------- cuz we need to get the values as an array in order to be converted to a FloatTensor"
   ]
  },
  {
   "cell_type": "code",
   "execution_count": 6,
   "id": "233f7cf8",
   "metadata": {},
   "outputs": [
    {
     "name": "stdout",
     "output_type": "stream",
     "text": [
      "(614, 8) (614,)\n",
      "(154, 8) (154,)\n"
     ]
    }
   ],
   "source": [
    "# split\n",
    "X=df.drop('Outcome',axis=1).values ### independent features\n",
    "y=df['Outcome'].values ###dependent features\n",
    "\n",
    "X_train, X_test, y_train, y_test = train_test_split(X, y, test_size=0.2, random_state=123)\n",
    "\n",
    "print(X_train.shape, y_train.shape)\n",
    "print(X_test.shape, y_test.shape)"
   ]
  },
  {
   "cell_type": "code",
   "execution_count": null,
   "id": "a3519e4f",
   "metadata": {},
   "outputs": [],
   "source": []
  },
  {
   "cell_type": "markdown",
   "id": "b5a7e5bc",
   "metadata": {},
   "source": [
    "## We always need to convert the dependent & independent features to floatTensor"
   ]
  },
  {
   "cell_type": "code",
   "execution_count": 7,
   "id": "e99177a4",
   "metadata": {},
   "outputs": [],
   "source": [
    "#### Libraries From Pytorch\n",
    "import torch\n",
    "import torch.nn as nn\n",
    "import torch.nn.functional as F\n",
    "\n",
    "##### Creating Tensors\n",
    "X_train=torch.FloatTensor(X_train)\n",
    "X_test=torch.FloatTensor(X_test)\n",
    "\n",
    "y_train=torch.LongTensor(y_train)\n",
    "y_test=torch.LongTensor(y_test)"
   ]
  },
  {
   "cell_type": "code",
   "execution_count": 8,
   "id": "edf1920b",
   "metadata": {},
   "outputs": [
    {
     "data": {
      "text/plain": [
       "((768, 9), torch.Size([614, 8]))"
      ]
     },
     "execution_count": 8,
     "metadata": {},
     "output_type": "execute_result"
    }
   ],
   "source": [
    "df.shape, X_train.shape"
   ]
  },
  {
   "cell_type": "markdown",
   "id": "956aa47b",
   "metadata": {},
   "source": [
    "# built Module"
   ]
  },
  {
   "cell_type": "code",
   "execution_count": 9,
   "id": "74a3b7d7",
   "metadata": {},
   "outputs": [
    {
     "data": {
      "text/plain": [
       "ANN(\n",
       "  (fc1): Linear(in_features=8, out_features=20, bias=True)\n",
       "  (fc2): Linear(in_features=20, out_features=20, bias=True)\n",
       "  (out): Linear(in_features=20, out_features=2, bias=True)\n",
       ")"
      ]
     },
     "execution_count": 9,
     "metadata": {},
     "output_type": "execute_result"
    }
   ],
   "source": [
    "# hyperparameters\n",
    "# we can define them here outside the class ---  or we can do as we do below\n",
    "\n",
    "class ANN(nn.Module):\n",
    "    \n",
    "    def __init__(self, input_feature=8, hidden1=20, hidden2=20, output_feature=2):\n",
    "        super(ANN, self).__init__()\n",
    "        \n",
    "        self.fc1 = nn.Linear(input_feature, hidden1)\n",
    "        self.fc2 = nn.Linear(hidden1, hidden2)\n",
    "        self.out = nn.Linear(hidden2, output_feature)\n",
    "        \n",
    "    def forward(self, x):\n",
    "        out = F.relu(x)\n",
    "        out = self.fc1(out)\n",
    "        \n",
    "        out = F.relu(out)\n",
    "        out = self.fc2(out)\n",
    "        \n",
    "        out = self.out(out)\n",
    "        return out\n",
    "\n",
    "#torch.manual_seed(20)\n",
    "ANN_model = ANN()\n",
    "ANN_model"
   ]
  },
  {
   "cell_type": "markdown",
   "id": "09f47da5",
   "metadata": {},
   "source": [
    "# Loss and optimizer"
   ]
  },
  {
   "cell_type": "code",
   "execution_count": 10,
   "id": "b523c1c1",
   "metadata": {},
   "outputs": [],
   "source": [
    "loss_func = nn.CrossEntropyLoss()\n",
    "optimizer = torch.optim.Adam(ANN_model.parameters(), lr=0.01)\n"
   ]
  },
  {
   "cell_type": "markdown",
   "id": "33b1663f",
   "metadata": {},
   "source": [
    "# Training Model"
   ]
  },
  {
   "cell_type": "code",
   "execution_count": 11,
   "id": "66373673",
   "metadata": {},
   "outputs": [
    {
     "name": "stdout",
     "output_type": "stream",
     "text": [
      "Loss-error: 3.871251106262207\n",
      "Loss-error: 0.5409615635871887\n",
      "Loss-error: 0.4507922828197479\n",
      "Loss-error: 0.41944384574890137\n",
      "Loss-error: 0.40023452043533325\n"
     ]
    }
   ],
   "source": [
    "#### Check if loss is getting minimized\n",
    "epoch = 500\n",
    "lossess = []\n",
    "for ix in range(epoch):\n",
    "    scores_pred = ANN_model(X_train)\n",
    "    loss = loss_func(scores_pred, y_train)\n",
    "    optimizer.zero_grad()\n",
    "    loss.backward()\n",
    "    optimizer.step()\n",
    "    lossess.append(loss.item())\n",
    "    \n",
    "    if ix % 100 == 0:\n",
    "        print(f\"Loss-error: {loss}\")\n"
   ]
  },
  {
   "cell_type": "code",
   "execution_count": 12,
   "id": "8722a58e",
   "metadata": {},
   "outputs": [
    {
     "data": {
      "text/plain": [
       "Text(0.5, 0, 'epoch')"
      ]
     },
     "execution_count": 12,
     "metadata": {},
     "output_type": "execute_result"
    },
    {
     "data": {
      "image/png": "[encoded data removed]",
      "text/plain": [
       "<Figure size 432x288 with 1 Axes>"
      ]
     },
     "metadata": {
      "needs_background": "light"
     },
     "output_type": "display_data"
    }
   ],
   "source": [
    "import matplotlib.pyplot as plt\n",
    "plt.plot(range(epoch), lossess)\n",
    "plt.ylabel('Losses')\n",
    "plt.xlabel('epoch')"
   ]
  },
  {
   "cell_type": "markdown",
   "id": "fd7da86d",
   "metadata": {},
   "source": [
    "# Trainig model"
   ]
  },
  {
   "cell_type": "code",
   "execution_count": 13,
   "id": "a695da4d",
   "metadata": {},
   "outputs": [
    {
     "data": {
      "text/plain": [
       "(torch.Size([614, 8]), 614)"
      ]
     },
     "execution_count": 13,
     "metadata": {},
     "output_type": "execute_result"
    }
   ],
   "source": [
    "X_train.shape, len(X_train)"
   ]
  },
  {
   "cell_type": "code",
   "execution_count": 14,
   "id": "01118429",
   "metadata": {},
   "outputs": [
    {
     "name": "stdout",
     "output_type": "stream",
     "text": [
      "tensor([  7.0000, 181.0000,  84.0000,  21.0000, 192.0000,  35.9000,   0.5860,\n",
      "         51.0000])\n",
      "tensor([2.7084, 4.1502], grad_fn=<AddBackward0>)\n"
     ]
    }
   ],
   "source": [
    "for data in X_test:\n",
    "    print(data)\n",
    "    print(ANN_model(data)) #tensor([2.8805, 2.9700], grad_fn=<AddBackward0>) <<<<< we need to protect the grad_fn by\n",
    "    #saying [ with torch.no_grad()]\n",
    "    break\n",
    "\n"
   ]
  },
  {
   "cell_type": "code",
   "execution_count": 15,
   "id": "16217e3d",
   "metadata": {},
   "outputs": [
    {
     "name": "stdout",
     "output_type": "stream",
     "text": [
      "[1, 0, 1, 0, 0, 1, 1, 0, 0, 0, 1, 0, 0, 0, 1, 0, 1, 0, 0, 0, 1, 1, 0, 1, 1, 0, 0, 0, 0, 1, 0, 0, 1, 0, 0, 0, 1, 0, 0, 0, 0, 0, 0, 0, 0, 1, 0, 0, 0, 0, 0, 0, 0, 0, 0, 0, 1, 0, 1, 0, 0, 0, 1, 0, 0, 0, 1, 0, 0, 0, 0, 0, 1, 0, 1, 0, 0, 0, 0, 0, 0, 1, 0, 1, 0, 0, 1, 0, 1, 0, 0, 0, 0, 1, 1, 0, 0, 1, 0, 0, 1, 1, 0, 0, 0, 0, 0, 1, 0, 0, 1, 0, 1, 1, 1, 0, 0, 0, 0, 0, 0, 1, 0, 0, 0, 1, 0, 1, 0, 0, 0, 0, 1, 0, 0, 0, 0, 0, 0, 0, 1, 0, 0, 0, 0, 0, 0, 0, 0, 0, 0, 0, 0, 0]\n"
     ]
    }
   ],
   "source": [
    "corr_pred = []\n",
    "\n",
    "with torch.no_grad():\n",
    "    for data in X_test: # len(154)\n",
    "        xTest_pred = ANN_model(data)\n",
    "        corr_pred.append(xTest_pred.argmax().item())\n",
    "print(corr_pred)"
   ]
  },
  {
   "cell_type": "markdown",
   "id": "273b1cb3",
   "metadata": {},
   "source": [
    "# Confusion matrix"
   ]
  },
  {
   "cell_type": "code",
   "execution_count": 16,
   "id": "6265e73d",
   "metadata": {},
   "outputs": [
    {
     "data": {
      "text/plain": [
       "array([[86, 10],\n",
       "       [28, 30]])"
      ]
     },
     "execution_count": 16,
     "metadata": {},
     "output_type": "execute_result"
    }
   ],
   "source": [
    "from sklearn.metrics import confusion_matrix\n",
    "acc = confusion_matrix(y_test, corr_pred)\n",
    "acc"
   ]
  },
  {
   "cell_type": "code",
   "execution_count": 17,
   "id": "16c254fd",
   "metadata": {},
   "outputs": [
    {
     "data": {
      "text/plain": [
       "Text(33.0, 0.5, 'Predicted-value')"
      ]
     },
     "execution_count": 17,
     "metadata": {},
     "output_type": "execute_result"
    },
    {
     "data": {
      "image/png": "[encoded data removed]",
      "text/plain": [
       "<Figure size 432x288 with 2 Axes>"
      ]
     },
     "metadata": {
      "needs_background": "light"
     },
     "output_type": "display_data"
    }
   ],
   "source": [
    "import seaborn as sns\n",
    "sns.heatmap(acc, annot=True)\n",
    "plt.xlabel('Acctual-value')\n",
    "plt.ylabel('Predicted-value')"
   ]
  },
  {
   "cell_type": "code",
   "execution_count": 18,
   "id": "daf8a4df",
   "metadata": {},
   "outputs": [
    {
     "data": {
      "text/plain": [
       "0.7532467532467533"
      ]
     },
     "execution_count": 18,
     "metadata": {},
     "output_type": "execute_result"
    }
   ],
   "source": [
    "from sklearn.metrics import accuracy_score\n",
    "myAccu = accuracy_score(y_test, corr_pred)\n",
    "myAccu"
   ]
  },
  {
   "cell_type": "code",
   "execution_count": null,
   "id": "b386771d",
   "metadata": {},
   "outputs": [],
   "source": []
  },
  {
   "cell_type": "markdown",
   "id": "bb601c59",
   "metadata": {},
   "source": [
    "# Save the model"
   ]
  },
  {
   "cell_type": "code",
   "execution_count": 19,
   "id": "70d494ea",
   "metadata": {},
   "outputs": [],
   "source": [
    "# The model is doing not bad SO WE CAN SAVE IT\n",
    "torch.save(ANN_model, 'diabets.pt')"
   ]
  },
  {
   "cell_type": "markdown",
   "id": "5e486a57",
   "metadata": {},
   "source": [
    "# Load the model"
   ]
  },
  {
   "cell_type": "code",
   "execution_count": 20,
   "id": "c75fea5e",
   "metadata": {},
   "outputs": [
    {
     "data": {
      "text/plain": [
       "ANN(\n",
       "  (fc1): Linear(in_features=8, out_features=20, bias=True)\n",
       "  (fc2): Linear(in_features=20, out_features=20, bias=True)\n",
       "  (out): Linear(in_features=20, out_features=2, bias=True)\n",
       ")"
      ]
     },
     "execution_count": 20,
     "metadata": {},
     "output_type": "execute_result"
    }
   ],
   "source": [
    "loadedANN_model = torch.load('diabets.pt')\n",
    "loadedANN_model"
   ]
  },
  {
   "cell_type": "markdown",
   "id": "afee7214",
   "metadata": {},
   "source": [
    "# Check if your model predicts well"
   ]
  },
  {
   "cell_type": "code",
   "execution_count": 27,
   "id": "46e7a113",
   "metadata": {},
   "outputs": [
    {
     "data": {
      "text/plain": [
       "[6.0, 148.0, 72.0, 35.0, 0.0, 33.6, 0.627, 50.0]"
      ]
     },
     "execution_count": 27,
     "metadata": {},
     "output_type": "execute_result"
    }
   ],
   "source": [
    "### let's get one row from our dataframe OR u can copy on row manually\n",
    "sample1 = df.iloc[0, :-1] # the first row\n",
    "\n",
    "# convert it to list\n",
    "sample1 = list(sample1)\n",
    "sample1"
   ]
  },
  {
   "cell_type": "code",
   "execution_count": 28,
   "id": "9d6aaff5",
   "metadata": {},
   "outputs": [
    {
     "name": "stdout",
     "output_type": "stream",
     "text": [
      "tensor([ 1.3062, -1.0219])\n",
      "1\n"
     ]
    }
   ],
   "source": [
    "# now create a new data from that by changing the values\n",
    "new_data = [6.0, 130.0, 72.0, 40.0, 0.0, 23.6, 0.627, 40.0]\n",
    "new_data = torch.FloatTensor(new_data)\n",
    "\n",
    "with torch.no_grad():\n",
    "    new_pred = ANN_model(new_data)\n",
    "    print(new_pred)\n",
    "    print(new_data.argmax().item())"
   ]
  },
  {
   "cell_type": "code",
   "execution_count": null,
   "id": "49dd1b25",
   "metadata": {},
   "outputs": [],
   "source": []
  },
  {
   "cell_type": "code",
   "execution_count": 23,
   "id": "9f8bdc68",
   "metadata": {},
   "outputs": [
    {
     "data": {
      "text/plain": [
       "\"\\nWhy do we use ReLUs? We use ReLUs for the same reason \\nwe use any other non-linear activation function: To achieve a non-linear transformation of the data.\\n\\nWhy do we need non-linear transformations? We apply non-linear transformations in the hope \\nthat the transformed data will be (close to) linear (for regression) or (close to) \\nlinearly separable (for classification).Drawing a linear function through non-linearly transformed data \\nis equivalent to drawing a non-linear function through original data.\\n\\nWhy are ReLUs better than other activation functions? They are simple, fast to compute, \\nand don't suffer from vanishing gradients, like sigmoid functions (logistic, tanh, erf, and similar).\\nThe simplicity of implementation makes them suitable for use on GPUs, which are very common today \\ndue to being optimised for matrix operations (which are also needed for 3D graphics).\\n\\n\""
      ]
     },
     "execution_count": 23,
     "metadata": {},
     "output_type": "execute_result"
    }
   ],
   "source": [
    "\"\"\"\n",
    "#### Why do we use ReLUs? We use ReLUs for the same reason \n",
    "we use any other non-linear activation function: To achieve a non-linear transformation of the data.\n",
    "\n",
    "Why do we need non-linear transformations? We apply non-linear transformations in the hope \n",
    "that the transformed data will be (close to) linear (for regression) or (close to) \n",
    "linearly separable (for classification).Drawing a linear function through non-linearly transformed data \n",
    "is equivalent to drawing a non-linear function through original data.\n",
    "\n",
    "Why are ReLUs better than other activation functions? They are simple, fast to compute, \n",
    "and don't suffer from vanishing gradients, like sigmoid functions (logistic, tanh, erf, and similar).\n",
    "The simplicity of implementation makes them suitable for use on GPUs, which are very common today \n",
    "due to being optimised for matrix operations (which are also needed for 3D graphics).\n",
    "\n",
    "\"\"\""
   ]
  }
 ],
 "metadata": {
  "kernelspec": {
   "display_name": "Python 3 (ipykernel)",
   "language": "python",
   "name": "python3"
  },
  "language_info": {
   "codemirror_mode": {
    "name": "ipython",
    "version": 3
   },
   "file_extension": ".py",
   "mimetype": "text/x-python",
   "name": "python",
   "nbconvert_exporter": "python",
   "pygments_lexer": "ipython3",
   "version": "3.8.8"
  }
 },
 "nbformat": 4,
 "nbformat_minor": 5
}
