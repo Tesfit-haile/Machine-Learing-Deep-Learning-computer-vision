{
 "cells": [
  {
   "cell_type": "code",
   "execution_count": null,
   "id": "dba12f9d",
   "metadata": {},
   "outputs": [],
   "source": []
  },
  {
   "cell_type": "code",
   "execution_count": null,
   "id": "8dc9d258",
   "metadata": {},
   "outputs": [],
   "source": []
  },
  {
   "cell_type": "code",
   "execution_count": 23,
   "id": "2b41e72c",
   "metadata": {},
   "outputs": [],
   "source": [
    "def entercomChecker():\n",
    "    \n",
    "    box = {}\n",
    "    \n",
    "    increament = 0\n",
    "    \n",
    "    #1. ask user to set his pwd\n",
    "    userNewPwd = int(input('Hi Siem Set your pwd..'))\n",
    "    \n",
    "    #2. save his pwd\n",
    "    box['password'] = userNewPwd\n",
    "    \n",
    "    print(f\" >>> user pasword is {box}\")\n",
    "\n",
    "    while True:  \n",
    "        \n",
    "        #3. ask user to enter his pwd\n",
    "        askUser = int(input('Enter your pwd to come in...'))\n",
    "        \n",
    "        \n",
    "        if increament == 5:\n",
    "            # let the user know that he has forgotten his password\n",
    "            print(' >>> Hey mr Siem you have forgotten your password....')\n",
    "\n",
    "            # then ask user to rest his old password\n",
    "            userNewResetedPwd = int(input('Please Reset your old password ...'))\n",
    "\n",
    "            # then we need to update our box-dictionary with the new users password\n",
    "            box['password'] = userNewResetedPwd\n",
    "            increament = 0\n",
    "            continue\n",
    "            \n",
    "    \n",
    "        #4. then check if his old and new pwd are same\n",
    "        elif askUser == box['password']:\n",
    "            print(' >>> Correct pwd ... Welcome...')\n",
    "            break\n",
    "        \n",
    "        else:\n",
    "            #5. then if it matches let him in otherwise kick him off\n",
    "            print('Sorry your pwd is Incorrect .... try again... ')\n",
    "            increament = increament + 1\n",
    "            continue\n",
    "            \n",
    "#entercomChecker()\n",
    "\n"
   ]
  },
  {
   "cell_type": "markdown",
   "id": "f20ac523",
   "metadata": {},
   "source": [
    "##### "
   ]
  },
  {
   "cell_type": "code",
   "execution_count": null,
   "id": "7d45f997",
   "metadata": {},
   "outputs": [],
   "source": []
  }
 ],
 "metadata": {
  "kernelspec": {
   "display_name": "Python 3 (ipykernel)",
   "language": "python",
   "name": "python3"
  },
  "language_info": {
   "codemirror_mode": {
    "name": "ipython",
    "version": 3
   },
   "file_extension": ".py",
   "mimetype": "text/x-python",
   "name": "python",
   "nbconvert_exporter": "python",
   "pygments_lexer": "ipython3",
   "version": "3.8.8"
  }
 },
 "nbformat": 4,
 "nbformat_minor": 5
}
