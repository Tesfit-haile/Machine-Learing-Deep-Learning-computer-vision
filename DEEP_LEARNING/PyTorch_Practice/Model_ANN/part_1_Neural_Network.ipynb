{
 "cells": [
  {
   "cell_type": "markdown",
   "id": "bd2f7659",
   "metadata": {},
   "source": [
    "# Tensors Data-structture of DL\n",
    "# Tensor is a dimensional data structure"
   ]
  },
  {
   "cell_type": "markdown",
   "id": "924fd52d",
   "metadata": {},
   "source": [
    "# Axes = item = shape = size\n",
    "# Rank = indices or index or len(the tensor)"
   ]
  },
  {
   "cell_type": "code",
   "execution_count": 1,
   "id": "4dd17556",
   "metadata": {},
   "outputs": [
    {
     "data": {
      "text/plain": [
       "5"
      ]
     },
     "execution_count": 1,
     "metadata": {},
     "output_type": "execute_result"
    }
   ],
   "source": [
    "# number or scalar\n",
    "# we need one indices\n",
    "\n",
    "a = [5, 6, 7, 9]\n",
    "a[0]"
   ]
  },
  {
   "cell_type": "code",
   "execution_count": 2,
   "id": "67520e01",
   "metadata": {},
   "outputs": [
    {
     "data": {
      "text/plain": [
       "5"
      ]
     },
     "execution_count": 2,
     "metadata": {},
     "output_type": "execute_result"
    }
   ],
   "source": [
    "# array or vector\n",
    "# we need two indices\n",
    "\n",
    "b = [[5], [6], [7]]\n",
    "b[0][0]"
   ]
  },
  {
   "cell_type": "markdown",
   "id": "26297bf3",
   "metadata": {},
   "source": [
    "# when we've more than 2 indices we stop saying [ number, array, 2d-array, scalar, vector, metrix ] Instead we use [ nd-array or nd-tensor ]"
   ]
  },
  {
   "cell_type": "markdown",
   "id": "e8bc4f37",
   "metadata": {},
   "source": [
    "## Tensors are multi-dimentional"
   ]
  },
  {
   "cell_type": "code",
   "execution_count": 3,
   "id": "c663b396",
   "metadata": {},
   "outputs": [],
   "source": [
    "# 2d-array or metrix\n",
    "# we need three indices\n",
    "\n",
    "c = []"
   ]
  },
  {
   "cell_type": "markdown",
   "id": "71376490",
   "metadata": {},
   "source": [
    "# Reshaping a tensor"
   ]
  },
  {
   "cell_type": "code",
   "execution_count": 1,
   "id": "cbf8ca29",
   "metadata": {},
   "outputs": [
    {
     "name": "stdout",
     "output_type": "stream",
     "text": [
      "<class 'list'>\n"
     ]
    }
   ],
   "source": [
    "import torch\n",
    "\n",
    "myList = [[1, 2, 3], [4, 5, 6], [7, 8, 9]]\n",
    "print(type(myList))"
   ]
  },
  {
   "cell_type": "code",
   "execution_count": 2,
   "id": "8458bc19",
   "metadata": {},
   "outputs": [
    {
     "name": "stdout",
     "output_type": "stream",
     "text": [
      "<class 'torch.Tensor'>\n"
     ]
    }
   ],
   "source": [
    "t = torch.tensor(myList)\n",
    "print(type(t))"
   ]
  },
  {
   "cell_type": "code",
   "execution_count": 3,
   "id": "cd140426",
   "metadata": {},
   "outputs": [
    {
     "data": {
      "text/plain": [
       "tensor([[1, 2, 3],\n",
       "        [4, 5, 6],\n",
       "        [7, 8, 9]])"
      ]
     },
     "execution_count": 3,
     "metadata": {},
     "output_type": "execute_result"
    }
   ],
   "source": [
    "t"
   ]
  },
  {
   "cell_type": "markdown",
   "id": "3f2125f6",
   "metadata": {},
   "source": [
    "# Rehaping tensor"
   ]
  },
  {
   "cell_type": "code",
   "execution_count": 4,
   "id": "f5e0156f",
   "metadata": {},
   "outputs": [
    {
     "data": {
      "text/plain": [
       "torch.Size([3, 3])"
      ]
     },
     "execution_count": 4,
     "metadata": {},
     "output_type": "execute_result"
    }
   ],
   "source": [
    "t.shape"
   ]
  },
  {
   "cell_type": "code",
   "execution_count": 7,
   "id": "222e6ee8",
   "metadata": {},
   "outputs": [
    {
     "data": {
      "text/plain": [
       "tensor([[1, 2, 3],\n",
       "        [4, 5, 6],\n",
       "        [7, 8, 9]])"
      ]
     },
     "execution_count": 7,
     "metadata": {},
     "output_type": "execute_result"
    }
   ],
   "source": [
    "t.reshape(3, 3)"
   ]
  },
  {
   "cell_type": "code",
   "execution_count": null,
   "id": "b7d92236",
   "metadata": {},
   "outputs": [],
   "source": []
  },
  {
   "cell_type": "code",
   "execution_count": 8,
   "id": "7631246b",
   "metadata": {},
   "outputs": [
    {
     "ename": "TypeError",
     "evalue": "unsupported operand type(s) for +: 'Tensor' and 'list'",
     "output_type": "error",
     "traceback": [
      "\u001b[0;31m---------------------------------------------------------------------------\u001b[0m",
      "\u001b[0;31mTypeError\u001b[0m                                 Traceback (most recent call last)",
      "\u001b[0;32m/var/folders/hb/vbxxmjpx5c52f0b_pm6z0p0h0000gn/T/ipykernel_51501/3292256123.py\u001b[0m in \u001b[0;36m<module>\u001b[0;34m\u001b[0m\n\u001b[1;32m      3\u001b[0m \u001b[0ma3\u001b[0m \u001b[0;34m=\u001b[0m \u001b[0;34m[\u001b[0m\u001b[0;36m4\u001b[0m\u001b[0;34m,\u001b[0m \u001b[0;36m3\u001b[0m\u001b[0;34m,\u001b[0m \u001b[0;36m3\u001b[0m\u001b[0;34m]\u001b[0m\u001b[0;34m\u001b[0m\u001b[0;34m\u001b[0m\u001b[0m\n\u001b[1;32m      4\u001b[0m \u001b[0;34m\u001b[0m\u001b[0m\n\u001b[0;32m----> 5\u001b[0;31m \u001b[0ma1\u001b[0m \u001b[0;34m+\u001b[0m \u001b[0ma3\u001b[0m\u001b[0;34m\u001b[0m\u001b[0;34m\u001b[0m\u001b[0m\n\u001b[0m",
      "\u001b[0;31mTypeError\u001b[0m: unsupported operand type(s) for +: 'Tensor' and 'list'"
     ]
    }
   ],
   "source": [
    "a1 = torch.tensor([1, 2, 3])\n",
    "a2 = torch.tensor([5, 2, 1])\n",
    "a3 = [4, 3, 3]\n",
    "\n",
    "a1 + a3"
   ]
  },
  {
   "cell_type": "code",
   "execution_count": 17,
   "id": "ed6866cc",
   "metadata": {},
   "outputs": [
    {
     "data": {
      "text/plain": [
       "device(type='cpu')"
      ]
     },
     "execution_count": 17,
     "metadata": {},
     "output_type": "execute_result"
    }
   ],
   "source": [
    "a1.device"
   ]
  },
  {
   "cell_type": "code",
   "execution_count": null,
   "id": "05a69fe3",
   "metadata": {},
   "outputs": [],
   "source": []
  },
  {
   "cell_type": "code",
   "execution_count": null,
   "id": "80c2c558",
   "metadata": {},
   "outputs": [],
   "source": []
  },
  {
   "cell_type": "code",
   "execution_count": null,
   "id": "74731637",
   "metadata": {},
   "outputs": [],
   "source": []
  },
  {
   "cell_type": "code",
   "execution_count": null,
   "id": "12490348",
   "metadata": {},
   "outputs": [],
   "source": []
  },
  {
   "cell_type": "code",
   "execution_count": null,
   "id": "5c96339d",
   "metadata": {},
   "outputs": [],
   "source": []
  },
  {
   "cell_type": "code",
   "execution_count": null,
   "id": "721bfa4a",
   "metadata": {},
   "outputs": [],
   "source": []
  },
  {
   "cell_type": "code",
   "execution_count": null,
   "id": "2b714a55",
   "metadata": {},
   "outputs": [],
   "source": []
  },
  {
   "cell_type": "code",
   "execution_count": null,
   "id": "0254f4b8",
   "metadata": {},
   "outputs": [],
   "source": []
  },
  {
   "cell_type": "code",
   "execution_count": null,
   "id": "c3ef2b6b",
   "metadata": {},
   "outputs": [],
   "source": []
  }
 ],
 "metadata": {
  "kernelspec": {
   "display_name": "Python 3 (ipykernel)",
   "language": "python",
   "name": "python3"
  },
  "language_info": {
   "codemirror_mode": {
    "name": "ipython",
    "version": 3
   },
   "file_extension": ".py",
   "mimetype": "text/x-python",
   "name": "python",
   "nbconvert_exporter": "python",
   "pygments_lexer": "ipython3",
   "version": "3.8.8"
  }
 },
 "nbformat": 4,
 "nbformat_minor": 5
}
