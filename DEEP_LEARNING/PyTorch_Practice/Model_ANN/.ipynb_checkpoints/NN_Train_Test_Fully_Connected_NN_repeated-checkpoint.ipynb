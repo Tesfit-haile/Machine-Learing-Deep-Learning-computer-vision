{
 "cells": [
  {
   "cell_type": "markdown",
   "id": "eb345931",
   "metadata": {},
   "source": [
    "# imports"
   ]
  },
  {
   "cell_type": "code",
   "execution_count": 2,
   "id": "d81b8b0c",
   "metadata": {},
   "outputs": [],
   "source": [
    "import torch\n",
    "import torchvision\n",
    "import torchvision.transforms as transforms\n",
    "import torch.nn as nn\n",
    "import matplotlib.pyplot as plt"
   ]
  },
  {
   "cell_type": "markdown",
   "id": "ad04ee1b",
   "metadata": {},
   "source": [
    "# Device"
   ]
  },
  {
   "cell_type": "code",
   "execution_count": 3,
   "id": "e82d88b6",
   "metadata": {},
   "outputs": [
    {
     "data": {
      "text/plain": [
       "'cpu'"
      ]
     },
     "execution_count": 3,
     "metadata": {},
     "output_type": "execute_result"
    }
   ],
   "source": [
    "device = 'GPU' if torch.cuda.is_available() else 'cpu'\n",
    "device"
   ]
  },
  {
   "cell_type": "markdown",
   "id": "10d0e332",
   "metadata": {},
   "source": [
    "# parameters"
   ]
  },
  {
   "cell_type": "code",
   "execution_count": 4,
   "id": "3a2332f4",
   "metadata": {},
   "outputs": [],
   "source": [
    "input_size = 784\n",
    "hidden_layers = 100\n",
    "learning_rate = 0.001\n",
    "num_epoch = 2\n",
    "num_classes = 10 \n",
    "batch_size = 100"
   ]
  },
  {
   "cell_type": "markdown",
   "id": "244a2424",
   "metadata": {},
   "source": [
    "# Datas"
   ]
  },
  {
   "cell_type": "code",
   "execution_count": 9,
   "id": "40cfe987",
   "metadata": {},
   "outputs": [],
   "source": [
    "train_data = torchvision.datasets.MNIST(root='./dataMNIST', train=True, transform=transforms.ToTensor(),download=True)\n",
    "test_data = torchvision.datasets.MNIST(root='./dataMNIST', train=False, transform=transforms.ToTensor())\n",
    "\n",
    "train_loader = torch.utils.data.DataLoader(dataset=train_data, batch_size=batch_size, shuffle=True)\n",
    "test_loader = torch.utils.data.DataLoader(dataset=test_data, batch_size=batch_size, shuffle=True)\n"
   ]
  },
  {
   "cell_type": "code",
   "execution_count": 5,
   "id": "d2d708b7",
   "metadata": {},
   "outputs": [
    {
     "name": "stdout",
     "output_type": "stream",
     "text": [
      "60000\n",
      "10000\n",
      "600\n",
      "100\n"
     ]
    }
   ],
   "source": [
    "print(len(train_data))\n",
    "print(len(test_data))\n",
    "\n",
    "print(len(train_loader))\n",
    "print(len(test_loader))"
   ]
  },
  {
   "cell_type": "markdown",
   "id": "e1aee7fa",
   "metadata": {},
   "source": [
    "# Batch"
   ]
  },
  {
   "cell_type": "code",
   "execution_count": 6,
   "id": "22dbc705",
   "metadata": {},
   "outputs": [
    {
     "data": {
      "text/plain": [
       "(torch.Size([100, 1, 28, 28]), torch.Size([100]))"
      ]
     },
     "execution_count": 6,
     "metadata": {},
     "output_type": "execute_result"
    }
   ],
   "source": [
    "batch = next(iter(train_loader))\n",
    "images, labels = batch\n",
    "images.shape, labels.shape"
   ]
  },
  {
   "cell_type": "code",
   "execution_count": 7,
   "id": "34112d10",
   "metadata": {},
   "outputs": [
    {
     "data": {
      "text/plain": [
       "28"
      ]
     },
     "execution_count": 7,
     "metadata": {},
     "output_type": "execute_result"
    }
   ],
   "source": [
    "len(images[0][0]) # meaning we've 28 tensors i think each tensor represents a horizontal line"
   ]
  },
  {
   "cell_type": "code",
   "execution_count": 8,
   "id": "9c885587",
   "metadata": {},
   "outputs": [],
   "source": [
    "# images[0][0]"
   ]
  },
  {
   "cell_type": "markdown",
   "id": "1bcee67f",
   "metadata": {},
   "source": [
    "# Visualization"
   ]
  },
  {
   "cell_type": "code",
   "execution_count": 9,
   "id": "b83f9ecc",
   "metadata": {},
   "outputs": [
    {
     "data": {
      "image/png": "[encoded data removed]",
      "text/plain": [
       "<Figure size 432x288 with 1 Axes>"
      ]
     },
     "metadata": {
      "needs_background": "light"
     },
     "output_type": "display_data"
    }
   ],
   "source": [
    "plt.imshow(images[0][0], cmap='gray')\n",
    "plt.show()"
   ]
  },
  {
   "cell_type": "markdown",
   "id": "fdcd7c1e",
   "metadata": {},
   "source": [
    "# Build Module"
   ]
  },
  {
   "cell_type": "code",
   "execution_count": 10,
   "id": "16df868b",
   "metadata": {},
   "outputs": [
    {
     "data": {
      "text/plain": [
       "LinearNeuralNetwork(\n",
       "  (lin_1): Linear(in_features=784, out_features=100, bias=True)\n",
       "  (relu): ReLU()\n",
       "  (lin_2): Linear(in_features=100, out_features=10, bias=True)\n",
       ")"
      ]
     },
     "execution_count": 10,
     "metadata": {},
     "output_type": "execute_result"
    }
   ],
   "source": [
    "class LinearNeuralNetwork(nn.Module):\n",
    "    \n",
    "    def __init__(self, input_size, hidden_layers, num_classes):\n",
    "        super(LinearNeuralNetwork, self).__init__()\n",
    "        \n",
    "        self.lin_1 = nn.Linear(in_features=input_size, out_features=hidden_layers)\n",
    "        self.relu = nn.ReLU()\n",
    "        self.lin_2 = nn.Linear(in_features=hidden_layers, out_features=num_classes)\n",
    "        \n",
    "        \n",
    "    def forward(self, x):\n",
    "        out = self.lin_1(x)\n",
    "        out = self.relu(out)\n",
    "        out = self.lin_2(out)\n",
    "        return out\n",
    "    \n",
    "\n",
    "model = LinearNeuralNetwork(input_size, hidden_layers, num_classes)\n",
    "model"
   ]
  },
  {
   "cell_type": "markdown",
   "id": "b55395f1",
   "metadata": {},
   "source": [
    "# Loss & Optim"
   ]
  },
  {
   "cell_type": "code",
   "execution_count": 11,
   "id": "2fca3989",
   "metadata": {},
   "outputs": [],
   "source": [
    "critrsion = nn.CrossEntropyLoss()\n",
    "optimizer = torch.optim.Adam(model.parameters(), lr=learning_rate)\n"
   ]
  },
  {
   "cell_type": "markdown",
   "id": "b13a7500",
   "metadata": {},
   "source": [
    "# Trianing loop"
   ]
  },
  {
   "cell_type": "code",
   "execution_count": 12,
   "id": "6a4ad83d",
   "metadata": {},
   "outputs": [
    {
     "name": "stdout",
     "output_type": "stream",
     "text": [
      "Loss: 0.3503\n",
      "Loss: 0.2390\n",
      "Loss: 0.2764\n",
      "Loss: 0.3844\n",
      "Loss: 0.1390\n",
      "Loss: 0.3621\n",
      " >>> num_correct_Train_pred : 53415\n",
      " >>> Accuracy_Train in % : 89.025 \n",
      "Loss: 0.3321\n",
      "Loss: 0.2149\n",
      "Loss: 0.2432\n",
      "Loss: 0.2301\n",
      "Loss: 0.0710\n",
      "Loss: 0.1790\n",
      " >>> num_correct_Train_pred : 56590\n",
      " >>> Accuracy_Train in % : 94.31666666666668 \n"
     ]
    }
   ],
   "source": [
    "import time\n",
    "\n",
    "for epoch in range(2):\n",
    "    \n",
    "    ix = 0\n",
    "    corr_pred = 0\n",
    "    n_samples = 0 \n",
    "    \n",
    "    for images, labels in train_loader: # will loop 600 times. cuz 600 * 100 = 60,000\n",
    "        images = images.reshape(-1, 28*28).to(device=device)\n",
    "        labels = labels.to(device=device)\n",
    "\n",
    "        scores = model(images) # we've 100 predictions ten for each digits\n",
    "\n",
    "        loss = critrsion(scores, labels)\n",
    "        optimizer.zero_grad()\n",
    "\n",
    "        loss.backward()\n",
    "        optimizer.step()\n",
    "        \n",
    "        _, predictions = torch.max(scores, 1)\n",
    "        good_pred = (predictions == labels)\n",
    "                \n",
    "        corr_pred += good_pred.sum().item()\n",
    "        n_samples += labels.shape[0]\n",
    "        \n",
    "        ix += 1\n",
    "        \n",
    "        if ix % 100 == 0:\n",
    "            print (f'Loss: {loss.item():.4f}')\n",
    "            \n",
    "    print(f\" >>> num_correct_Train_pred : {corr_pred}\")\n",
    "    print(f\" >>> Accuracy_Train in % : {corr_pred / (n_samples) * 100} \")"
   ]
  },
  {
   "cell_type": "markdown",
   "id": "1696a768",
   "metadata": {},
   "source": [
    "# Test Loop"
   ]
  },
  {
   "cell_type": "code",
   "execution_count": 13,
   "id": "1e8a3ceb",
   "metadata": {},
   "outputs": [
    {
     "name": "stdout",
     "output_type": "stream",
     "text": [
      " >>> test_correct_pred : 9491\n",
      " >>> Accuracy_Train in % : 94.91000000000001 \n"
     ]
    }
   ],
   "source": [
    "# here we do not need to calculate the grad, cuz we do not want our model to see our new data.\n",
    "with torch.no_grad():\n",
    "    ix = 0\n",
    "    corr_test_pred = 0\n",
    "    n_test_samples = 0\n",
    "    \n",
    "    for images, labels in test_loader:\n",
    "        \n",
    "        images = images.reshape(-1, 28*28).to(device=device)\n",
    "        labels = labels.to(device=device)\n",
    "        \n",
    "        test_scores = model(images)\n",
    "        _, predictions = torch.max(test_scores, 1)\n",
    "        corr_test_pred += (predictions == labels).sum().item()\n",
    "        n_test_samples += labels.shape[0]    \n",
    "        \n",
    "    if ix % 100 == 0:\n",
    "        print(f\" >>> test_correct_pred : {corr_test_pred}\")\n",
    "        print(f\" >>> Accuracy_Train in % : {corr_test_pred / (n_test_samples) * 100} \")\n",
    "        "
   ]
  },
  {
   "cell_type": "code",
   "execution_count": null,
   "id": "5b4913ae",
   "metadata": {},
   "outputs": [],
   "source": []
  }
 ],
 "metadata": {
  "kernelspec": {
   "display_name": "Python 3 (ipykernel)",
   "language": "python",
   "name": "python3"
  },
  "language_info": {
   "codemirror_mode": {
    "name": "ipython",
    "version": 3
   },
   "file_extension": ".py",
   "mimetype": "text/x-python",
   "name": "python",
   "nbconvert_exporter": "python",
   "pygments_lexer": "ipython3",
   "version": "3.8.8"
  }
 },
 "nbformat": 4,
 "nbformat_minor": 5
}
