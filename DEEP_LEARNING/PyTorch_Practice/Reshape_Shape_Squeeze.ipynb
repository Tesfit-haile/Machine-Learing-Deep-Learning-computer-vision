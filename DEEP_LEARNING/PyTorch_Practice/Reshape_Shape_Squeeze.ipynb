{
 "cells": [
  {
   "cell_type": "code",
   "execution_count": 10,
   "id": "2006a78c",
   "metadata": {},
   "outputs": [],
   "source": [
    "import torch"
   ]
  },
  {
   "cell_type": "code",
   "execution_count": 11,
   "id": "63db5bee",
   "metadata": {},
   "outputs": [
    {
     "name": "stdout",
     "output_type": "stream",
     "text": [
      "tensor([[1, 2],\n",
      "        [3, 4],\n",
      "        [5, 6],\n",
      "        [7, 8]])\n"
     ]
    }
   ],
   "source": [
    "# create an 1 D etnsor with 8 elements\n",
    "a = torch.tensor([1, 2, 3, 4, 5, 6, 7, 8])\n",
    "# reshape tensor into 4 rows and 2 columns\n",
    "print(a.reshape([4, 2]))\n"
   ]
  },
  {
   "cell_type": "code",
   "execution_count": null,
   "id": "a77ccd78",
   "metadata": {},
   "outputs": [],
   "source": []
  },
  {
   "cell_type": "code",
   "execution_count": 3,
   "id": "121d9362",
   "metadata": {},
   "outputs": [
    {
     "data": {
      "text/plain": [
       "torch.Size([6])"
      ]
     },
     "execution_count": 3,
     "metadata": {},
     "output_type": "execute_result"
    }
   ],
   "source": [
    "#### No dimentions\n",
    "x1 = torch.tensor([1,2,3,4,5,6])\n",
    "x1.shape"
   ]
  },
  {
   "cell_type": "code",
   "execution_count": 6,
   "id": "8a093082",
   "metadata": {},
   "outputs": [
    {
     "data": {
      "text/plain": [
       "torch.Size([1, 6])"
      ]
     },
     "execution_count": 6,
     "metadata": {},
     "output_type": "execute_result"
    }
   ],
   "source": [
    "#### One dimention\n",
    "x2 = torch.tensor([[1,2,3,4,5,6]])\n",
    "x2.shape"
   ]
  },
  {
   "cell_type": "code",
   "execution_count": 9,
   "id": "f83871e4",
   "metadata": {},
   "outputs": [
    {
     "data": {
      "text/plain": [
       "torch.Size([6])"
      ]
     },
     "execution_count": 9,
     "metadata": {},
     "output_type": "execute_result"
    }
   ],
   "source": [
    "#### Squeeze ---- will remove the dimention\n",
    "x.squeeze()\n",
    "x.shape"
   ]
  },
  {
   "cell_type": "code",
   "execution_count": 11,
   "id": "a535c79f",
   "metadata": {},
   "outputs": [
    {
     "data": {
      "text/plain": [
       "torch.Size([1, 1, 6])"
      ]
     },
     "execution_count": 11,
     "metadata": {},
     "output_type": "execute_result"
    }
   ],
   "source": [
    "#### squeeze --- with many dim\n",
    "x3 = torch.tensor([[[1,2,3,4,5,6]]])\n",
    "x3.squeeze() # it will print(num_tensor, num_dim, num_items)\n",
    "x3.shape "
   ]
  },
  {
   "cell_type": "code",
   "execution_count": null,
   "id": "dd0496f3",
   "metadata": {},
   "outputs": [],
   "source": [
    "# 1. create a function that checks the user inputs is a Uppercase or lowercase\n",
    "# 2. create a function that counts all the upercase and lowercase of the user inputs Separately \n",
    "\n",
    "# 3. create a function that converts only the first letter of the names to upercase 'siem and tesfit are friends'\n",
    "# 4. create a function that calculate the distance of two Points p1=[5, 8] p2=[22, 7]"
   ]
  },
  {
   "cell_type": "code",
   "execution_count": 8,
   "id": "2c59dc78",
   "metadata": {},
   "outputs": [
    {
     "name": "stdout",
     "output_type": "stream",
     "text": [
      "enter a wordThe Sun is Shinning\n",
      "the total num of upper  3 the total num of lower  16\n"
     ]
    }
   ],
   "source": [
    "a = input(\"enter a word\")\n",
    "\n",
    "def upper_lower(uplo):\n",
    "    \n",
    "    upr=0 #number of upper and lower\n",
    "    lwr=0\n",
    "    \n",
    "    for i in uplo:\n",
    "        \n",
    "        if i.isupper():\n",
    "            upr=upr+1\n",
    "        else:\n",
    "            lwr+=1\n",
    "            \n",
    "    return upr,lwr\n",
    "total = upper_lower(a)\n",
    "\n",
    "print(\"the total num of upper \",total[0],\"the total num of lower \", total[1])"
   ]
  },
  {
   "cell_type": "code",
   "execution_count": 5,
   "id": "55fb0545",
   "metadata": {},
   "outputs": [],
   "source": [
    "c = 'h'\n",
    "if 'i' in c:\n",
    "    print('jj')"
   ]
  },
  {
   "cell_type": "code",
   "execution_count": null,
   "id": "e8358c03",
   "metadata": {},
   "outputs": [],
   "source": [
    "a=str(input(\" enter a word    \"))\n",
    "def upper_lower(uplo):\n",
    "    upr=0 #number of upper and lower\n",
    "    lwr=0\n",
    "    for i in uplo:\n",
    "        if i.isupper():\n",
    "            upr=upr+1\n",
    "        else:\n",
    "            lwr+=1\n",
    "        return upr,lwr\n",
    "total=upper_lower(a)\n",
    "print(\"the total num of upper \",total[0],\"the total num of lower \", total[1])"
   ]
  },
  {
   "cell_type": "markdown",
   "id": "0bf922a1",
   "metadata": {},
   "source": [
    "<h2 style='width: 30%; color: red;'>TTTT!</h2>"
   ]
  },
  {
   "cell_type": "code",
   "execution_count": null,
   "id": "010c3016",
   "metadata": {},
   "outputs": [],
   "source": [
    "\n"
   ]
  },
  {
   "cell_type": "code",
   "execution_count": null,
   "id": "f742baa0",
   "metadata": {},
   "outputs": [],
   "source": []
  },
  {
   "cell_type": "code",
   "execution_count": null,
   "id": "5b1b44a4",
   "metadata": {},
   "outputs": [],
   "source": []
  }
 ],
 "metadata": {
  "kernelspec": {
   "display_name": "Python 3 (ipykernel)",
   "language": "python",
   "name": "python3"
  },
  "language_info": {
   "codemirror_mode": {
    "name": "ipython",
    "version": 3
   },
   "file_extension": ".py",
   "mimetype": "text/x-python",
   "name": "python",
   "nbconvert_exporter": "python",
   "pygments_lexer": "ipython3",
   "version": "3.8.8"
  }
 },
 "nbformat": 4,
 "nbformat_minor": 5
}
