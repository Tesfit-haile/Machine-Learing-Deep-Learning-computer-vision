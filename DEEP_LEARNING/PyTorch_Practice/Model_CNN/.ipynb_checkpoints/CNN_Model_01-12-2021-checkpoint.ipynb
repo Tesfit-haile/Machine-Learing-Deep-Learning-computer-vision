{
 "cells": [
  {
   "cell_type": "markdown",
   "id": "7a4a1ab6",
   "metadata": {},
   "source": [
    "# Optimizers define how NN learns !!!"
   ]
  },
  {
   "cell_type": "markdown",
   "id": "fcc98840",
   "metadata": {},
   "source": [
    "# imports"
   ]
  },
  {
   "cell_type": "code",
   "execution_count": 1,
   "id": "ac2f9c94",
   "metadata": {},
   "outputs": [],
   "source": [
    "import torch\n",
    "import torch.nn as nn\n",
    "import torch.nn.functional as F\n",
    "import torchvision\n",
    "import torchvision.transforms as transforms\n",
    "import matplotlib.pyplot as plt"
   ]
  },
  {
   "cell_type": "markdown",
   "id": "9b61f83d",
   "metadata": {},
   "source": [
    "# Device"
   ]
  },
  {
   "cell_type": "code",
   "execution_count": 2,
   "id": "8724bb43",
   "metadata": {},
   "outputs": [
    {
     "data": {
      "text/plain": [
       "'cpu'"
      ]
     },
     "execution_count": 2,
     "metadata": {},
     "output_type": "execute_result"
    }
   ],
   "source": [
    "device = 'CUDA' if torch.cuda.is_available() else 'cpu'\n",
    "device"
   ]
  },
  {
   "cell_type": "markdown",
   "id": "74a42534",
   "metadata": {},
   "source": [
    "# parameters"
   ]
  },
  {
   "cell_type": "code",
   "execution_count": 3,
   "id": "bc6c827b",
   "metadata": {},
   "outputs": [],
   "source": [
    "learning_rate = 0.001\n",
    "num_classes = 10\n",
    "num_epoch = 2\n",
    "batch_size = 100"
   ]
  },
  {
   "cell_type": "markdown",
   "id": "8d6eff47",
   "metadata": {},
   "source": [
    "# Datas"
   ]
  },
  {
   "cell_type": "code",
   "execution_count": 4,
   "id": "12c60f99",
   "metadata": {},
   "outputs": [],
   "source": [
    "training_data = torchvision.datasets.MNIST('dataMNIST/', train=True, transform=transforms.ToTensor(), download=True)\n",
    "testing_data  = torchvision.datasets.MNIST('dataMNIST/', train=False, transform=transforms.ToTensor(), download=True)\n",
    "\n",
    "train_loader = torch.utils.data.DataLoader(dataset=training_data, batch_size=batch_size, shuffle=True)\n",
    "test_loader = torch.utils.data.DataLoader(dataset=testing_data, batch_size=batch_size, shuffle=True) \n",
    "# i thik we've 10000 test samples\n"
   ]
  },
  {
   "cell_type": "markdown",
   "id": "83a0e6a9",
   "metadata": {},
   "source": [
    "# Build model"
   ]
  },
  {
   "cell_type": "code",
   "execution_count": 5,
   "id": "f0ea4c71",
   "metadata": {},
   "outputs": [
    {
     "data": {
      "text/plain": [
       "CNN(\n",
       "  (conv1): Conv2d(1, 8, kernel_size=(3, 3), stride=(1, 1), padding=(1, 1))\n",
       "  (pool): MaxPool2d(kernel_size=2, stride=2, padding=0, dilation=1, ceil_mode=False)\n",
       "  (conv2): Conv2d(8, 16, kernel_size=(3, 3), stride=(1, 1), padding=(1, 1))\n",
       "  (fc1): Linear(in_features=784, out_features=10, bias=True)\n",
       ")"
      ]
     },
     "execution_count": 5,
     "metadata": {},
     "output_type": "execute_result"
    }
   ],
   "source": [
    "class CNN(nn.Module):\n",
    "    \n",
    "    def __init__(self, input_channels=1, num_classes=10):\n",
    "        super(CNN, self).__init__()\n",
    "        \n",
    "        self.conv1 = nn.Conv2d(in_channels=1, out_channels=8, kernel_size=3, stride=1, padding=1) \n",
    "        self.pool = nn.MaxPool2d(kernel_size=2, stride=2)\n",
    "        self.conv2 = nn.Conv2d(in_channels=8, out_channels=16, kernel_size=3, stride=1, padding=1) \n",
    "\n",
    "        self.fc1 = nn.Linear(in_features=16*7*7, out_features=num_classes)\n",
    "        \n",
    "        \n",
    "    def forward(self, x):\n",
    "        out = F.relu(self.conv1(x))\n",
    "        out = self.pool(out)\n",
    "        out = F.relu(self.conv2(out))\n",
    "        out = self.pool(out)\n",
    "        \n",
    "        x = x.reshape(x.shape[0], -1)\n",
    "        x = self.fc1(x)\n",
    "        return x\n",
    "    \n",
    "    \n",
    "model = CNN().to(device=device)\n",
    "model"
   ]
  },
  {
   "cell_type": "code",
   "execution_count": null,
   "id": "966fb6cc",
   "metadata": {},
   "outputs": [],
   "source": []
  },
  {
   "cell_type": "markdown",
   "id": "ee5e0603",
   "metadata": {},
   "source": [
    "# Loss and optim"
   ]
  },
  {
   "cell_type": "code",
   "execution_count": 6,
   "id": "b35fc331",
   "metadata": {},
   "outputs": [],
   "source": [
    "criterion = nn.CrossEntropyLoss()\n",
    "optimizer = torch.optim.Adam(model.parameters(), lr=learning_rate)"
   ]
  },
  {
   "cell_type": "markdown",
   "id": "d6d3d656",
   "metadata": {},
   "source": [
    "# Training loop"
   ]
  },
  {
   "cell_type": "code",
   "execution_count": 7,
   "id": "22691ab7",
   "metadata": {},
   "outputs": [
    {
     "data": {
      "text/plain": [
       "(torch.Size([1, 28, 28]), 5)"
      ]
     },
     "execution_count": 7,
     "metadata": {},
     "output_type": "execute_result"
    }
   ],
   "source": [
    "batch = next(iter(training_data))\n",
    "images, labels = batch\n",
    "images.shape, labels"
   ]
  },
  {
   "cell_type": "code",
   "execution_count": 8,
   "id": "71488930",
   "metadata": {},
   "outputs": [
    {
     "data": {
      "image/png": "[encoded data removed]",
      "text/plain": [
       "<Figure size 432x288 with 1 Axes>"
      ]
     },
     "metadata": {
      "needs_background": "light"
     },
     "output_type": "display_data"
    }
   ],
   "source": [
    "plt.imshow(images[0])\n",
    "plt.show()"
   ]
  },
  {
   "cell_type": "code",
   "execution_count": 9,
   "id": "0af3b515",
   "metadata": {},
   "outputs": [
    {
     "name": "stdout",
     "output_type": "stream",
     "text": [
      "Running epoch... 1\n",
      " Loss_Error: 0.6639540195465088\n",
      " Loss_Error: 0.5897196531295776\n",
      " Loss_Error: 0.560381293296814\n",
      " Loss_Error: 0.5615777373313904\n",
      " Loss_Error: 0.405542254447937\n",
      " Loss_Error: 0.40613189339637756\n",
      "Accuracey >> : 85.365\n",
      "Running epoch... 2\n",
      " Loss_Error: 0.43273136019706726\n",
      " Loss_Error: 0.3961123526096344\n",
      " Loss_Error: 0.3570247292518616\n",
      " Loss_Error: 0.3515807092189789\n",
      " Loss_Error: 0.36929184198379517\n",
      " Loss_Error: 0.259144127368927\n",
      "Accuracey >> : 90.72666666666667\n",
      "Running epoch... 3\n",
      " Loss_Error: 0.22170597314834595\n",
      " Loss_Error: 0.29329922795295715\n",
      " Loss_Error: 0.35727259516716003\n",
      " Loss_Error: 0.45554840564727783\n",
      " Loss_Error: 0.3881005346775055\n",
      " Loss_Error: 0.2467346340417862\n",
      "Accuracey >> : 91.515\n"
     ]
    }
   ],
   "source": [
    "for epoch in range(3):\n",
    "    good_pred = 0\n",
    "    ix = 0\n",
    "    print(f\"Running epoch... {epoch + 1 }\")\n",
    "    for images, labels in train_loader:\n",
    "        images = images.to(device)\n",
    "        labels = labels.to(device)\n",
    "\n",
    "        score_pred = model(images)\n",
    "\n",
    "        loss = criterion(score_pred, labels)\n",
    "        optimizer.zero_grad()\n",
    "\n",
    "        loss.backward()\n",
    "        optimizer.step()\n",
    "\n",
    "        _, predictions = torch.max(score_pred, 1)\n",
    "\n",
    "        good_pred += (predictions == labels).sum()\n",
    "        ix += 1\n",
    "\n",
    "        if ix % 100 == 0:\n",
    "            print(f\" Loss_Error: {loss}\")\n",
    "\n",
    "    print(f\"Accuracey >> : {float(good_pred) / len(train_loader)}\")"
   ]
  },
  {
   "cell_type": "markdown",
   "id": "25de2743",
   "metadata": {},
   "source": [
    "# Testing loop"
   ]
  },
  {
   "cell_type": "code",
   "execution_count": 10,
   "id": "17f1b4b8",
   "metadata": {},
   "outputs": [],
   "source": [
    "from sklearn.metrics import accuracy_score "
   ]
  },
  {
   "cell_type": "code",
   "execution_count": 11,
   "id": "9811405a",
   "metadata": {},
   "outputs": [
    {
     "name": "stdout",
     "output_type": "stream",
     "text": [
      "Accuracey >> : 91.97\n"
     ]
    }
   ],
   "source": [
    "with torch.no_grad():\n",
    "    \n",
    "    corr_pred = 0\n",
    "    num_samples = 0\n",
    "    \n",
    "    for x, y in test_loader:\n",
    "        x = x.to(device)\n",
    "        y = y.to(device)\n",
    "        \n",
    "        scores = model(x)\n",
    "        \n",
    "        _, predictions = torch.max(scores, 1)\n",
    "        corr_pred += (predictions == y).sum()\n",
    "        \n",
    "    print(f\"Accuracey >> : {float(corr_pred) / len(test_loader)}\")\n",
    "    "
   ]
  },
  {
   "cell_type": "code",
   "execution_count": 12,
   "id": "ab8eb83a",
   "metadata": {},
   "outputs": [],
   "source": [
    "######"
   ]
  },
  {
   "cell_type": "code",
   "execution_count": null,
   "id": "1d6994d7",
   "metadata": {},
   "outputs": [],
   "source": []
  }
 ],
 "metadata": {
  "kernelspec": {
   "display_name": "Python 3 (ipykernel)",
   "language": "python",
   "name": "python3"
  },
  "language_info": {
   "codemirror_mode": {
    "name": "ipython",
    "version": 3
   },
   "file_extension": ".py",
   "mimetype": "text/x-python",
   "name": "python",
   "nbconvert_exporter": "python",
   "pygments_lexer": "ipython3",
   "version": "3.8.8"
  }
 },
 "nbformat": 4,
 "nbformat_minor": 5
}
