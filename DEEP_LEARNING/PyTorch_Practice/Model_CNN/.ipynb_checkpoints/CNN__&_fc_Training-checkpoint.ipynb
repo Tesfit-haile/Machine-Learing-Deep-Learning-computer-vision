{
 "cells": [
  {
   "cell_type": "markdown",
   "id": "1bb86c08",
   "metadata": {},
   "source": [
    "### Single epoch means one iteration with all the batchs in our training & testing set"
   ]
  },
  {
   "cell_type": "markdown",
   "id": "e6d2a9c6",
   "metadata": {},
   "source": [
    "### Trianing with multiple epochs"
   ]
  },
  {
   "cell_type": "code",
   "execution_count": 1,
   "id": "fcfbc077",
   "metadata": {},
   "outputs": [],
   "source": [
    "# pip install import-ipynb\n",
    "import import_ipynb # i am importing this file from the other file.\n",
    "# from Training_WithSingle_Batch_PyTorch_CNN_calculate_loss_Gradient_Descent_update_weight import network"
   ]
  },
  {
   "cell_type": "code",
   "execution_count": 2,
   "id": "c688fb52",
   "metadata": {},
   "outputs": [],
   "source": [
    "import torch\n",
    "import torch.nn as nn\n",
    "import torch.nn.functional as F\n",
    "import torch.optim as optim\n",
    "\n",
    "import torchvision\n",
    "import torchvision.transforms as transforms\n",
    "\n",
    "torch.set_printoptions(linewidth=120)\n",
    "\n",
    "\n",
    "train_set = torchvision.datasets.FashionMNIST(\n",
    "    './FashionMNIST',\n",
    "    train=True,\n",
    "    download=True,\n",
    "    transform=transforms.Compose([transforms.ToTensor()]) # converting ToTensor\n",
    ")\n"
   ]
  },
  {
   "cell_type": "code",
   "execution_count": 3,
   "id": "c54c2935",
   "metadata": {},
   "outputs": [],
   "source": [
    "class NetWork(nn.Module):\n",
    "    \n",
    "    def __init__(self):\n",
    "        super(NetWork, self).__init__()\n",
    "        \n",
    "        #### conv layers\n",
    "        self.conv1 = nn.Conv2d(in_channels=1, out_channels=6, kernel_size=5)\n",
    "        self.conv2 = nn.Conv2d(in_channels=6, out_channels=12, kernel_size=5)  \n",
    "        \n",
    "        #### Linear layers\n",
    "        self.fc1 = nn.Linear(in_features= 12*4*4, out_features=120)\n",
    "        self.fc2 = nn.Linear(in_features=120 , out_features=60)\n",
    "        self.out = nn.Linear(in_features=60, out_features=10)\n",
    "            \n",
    "        \n",
    "    def forward(self, t):\n",
    "        t = t #input layer\n",
    "        \n",
    "        #### hidden conv1 layer\n",
    "        t = self.conv1(t)\n",
    "        t = F.relu(t)\n",
    "        t = F.max_pool2d(t, kernel_size=2, stride=2)\n",
    "        \n",
    "        #### hidden conv2 layer\n",
    "        t = self.conv2(t)\n",
    "        t = F.relu(t)\n",
    "        t = F.max_pool2d(t, kernel_size=2, stride=2)\n",
    "        \n",
    "        #### hidden Linear_1 layer\n",
    "        t = t.reshape(-1, 12*4*4)\n",
    "        t = self.fc1(t)\n",
    "        t = F.relu(t)\n",
    "        \n",
    "        #### hidden Linear_2 layer\n",
    "        t = self.fc2(t)\n",
    "        t = F.relu(t)\n",
    "        \n",
    "        #### hidden Linear_out layer\n",
    "        t = self.out(t)\n",
    "        \n",
    "        return t\n",
    "        "
   ]
  },
  {
   "cell_type": "code",
   "execution_count": 4,
   "id": "90019cf7",
   "metadata": {},
   "outputs": [],
   "source": [
    "network = NetWork()"
   ]
  },
  {
   "cell_type": "code",
   "execution_count": 5,
   "id": "c4f26714",
   "metadata": {},
   "outputs": [],
   "source": [
    "train_loader = torch.utils.data.DataLoader(train_set, batch_size=100)\n",
    "optimizer = optim.Adam(network.parameters(), lr=0.01)"
   ]
  },
  {
   "cell_type": "code",
   "execution_count": 6,
   "id": "c8df399c",
   "metadata": {},
   "outputs": [],
   "source": [
    "#### will calu the num of correct prediction out of the batch_size\n",
    "def get_num_corrected(pred, labels):\n",
    "    return pred.argmax(dim=1).eq(labels).sum().item()\n"
   ]
  },
  {
   "cell_type": "markdown",
   "id": "8695fe97",
   "metadata": {},
   "source": [
    "# For a single batch"
   ]
  },
  {
   "cell_type": "code",
   "execution_count": 7,
   "id": "ceb1d751",
   "metadata": {},
   "outputs": [
    {
     "name": "stdout",
     "output_type": "stream",
     "text": [
      "total correct pred: 47677\n",
      "total Error pred: 326.7811981588602\n"
     ]
    }
   ],
   "source": [
    "# instead of the next(iter()) ------ we use for loop\n",
    "\n",
    "total_loss = 0\n",
    "total_corr = 0\n",
    "\n",
    "for batch in train_loader: ### looping through 100 iter or batch w+ means 100 * 600 = 60,000\n",
    "    #get batch\n",
    "    images, labels = batch\n",
    "    #pass batch\n",
    "    preds = network(images)\n",
    "    #calcu loss\n",
    "    loss = F.cross_entropy(preds, labels)\n",
    "    #calcu gradients\n",
    "    optimizer.zero_grad()\n",
    "    loss.backward()\n",
    "    #update weights\n",
    "    optimizer.step()\n",
    "    \n",
    "    total_loss += loss.item()\n",
    "    total_corr += get_num_corrected(preds, labels)\n",
    "\n",
    "    \n",
    "print(f\"total correct pred: {total_corr}\")\n",
    "print(f\"total Error pred: {total_loss}\")"
   ]
  },
  {
   "cell_type": "code",
   "execution_count": 8,
   "id": "58d2007c",
   "metadata": {},
   "outputs": [
    {
     "name": "stdout",
     "output_type": "stream",
     "text": [
      "accuracy: 79.46166666666667 \n"
     ]
    }
   ],
   "source": [
    "accur = 100 * total_corr / len(train_set)\n",
    "print(f\"accuracy: {accur} \")"
   ]
  },
  {
   "cell_type": "code",
   "execution_count": null,
   "id": "e54a1601",
   "metadata": {},
   "outputs": [],
   "source": []
  },
  {
   "cell_type": "markdown",
   "id": "ed53491f",
   "metadata": {},
   "source": [
    "# For multiple batch ----- by useing epoch nums..."
   ]
  },
  {
   "cell_type": "code",
   "execution_count": null,
   "id": "d5bad1e6",
   "metadata": {},
   "outputs": [],
   "source": [
    "# instead of the next(iter()) ------ we use for loop\n",
    "\n",
    "\n",
    "for epoch in range(3):\n",
    "    \n",
    "    total_loss_2 = 0\n",
    "    total_corr_2 = 0\n",
    "    \n",
    "    # single batch contains 600 iters\n",
    "    for images, labels in train_loader: ### looping through 100 iter or batch w+ means 100 * batch_2(600) = 60,000\n",
    "        #pass batch\n",
    "        pred_scores = network(images)\n",
    "        \n",
    "        #calcu loss\n",
    "        loss = F.cross_entropy(pred_scores, labels)\n",
    "        \n",
    "        #calcu gradients\n",
    "        optimizer.zero_grad()\n",
    "        loss.backward()\n",
    "        \n",
    "        #update weights\n",
    "        optimizer.step()\n",
    "\n",
    "        total_loss_2 += loss.item()\n",
    "        total_corr_2 += get_num_corrected(pred_scores, labels)\n",
    "\n",
    "    print(f\"epoch:{epoch}, total correct pred:{total_corr_2}, total Error pred:{total_loss_2}\")\n",
    "    \n",
    "accur_2 = 100 * total_corr_2 / len(train_set)\n",
    "print(f\"accuracy: {accur_2}\")\n"
   ]
  },
  {
   "cell_type": "code",
   "execution_count": null,
   "id": "0496d0d5",
   "metadata": {},
   "outputs": [],
   "source": []
  },
  {
   "cell_type": "code",
   "execution_count": null,
   "id": "e38bd06b",
   "metadata": {},
   "outputs": [],
   "source": []
  },
  {
   "cell_type": "code",
   "execution_count": null,
   "id": "31681e4a",
   "metadata": {},
   "outputs": [],
   "source": []
  },
  {
   "cell_type": "code",
   "execution_count": null,
   "id": "f68fb650",
   "metadata": {},
   "outputs": [],
   "source": []
  },
  {
   "cell_type": "code",
   "execution_count": null,
   "id": "92ff57b3",
   "metadata": {},
   "outputs": [],
   "source": []
  },
  {
   "cell_type": "code",
   "execution_count": null,
   "id": "185a2c2b",
   "metadata": {},
   "outputs": [],
   "source": []
  },
  {
   "cell_type": "code",
   "execution_count": null,
   "id": "2e8893b4",
   "metadata": {},
   "outputs": [],
   "source": []
  },
  {
   "cell_type": "code",
   "execution_count": null,
   "id": "de2d3f43",
   "metadata": {},
   "outputs": [],
   "source": []
  },
  {
   "cell_type": "code",
   "execution_count": null,
   "id": "e23025b2",
   "metadata": {},
   "outputs": [],
   "source": []
  },
  {
   "cell_type": "code",
   "execution_count": null,
   "id": "f5f35d04",
   "metadata": {},
   "outputs": [],
   "source": []
  },
  {
   "cell_type": "code",
   "execution_count": null,
   "id": "00abea8a",
   "metadata": {},
   "outputs": [],
   "source": []
  },
  {
   "cell_type": "code",
   "execution_count": null,
   "id": "e8783b91",
   "metadata": {},
   "outputs": [],
   "source": []
  },
  {
   "cell_type": "code",
   "execution_count": null,
   "id": "19929e54",
   "metadata": {},
   "outputs": [],
   "source": []
  },
  {
   "cell_type": "code",
   "execution_count": null,
   "id": "544da0a2",
   "metadata": {},
   "outputs": [],
   "source": [
    "# lets say: - Royal, me, and Siem are trained to recognize a dog's face. \n",
    "    \n",
    "# Royal trained for the eye, \n",
    "# I trained for the mouth, \n",
    "# Siem trained for the ear. \n",
    "\n",
    "# NOW the trainer asked as to predict a cat's face. \n",
    "# The scale is between 1 & 0, 1 is good prediction and 0 is bad prediction.\n",
    "\n",
    "# SO. Royal predicted 0.40 for the eye. \n",
    "# I predicted 0.10 for the mouth. \n",
    "# Siem predicted 0.30 for the ear. \n",
    "\n",
    "# SO the trainer need to change the attributes or features of the dog's face to digits, \n",
    "# THEN he will multiply it with our predictions in order \n",
    "# to check our predctions for the cat's face. \n",
    "\n",
    "# NOW the formula is going to be Face = eye * 0.30 + mouth* 0.20 + ear + 0.60.  \n",
    "# so now the trainer need to chose one of the features and assign to it a bigger number(weight)\n",
    "# which in this case is the ear because ear is more unique and permanent. \n",
    "\n",
    "# on the above the trainer gave higher number or weight to the ear because i know ear is more unique.\n",
    "\n",
    "\n",
    "# BUT in Neural Network how do we know \n",
    "# which attributes or features are unique or most important for better prediction ? so that we can \n",
    "# give higher number or weight."
   ]
  },
  {
   "cell_type": "code",
   "execution_count": null,
   "id": "806b012a",
   "metadata": {},
   "outputs": [],
   "source": []
  }
 ],
 "metadata": {
  "kernelspec": {
   "display_name": "Python 3 (ipykernel)",
   "language": "python",
   "name": "python3"
  },
  "language_info": {
   "codemirror_mode": {
    "name": "ipython",
    "version": 3
   },
   "file_extension": ".py",
   "mimetype": "text/x-python",
   "name": "python",
   "nbconvert_exporter": "python",
   "pygments_lexer": "ipython3",
   "version": "3.8.8"
  }
 },
 "nbformat": 4,
 "nbformat_minor": 5
}
