{
 "cells": [
  {
   "cell_type": "code",
   "execution_count": 1,
   "id": "ab8e5ba7",
   "metadata": {},
   "outputs": [],
   "source": [
    "import torch.nn as nn\n",
    "import torch.nn.functional as F"
   ]
  },
  {
   "cell_type": "markdown",
   "id": "d3ad9800",
   "metadata": {},
   "source": [
    "# Simple NetWork"
   ]
  },
  {
   "cell_type": "code",
   "execution_count": 2,
   "id": "0dd7fe6a",
   "metadata": {},
   "outputs": [],
   "source": [
    "class NetWork:\n",
    "    \n",
    "    def __init__(self):\n",
    "        self.layer = None\n",
    "        \n",
    "        \n",
    "    def forward(self, t):\n",
    "        t = self.layer(t)\n",
    "        return t\n",
    "        "
   ]
  },
  {
   "cell_type": "markdown",
   "id": "af6fd91b",
   "metadata": {},
   "source": [
    "# PyTorch Neural NetWork"
   ]
  },
  {
   "cell_type": "code",
   "execution_count": 9,
   "id": "d933527e",
   "metadata": {},
   "outputs": [],
   "source": [
    "import torch.nn as nn\n",
    "import torch.nn.functional as F\n",
    "\n",
    "class NetWork_2(nn.Module):\n",
    "    \n",
    "    def __init__(self):\n",
    "        super(NetWork_2, self).__init__()\n",
    "        \n",
    "        #Convolutional layers\n",
    "        self.conv1 = nn.Conv2d(in_channels=1, out_channels=6, kernel_size=5)\n",
    "        self.conv2 = nn.Conv2d(in_channels=6, out_channels=12, kernel_size=5)\n",
    "        \n",
    "        # fc means fully connected layers #Linear layers\n",
    "        self.fc1 = nn.Linear(in_features=12*4*4, out_features=120)\n",
    "        self.fc2 = nn.Linear(in_features=120, out_features=60)\n",
    "        self.out = nn.Linear(in_features=60, out_features=8)\n",
    "        \n",
    "    \n",
    "    def forward(self, t):\n",
    "        # Implement forward\n",
    "        t = t\n",
    "        \n",
    "        # (1)\n",
    "        t = self.conv1(t)\n",
    "        t = F.relu(t)\n",
    "        t = F.max_pool2d(t, kernel_size=2, stride=2)\n",
    "        \n",
    "        #(2) Hiidden layer\n",
    "        t = self.conv2(t)\n",
    "        t = F.relu(t)\n",
    "        t = F.max_pool2d(t, kernel_size=2, stride=2)\n",
    "        \n",
    "        # (3) Linear Hidden layer\n",
    "        t = t.reshape(-1, 12*4*4) \n",
    "        #12 the num of the output layer that comes from the previous layer \n",
    "        # 4*4 is the hieght and width of each of the 12 channels \n",
    "        t = self.fc1(t)\n",
    "        t = F.relu(t)\n",
    "        \n",
    "        # (4) Linear Hidden layer\n",
    "        t = self.fc2(t)\n",
    "        t = F.relu(t)\n",
    "        \n",
    "        # (5) output layer\n",
    "        t = self.out(t)\n",
    "        t = F.softmax(t, dim=1)\n",
    "        \n",
    "        return t\n",
    "     "
   ]
  },
  {
   "cell_type": "code",
   "execution_count": 10,
   "id": "0da3ad47",
   "metadata": {},
   "outputs": [
    {
     "data": {
      "text/plain": [
       "NetWork_2(\n",
       "  (conv1): Conv2d(1, 6, kernel_size=(5, 5), stride=(1, 1))\n",
       "  (conv2): Conv2d(6, 12, kernel_size=(5, 5), stride=(1, 1))\n",
       "  (fc1): Linear(in_features=192, out_features=120, bias=True)\n",
       "  (fc2): Linear(in_features=120, out_features=60, bias=True)\n",
       "  (out): Linear(in_features=60, out_features=8, bias=True)\n",
       ")"
      ]
     },
     "execution_count": 10,
     "metadata": {},
     "output_type": "execute_result"
    }
   ],
   "source": [
    "network = NetWork_2()\n",
    "network"
   ]
  },
  {
   "cell_type": "code",
   "execution_count": 18,
   "id": "6cc2ebc0",
   "metadata": {},
   "outputs": [
    {
     "name": "stdout",
     "output_type": "stream",
     "text": [
      "192\n"
     ]
    }
   ],
   "source": [
    "print(12*4*4)"
   ]
  },
  {
   "cell_type": "code",
   "execution_count": 11,
   "id": "58dd99bc",
   "metadata": {},
   "outputs": [
    {
     "data": {
      "text/plain": [
       "torch.Size([120, 192])"
      ]
     },
     "execution_count": 11,
     "metadata": {},
     "output_type": "execute_result"
    }
   ],
   "source": [
    "network.fc1.weight.shape"
   ]
  },
  {
   "cell_type": "code",
   "execution_count": 12,
   "id": "65cde0f9",
   "metadata": {},
   "outputs": [
    {
     "data": {
      "text/plain": [
       "torch.Size([60, 120])"
      ]
     },
     "execution_count": 12,
     "metadata": {},
     "output_type": "execute_result"
    }
   ],
   "source": [
    "network.fc2.weight.shape"
   ]
  },
  {
   "cell_type": "code",
   "execution_count": null,
   "id": "2829594e",
   "metadata": {},
   "outputs": [],
   "source": [
    "# for params in network.parameters():\n",
    "#     print(params.shape)"
   ]
  },
  {
   "cell_type": "code",
   "execution_count": null,
   "id": "20f4e1bf",
   "metadata": {},
   "outputs": [],
   "source": [
    "# for name, params in network.named_parameters():\n",
    "#     print(name, '----------->', params.shape)"
   ]
  },
  {
   "cell_type": "markdown",
   "id": "66f08bf9",
   "metadata": {},
   "source": [
    "# ========================================================="
   ]
  },
  {
   "cell_type": "markdown",
   "id": "ba9fee4f",
   "metadata": {},
   "source": [
    "# =========================================================\n"
   ]
  },
  {
   "cell_type": "code",
   "execution_count": null,
   "id": "aec72b1f",
   "metadata": {},
   "outputs": [],
   "source": []
  },
  {
   "cell_type": "markdown",
   "id": "f0c5d4c0",
   "metadata": {},
   "source": [
    "# Hyperparameters are parameters thier values are picked arbitrary "
   ]
  },
  {
   "cell_type": "markdown",
   "id": "2a28e7cb",
   "metadata": {},
   "source": [
    "# Learnable parameters are params whose values are learned during training\n",
    "\n",
    "1. with LPs we typically start with arbitrary values.\n",
    "2. and then thoes values get updated while the Network is learning or runing.\n",
    "3. infact the Network is learning means we're looking the appropriate values for the LPs\n",
    "4. THE appropriate values are values that minimizes the lost function.\n"
   ]
  },
  {
   "cell_type": "markdown",
   "id": "9a814ae5",
   "metadata": {},
   "source": [
    "# Where are the Learnable parameters ? \n",
    "* they are inside the inherted NN class \n",
    "* so we can inspect them easlly from the class we extend.\n",
    "* I thin weight is LP"
   ]
  },
  {
   "cell_type": "code",
   "execution_count": null,
   "id": "e440da90",
   "metadata": {},
   "outputs": [],
   "source": []
  },
  {
   "cell_type": "code",
   "execution_count": null,
   "id": "73b9aaef",
   "metadata": {},
   "outputs": [],
   "source": []
  }
 ],
 "metadata": {
  "kernelspec": {
   "display_name": "Python 3 (ipykernel)",
   "language": "python",
   "name": "python3"
  },
  "language_info": {
   "codemirror_mode": {
    "name": "ipython",
    "version": 3
   },
   "file_extension": ".py",
   "mimetype": "text/x-python",
   "name": "python",
   "nbconvert_exporter": "python",
   "pygments_lexer": "ipython3",
   "version": "3.8.8"
  }
 },
 "nbformat": 4,
 "nbformat_minor": 5
}
