{
 "cells": [
  {
   "cell_type": "markdown",
   "id": "1bb86c08",
   "metadata": {},
   "source": [
    "### Single epoch means one iteration with all the batchs in our training & testing set"
   ]
  },
  {
   "cell_type": "markdown",
   "id": "e6d2a9c6",
   "metadata": {},
   "source": [
    "### Trianing with multiple epochs"
   ]
  },
  {
   "cell_type": "code",
   "execution_count": 1,
   "id": "fcfbc077",
   "metadata": {},
   "outputs": [],
   "source": [
    "# # pip install import-ipynb\n",
    "# import import_ipynb # i am importing this file from the other file.\n",
    "# # from Training_WithSingle_Batch_PyTorch_CNN_calculate_loss_Gradient_Descent_update_weight import network"
   ]
  },
  {
   "cell_type": "code",
   "execution_count": 4,
   "id": "c688fb52",
   "metadata": {},
   "outputs": [
    {
     "data": {
      "text/plain": [
       "(60000, 600)"
      ]
     },
     "execution_count": 4,
     "metadata": {},
     "output_type": "execute_result"
    }
   ],
   "source": [
    "import torch\n",
    "import torch.nn as nn\n",
    "import torch.nn.functional as F\n",
    "import torch.optim as optim\n",
    "\n",
    "import torchvision\n",
    "import torchvision.transforms as transforms\n",
    "\n",
    "torch.set_printoptions(linewidth=120)\n",
    "\n",
    "\n",
    "train_set = torchvision.datasets.FashionMNIST(\n",
    "    './FashionMNIST',\n",
    "    train=True,\n",
    "    download=True,\n",
    "    transform=transforms.Compose([transforms.ToTensor()]) # converting ToTensor\n",
    ")\n",
    "train_loader = torch.utils.data.DataLoader(train_set, batch_size=100)\n",
    "\n",
    "\n",
    "len(train_set), len(train_loader)\n"
   ]
  },
  {
   "cell_type": "code",
   "execution_count": 6,
   "id": "108c6d74",
   "metadata": {},
   "outputs": [
    {
     "ename": "TypeError",
     "evalue": "'DataLoader' object is not an iterator",
     "output_type": "error",
     "traceback": [
      "\u001b[0;31m---------------------------------------------------------------------------\u001b[0m",
      "\u001b[0;31mTypeError\u001b[0m                                 Traceback (most recent call last)",
      "\u001b[0;32m/var/folders/hb/vbxxmjpx5c52f0b_pm6z0p0h0000gn/T/ipykernel_72844/3108035821.py\u001b[0m in \u001b[0;36m<module>\u001b[0;34m\u001b[0m\n\u001b[0;32m----> 1\u001b[0;31m \u001b[0msample\u001b[0m \u001b[0;34m=\u001b[0m \u001b[0miter\u001b[0m\u001b[0;34m(\u001b[0m\u001b[0mnext\u001b[0m\u001b[0;34m(\u001b[0m\u001b[0mtrain_loader\u001b[0m\u001b[0;34m)\u001b[0m\u001b[0;34m)\u001b[0m\u001b[0;34m\u001b[0m\u001b[0;34m\u001b[0m\u001b[0m\n\u001b[0m\u001b[1;32m      2\u001b[0m \u001b[0mimage\u001b[0m\u001b[0;34m,\u001b[0m \u001b[0mlabel\u001b[0m \u001b[0;34m=\u001b[0m \u001b[0msample\u001b[0m\u001b[0;34m\u001b[0m\u001b[0;34m\u001b[0m\u001b[0m\n\u001b[1;32m      3\u001b[0m \u001b[0mimage\u001b[0m\u001b[0;34m\u001b[0m\u001b[0;34m\u001b[0m\u001b[0m\n",
      "\u001b[0;31mTypeError\u001b[0m: 'DataLoader' object is not an iterator"
     ]
    }
   ],
   "source": [
    "sample = iter(next(train_loader))\n",
    "image, label = sample\n",
    "image"
   ]
  },
  {
   "cell_type": "code",
   "execution_count": null,
   "id": "99619cf0",
   "metadata": {},
   "outputs": [],
   "source": []
  },
  {
   "cell_type": "code",
   "execution_count": 3,
   "id": "c54c2935",
   "metadata": {},
   "outputs": [],
   "source": [
    "class NetWork(nn.Module):\n",
    "    \n",
    "    def __init__(self):\n",
    "        super(NetWork, self).__init__()\n",
    "        \n",
    "        #### conv layers\n",
    "        self.conv1 = nn.Conv2d(in_channels=1, out_channels=6, kernel_size=5)\n",
    "        self.conv2 = nn.Conv2d(in_channels=6, out_channels=12, kernel_size=5)  \n",
    "        \n",
    "        #### Linear layers\n",
    "        self.fc1 = nn.Linear(in_features= 12*4*4, out_features=120)\n",
    "        self.fc2 = nn.Linear(in_features=120 , out_features=60)\n",
    "        self.out = nn.Linear(in_features=60, out_features=10)\n",
    "            \n",
    "        \n",
    "    def forward(self, t):\n",
    "        t = t #input layer\n",
    "        \n",
    "        #### hidden conv1 layer\n",
    "        t = self.conv1(t)\n",
    "        t = F.relu(t)\n",
    "        t = F.max_pool2d(t, kernel_size=2, stride=2)\n",
    "        \n",
    "        #### hidden conv2 layer\n",
    "        t = self.conv2(t)\n",
    "        t = F.relu(t)\n",
    "        t = F.max_pool2d(t, kernel_size=2, stride=2)\n",
    "        \n",
    "        #### hidden Linear_1 layer\n",
    "        t = t.reshape(-1, 12*4*4)\n",
    "        t = self.fc1(t)\n",
    "        t = F.relu(t)\n",
    "        \n",
    "        #### hidden Linear_2 layer\n",
    "        t = self.fc2(t)\n",
    "        t = F.relu(t)\n",
    "        \n",
    "        #### hidden Linear_out layer\n",
    "        t = self.out(t)\n",
    "        \n",
    "        return t\n",
    "        "
   ]
  },
  {
   "cell_type": "code",
   "execution_count": 4,
   "id": "90019cf7",
   "metadata": {},
   "outputs": [],
   "source": [
    "network = NetWork()"
   ]
  },
  {
   "cell_type": "code",
   "execution_count": 5,
   "id": "c4f26714",
   "metadata": {},
   "outputs": [],
   "source": [
    "optimizer = optim.Adam(network.parameters(), lr=0.01)"
   ]
  },
  {
   "cell_type": "code",
   "execution_count": 6,
   "id": "c8df399c",
   "metadata": {},
   "outputs": [],
   "source": [
    "#### will calu the num of correct prediction out of the batch_size\n",
    "def get_num_corrected(pred, labels):\n",
    "    return pred.argmax(dim=1).eq(labels).sum().item()\n"
   ]
  },
  {
   "cell_type": "markdown",
   "id": "8695fe97",
   "metadata": {},
   "source": [
    "# For a single batch [ 100 inputs]"
   ]
  },
  {
   "cell_type": "code",
   "execution_count": null,
   "id": "ceb1d751",
   "metadata": {},
   "outputs": [],
   "source": [
    "# instead of the next(iter()) ------ we use for loop\n",
    "\n",
    "total_loss = 0\n",
    "total_corr = 0\n",
    "\n",
    "for batch in train_loader: ### looping through 100 iter or batch w+ means 100 * 600 = 60,000\n",
    "    #get batch\n",
    "    images, labels = batch\n",
    "    #pass batch\n",
    "    preds = network(images)\n",
    "    #calcu loss\n",
    "    loss = F.cross_entropy(preds, labels)\n",
    "    #calcu gradients\n",
    "    optimizer.zero_grad()\n",
    "    loss.backward()\n",
    "    #update weights\n",
    "    optimizer.step()\n",
    "    \n",
    "    total_loss += loss.item()\n",
    "    total_corr += get_num_corrected(preds, labels)\n",
    "\n",
    "    \n",
    "print(f\"total correct pred: {total_corr}\")\n",
    "print(f\"total Error pred: {total_loss}\")"
   ]
  },
  {
   "cell_type": "code",
   "execution_count": null,
   "id": "58d2007c",
   "metadata": {},
   "outputs": [],
   "source": [
    "accur = 100 * total_corr / len(train_set)\n",
    "print(f\"accuracy: {accur} \")"
   ]
  },
  {
   "cell_type": "code",
   "execution_count": null,
   "id": "e54a1601",
   "metadata": {},
   "outputs": [],
   "source": []
  },
  {
   "cell_type": "markdown",
   "id": "ed53491f",
   "metadata": {},
   "source": [
    "# For multiple batchs ----- by useing epoch nums..."
   ]
  },
  {
   "cell_type": "code",
   "execution_count": null,
   "id": "d5bad1e6",
   "metadata": {},
   "outputs": [],
   "source": [
    "# instead of the next(iter()) ------ we use for loop\n",
    "\n",
    "\n",
    "for epoch in range(3):\n",
    "    \n",
    "    total_loss_2 = 0\n",
    "    total_corr_2 = 0\n",
    "    \n",
    "    # single batch contains 600 iters\n",
    "    for images, labels in train_loader: ### looping through 100 iter or batch w+ means 100 * batch_2(600) = 60,000\n",
    "        #pass batch\n",
    "        pred_scores = network(images)\n",
    "        \n",
    "        #calcu loss\n",
    "        loss = F.cross_entropy(pred_scores, labels)\n",
    "        \n",
    "        #calcu gradients\n",
    "        optimizer.zero_grad()\n",
    "        loss.backward()\n",
    "        \n",
    "        #update weights\n",
    "        optimizer.step()\n",
    "\n",
    "        total_loss_2 += loss.item()\n",
    "        total_corr_2 += get_num_corrected(pred_scores, labels)\n",
    "\n",
    "    print(f\"epoch:{epoch}, total correct pred:{total_corr_2}, total Error pred:{total_loss_2}\")\n",
    "    \n",
    "accur_2 = 100 * total_corr_2 / len(train_set)\n",
    "print(f\"accuracy: {accur_2}\")\n"
   ]
  },
  {
   "cell_type": "code",
   "execution_count": null,
   "id": "0496d0d5",
   "metadata": {},
   "outputs": [],
   "source": []
  },
  {
   "cell_type": "code",
   "execution_count": null,
   "id": "e38bd06b",
   "metadata": {},
   "outputs": [],
   "source": []
  }
 ],
 "metadata": {
  "kernelspec": {
   "display_name": "Python 3 (ipykernel)",
   "language": "python",
   "name": "python3"
  },
  "language_info": {
   "codemirror_mode": {
    "name": "ipython",
    "version": 3
   },
   "file_extension": ".py",
   "mimetype": "text/x-python",
   "name": "python",
   "nbconvert_exporter": "python",
   "pygments_lexer": "ipython3",
   "version": "3.8.8"
  }
 },
 "nbformat": 4,
 "nbformat_minor": 5
}
