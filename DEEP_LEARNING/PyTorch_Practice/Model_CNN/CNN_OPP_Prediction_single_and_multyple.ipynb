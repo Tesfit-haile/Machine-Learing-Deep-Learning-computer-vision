{
 "cells": [
  {
   "cell_type": "code",
   "execution_count": 1,
   "id": "69348200",
   "metadata": {},
   "outputs": [],
   "source": [
    "import torch\n",
    "import torch.nn as nn\n",
    "import torch.nn.functional as F\n",
    "import torchvision\n",
    "import torchvision.transforms as transforms\n",
    "import numpy as np\n",
    "import matplotlib.pyplot as plt\n",
    "torch.set_printoptions(linewidth=140)"
   ]
  },
  {
   "cell_type": "markdown",
   "id": "cd70410c",
   "metadata": {},
   "source": [
    "# params"
   ]
  },
  {
   "cell_type": "code",
   "execution_count": 2,
   "id": "8e05e914",
   "metadata": {},
   "outputs": [],
   "source": [
    "input_channels = 1\n",
    "learning_rate = 0.01\n",
    "hidden_layer = 100\n",
    "num_classes = 10\n",
    "num_epoch = 2\n",
    "batch_size = 100\n"
   ]
  },
  {
   "cell_type": "markdown",
   "id": "1a334ea2",
   "metadata": {},
   "source": [
    "# Datas"
   ]
  },
  {
   "cell_type": "code",
   "execution_count": 3,
   "id": "53c7c57b",
   "metadata": {},
   "outputs": [],
   "source": [
    "train_set = torchvision.datasets.FashionMNIST(\n",
    "    './FashionMNIST',\n",
    "    train=True,\n",
    "    download=True,\n",
    "    transform=transforms.Compose([transforms.ToTensor()]) # converting ToTensor\n",
    ")"
   ]
  },
  {
   "cell_type": "markdown",
   "id": "bde1b6e3",
   "metadata": {},
   "source": [
    "# Batch"
   ]
  },
  {
   "cell_type": "code",
   "execution_count": 4,
   "id": "c929dc85",
   "metadata": {},
   "outputs": [
    {
     "data": {
      "text/plain": [
       "(torch.Size([1, 28, 28]), 9)"
      ]
     },
     "execution_count": 4,
     "metadata": {},
     "output_type": "execute_result"
    }
   ],
   "source": [
    "batch = next(iter(train_set))\n",
    "images, labels = batch\n",
    "images.shape, labels"
   ]
  },
  {
   "cell_type": "code",
   "execution_count": null,
   "id": "2b313cea",
   "metadata": {},
   "outputs": [],
   "source": []
  },
  {
   "cell_type": "code",
   "execution_count": 5,
   "id": "837b5575",
   "metadata": {},
   "outputs": [],
   "source": [
    "# images = images.reshape(-1)"
   ]
  },
  {
   "cell_type": "markdown",
   "id": "844b7510",
   "metadata": {},
   "source": [
    "# Model"
   ]
  },
  {
   "cell_type": "code",
   "execution_count": 6,
   "id": "a99601f8",
   "metadata": {},
   "outputs": [
    {
     "data": {
      "text/plain": [
       "CNN(\n",
       "  (conv1): Conv2d(1, 6, kernel_size=(5, 5), stride=(1, 1))\n",
       "  (conv2): Conv2d(6, 12, kernel_size=(5, 5), stride=(1, 1))\n",
       "  (fc1): Linear(in_features=192, out_features=120, bias=True)\n",
       "  (fc2): Linear(in_features=120, out_features=60, bias=True)\n",
       "  (out): Linear(in_features=60, out_features=10, bias=True)\n",
       ")"
      ]
     },
     "execution_count": 6,
     "metadata": {},
     "output_type": "execute_result"
    }
   ],
   "source": [
    "class CNN(nn.Module):\n",
    "    \n",
    "    def __init__(self):\n",
    "        super(CNN, self).__init__()\n",
    "        \n",
    "        \n",
    "        self.conv1 = nn.Conv2d(in_channels=1, out_channels=6, kernel_size=5)\n",
    "        self.conv2 = nn.Conv2d(in_channels=6, out_channels=12, kernel_size=5)\n",
    "   \n",
    "        self.fc1 = nn.Linear(in_features=12*4*4, out_features=120)\n",
    "        self.fc2 = nn.Linear(in_features=120, out_features=60)\n",
    "        self.out = nn.Linear(in_features=60, out_features=10)\n",
    "        \n",
    "    def forward(self, x):\n",
    "        out = F.relu(self.conv1(x))\n",
    "        out = F.max_pool2d(out, kernel_size=2, stride=2)\n",
    "        \n",
    "        out = F.relu(self.conv2(out))\n",
    "        out = F.max_pool2d(out, kernel_size=2, stride=2)\n",
    "        \n",
    "        out = F.relu(self.fc1(out.reshape(-1, 12*4*4)))\n",
    "        out = F.relu(self.fc2(out))\n",
    "        \n",
    "        out = self.out(out)\n",
    "        return out\n",
    "    \n",
    "    \n",
    "model = CNN()\n",
    "model  \n",
    " "
   ]
  },
  {
   "cell_type": "markdown",
   "id": "a6412bc8",
   "metadata": {},
   "source": [
    "# Pass 1 image tensors and get pred"
   ]
  },
  {
   "cell_type": "code",
   "execution_count": 7,
   "id": "6291b666",
   "metadata": {},
   "outputs": [
    {
     "data": {
      "text/plain": [
       "tensor([[ 0.0989, -0.0137, -0.0462, -0.0789,  0.0437,  0.1667, -0.1239, -0.0123, -0.0322,  0.0565]], grad_fn=<AddmmBackward0>)"
      ]
     },
     "execution_count": 7,
     "metadata": {},
     "output_type": "execute_result"
    }
   ],
   "source": [
    "pred_scores = model(images.unsqueeze(0)) # not clear why i am using the unsqueeze. Maybe our model accepts only that\n",
    "pred_scores"
   ]
  },
  {
   "cell_type": "code",
   "execution_count": 8,
   "id": "f20fecca",
   "metadata": {},
   "outputs": [
    {
     "data": {
      "text/plain": [
       "tensor([5])"
      ]
     },
     "execution_count": 8,
     "metadata": {},
     "output_type": "execute_result"
    }
   ],
   "source": [
    "get_max_pred = pred_scores.argmax(dim=1)\n",
    "get_max_pred"
   ]
  },
  {
   "cell_type": "markdown",
   "id": "feb06434",
   "metadata": {},
   "source": [
    "# Pass 4 image tensors and get pred"
   ]
  },
  {
   "cell_type": "code",
   "execution_count": 12,
   "id": "bd23c7b7",
   "metadata": {},
   "outputs": [
    {
     "data": {
      "text/plain": [
       "(torch.Size([4, 1, 28, 28]), tensor([9, 0, 0, 3]))"
      ]
     },
     "execution_count": 12,
     "metadata": {},
     "output_type": "execute_result"
    }
   ],
   "source": [
    "train_loader2 = torch.utils.data.DataLoader(train_set, batch_size=4)\n",
    "images2, labels2 = next(iter(train_loader2))\n",
    "images2.shape, labels2"
   ]
  },
  {
   "cell_type": "code",
   "execution_count": 15,
   "id": "da79ae91",
   "metadata": {},
   "outputs": [
    {
     "data": {
      "text/plain": [
       "tensor([[ 0.0989, -0.0137, -0.0462, -0.0789,  0.0437,  0.1667, -0.1239, -0.0123, -0.0322,  0.0565],\n",
       "        [ 0.1046, -0.0199, -0.0160, -0.0756,  0.0526,  0.1758, -0.1128,  0.0258, -0.0414,  0.0696],\n",
       "        [ 0.1022, -0.0110, -0.0255, -0.0755,  0.0676,  0.1611, -0.1012,  0.0232, -0.0297,  0.0462],\n",
       "        [ 0.0987, -0.0182, -0.0204, -0.0713,  0.0659,  0.1633, -0.1038,  0.0225, -0.0387,  0.0511]], grad_fn=<AddmmBackward0>)"
      ]
     },
     "execution_count": 15,
     "metadata": {},
     "output_type": "execute_result"
    }
   ],
   "source": [
    "\n",
    "images_pred = model(images2)\n",
    "images_pred # will get 4 prediction for one img, so We use argMax to get the hieghst i think."
   ]
  },
  {
   "cell_type": "code",
   "execution_count": 11,
   "id": "1d26d5e6",
   "metadata": {},
   "outputs": [
    {
     "data": {
      "text/plain": [
       "tensor([0, 0, 0, 0])"
      ]
     },
     "execution_count": 11,
     "metadata": {},
     "output_type": "execute_result"
    }
   ],
   "source": [
    "images_pred.argmax(dim=1)\n",
    "    "
   ]
  },
  {
   "cell_type": "code",
   "execution_count": 12,
   "id": "e76e6099",
   "metadata": {},
   "outputs": [
    {
     "data": {
      "text/plain": [
       "tensor([9, 0, 0, 3])"
      ]
     },
     "execution_count": 12,
     "metadata": {},
     "output_type": "execute_result"
    }
   ],
   "source": [
    "labels2"
   ]
  },
  {
   "cell_type": "markdown",
   "id": "7eb62530",
   "metadata": {},
   "source": [
    "# compare it now"
   ]
  },
  {
   "cell_type": "code",
   "execution_count": 13,
   "id": "113f6d5c",
   "metadata": {},
   "outputs": [
    {
     "data": {
      "text/plain": [
       "tensor([False,  True,  True, False])"
      ]
     },
     "execution_count": 13,
     "metadata": {},
     "output_type": "execute_result"
    }
   ],
   "source": [
    "# first way of doing it\n",
    "compaire = (labels2 == images_pred.argmax(dim=1))\n",
    "compaire"
   ]
  },
  {
   "cell_type": "code",
   "execution_count": 16,
   "id": "6fdc2f93",
   "metadata": {},
   "outputs": [
    {
     "data": {
      "text/plain": [
       "tensor([False,  True,  True, False])"
      ]
     },
     "execution_count": 16,
     "metadata": {},
     "output_type": "execute_result"
    }
   ],
   "source": [
    "# second way of doing it\n",
    "images_pred.argmax(dim=1).eq(labels2)"
   ]
  },
  {
   "cell_type": "code",
   "execution_count": 17,
   "id": "9cf0e0b3",
   "metadata": {},
   "outputs": [
    {
     "data": {
      "text/plain": [
       "tensor(2)"
      ]
     },
     "execution_count": 17,
     "metadata": {},
     "output_type": "execute_result"
    }
   ],
   "source": [
    "images_pred.argmax(dim=1).eq(labels2).sum()"
   ]
  },
  {
   "cell_type": "code",
   "execution_count": null,
   "id": "c3f365e9",
   "metadata": {},
   "outputs": [],
   "source": []
  }
 ],
 "metadata": {
  "kernelspec": {
   "display_name": "Python 3 (ipykernel)",
   "language": "python",
   "name": "python3"
  },
  "language_info": {
   "codemirror_mode": {
    "name": "ipython",
    "version": 3
   },
   "file_extension": ".py",
   "mimetype": "text/x-python",
   "name": "python",
   "nbconvert_exporter": "python",
   "pygments_lexer": "ipython3",
   "version": "3.8.8"
  }
 },
 "nbformat": 4,
 "nbformat_minor": 5
}
