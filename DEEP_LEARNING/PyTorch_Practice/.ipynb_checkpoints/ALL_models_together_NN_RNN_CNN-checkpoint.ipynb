{
 "cells": [
  {
   "cell_type": "code",
   "execution_count": 1,
   "id": "077257ee",
   "metadata": {},
   "outputs": [],
   "source": [
    "import torch\n",
    "import torch.nn as nn\n",
    "import torch.nn.functional as F\n",
    "import torchvision\n",
    "import torchvision.transforms as transforms\n",
    "\n"
   ]
  },
  {
   "cell_type": "markdown",
   "id": "b1bec407",
   "metadata": {},
   "source": [
    "# NN"
   ]
  },
  {
   "cell_type": "code",
   "execution_count": 2,
   "id": "365bb23f",
   "metadata": {},
   "outputs": [
    {
     "data": {
      "text/plain": [
       "NeuralNetwork(\n",
       "  (lin_1): Linear(in_features=784, out_features=100, bias=True)\n",
       "  (relu): ReLU()\n",
       "  (lin_2): Linear(in_features=100, out_features=10, bias=True)\n",
       ")"
      ]
     },
     "execution_count": 2,
     "metadata": {},
     "output_type": "execute_result"
    }
   ],
   "source": [
    "input_size = 784\n",
    "hidden_layers = 100\n",
    "num_classes = 10\n",
    "lr = 0.001\n",
    "batch_size = 100\n",
    "\n",
    "class NeuralNetwork(nn.Module):\n",
    "    \n",
    "    def __init__(self):\n",
    "        super(NeuralNetwork, self).__init__()\n",
    "        \n",
    "        self.lin_1 = nn.Linear(in_features=input_size, out_features=hidden_layers)\n",
    "        self.relu  = nn.ReLU()\n",
    "        self.lin_2 = nn.Linear(in_features=hidden_layers, out_features=num_classes)\n",
    "        \n",
    "    def forward(self, x):\n",
    "        out = self.lin_1(x)\n",
    "        out = self.relu(out)\n",
    "        out = self.lin_2(out)\n",
    "        return out\n",
    "    \n",
    "    \n",
    "NN_model = NeuralNetwork()\n",
    "NN_model\n",
    "        "
   ]
  },
  {
   "cell_type": "code",
   "execution_count": null,
   "id": "b6590f32",
   "metadata": {},
   "outputs": [],
   "source": []
  },
  {
   "cell_type": "markdown",
   "id": "ab629175",
   "metadata": {},
   "source": [
    "# RNN"
   ]
  },
  {
   "cell_type": "code",
   "execution_count": 3,
   "id": "e915ec3f",
   "metadata": {},
   "outputs": [
    {
     "data": {
      "text/plain": [
       "RNN(\n",
       "  (rnn): RNN(28, 128, num_layers=2, batch_first=True)\n",
       "  (fc1): Linear(in_features=128, out_features=10, bias=True)\n",
       ")"
      ]
     },
     "execution_count": 3,
     "metadata": {},
     "output_type": "execute_result"
    }
   ],
   "source": [
    "# i think RNN take one row in a time not like CNN takes 784 at once(the whole pic)\n",
    "input_size = 28 \n",
    "sequence_len = 28 \n",
    "hidden_size = 128 # you can chose any number\n",
    "num_classes = 10\n",
    "num_layers = 2\n",
    "num_epochs = 2\n",
    "batch_size = 100\n",
    "learning_rate = 0.001\n",
    "\n",
    "device = 'GPU' if torch.cuda.is_available() else 'cpu'\n",
    "\n",
    "#### Model\n",
    "class RNN(nn.Module):\n",
    "    \n",
    "    def __init__(self, input_size, hidden_size, num_layers, num_classes):\n",
    "        super(RNN, self).__init__()\n",
    "        \n",
    "        self.num_layers = num_layers\n",
    "        self.hidden_size = hidden_size\n",
    "        \n",
    "        self.rnn = nn.RNN(input_size, hidden_size, num_layers, batch_first=True)\n",
    "        self.fc1 = nn.Linear(hidden_size, num_classes)\n",
    "        \n",
    "    def forward(self, x):\n",
    "        ##### i think here below we are initiating the (num_layers and hidden_size) klte layer with 128 nodes\n",
    "        h0 = torch.zeros(self.num_layers, x.size(0), self.hidden_size) # not clear\n",
    "        #print('print from forward method >>>', len(h0[0][0]), len(h0[1][0]))\n",
    "        out, _ = self.rnn(x, h0)\n",
    "        out = out[:, -1, :]\n",
    "        out = self.fc1(out)\n",
    "        return out\n",
    "    \n",
    "RNN_model = RNN(input_size, hidden_size, num_layers, num_classes)\n",
    "RNN_model    "
   ]
  },
  {
   "cell_type": "markdown",
   "id": "1608d76e",
   "metadata": {},
   "source": [
    "# CNN"
   ]
  },
  {
   "cell_type": "code",
   "execution_count": 4,
   "id": "3c843dca",
   "metadata": {},
   "outputs": [
    {
     "data": {
      "text/plain": [
       "CNN(\n",
       "  (conv1): Conv2d(1, 8, kernel_size=(3, 3), stride=(1, 1), padding=(1, 1))\n",
       "  (pool): MaxPool2d(kernel_size=2, stride=2, padding=0, dilation=1, ceil_mode=False)\n",
       "  (conv2): Conv2d(8, 16, kernel_size=(3, 3), stride=(1, 1), padding=(1, 1))\n",
       "  (fc1): Linear(in_features=784, out_features=10, bias=True)\n",
       ")"
      ]
     },
     "execution_count": 4,
     "metadata": {},
     "output_type": "execute_result"
    }
   ],
   "source": [
    "#### Parameters\n",
    "input_channels = 1\n",
    "hidden_layers = 100\n",
    "num_classes = 10\n",
    "num_epoch  = 2 \n",
    "batch_size = 100\n",
    "learning_rate = 0.001\n",
    "\n",
    "device = 'GPU' if torch.cuda.is_available() else 'cpu'\n",
    "\n",
    "class CNN(nn.Module):\n",
    "    \n",
    "    def __init__(self):\n",
    "        super(CNN, self).__init__()\n",
    "        \n",
    "        self.conv1 = nn.Conv2d(in_channels=input_channels, out_channels=8, kernel_size=3, stride=1, padding=1)\n",
    "        self.pool = nn.MaxPool2d(kernel_size=2, stride=2)\n",
    "        self.conv2 = nn.Conv2d(in_channels=8, out_channels=16, kernel_size=3, stride=1, padding=1)\n",
    "        \n",
    "        self.fc1 = nn.Linear(in_features=16*7*7, out_features=num_classes)\n",
    "        \n",
    "\n",
    "    def forward(self, x):\n",
    "        x = self.conv1(x)\n",
    "        x = F.relu(x)\n",
    "        x = self.pool(x)\n",
    "        \n",
    "        x = self.conv2(x)\n",
    "        x = F.relu(x)\n",
    "        x = self.pool(x)\n",
    "        \n",
    "        x = x.reshape(-1, 28*28)\n",
    "        x = self.fc1(x)\n",
    "        return x\n",
    "    \n",
    "    \n",
    "    \n",
    "CNN_model = CNN().to(device)\n",
    "CNN_model\n",
    "        \n",
    "        \n",
    "        "
   ]
  },
  {
   "cell_type": "code",
   "execution_count": null,
   "id": "8eace004",
   "metadata": {},
   "outputs": [],
   "source": []
  },
  {
   "cell_type": "code",
   "execution_count": null,
   "id": "036d3af9",
   "metadata": {},
   "outputs": [],
   "source": []
  },
  {
   "cell_type": "code",
   "execution_count": null,
   "id": "0eaf629a",
   "metadata": {},
   "outputs": [],
   "source": []
  },
  {
   "cell_type": "code",
   "execution_count": null,
   "id": "acbe1bb3",
   "metadata": {},
   "outputs": [],
   "source": []
  },
  {
   "cell_type": "code",
   "execution_count": null,
   "id": "9a407285",
   "metadata": {},
   "outputs": [],
   "source": []
  },
  {
   "cell_type": "code",
   "execution_count": null,
   "id": "e99668c6",
   "metadata": {},
   "outputs": [],
   "source": []
  },
  {
   "cell_type": "code",
   "execution_count": null,
   "id": "153da46a",
   "metadata": {},
   "outputs": [],
   "source": []
  },
  {
   "cell_type": "code",
   "execution_count": null,
   "id": "aa0ecb26",
   "metadata": {},
   "outputs": [],
   "source": []
  },
  {
   "cell_type": "code",
   "execution_count": null,
   "id": "a7b02e06",
   "metadata": {},
   "outputs": [],
   "source": []
  },
  {
   "cell_type": "markdown",
   "id": "fb51f7d8",
   "metadata": {},
   "source": [
    "# ========================= Training======================"
   ]
  },
  {
   "cell_type": "markdown",
   "id": "8a322aa5",
   "metadata": {},
   "source": [
    "# Be care full on changing the optimizer for each model"
   ]
  },
  {
   "cell_type": "code",
   "execution_count": 5,
   "id": "f430bfb8",
   "metadata": {},
   "outputs": [],
   "source": [
    "#### loss\n",
    "loss_func = nn.CrossEntropyLoss()\n",
    "\n",
    "# optimizer = torch.optim.Adam(NN_model.parameters(), lr=learning_rate)\n",
    "# optimizer = torch.optim.Adam(RNN_model.parameters(), lr=learning_rate)\n",
    "optimizer = torch.optim.Adam(CNN_model.parameters(), lr=learning_rate)"
   ]
  },
  {
   "cell_type": "code",
   "execution_count": 6,
   "id": "522909aa",
   "metadata": {},
   "outputs": [],
   "source": [
    "training_data = torchvision.datasets.MNIST('dataMNIST/', train=True, transform=transforms.ToTensor(), download=True)\n",
    "testing_data  = torchvision.datasets.MNIST('dataMNIST/', train=False, transform=transforms.ToTensor(), download=True)\n",
    "\n",
    "train_loader = torch.utils.data.DataLoader(dataset=training_data, batch_size=batch_size, shuffle=True)\n",
    "test_loader = torch.utils.data.DataLoader(dataset=testing_data, batch_size=batch_size, shuffle=True) \n",
    "# i thik we've 10000 test samples"
   ]
  },
  {
   "cell_type": "markdown",
   "id": "882f4278",
   "metadata": {},
   "source": [
    "# Be care full on changing on the images.reshape for each model.....!"
   ]
  },
  {
   "cell_type": "code",
   "execution_count": 7,
   "id": "11ee49f4",
   "metadata": {},
   "outputs": [
    {
     "name": "stdout",
     "output_type": "stream",
     "text": [
      "tensor(0.4309, grad_fn=<NllLossBackward0>)\n",
      "tensor(0.2891, grad_fn=<NllLossBackward0>)\n",
      "tensor(0.2502, grad_fn=<NllLossBackward0>)\n",
      "tensor(0.1156, grad_fn=<NllLossBackward0>)\n",
      "tensor(0.2686, grad_fn=<NllLossBackward0>)\n",
      "tensor(0.2240, grad_fn=<NllLossBackward0>)\n",
      " >>> Accuracy on training set >> : 88.26666666666667\n",
      "tensor(0.2815, grad_fn=<NllLossBackward0>)\n",
      "tensor(0.0736, grad_fn=<NllLossBackward0>)\n",
      "tensor(0.1119, grad_fn=<NllLossBackward0>)\n",
      "tensor(0.0981, grad_fn=<NllLossBackward0>)\n",
      "tensor(0.1300, grad_fn=<NllLossBackward0>)\n",
      "tensor(0.0901, grad_fn=<NllLossBackward0>)\n",
      " >>> Accuracy on training set >> : 96.48833333333333\n"
     ]
    }
   ],
   "source": [
    "for epoch in range(num_epochs):\n",
    "    corr = 0\n",
    "    n_samples = 0\n",
    "    ix = 0\n",
    "    \n",
    "    for images, labels in train_loader:\n",
    "        images = images.to(device)\n",
    "        labels = labels.to(device)\n",
    "        \n",
    "        #print(images.shape, labels) #### we got 100 images with 100 labels\n",
    "        #torch.Size([100, 1, 28, 28])\n",
    "        #images = images.reshape(-1, 28, 28).to(device) # only for RNN_model & NN_model and do not forget to update the optimizer on the top\n",
    "        #torch.Size([100, 128])\n",
    "        \n",
    "        #forward\n",
    "        scores_pred = CNN_model(images)\n",
    "        loss = loss_func(scores_pred, labels)\n",
    "\n",
    "        #backward\n",
    "        optimizer.zero_grad()\n",
    "        loss.backward()\n",
    "\n",
    "        # gradient descent update step/adam step\n",
    "        optimizer.step()\n",
    "        \n",
    "        _, predictions = torch.max(scores_pred, 1)\n",
    "        good_pred = (predictions == labels).sum().item()\n",
    "        \n",
    "        corr += good_pred\n",
    "        n_samples += labels.size(0)\n",
    "        ix += 1\n",
    "    \n",
    "        if ix % 100 == 0:\n",
    "            print(loss)\n",
    "            \n",
    "    print(f\" >>> Accuracy on training set >> : {100 * corr / n_samples}\")\n",
    "    "
   ]
  },
  {
   "cell_type": "code",
   "execution_count": null,
   "id": "39b03d89",
   "metadata": {},
   "outputs": [],
   "source": []
  },
  {
   "cell_type": "code",
   "execution_count": 3,
   "id": "b6069094",
   "metadata": {},
   "outputs": [
    {
     "name": "stdout",
     "output_type": "stream",
     "text": [
      "4 5\n"
     ]
    }
   ],
   "source": [
    "a=(1,2,3,4,5,6,7,8,9)\n",
    "count_even = 0\n",
    "count_odd = 0\n",
    "for i in a :\n",
    "    if i % 2 == 0 :\n",
    "        count_even += 1\n",
    "    if i % 2 != 0 :\n",
    "        count_odd += 1\n",
    "        \n",
    "print(count_even , count_odd )"
   ]
  },
  {
   "cell_type": "code",
   "execution_count": null,
   "id": "5a7461f0",
   "metadata": {},
   "outputs": [],
   "source": []
  }
 ],
 "metadata": {
  "kernelspec": {
   "display_name": "Python 3 (ipykernel)",
   "language": "python",
   "name": "python3"
  },
  "language_info": {
   "codemirror_mode": {
    "name": "ipython",
    "version": 3
   },
   "file_extension": ".py",
   "mimetype": "text/x-python",
   "name": "python",
   "nbconvert_exporter": "python",
   "pygments_lexer": "ipython3",
   "version": "3.8.8"
  }
 },
 "nbformat": 4,
 "nbformat_minor": 5
}
