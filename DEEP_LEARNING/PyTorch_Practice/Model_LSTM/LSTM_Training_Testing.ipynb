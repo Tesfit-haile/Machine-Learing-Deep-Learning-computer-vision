{
 "cells": [
  {
   "cell_type": "markdown",
   "id": "90f560c1",
   "metadata": {},
   "source": [
    "# Try it only with one epoch b/c LSTM is very slow on CPU "
   ]
  },
  {
   "cell_type": "code",
   "execution_count": 1,
   "id": "66d38c6d",
   "metadata": {},
   "outputs": [],
   "source": [
    "import torch\n",
    "import torch.nn as nn\n",
    "import torch.nn.functional as F\n",
    "import torchvision\n",
    "import torchvision.transforms as transforms\n",
    "from torch.utils.tensorboard import SummaryWriter\n",
    "\n",
    "import random\n",
    "import numpy as np\n",
    "\n",
    "SEED = 55643\n",
    "random.seed(SEED)\n",
    "torch.manual_seed(SEED)\n",
    "np.random.seed(SEED)\n",
    "\n",
    "\n",
    "device = 'GPU' if torch.cuda.is_available() else 'cpu'\n"
   ]
  },
  {
   "cell_type": "code",
   "execution_count": 2,
   "id": "7c4925c3",
   "metadata": {},
   "outputs": [
    {
     "name": "stdout",
     "output_type": "stream",
     "text": [
      "600\n"
     ]
    }
   ],
   "source": [
    "training_data = torchvision.datasets.MNIST('dataMNIST/', \n",
    "                                           train=True, \n",
    "                                           transform=transforms.ToTensor(), \n",
    "                                           download=True)\n",
    "\n",
    "testing_data  = torchvision.datasets.MNIST('dataMNIST/', \n",
    "                                           train=False, \n",
    "                                           transform=transforms.ToTensor(), \n",
    "                                           download=True)\n",
    "\n",
    "train_loader = torch.utils.data.DataLoader(dataset=training_data, batch_size = 100, shuffle=True)\n",
    "test_loader  = torch.utils.data.DataLoader(dataset=testing_data,  batch_size = 100, shuffle=True) \n",
    "# we've 10000 test samples and 60000 train samples\n",
    "print(len(train_loader))"
   ]
  },
  {
   "cell_type": "code",
   "execution_count": 3,
   "id": "75ad5052",
   "metadata": {},
   "outputs": [
    {
     "data": {
      "text/plain": [
       "BRNN(\n",
       "  (lstm): LSTM(28, 128, num_layers=2, batch_first=True, bidirectional=True)\n",
       "  (fc): Linear(in_features=256, out_features=10, bias=True)\n",
       ")"
      ]
     },
     "execution_count": 3,
     "metadata": {},
     "output_type": "execute_result"
    }
   ],
   "source": [
    "input_size = 28 \n",
    "sequence_len = 28 \n",
    "hidden_size = 128 # you can chose any number\n",
    "num_classes = 10\n",
    "num_layers = 2\n",
    "\n",
    "num_epochs = 2\n",
    "learning_rate = 0.001\n",
    "\n",
    "class BRNN(nn.Module):\n",
    "    def __init__(self, input_size, hidden_size, num_layers, num_classes):\n",
    "        super(BRNN, self).__init__()\n",
    "        \n",
    "        self.num_layers = num_layers\n",
    "        self.hidden_size = hidden_size\n",
    "        \n",
    "        self.lstm = nn.LSTM(input_size, hidden_size, num_layers, batch_first=True, bidirectional=True)\n",
    "        self.fc = nn.Linear(hidden_size*2, num_classes)\n",
    "        \n",
    "    def forward(self, x):\n",
    "        # why times 2 ---- i think one it goes forward and the second goes backward\n",
    "        h0 = torch.zeros(self.num_layers*2, x.size(0), self.hidden_size)\n",
    "        c0 = torch.zeros(self.num_layers*2, x.size(0), self.hidden_size)\n",
    "        out, _ = self.lstm(x, (h0, c0))\n",
    "        out = self.fc(out[:, -1, :])\n",
    "        \n",
    "        return out \n",
    "    \n",
    "        #print(\"form BRNN...\", out.shape) --> torch.Size([100, 10] cuz it has to be passed through the fc\n",
    "        \n",
    "\n",
    "BRNN_model = BRNN(input_size, hidden_size, num_layers, num_classes)\n",
    "BRNN_model"
   ]
  },
  {
   "cell_type": "code",
   "execution_count": null,
   "id": "8c2e3bf0",
   "metadata": {},
   "outputs": [],
   "source": []
  },
  {
   "cell_type": "markdown",
   "id": "3062de21",
   "metadata": {},
   "source": [
    "# Loss, optimizer"
   ]
  },
  {
   "cell_type": "code",
   "execution_count": 4,
   "id": "583138f2",
   "metadata": {},
   "outputs": [],
   "source": [
    "#### loss\n",
    "loss_func = nn.CrossEntropyLoss()\n",
    "optimizer = torch.optim.Adam(BRNN_model.parameters(), lr=learning_rate)"
   ]
  },
  {
   "cell_type": "markdown",
   "id": "b6b01839",
   "metadata": {},
   "source": [
    "# Train with a single image"
   ]
  },
  {
   "cell_type": "code",
   "execution_count": 5,
   "id": "7ac21123",
   "metadata": {},
   "outputs": [
    {
     "name": "stdout",
     "output_type": "stream",
     "text": [
      "Loss-erorr: 2.3028600215911865\n",
      "Loss-erorr: 2.2973134517669678\n",
      "Loss-erorr: 2.2919328212738037\n",
      "Loss-erorr: 2.2864344120025635\n",
      "Loss-erorr: 2.2805514335632324\n",
      "Loss-erorr: 2.2740120887756348\n",
      "Loss-erorr: 2.2665584087371826\n",
      "Loss-erorr: 2.2580788135528564\n",
      "Loss-erorr: 2.2491257190704346\n",
      "Loss-erorr: 2.2421329021453857\n",
      "Loss-erorr: 2.2379772663116455\n",
      "Loss-erorr: 2.227597236633301\n"
     ]
    }
   ],
   "source": [
    "####### if you see the loss error is getting lower and lower [[ his means your model is read to be traind ]]\n",
    "images, labels = next(iter(train_loader))\n",
    "\n",
    "for epoch in range(12):\n",
    "    # 👉👉👉 try it first with on batch #\n",
    "    images = images.to(device)\n",
    "    labels = labels.to(device)\n",
    "    #print(images.shape, labels) #### we got 100 images with 100 labels and 1 means it's black and white(1 depth)\n",
    "    #torch.Size([100, 1, 28, 28])\n",
    "\n",
    "    #RNN_model & BRNN_model ---- torch.Size([100, 28, 28])\n",
    "    images = images.reshape(-1, 28, 28).to(device) # RNN_model & BRNN_model ---- [input must have 3 dimensions]\n",
    "\n",
    "    #forward\n",
    "    scores_pred = BRNN_model(images)\n",
    "    loss = loss_func(scores_pred, labels)\n",
    "\n",
    "    #backward\n",
    "    optimizer.zero_grad()\n",
    "    loss.backward()\n",
    "\n",
    "    # gradient descent update step/adam step\n",
    "    optimizer.step()\n",
    "\n",
    "    print(f\"Loss-erorr: {loss}\")"
   ]
  },
  {
   "cell_type": "markdown",
   "id": "962adf9d",
   "metadata": {},
   "source": [
    "### Be care full on changing  the images.reshape for each model.....!"
   ]
  },
  {
   "cell_type": "markdown",
   "id": "09ea84af",
   "metadata": {},
   "source": [
    "# Train the Model ..... with a banch of batchs...."
   ]
  },
  {
   "cell_type": "code",
   "execution_count": 6,
   "id": "2ad93731",
   "metadata": {},
   "outputs": [
    {
     "name": "stdout",
     "output_type": "stream",
     "text": [
      "tensor(0.6419, grad_fn=<NllLossBackward0>)\n",
      "tensor(0.3762, grad_fn=<NllLossBackward0>)\n",
      "tensor(0.2493, grad_fn=<NllLossBackward0>)\n",
      "tensor(0.1934, grad_fn=<NllLossBackward0>)\n",
      "tensor(0.1978, grad_fn=<NllLossBackward0>)\n",
      "tensor(0.2064, grad_fn=<NllLossBackward0>)\n",
      " >>> Accuracy on Training-data >> : 83.96\n"
     ]
    }
   ],
   "source": [
    "for epoch in range(1):\n",
    "    corr = 0\n",
    "    n_samples = 0\n",
    "    ix = 0\n",
    "    images, labels = next(iter(train_loader))\n",
    "    \n",
    "    for images, labels in train_loader:\n",
    "        images = images.to(device)\n",
    "        labels = labels.to(device)\n",
    "        images = images.reshape(-1, 28, 28).to(device)\n",
    "\n",
    "        #forward\n",
    "        scores_pred = BRNN_model(images)\n",
    "        loss = loss_func(scores_pred, labels)\n",
    "\n",
    "        #backward\n",
    "        optimizer.zero_grad()\n",
    "        loss.backward()\n",
    "\n",
    "        # gradient descent update step/adam step\n",
    "        optimizer.step()\n",
    "        \n",
    "        _, predictions = torch.max(scores_pred, 1)\n",
    "        good_pred = (predictions == labels).sum().item()\n",
    "        \n",
    "        corr += good_pred\n",
    "        n_samples += labels.size(0)\n",
    "        \n",
    "        ix += 1\n",
    "    \n",
    "        if ix % 100 == 0:\n",
    "            print(loss)\n",
    "            \n",
    "    print(f\" >>> Accuracy on Training-data >> : {100 * corr / n_samples}\")"
   ]
  },
  {
   "cell_type": "markdown",
   "id": "db41fe22",
   "metadata": {},
   "source": [
    "# Testing the model ---> use [ with torch.no_grads ]:"
   ]
  },
  {
   "cell_type": "code",
   "execution_count": 7,
   "id": "26434c47",
   "metadata": {},
   "outputs": [
    {
     "name": "stdout",
     "output_type": "stream",
     "text": [
      " >>> Accuracy ON Testing-data >> : 94.29\n"
     ]
    }
   ],
   "source": [
    "with torch.no_grad():\n",
    "    corr = 0\n",
    "    n_samples = 0\n",
    "    \n",
    "    for images, labels in test_loader:\n",
    "        images = images.to(device)\n",
    "        labels = labels.to(device)\n",
    "\n",
    "        #print(images.shape, labels) #### we got 100 images with 100 labels\n",
    "        #torch.Size([100, 1, 28, 28])\n",
    "\n",
    "        #ANN_model ----- torch.Size([100, 128])\n",
    "        #images = images.reshape(-1, 28*28).to(device) # only for NN_model  [input must have 2 dimensions]\n",
    "\n",
    "\n",
    "        #RNN_model & BRNN_model ---- torch.Size([100, 28, 28])\n",
    "        images = images.reshape(-1, 28, 28).to(device) # RNN_model & BRNN_model ----[input must have 3 dimensions]\n",
    "\n",
    "\n",
    "        #forward\n",
    "        scores_pred = BRNN_model(images)\n",
    "\n",
    "        _, predictions = torch.max(scores_pred, 1)\n",
    "        good_pred = (predictions == labels).sum().item()\n",
    "\n",
    "        corr += good_pred\n",
    "        n_samples += labels.size(0)\n",
    "\n",
    "    print(f\" >>> Accuracy ON Testing-data >> : {100 * corr / n_samples}\")"
   ]
  }
 ],
 "metadata": {
  "kernelspec": {
   "display_name": "Python 3 (ipykernel)",
   "language": "python",
   "name": "python3"
  },
  "language_info": {
   "codemirror_mode": {
    "name": "ipython",
    "version": 3
   },
   "file_extension": ".py",
   "mimetype": "text/x-python",
   "name": "python",
   "nbconvert_exporter": "python",
   "pygments_lexer": "ipython3",
   "version": "3.8.8"
  }
 },
 "nbformat": 4,
 "nbformat_minor": 5
}
