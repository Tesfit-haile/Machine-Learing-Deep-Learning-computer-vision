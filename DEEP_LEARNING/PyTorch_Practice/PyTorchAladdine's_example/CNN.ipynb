{
 "cells": [
  {
   "cell_type": "markdown",
   "id": "2402c794",
   "metadata": {},
   "source": [
    "# Imports"
   ]
  },
  {
   "cell_type": "code",
   "execution_count": 1,
   "id": "0b1aae8b",
   "metadata": {},
   "outputs": [],
   "source": [
    "import torch \n",
    "import torch.nn as nn\n",
    "import torch.optim as optim\n",
    "import torch.nn.functional as F\n",
    "from torch.utils.data import DataLoader\n",
    "import torchvision\n",
    "import torchvision.transforms as transforms\n",
    "import torchvision.datasets as datasets"
   ]
  },
  {
   "cell_type": "code",
   "execution_count": 2,
   "id": "d386c1b3",
   "metadata": {},
   "outputs": [
    {
     "name": "stdout",
     "output_type": "stream",
     "text": [
      "784\n"
     ]
    }
   ],
   "source": [
    "print(16*7*7)"
   ]
  },
  {
   "cell_type": "markdown",
   "id": "0815ab6c",
   "metadata": {},
   "source": [
    "# Set Device"
   ]
  },
  {
   "cell_type": "code",
   "execution_count": 3,
   "id": "285fce8c",
   "metadata": {},
   "outputs": [],
   "source": [
    "device = torch.device('cuda' if torch.cuda.is_available() else 'cpu')"
   ]
  },
  {
   "cell_type": "markdown",
   "id": "e5f36fae",
   "metadata": {},
   "source": [
    "# Hyperparameters"
   ]
  },
  {
   "cell_type": "code",
   "execution_count": 4,
   "id": "b8c1f757",
   "metadata": {},
   "outputs": [],
   "source": [
    "input_channel = 1\n",
    "num_classes = 10\n",
    "learning_rate = 0.001\n",
    "batch_size = 64\n",
    "num_epoch = 5"
   ]
  },
  {
   "cell_type": "markdown",
   "id": "ae509301",
   "metadata": {},
   "source": [
    "# :Load Data"
   ]
  },
  {
   "cell_type": "code",
   "execution_count": 5,
   "id": "f8280ba7",
   "metadata": {},
   "outputs": [],
   "source": [
    "train_dataset = datasets.MNIST(root='dataset/', train=True, transform=transforms.ToTensor(), download=True)\n",
    "test_dataset = datasets.MNIST(root='dataset/', train=False, transform=transforms.ToTensor(), download=True)\n",
    "\n",
    "train_loader = DataLoader(dataset=train_dataset, batch_size=batch_size, shuffle=True)\n",
    "test_loader = DataLoader(dataset=test_dataset, batch_size=batch_size, shuffle=True)\n"
   ]
  },
  {
   "cell_type": "markdown",
   "id": "d0e3ab33",
   "metadata": {},
   "source": [
    "# CNN"
   ]
  },
  {
   "cell_type": "markdown",
   "id": "ff3f8463",
   "metadata": {},
   "source": [
    "#### # Stride(1, 1) means move one step forward or down when we are doing the FEATURE MAPPING"
   ]
  },
  {
   "cell_type": "code",
   "execution_count": 6,
   "id": "5d6f3392",
   "metadata": {},
   "outputs": [],
   "source": [
    "class CNN(nn.Module):\n",
    "    \n",
    "    def __init__(self, input_channel=1, num_classes=10):\n",
    "        super(CNN, self).__init__()\n",
    "        \n",
    "        # Stride(1, 1) means move one step forward or down when we are getting the maximum in the square\n",
    "        self.conv1 = nn.Conv2d(in_channels=1, out_channels=8, kernel_size=(3,3), stride=(1,1), padding=(1,1))\n",
    "        self.pool = nn.MaxPool2d(kernel_size=(2,2), stride=(2,2))\n",
    "        self.conv2 = nn.Conv2d(in_channels=8, out_channels=16, kernel_size=(3,3),stride=(1,1), padding=(1,1))\n",
    "        self.fc1 = nn.Linear(16*7*7, num_classes)\n",
    "        \n",
    "    def forward(self, x):\n",
    "        x = F.relu(self.conv1(x))\n",
    "        x = self.pool(x)\n",
    "        x = F.relu(self.conv2(x))\n",
    "        x = self.pool(x)\n",
    "        #reshape it before it goes to fc1\n",
    "        x = x.reshape(x.shape[0], -1)\n",
    "        x = self.fc1(x)\n",
    "        \n",
    "        return x\n",
    "        \n",
    "        \n",
    "        "
   ]
  },
  {
   "cell_type": "markdown",
   "id": "165bae2c",
   "metadata": {},
   "source": [
    "# initialize a network"
   ]
  },
  {
   "cell_type": "code",
   "execution_count": 7,
   "id": "54a691f3",
   "metadata": {},
   "outputs": [],
   "source": [
    "model = CNN().to(device)"
   ]
  },
  {
   "cell_type": "markdown",
   "id": "df8731ab",
   "metadata": {},
   "source": [
    "# Loss & optimz"
   ]
  },
  {
   "cell_type": "code",
   "execution_count": 8,
   "id": "f2ee5b10",
   "metadata": {},
   "outputs": [],
   "source": [
    "criterion = nn.CrossEntropyLoss()\n",
    "optimizer = optim.Adam(model.parameters(), lr=learning_rate)"
   ]
  },
  {
   "cell_type": "markdown",
   "id": "41ce7805",
   "metadata": {},
   "source": [
    "# Trian NetWork"
   ]
  },
  {
   "cell_type": "code",
   "execution_count": 9,
   "id": "db442b3f",
   "metadata": {},
   "outputs": [],
   "source": [
    "for epoch in range(1):\n",
    "    \n",
    "    ix = 0 \n",
    "    \n",
    "    for images, labels in train_loader:\n",
    "        # load to device\n",
    "        images = images.to(device=device)\n",
    "        labels = labels.to(device=device)\n",
    "        \n",
    "        # forward \n",
    "        scores_pred = model(images)\n",
    "        loss = criterion(scores_pred, labels)\n",
    "\n",
    "        optimizer.zero_grad()\n",
    "        loss.backward()\n",
    "        \n",
    "        optimizer.step()\n",
    "        ix += 1\n"
   ]
  },
  {
   "cell_type": "markdown",
   "id": "f6f253c8",
   "metadata": {},
   "source": [
    "# Accuracy"
   ]
  },
  {
   "cell_type": "markdown",
   "id": "e0253c1f",
   "metadata": {},
   "source": [
    "##### With the model.eval() and model.train() i think it will give you a bit better prediction !!! 👇👇"
   ]
  },
  {
   "cell_type": "code",
   "execution_count": 10,
   "id": "ed91db7a",
   "metadata": {},
   "outputs": [
    {
     "name": "stdout",
     "output_type": "stream",
     "text": [
      "Train data is runing.....\n",
      "Test data is runing.....\n",
      "Train_accu:  96.70333333333333\n",
      "Test_accu:  96.78\n"
     ]
    }
   ],
   "source": [
    "def check_accuracy(loader, model):\n",
    "    if loader.dataset.train:\n",
    "        print('Train data is runing.....')\n",
    "    else:\n",
    "        print('Test data is runing.....')\n",
    "        \n",
    "    num_corr = 0\n",
    "    num_samples = 0\n",
    "    model.eval()\n",
    "    \n",
    "    with torch.no_grad():\n",
    "        for x, y in loader:\n",
    "            x = x.to(device=device)\n",
    "            y = y.to(device=device)\n",
    "            scores = model(x) # for every pic we'll get 10 predictions SO we need to get the max of the tensor.\n",
    "            #len(scores[0]) --- 10\n",
    "            #len(scores) 64 \n",
    "            \n",
    "            # get max\n",
    "            # one pass will get us 64 tensors predictions then we will get the max of every tensor.\n",
    "            a, predictions = scores.max(1)\n",
    "            num_corr += (predictions == y).sum()\n",
    "            num_samples += predictions.size(0)\n",
    "        \n",
    "            \n",
    "        return float(num_corr) / float(num_samples) * 100\n",
    "        \n",
    "    model.train()       \n",
    "\n",
    "    \n",
    "train_acc = check_accuracy(train_loader, model)\n",
    "test_acc = check_accuracy(test_loader, model) \n",
    "\n",
    "print(\"Train_accu: \", train_acc)\n",
    "print(\"Test_accu: \", test_acc)"
   ]
  },
  {
   "cell_type": "code",
   "execution_count": 11,
   "id": "f7f99237",
   "metadata": {},
   "outputs": [
    {
     "name": "stdout",
     "output_type": "stream",
     "text": [
      "192\n"
     ]
    }
   ],
   "source": [
    "print(12*4*4)"
   ]
  },
  {
   "cell_type": "code",
   "execution_count": null,
   "id": "a0638609",
   "metadata": {},
   "outputs": [],
   "source": []
  }
 ],
 "metadata": {
  "kernelspec": {
   "display_name": "Python 3 (ipykernel)",
   "language": "python",
   "name": "python3"
  },
  "language_info": {
   "codemirror_mode": {
    "name": "ipython",
    "version": 3
   },
   "file_extension": ".py",
   "mimetype": "text/x-python",
   "name": "python",
   "nbconvert_exporter": "python",
   "pygments_lexer": "ipython3",
   "version": "3.8.8"
  }
 },
 "nbformat": 4,
 "nbformat_minor": 5
}
