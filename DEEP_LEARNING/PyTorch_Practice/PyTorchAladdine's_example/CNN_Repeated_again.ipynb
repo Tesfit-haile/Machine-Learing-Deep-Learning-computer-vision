{
 "cells": [
  {
   "cell_type": "markdown",
   "id": "75daaabe",
   "metadata": {},
   "source": [
    "# Imports"
   ]
  },
  {
   "cell_type": "code",
   "execution_count": 1,
   "id": "3a20bcf4",
   "metadata": {},
   "outputs": [],
   "source": [
    "import torch \n",
    "import torch.nn as nn\n",
    "import torchvision.datasets as datasets\n",
    "import torchvision\n",
    "import torchvision.transforms as transforms\n",
    "import torch.nn.functional as F\n",
    "import matplotlib.pyplot as plt"
   ]
  },
  {
   "cell_type": "markdown",
   "id": "36ca39ed",
   "metadata": {},
   "source": [
    "# Device"
   ]
  },
  {
   "cell_type": "code",
   "execution_count": 2,
   "id": "1ce50c97",
   "metadata": {},
   "outputs": [],
   "source": [
    "device = 'GPU' if torch.cuda.is_available() else 'cpu'"
   ]
  },
  {
   "cell_type": "markdown",
   "id": "18b12b73",
   "metadata": {},
   "source": [
    "# Hyper-Parameters"
   ]
  },
  {
   "cell_type": "code",
   "execution_count": 3,
   "id": "5182a8e9",
   "metadata": {},
   "outputs": [],
   "source": [
    "input_channels = 1\n",
    "num_classes = 10\n",
    "batch_size = 64\n",
    "num_epoch = 2\n",
    "learning_rate = 0.001"
   ]
  },
  {
   "cell_type": "markdown",
   "id": "1bca959f",
   "metadata": {},
   "source": [
    "# Data"
   ]
  },
  {
   "cell_type": "code",
   "execution_count": 4,
   "id": "46835813",
   "metadata": {},
   "outputs": [],
   "source": [
    "training_data = datasets.MNIST(root='dataset/', train=True, transform=transforms.ToTensor(), download=True)\n",
    "testing_data = datasets.MNIST(root='dataset/', train=False, transform=transforms.ToTensor(), download=True)\n",
    "\n",
    "train_loader = torch.utils.data.DataLoader(dataset=training_data, batch_size=batch_size, shuffle=True)\n",
    "test_loader = torch.utils.data.DataLoader(dataset=testing_data, batch_size=batch_size, shuffle=True) \n",
    "# i thik we've 10000 test samples\n"
   ]
  },
  {
   "cell_type": "markdown",
   "id": "3babf55e",
   "metadata": {},
   "source": [
    "# CNN"
   ]
  },
  {
   "cell_type": "code",
   "execution_count": 5,
   "id": "9fe50fce",
   "metadata": {},
   "outputs": [
    {
     "data": {
      "text/plain": [
       "CNN(\n",
       "  (conv1): Conv2d(1, 8, kernel_size=(3, 3), stride=(1, 1), padding=(1, 1))\n",
       "  (pool): MaxPool2d(kernel_size=(2, 2), stride=(2, 2), padding=0, dilation=1, ceil_mode=False)\n",
       "  (conv2): Conv2d(8, 16, kernel_size=(3, 3), stride=(1, 1), padding=(1, 1))\n",
       "  (fc1): Linear(in_features=784, out_features=10, bias=True)\n",
       ")"
      ]
     },
     "execution_count": 5,
     "metadata": {},
     "output_type": "execute_result"
    }
   ],
   "source": [
    "class CNN(nn.Module):\n",
    "    \n",
    "    def __init__(self, input_channels=1, num_classes=10):\n",
    "        super(CNN, self).__init__()\n",
    "        \n",
    "        self.conv1 = nn.Conv2d(in_channels=1, out_channels=8, kernel_size=(3,3), stride=(1,1), padding=(1,1))\n",
    "        self.pool = nn.MaxPool2d(kernel_size=(2,2), stride=(2,2))\n",
    "        self.conv2 = nn.Conv2d(in_channels=8, out_channels=16, kernel_size=(3,3), stride=(1,1), padding=(1,1)) \n",
    "        \n",
    "        self.fc1 = nn.Linear(in_features=16*7*7, out_features=num_classes)\n",
    "        \n",
    "        \n",
    "    def forward(self, x):\n",
    "        x = F.relu(self.conv1(x))\n",
    "        x = self.pool(x)\n",
    "        x = F.relu(self.conv2(x))\n",
    "        x = self.pool(x)\n",
    "        \n",
    "        x = x.reshape(x.shape[0], -1)\n",
    "        x = self.fc1(x)\n",
    "        return x\n",
    "\n",
    "model = CNN().to(device=device)\n",
    "model"
   ]
  },
  {
   "cell_type": "markdown",
   "id": "95f534a4",
   "metadata": {},
   "source": [
    "# Loss and optim"
   ]
  },
  {
   "cell_type": "code",
   "execution_count": 6,
   "id": "02054c68",
   "metadata": {},
   "outputs": [],
   "source": [
    "criterion = nn.CrossEntropyLoss()\n",
    "optimizer = torch.optim.Adam(model.parameters(), lr=learning_rate)"
   ]
  },
  {
   "cell_type": "markdown",
   "id": "f15f5270",
   "metadata": {},
   "source": [
    "# Trianing loop"
   ]
  },
  {
   "cell_type": "code",
   "execution_count": 9,
   "id": "93ad48b7",
   "metadata": {},
   "outputs": [
    {
     "name": "stdout",
     "output_type": "stream",
     "text": [
      "Loss_error: 0.04050517454743385\n",
      "Loss_error: 0.06576967984437943\n",
      "Loss_error: 0.094292052090168\n",
      "Loss_error: 0.09137357026338577\n",
      "Accuracey >> : 93.75\n",
      "Loss_error: 0.10278960317373276\n",
      "Loss_error: 0.12458086758852005\n",
      "Loss_error: 0.08423210680484772\n",
      "Loss_error: 0.0528809018433094\n",
      "Accuracey >> : 100.0\n"
     ]
    }
   ],
   "source": [
    "for epoch in range(num_epoch):\n",
    "    corr = 0\n",
    "    n_samples = 0\n",
    "    ix = 0\n",
    "    for images, labels in train_loader:\n",
    "        images = images.to(device)\n",
    "        labels = labels.to(device)\n",
    "        \n",
    "        score_pred = model(images)\n",
    "        \n",
    "        loss = criterion(score_pred, labels)\n",
    "        optimizer.zero_grad()\n",
    "        \n",
    "        loss.backward()\n",
    "        optimizer.step()\n",
    "        \n",
    "        ix += 1\n",
    "        \n",
    "        if ix % 200 == 0:\n",
    "            print(f\"Loss_error: {loss}\")\n",
    "            \n",
    "            \n",
    "    #Check accu\n",
    "    _, predictions = score_pred.max(1)\n",
    "    corr += (predictions == labels).sum()\n",
    "    n_samples += predictions.size(0)       \n",
    "    print(f\"Accuracey >> : {float(corr) / float(n_samples) * 100}\")\n",
    "    \n",
    "       \n",
    "        \n",
    "        "
   ]
  },
  {
   "cell_type": "markdown",
   "id": "280d199b",
   "metadata": {},
   "source": [
    "# Testing "
   ]
  },
  {
   "cell_type": "code",
   "execution_count": 10,
   "id": "b015a5e9",
   "metadata": {},
   "outputs": [
    {
     "name": "stdout",
     "output_type": "stream",
     "text": [
      "Accuracey >> : 98.52\n"
     ]
    }
   ],
   "source": [
    "with torch.no_grad():\n",
    "    \n",
    "    corr_pred = 0\n",
    "    num_samples = 0\n",
    "    \n",
    "    for x, y in test_loader:\n",
    "        x = x.to(device)\n",
    "        y = y.to(device)\n",
    "        \n",
    "        scores = model(x)\n",
    "        \n",
    "        _, predictions = scores.max(1)\n",
    "        corr_pred += (predictions == y).sum()\n",
    "        num_samples += predictions.size(0)\n",
    "                \n",
    "    print(f\"Accuracey >> : {float(corr_pred) / float(num_samples) * 100}\")\n",
    "    \n",
    "\n",
    "         "
   ]
  },
  {
   "cell_type": "markdown",
   "id": "48197b61",
   "metadata": {},
   "source": [
    "# Renato"
   ]
  }
 ],
 "metadata": {
  "kernelspec": {
   "display_name": "Python 3 (ipykernel)",
   "language": "python",
   "name": "python3"
  },
  "language_info": {
   "codemirror_mode": {
    "name": "ipython",
    "version": 3
   },
   "file_extension": ".py",
   "mimetype": "text/x-python",
   "name": "python",
   "nbconvert_exporter": "python",
   "pygments_lexer": "ipython3",
   "version": "3.8.8"
  }
 },
 "nbformat": 4,
 "nbformat_minor": 5
}
