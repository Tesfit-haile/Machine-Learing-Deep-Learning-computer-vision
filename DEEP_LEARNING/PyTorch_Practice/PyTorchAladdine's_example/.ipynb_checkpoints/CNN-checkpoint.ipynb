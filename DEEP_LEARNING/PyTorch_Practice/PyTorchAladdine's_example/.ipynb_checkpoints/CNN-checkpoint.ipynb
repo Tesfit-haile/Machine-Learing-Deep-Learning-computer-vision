{
 "cells": [
  {
   "cell_type": "markdown",
   "id": "2402c794",
   "metadata": {},
   "source": [
    "# Imports"
   ]
  },
  {
   "cell_type": "code",
   "execution_count": 1,
   "id": "0b1aae8b",
   "metadata": {},
   "outputs": [],
   "source": [
    "import torch \n",
    "import torch.nn as nn\n",
    "import torch.optim as optim\n",
    "import torch.nn.functional as F\n",
    "from torch.utils.data import DataLoader\n",
    "import torchvision\n",
    "import torchvision.transforms as transforms\n",
    "import torchvision.datasets as datasets"
   ]
  },
  {
   "cell_type": "markdown",
   "id": "78c31362",
   "metadata": {},
   "source": [
    "# Build fully connected nn"
   ]
  },
  {
   "cell_type": "code",
   "execution_count": 2,
   "id": "e89ccc08",
   "metadata": {},
   "outputs": [],
   "source": [
    "class NN(nn.Module):\n",
    "    \n",
    "    def __init__(self, input_size, num_classes):\n",
    "        super(NN, self).__init__()\n",
    "        self.fc1 = nn.Linear(input_size, 50)\n",
    "        self.fc2 = nn.Linear(50, num_classes)\n",
    "    \n",
    "    def forward(self, x):\n",
    "        x = F.relu(self.fc1(x))\n",
    "        x = self.fc2(x)\n",
    "        return x\n",
    "    \n",
    "    \n",
    "\n",
    "# model = NN(784, 10)\n",
    "# print(28*28) \n",
    "# x = torch.rand(2, 784)\n",
    "# print(model(x).shape)"
   ]
  },
  {
   "cell_type": "markdown",
   "id": "cb947639",
   "metadata": {},
   "source": [
    "# Set device"
   ]
  },
  {
   "cell_type": "code",
   "execution_count": 3,
   "id": "3e99f5c8",
   "metadata": {},
   "outputs": [],
   "source": [
    "device = torch.device('cuda' if torch.cuda.is_available() else 'cpu')"
   ]
  },
  {
   "cell_type": "markdown",
   "id": "1f4ea1a8",
   "metadata": {},
   "source": [
    "# Hyperparameters"
   ]
  },
  {
   "cell_type": "code",
   "execution_count": 4,
   "id": "d0d0b94f",
   "metadata": {},
   "outputs": [],
   "source": [
    "input_size = 784\n",
    "num_classes = 10\n",
    "learning_rate = 0.001\n",
    "batch_size = 64\n",
    "num_epoch = 1"
   ]
  },
  {
   "cell_type": "markdown",
   "id": "85ffd6ee",
   "metadata": {},
   "source": [
    "# Load-data"
   ]
  },
  {
   "cell_type": "code",
   "execution_count": 5,
   "id": "bb8a6783",
   "metadata": {},
   "outputs": [],
   "source": [
    "train_dataset = datasets.MNIST(root='dataset/', train=True, transform=transforms.ToTensor(), download=True)\n",
    "test_dataset = datasets.MNIST(root='dataset/', train=False, transform=transforms.ToTensor(), download=True)\n",
    "\n",
    "train_loader = DataLoader(dataset=train_dataset, batch_size=batch_size, shuffle=True)\n",
    "test_loader = DataLoader(dataset=test_dataset, batch_size=batch_size, shuffle=True)\n"
   ]
  },
  {
   "cell_type": "markdown",
   "id": "165bae2c",
   "metadata": {},
   "source": [
    "# initialize a network"
   ]
  },
  {
   "cell_type": "code",
   "execution_count": 6,
   "id": "54a691f3",
   "metadata": {},
   "outputs": [],
   "source": [
    "model = NN(input_size, num_classes)"
   ]
  },
  {
   "cell_type": "markdown",
   "id": "df8731ab",
   "metadata": {},
   "source": [
    "# Loss & optimz"
   ]
  },
  {
   "cell_type": "code",
   "execution_count": 7,
   "id": "f2ee5b10",
   "metadata": {},
   "outputs": [],
   "source": [
    "criterion = nn.CrossEntropyLoss()\n",
    "optimizer = optim.Adam(model.parameters(), lr=learning_rate)"
   ]
  },
  {
   "cell_type": "markdown",
   "id": "41ce7805",
   "metadata": {},
   "source": [
    "# Trian NetWork"
   ]
  },
  {
   "cell_type": "code",
   "execution_count": 8,
   "id": "db442b3f",
   "metadata": {},
   "outputs": [],
   "source": [
    "for epoch in range(1):\n",
    "    \n",
    "    ix = 0 \n",
    "    \n",
    "    for images, labels in train_loader:\n",
    "        # load to device\n",
    "        images = images.to(device=device)\n",
    "        labels = labels.to(device=device)\n",
    "        \n",
    "        # reshape ---> to 784 --> 28*28\n",
    "        images = images.reshape(images.shape[0], -1)\n",
    "        \n",
    "        # forward \n",
    "        scores_pred = model(images)\n",
    "        # loss & optim\n",
    "        loss = criterion(scores_pred, labels)\n",
    "        optimizer.zero_grad()\n",
    "        \n",
    "        loss.backward()\n",
    "        optimizer.step()\n",
    "        ix += 1\n"
   ]
  },
  {
   "cell_type": "markdown",
   "id": "f6f253c8",
   "metadata": {},
   "source": [
    "# Accuracy"
   ]
  },
  {
   "cell_type": "code",
   "execution_count": 11,
   "id": "ed91db7a",
   "metadata": {},
   "outputs": [
    {
     "name": "stdout",
     "output_type": "stream",
     "text": [
      "Train data is runing.....\n",
      "Test data is runing.....\n",
      "Train_accu:  93.38\n",
      "Test_accu:  93.10000000000001\n"
     ]
    }
   ],
   "source": [
    "def check_accuracy(loader, model):\n",
    "    if loader.dataset.train:\n",
    "        print('Train data is runing.....')\n",
    "    else:\n",
    "        print('Test data is runing.....')\n",
    "    num_corr = 0\n",
    "    num_samples = 0\n",
    "    model.eval()\n",
    "    \n",
    "    with torch.no_grad():\n",
    "        for x, y in loader:\n",
    "            x = x.to(device=device)\n",
    "            y = y.to(device=device)\n",
    "            \n",
    "            x = x.reshape(x.shape[0], -1)\n",
    "            scores = model(x)\n",
    "            \n",
    "            # get max\n",
    "            _, predictions = scores.max(1)\n",
    "  \n",
    "            num_corr += (predictions == y).sum()\n",
    "            num_samples += predictions.size(0)\n",
    "        \n",
    "            \n",
    "        return float(num_corr) / float(num_samples) * 100\n",
    "        \n",
    "    model.train()       \n",
    "\n",
    "train_acc = check_accuracy(train_loader, model)\n",
    "test_acc = check_accuracy(test_loader, model)       \n",
    "print(\"Train_accu: \", train_acc)\n",
    "print(\"Test_accu: \", test_acc)"
   ]
  },
  {
   "cell_type": "code",
   "execution_count": null,
   "id": "f7f99237",
   "metadata": {},
   "outputs": [],
   "source": []
  }
 ],
 "metadata": {
  "kernelspec": {
   "display_name": "Python 3 (ipykernel)",
   "language": "python",
   "name": "python3"
  },
  "language_info": {
   "codemirror_mode": {
    "name": "ipython",
    "version": 3
   },
   "file_extension": ".py",
   "mimetype": "text/x-python",
   "name": "python",
   "nbconvert_exporter": "python",
   "pygments_lexer": "ipython3",
   "version": "3.8.8"
  }
 },
 "nbformat": 4,
 "nbformat_minor": 5
}
