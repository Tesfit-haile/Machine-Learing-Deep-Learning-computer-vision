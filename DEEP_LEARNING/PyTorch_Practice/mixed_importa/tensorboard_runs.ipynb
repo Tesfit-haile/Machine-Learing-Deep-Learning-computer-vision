{
 "cells": [
  {
   "cell_type": "code",
   "execution_count": 1,
   "id": "e64d00be",
   "metadata": {},
   "outputs": [],
   "source": [
    "import torch\n",
    "import torch.nn as nn\n",
    "import torch.nn.functional as F\n",
    "import torch.optim as optim\n",
    "\n",
    "import torchvision\n",
    "import torchvision.transforms as transforms\n",
    "\n",
    "torch.set_printoptions(linewidth=120)\n",
    "\n",
    "\n",
    "train_set = torchvision.datasets.FashionMNIST(\n",
    "    './FashionMNIST',\n",
    "    train=True,\n",
    "    download=True,\n",
    "    transform=transforms.Compose([transforms.ToTensor()]) # converting the images ToTensor\n",
    ")\n"
   ]
  },
  {
   "cell_type": "code",
   "execution_count": 2,
   "id": "0a12cec1",
   "metadata": {},
   "outputs": [],
   "source": [
    "class NetWork(nn.Module):\n",
    "    \n",
    "    def __init__(self):\n",
    "        super(NetWork, self).__init__()\n",
    "        \n",
    "        #### conv layers\n",
    "        self.conv1 = nn.Conv2d(in_channels=1, out_channels=6, kernel_size=5)\n",
    "        self.conv2 = nn.Conv2d(in_channels=6, out_channels=12, kernel_size=5)  \n",
    "        \n",
    "        #### Linear layers\n",
    "        self.fc1 = nn.Linear(in_features= 12*4*4, out_features=120)\n",
    "        self.fc2 = nn.Linear(in_features=120 , out_features=60)\n",
    "        self.out = nn.Linear(in_features=60, out_features=10)\n",
    "            \n",
    "        \n",
    "    def forward(self, t):\n",
    "        t = t #input layer\n",
    "        \n",
    "        #### hidden conv1 layer\n",
    "        t = self.conv1(t)\n",
    "        t = F.relu(t)\n",
    "        t = F.max_pool2d(t, kernel_size=2, stride=2)\n",
    "        \n",
    "        #### hidden conv2 layer\n",
    "        t = self.conv2(t)\n",
    "        t = F.relu(t)\n",
    "        t = F.max_pool2d(t, kernel_size=2, stride=2)\n",
    "        \n",
    "        #### hidden Linear_1 layer\n",
    "        t = t.reshape(-1, 12*4*4)\n",
    "        t = self.fc1(t)\n",
    "        t = F.relu(t)\n",
    "        \n",
    "        #### hidden Linear_2 layer\n",
    "        t = self.fc2(t)\n",
    "        t = F.relu(t)\n",
    "        \n",
    "        #### hidden Linear_out layer\n",
    "        t = self.out(t)\n",
    "        \n",
    "        return t"
   ]
  },
  {
   "cell_type": "code",
   "execution_count": 3,
   "id": "c3da0b78",
   "metadata": {},
   "outputs": [],
   "source": [
    "network = NetWork()"
   ]
  },
  {
   "cell_type": "code",
   "execution_count": 4,
   "id": "0b04f9f4",
   "metadata": {},
   "outputs": [],
   "source": [
    "train_loader = torch.utils.data.DataLoader(train_set, batch_size=100)\n",
    "optimizer = optim.Adam(network.parameters(), lr=0.01)"
   ]
  },
  {
   "cell_type": "code",
   "execution_count": 5,
   "id": "9889d02f",
   "metadata": {},
   "outputs": [],
   "source": [
    "#### will calu the num of correct prediction out of the batch_size\n",
    "def get_num_corrected(pred, labels):\n",
    "    return pred.argmax(dim=1).eq(labels).sum().item()"
   ]
  },
  {
   "cell_type": "markdown",
   "id": "bb8115d5",
   "metadata": {},
   "source": [
    "# Tensorboar writer"
   ]
  },
  {
   "cell_type": "code",
   "execution_count": 6,
   "id": "cd15d0de",
   "metadata": {},
   "outputs": [
    {
     "name": "stdout",
     "output_type": "stream",
     "text": [
      "epoch: 0, total correct pred: 47771, total Error pred: 328.2219439595938\n",
      "epoch: 1, total correct pred: 51420, total Error pred: 230.23466849327087\n",
      "epoch: 2, total correct pred: 52152, total Error pred: 213.44688542187214\n",
      "epoch: 3, total correct pred: 52583, total Error pred: 201.14260031282902\n",
      "epoch: 4, total correct pred: 52733, total Error pred: 196.25219748914242\n",
      "87.88833333333334\n"
     ]
    }
   ],
   "source": [
    "from torch.utils.tensorboard import SummaryWriter\n",
    "\n",
    "tb = SummaryWriter()\n",
    "\n",
    "images, labels = next(iter(train_loader))\n",
    "grid = torchvision.utils.make_grid(images)\n",
    "tb.add_image('tensorboardImages/', grid)\n",
    "tb.add_graph(network, images)\n",
    "\n",
    "for epoch in range(5):\n",
    "    \n",
    "    total_loss = 0\n",
    "    total_corr = 0\n",
    "    \n",
    "    for batch in train_loader:\n",
    "        images, labels = batch\n",
    "        preds = network(images)\n",
    "        loss = F.cross_entropy(preds, labels)\n",
    "        optimizer.zero_grad()\n",
    "        loss.backward()\n",
    "        optimizer.step()\n",
    "        \n",
    "        total_loss += loss.item()\n",
    "        total_corr += get_num_corrected(preds, labels)\n",
    "        \n",
    "    tb.add_scalar('Loss', total_loss, epoch)\n",
    "    tb.add_scalar('Correct_num', total_corr, epoch)\n",
    "    tb.add_scalar('Accuracy', total_corr / len(train_set))\n",
    "    \n",
    "    tb.add_histogram('conv1.bias', network.conv1.bias, epoch)\n",
    "    tb.add_histogram('conv1.weight', network.conv1.weight, epoch)\n",
    "    tb.add_histogram('conv1.weight.grad', network.conv1.weight.grad, epoch)\n",
    "\n",
    "    print(f\"epoch: {epoch}, total correct pred: {total_corr}, total Error pred: {total_loss}\")\n",
    "\n",
    "\n",
    "acc = 100* total_corr / len(train_set)\n",
    "print(acc)\n",
    "\n",
    "tb.close()\n"
   ]
  }
 ],
 "metadata": {
  "kernelspec": {
   "display_name": "Python 3 (ipykernel)",
   "language": "python",
   "name": "python3"
  },
  "language_info": {
   "codemirror_mode": {
    "name": "ipython",
    "version": 3
   },
   "file_extension": ".py",
   "mimetype": "text/x-python",
   "name": "python",
   "nbconvert_exporter": "python",
   "pygments_lexer": "ipython3",
   "version": "3.8.8"
  }
 },
 "nbformat": 4,
 "nbformat_minor": 5
}
