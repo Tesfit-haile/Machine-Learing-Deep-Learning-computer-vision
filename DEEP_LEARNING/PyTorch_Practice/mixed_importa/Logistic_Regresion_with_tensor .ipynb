{
 "cells": [
  {
   "cell_type": "markdown",
   "id": "42334041",
   "metadata": {},
   "source": [
    "# Logistic_Regration with tensor"
   ]
  },
  {
   "cell_type": "code",
   "execution_count": 12,
   "id": "410441f2",
   "metadata": {},
   "outputs": [],
   "source": [
    "# 1 desigh your model\n",
    "# 2 construct loss and optimizer\n",
    "# 3 trainig loop\n",
    "    # compute pred : loss\n",
    "    # gradients : backward pass\n",
    "    # update weights : backward.step()"
   ]
  },
  {
   "cell_type": "code",
   "execution_count": 13,
   "id": "27762934",
   "metadata": {},
   "outputs": [],
   "source": [
    "import torch\n",
    "import torch.nn as nn\n",
    "import numpy as np\n",
    "from sklearn import datasets\n",
    "import matplotlib.pyplot as plt\n",
    "from sklearn.model_selection import train_test_split\n",
    "from sklearn.metrics import accuracy_score\n",
    "from sklearn.preprocessing import StandardScaler"
   ]
  },
  {
   "cell_type": "code",
   "execution_count": 14,
   "id": "76808e58",
   "metadata": {},
   "outputs": [
    {
     "data": {
      "text/plain": [
       "(569, 30)"
      ]
     },
     "execution_count": 14,
     "metadata": {},
     "output_type": "execute_result"
    }
   ],
   "source": [
    "# get the data\n",
    "myData = datasets.load_breast_cancer()\n",
    "X = myData['data']\n",
    "y = myData['target']\n",
    "\n",
    "# split the col and row\n",
    "n_samples, n_features = X.shape\n",
    "n_samples, n_features\n"
   ]
  },
  {
   "cell_type": "code",
   "execution_count": 15,
   "id": "49c7b0d7",
   "metadata": {},
   "outputs": [
    {
     "data": {
      "text/plain": [
       "((557, 30), (557,))"
      ]
     },
     "execution_count": 15,
     "metadata": {},
     "output_type": "execute_result"
    }
   ],
   "source": [
    "\n",
    "X_train, X_test, y_train, y_test = train_test_split(X, y, test_size=0.02, random_state=1234)\n",
    "X_train.shape, y_train.shape\n"
   ]
  },
  {
   "cell_type": "markdown",
   "id": "31d786cd",
   "metadata": {},
   "source": [
    "# Scaleing"
   ]
  },
  {
   "cell_type": "code",
   "execution_count": 16,
   "id": "0d186542",
   "metadata": {},
   "outputs": [
    {
     "data": {
      "text/plain": [
       "numpy.ndarray"
      ]
     },
     "execution_count": 16,
     "metadata": {},
     "output_type": "execute_result"
    }
   ],
   "source": [
    "scale = StandardScaler()\n",
    "X_train = scale.fit_transform(X_train)\n",
    "X_test = scale.transform(X_test)\n",
    "\n",
    "type(X_test)"
   ]
  },
  {
   "cell_type": "code",
   "execution_count": 17,
   "id": "751be08a",
   "metadata": {},
   "outputs": [
    {
     "data": {
      "text/plain": [
       "array([1, 1, 1, 1, 1, 1, 0, 1, 0, 0, 0, 1])"
      ]
     },
     "execution_count": 17,
     "metadata": {},
     "output_type": "execute_result"
    }
   ],
   "source": [
    "y_test"
   ]
  },
  {
   "cell_type": "markdown",
   "id": "fd500e33",
   "metadata": {},
   "source": [
    "# Convert to Torch or tensor"
   ]
  },
  {
   "cell_type": "code",
   "execution_count": 18,
   "id": "f2d9c121",
   "metadata": {},
   "outputs": [
    {
     "data": {
      "text/plain": [
       "tensor([1., 1., 1., 1., 1., 1., 0., 1., 0., 0., 0., 1.])"
      ]
     },
     "execution_count": 18,
     "metadata": {},
     "output_type": "execute_result"
    }
   ],
   "source": [
    "X_train = torch.from_numpy(X_train.astype(np.float32))\n",
    "X_test  = torch.from_numpy(X_test.astype(np.float32))\n",
    "y_train = torch.from_numpy(y_train.astype(np.float32))\n",
    "y_test  = torch.from_numpy(y_test.astype(np.float32))\n",
    "y_test"
   ]
  },
  {
   "cell_type": "markdown",
   "id": "7459cd97",
   "metadata": {},
   "source": [
    "# Resahpe the y_"
   ]
  },
  {
   "cell_type": "code",
   "execution_count": 19,
   "id": "0c3ffb1a",
   "metadata": {},
   "outputs": [
    {
     "name": "stdout",
     "output_type": "stream",
     "text": [
      "tensor([1., 1., 1., 1., 1., 1., 0., 1., 0., 0., 0., 1.])\n",
      "tensor([[1.],\n",
      "        [1.],\n",
      "        [1.],\n",
      "        [1.],\n",
      "        [1.],\n",
      "        [1.],\n",
      "        [0.],\n",
      "        [1.],\n",
      "        [0.],\n",
      "        [0.],\n",
      "        [0.],\n",
      "        [1.]])\n"
     ]
    }
   ],
   "source": [
    "# NOT quite understand why i am doing this........ >>> i think b/c we always need flattend target\n",
    "# view and reshape are same\n",
    "print(y_test)\n",
    "\n",
    "y_train = y_train.view(y_train.shape[0], 1)\n",
    "y_test = y_test.view(y_test.shape[0], 1)\n",
    "\n",
    "print(y_test) "
   ]
  },
  {
   "cell_type": "markdown",
   "id": "69ce1e40",
   "metadata": {},
   "source": [
    "# 1. Build model "
   ]
  },
  {
   "cell_type": "code",
   "execution_count": 20,
   "id": "dc412321",
   "metadata": {},
   "outputs": [],
   "source": [
    "class Logistic_Regresion(nn.Module):  \n",
    "    def __init__(self, input_features):\n",
    "        super(Logistic_Regresion, self).__init__()\n",
    "        self.linear = nn.Linear(in_features=input_features, out_features=1)\n",
    "        \n",
    "    def forward(self, x):\n",
    "        y_pred = torch.sigmoid(self.linear(x))\n",
    "        return y_pred\n",
    "    \n",
    "model = Logistic_Regresion(n_features)"
   ]
  },
  {
   "cell_type": "markdown",
   "id": "23d1d3f3",
   "metadata": {},
   "source": [
    "# 2 construct loss and optimizer"
   ]
  },
  {
   "cell_type": "code",
   "execution_count": 21,
   "id": "91ee8bcd",
   "metadata": {},
   "outputs": [],
   "source": [
    "loss_func = nn.BCELoss()\n",
    "optimizer = torch.optim.SGD(model.parameters(), lr=0.01)"
   ]
  },
  {
   "cell_type": "markdown",
   "id": "b0bb1c06",
   "metadata": {},
   "source": [
    "# 3 trainig loop"
   ]
  },
  {
   "cell_type": "code",
   "execution_count": 22,
   "id": "19111300",
   "metadata": {},
   "outputs": [
    {
     "name": "stdout",
     "output_type": "stream",
     "text": [
      "epoch: 10, loss = 0.5060\n",
      "epoch: 20, loss = 0.4324\n",
      "epoch: 30, loss = 0.3827\n",
      "epoch: 40, loss = 0.3467\n",
      "epoch: 50, loss = 0.3194\n",
      "epoch: 60, loss = 0.2980\n",
      "epoch: 70, loss = 0.2806\n",
      "epoch: 80, loss = 0.2661\n",
      "epoch: 90, loss = 0.2539\n",
      "epoch: 100, loss = 0.2434\n",
      "tensor([[0.7337],\n",
      "        [0.9467],\n",
      "        [0.4304],\n",
      "        [0.8757],\n",
      "        [0.7959],\n",
      "        [0.6161],\n",
      "        [0.4400],\n",
      "        [0.9206],\n",
      "        [0.0355],\n",
      "        [0.0717],\n",
      "        [0.0668],\n",
      "        [0.6350]])\n",
      "Accuracy:>>> 0.9166666666666666\n"
     ]
    }
   ],
   "source": [
    "                                # compute pred : loss\n",
    "                                # gradients : backward pass\n",
    "                                # update weights : backward.step\n",
    "for epoch in range(100):\n",
    "    y_predicted = model(X_train)\n",
    "    loss = loss_func(y_predicted, y_train)\n",
    "    loss.backward()\n",
    "    \n",
    "    optimizer.step()\n",
    "    optimizer.zero_grad()\n",
    "    \n",
    "    if (epoch+1) % 10 == 0:\n",
    "        print(f'epoch: {epoch+1}, loss = {loss.item():.4f}')\n",
    "\n",
    "with torch.no_grad():\n",
    "    y_pred = model(X_test)\n",
    "    print(y_pred)\n",
    "    acc = accuracy_score(y_pred.round(), y_test) #### becare full with the [[type shape and others.....]]\n",
    "    print(f\"Accuracy:>>> {acc}\")"
   ]
  },
  {
   "cell_type": "code",
   "execution_count": null,
   "id": "b7f86ff5",
   "metadata": {},
   "outputs": [],
   "source": []
  },
  {
   "cell_type": "code",
   "execution_count": null,
   "id": "448b6189",
   "metadata": {},
   "outputs": [],
   "source": []
  }
 ],
 "metadata": {
  "kernelspec": {
   "display_name": "Python 3 (ipykernel)",
   "language": "python",
   "name": "python3"
  },
  "language_info": {
   "codemirror_mode": {
    "name": "ipython",
    "version": 3
   },
   "file_extension": ".py",
   "mimetype": "text/x-python",
   "name": "python",
   "nbconvert_exporter": "python",
   "pygments_lexer": "ipython3",
   "version": "3.8.8"
  }
 },
 "nbformat": 4,
 "nbformat_minor": 5
}
