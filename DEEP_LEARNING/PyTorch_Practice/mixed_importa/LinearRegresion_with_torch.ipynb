{
 "cells": [
  {
   "cell_type": "code",
   "execution_count": 4,
   "id": "60c68cc3",
   "metadata": {},
   "outputs": [],
   "source": [
    "# 1) design our model\n",
    "# 2) construct loss & optimi\n",
    "# 3) Training loop\n",
    "    # compute pred : forward pass\n",
    "    # gradients : backward pass\n",
    "    # update weights"
   ]
  },
  {
   "cell_type": "code",
   "execution_count": 1,
   "id": "5c5aaf81",
   "metadata": {},
   "outputs": [],
   "source": [
    "import torch\n",
    "import torch.nn as nn\n",
    "import numpy as np\n",
    "from sklearn import datasets\n",
    "import matplotlib.pyplot as plt\n",
    "from sklearn.metrics import accuracy_score"
   ]
  },
  {
   "cell_type": "code",
   "execution_count": 2,
   "id": "431090c9",
   "metadata": {},
   "outputs": [
    {
     "data": {
      "text/plain": [
       "(100, 1)"
      ]
     },
     "execution_count": 2,
     "metadata": {},
     "output_type": "execute_result"
    }
   ],
   "source": [
    "###### convert to torch\n",
    "x_numpy, y_numpy = datasets.make_regression(n_samples=100, n_features=1, noise=20, random_state=1)\n",
    "\n",
    "x = torch.from_numpy(x_numpy.astype(np.float32))\n",
    "y = torch.from_numpy(y_numpy.astype(np.float32)) # cuz it's a tensor we need to shape it to 1d\n",
    "y = y.view(y.shape[0], 1) # 1d\n",
    "\n",
    "\n",
    "n_samples, n_features = x.shape\n",
    "n_samples, n_features"
   ]
  },
  {
   "cell_type": "code",
   "execution_count": 3,
   "id": "9db4fade",
   "metadata": {},
   "outputs": [
    {
     "name": "stdout",
     "output_type": "stream",
     "text": [
      "epoch: 10, loss = 4435.8130\n",
      "epoch: 20, loss = 3308.1462\n",
      "epoch: 30, loss = 2492.3306\n",
      "epoch: 40, loss = 1901.4883\n",
      "epoch: 50, loss = 1473.1531\n",
      "epoch: 60, loss = 1162.3420\n",
      "epoch: 70, loss = 936.6172\n",
      "epoch: 80, loss = 772.5569\n",
      "epoch: 90, loss = 653.2294\n",
      "epoch: 100, loss = 566.3801\n"
     ]
    }
   ],
   "source": [
    "model = nn.Linear(in_features=n_features, out_features=1)\n",
    "\n",
    "loss_func = nn.MSELoss()\n",
    "optimizer = torch.optim.SGD(model.parameters(), lr=0.01)  \n",
    "\n",
    "\n",
    "# 3) Training loop\n",
    "for epoch in range(100):\n",
    "    y_predicted = model(x)\n",
    "    \n",
    "    loss = loss_func(y_predicted, y)\n",
    "    loss.backward()\n",
    "    \n",
    "    optimizer.step()\n",
    "    optimizer.zero_grad()\n",
    "\n",
    "    if (epoch+1) % 10 == 0:\n",
    "        print(f'epoch: {epoch+1}, loss = {loss.item():.4f}')\n"
   ]
  },
  {
   "cell_type": "code",
   "execution_count": null,
   "id": "c6eb35ae",
   "metadata": {},
   "outputs": [],
   "source": []
  }
 ],
 "metadata": {
  "kernelspec": {
   "display_name": "Python 3 (ipykernel)",
   "language": "python",
   "name": "python3"
  },
  "language_info": {
   "codemirror_mode": {
    "name": "ipython",
    "version": 3
   },
   "file_extension": ".py",
   "mimetype": "text/x-python",
   "name": "python",
   "nbconvert_exporter": "python",
   "pygments_lexer": "ipython3",
   "version": "3.8.8"
  }
 },
 "nbformat": 4,
 "nbformat_minor": 5
}
