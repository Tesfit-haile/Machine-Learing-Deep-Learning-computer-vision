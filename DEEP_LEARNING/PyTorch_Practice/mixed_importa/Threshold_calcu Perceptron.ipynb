{
 "cells": [
  {
   "cell_type": "markdown",
   "id": "41e26640",
   "metadata": {},
   "source": [
    "# Perceptron ---- works in binary 1 or 0\n",
    "# Gradient-Decesnt -------- works any decimal b/n 0 and 1"
   ]
  },
  {
   "cell_type": "markdown",
   "id": "6d3a4f62",
   "metadata": {},
   "source": [
    "### Perceptron is >>>  used to classify data into two parts. Therefore, it is also known as a Linear Binary Classifier."
   ]
  },
  {
   "cell_type": "code",
   "execution_count": null,
   "id": "472b691d",
   "metadata": {},
   "outputs": [],
   "source": [
    "x_input = [0.1, 0.5, 0.2]\n",
    "w_weights =  [0.4, 0.3, 0.6,]\n",
    "threshold = 0.5\n",
    "\n",
    "\n",
    "\n",
    "def steps(total_weight):\n",
    "    if total_weight > threshold:\n",
    "        return 1\n",
    "    else:\n",
    "        return 0\n",
    "\n",
    "\n",
    "def perceptron():\n",
    "    total_weight = 0\n",
    "\n",
    "    for x, w in zip(x_input, w_weights):\n",
    "        results = x * w\n",
    "        total_weight += results\n",
    "        print(results)\n",
    "        \n",
    "    print(f\"total_weights: {total_weight}\")\n",
    "    \n",
    "    return total_weight\n",
    "\n",
    "resu = perceptron()\n",
    "steps(resu)\n",
    "\n"
   ]
  },
  {
   "cell_type": "markdown",
   "id": "2dc943c8",
   "metadata": {},
   "source": [
    "# Step func for Percptron"
   ]
  },
  {
   "cell_type": "markdown",
   "id": "dc76a30c",
   "metadata": {},
   "source": [
    "# Sigmoid for Gradiant-Descent"
   ]
  },
  {
   "cell_type": "markdown",
   "id": "ae30ff8b",
   "metadata": {},
   "source": [
    "# Loss "
   ]
  },
  {
   "cell_type": "code",
   "execution_count": 1,
   "id": "0729a0d5",
   "metadata": {},
   "outputs": [],
   "source": [
    "import math\n",
    "\n",
    "x_input1 = [0.1, 0.5, 0.2]\n",
    "x_input2 = [0.2, 0.3, 0.1]\n",
    "x_input3 = [0.7, 0.4, 0.2]\n",
    "x_input4 = [0.1, 0.4, 0.3]\n",
    "\n",
    "w =  [0.4, 0.3, 0.6,]\n",
    "\n",
    "# Aftre we mult the inputs with the w, we get the result below👇. NOW calcu the loss\n",
    "\n",
    "input_dataWithWeights = [(0.26, 1), (0.20, 0), (28, 1), (30, 0)] # input(feature) and target\n"
   ]
  },
  {
   "cell_type": "code",
   "execution_count": 3,
   "id": "69bdf5b6",
   "metadata": {
    "scrolled": true
   },
   "outputs": [
    {
     "ename": "ValueError",
     "evalue": "math domain error",
     "output_type": "error",
     "traceback": [
      "\u001b[0;31m---------------------------------------------------------------------------\u001b[0m",
      "\u001b[0;31mValueError\u001b[0m                                Traceback (most recent call last)",
      "\u001b[0;32m/var/folders/hb/vbxxmjpx5c52f0b_pm6z0p0h0000gn/T/ipykernel_66984/3482599198.py\u001b[0m in \u001b[0;36m<module>\u001b[0;34m\u001b[0m\n\u001b[1;32m      5\u001b[0m     \u001b[0my\u001b[0m \u001b[0;34m=\u001b[0m \u001b[0mentery\u001b[0m\u001b[0;34m[\u001b[0m\u001b[0;36m1\u001b[0m\u001b[0;34m]\u001b[0m\u001b[0;34m\u001b[0m\u001b[0;34m\u001b[0m\u001b[0m\n\u001b[1;32m      6\u001b[0m \u001b[0;34m\u001b[0m\u001b[0m\n\u001b[0;32m----> 7\u001b[0;31m     \u001b[0mlossEntropy\u001b[0m \u001b[0;34m=\u001b[0m \u001b[0;34m-\u001b[0m\u001b[0;34m(\u001b[0m\u001b[0my\u001b[0m\u001b[0;34m*\u001b[0m\u001b[0mlog\u001b[0m\u001b[0;34m(\u001b[0m\u001b[0mw_sum\u001b[0m\u001b[0;34m)\u001b[0m \u001b[0;34m+\u001b[0m \u001b[0;34m(\u001b[0m\u001b[0;36m1\u001b[0m\u001b[0;34m-\u001b[0m\u001b[0my\u001b[0m\u001b[0;34m)\u001b[0m\u001b[0;34m*\u001b[0m\u001b[0mlog\u001b[0m\u001b[0;34m(\u001b[0m\u001b[0;36m1\u001b[0m\u001b[0;34m-\u001b[0m\u001b[0mw_sum\u001b[0m\u001b[0;34m)\u001b[0m\u001b[0;34m)\u001b[0m\u001b[0;34m\u001b[0m\u001b[0;34m\u001b[0m\u001b[0m\n\u001b[0m\u001b[1;32m      8\u001b[0m \u001b[0;34m\u001b[0m\u001b[0m\n\u001b[1;32m      9\u001b[0m     \u001b[0mtotal_loss\u001b[0m \u001b[0;34m+=\u001b[0m \u001b[0mlossEntropy\u001b[0m\u001b[0;34m\u001b[0m\u001b[0;34m\u001b[0m\u001b[0m\n",
      "\u001b[0;31mValueError\u001b[0m: math domain error"
     ]
    }
   ],
   "source": [
    "from math import log\n",
    "total_loss = 0\n",
    "for entery in input_dataWithWeights:\n",
    "    w_sum = entery[0]\n",
    "    y = entery[1]\n",
    "\n",
    "    lossEntropy = -(y*log(w_sum) + (1-y)*log(1-w_sum))\n",
    "    \n",
    "    total_loss += lossEntropy\n",
    "    \n",
    "print(total_loss)\n",
    "    \n"
   ]
  },
  {
   "cell_type": "code",
   "execution_count": null,
   "id": "57a00ff8",
   "metadata": {},
   "outputs": [],
   "source": []
  }
 ],
 "metadata": {
  "kernelspec": {
   "display_name": "Python 3 (ipykernel)",
   "language": "python",
   "name": "python3"
  },
  "language_info": {
   "codemirror_mode": {
    "name": "ipython",
    "version": 3
   },
   "file_extension": ".py",
   "mimetype": "text/x-python",
   "name": "python",
   "nbconvert_exporter": "python",
   "pygments_lexer": "ipython3",
   "version": "3.8.8"
  }
 },
 "nbformat": 4,
 "nbformat_minor": 5
}
