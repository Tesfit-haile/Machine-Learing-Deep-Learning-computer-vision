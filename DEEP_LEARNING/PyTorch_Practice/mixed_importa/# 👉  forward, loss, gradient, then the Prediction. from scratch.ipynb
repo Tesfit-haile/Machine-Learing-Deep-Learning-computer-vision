{
 "cells": [
  {
   "cell_type": "markdown",
   "id": "429eb0ce",
   "metadata": {
    "slideshow": {
     "slide_type": "-"
    }
   },
   "source": [
    "# With numpy"
   ]
  },
  {
   "cell_type": "code",
   "execution_count": 1,
   "id": "282f3bf8",
   "metadata": {
    "slideshow": {
     "slide_type": "-"
    }
   },
   "outputs": [],
   "source": [
    "import torch\n",
    "import numpy as np\n",
    "import time"
   ]
  },
  {
   "cell_type": "code",
   "execution_count": 2,
   "id": "718b78f6",
   "metadata": {
    "slideshow": {
     "slide_type": "-"
    }
   },
   "outputs": [
    {
     "name": "stdout",
     "output_type": "stream",
     "text": [
      "first>>> None\n",
      "tensor([3., 3., 3., 3.])\n",
      "first>>> tensor([0., 0., 0., 0.])\n",
      "tensor([3., 3., 3., 3.])\n",
      "first>>> tensor([0., 0., 0., 0.])\n",
      "tensor([3., 3., 3., 3.])\n"
     ]
    }
   ],
   "source": [
    "weights = torch.ones(4, requires_grad=True)\n",
    "\n",
    "for epoch in range(3):\n",
    "    print('first>>>', weights.grad)\n",
    "    model_outPut = (weights * 3).sum()\n",
    "    model_outPut.backward()\n",
    "    print(weights.grad) # will save the old value and add a new if we dont use the .zero_, but we have to use .zero()\n",
    "    weights.grad.zero_()\n",
    "    \n",
    "# RuntimeError: grad can be implicitly created only for scalar outputs"
   ]
  },
  {
   "cell_type": "markdown",
   "id": "5989acb2",
   "metadata": {},
   "source": [
    "# Calc the Grad"
   ]
  },
  {
   "cell_type": "code",
   "execution_count": 3,
   "id": "84e0b43c",
   "metadata": {},
   "outputs": [],
   "source": [
    "x = torch.tensor(1.0)\n",
    "y = torch.tensor(2.0)\n",
    "w = torch.tensor(1.0, requires_grad=True)"
   ]
  },
  {
   "cell_type": "code",
   "execution_count": 4,
   "id": "e74e4da2",
   "metadata": {},
   "outputs": [
    {
     "name": "stdout",
     "output_type": "stream",
     "text": [
      "yPred: 1.0, loss: 1.0 \n"
     ]
    }
   ],
   "source": [
    "y_pred = w * x\n",
    "loss = (y_pred - y)**2\n",
    "print(f'yPred: {y_pred}, loss: {loss} ')"
   ]
  },
  {
   "cell_type": "code",
   "execution_count": 5,
   "id": "754fcc64",
   "metadata": {},
   "outputs": [
    {
     "name": "stdout",
     "output_type": "stream",
     "text": [
      "None\n",
      "tensor(-2.)\n"
     ]
    }
   ],
   "source": [
    "# Backward pass\n",
    "print(w.grad) # will print None\n",
    "loss.backward()\n",
    "print(w.grad) # will print -2"
   ]
  },
  {
   "cell_type": "markdown",
   "id": "01d2b81f",
   "metadata": {},
   "source": [
    "# ============================="
   ]
  },
  {
   "cell_type": "markdown",
   "id": "d8d475bb",
   "metadata": {},
   "source": [
    "# 👉 Let's find the forward, loss, gradient, then the Prediction."
   ]
  },
  {
   "cell_type": "code",
   "execution_count": 6,
   "id": "d0ce9463",
   "metadata": {},
   "outputs": [
    {
     "name": "stdout",
     "output_type": "stream",
     "text": [
      "[0. 0. 0.]\n"
     ]
    }
   ],
   "source": [
    "x2 = np.array([1, 2, 3], dtype=np.float32)\n",
    "y2 = np.array([2, 4, 6], dtype=np.float32)\n",
    "\n",
    "w2 = 0.0\n",
    "print(w2 * x2)\n"
   ]
  },
  {
   "cell_type": "code",
   "execution_count": 7,
   "id": "4f0c7f86",
   "metadata": {},
   "outputs": [
    {
     "name": "stdout",
     "output_type": "stream",
     "text": [
      "predic befor training: 0.0\n"
     ]
    }
   ],
   "source": [
    "\n",
    "def forward(x2): # forward or predic\n",
    "    return w2 * x2\n",
    "\n",
    "\n",
    "def loss(y_pred, y2): # loss = MSE\n",
    "    return ((y_pred - y2)**2).mean()\n",
    "\n",
    "\n",
    "def gradient(x2, y_pred, y2):\n",
    "    # 1/n * (2x(w*x - y))\n",
    "    derivative = np.dot(2*x2, y_pred - y2).mean()\n",
    "    return derivative\n",
    "\n",
    "print(f\"predic befor training: {forward(5)}\")\n",
    "    "
   ]
  },
  {
   "cell_type": "markdown",
   "id": "7a503871",
   "metadata": {},
   "source": [
    "# Deravative Separately \n",
    "##### we need deravative  and learning rate for updating our weight"
   ]
  },
  {
   "cell_type": "code",
   "execution_count": 8,
   "id": "950add4d",
   "metadata": {},
   "outputs": [
    {
     "name": "stdout",
     "output_type": "stream",
     "text": [
      "[2. 4. 6.]\n",
      "[-2. -4. -6.]\n",
      "-56.0\n"
     ]
    }
   ],
   "source": [
    "# derivative = np.dot(2*x, y_pred - y).mean()\n",
    "print(2.0*x2)\n",
    "print([0.,0.,0.] - y2)\n",
    "print(np.dot([2., 4., 6.], [-2., -4., -6.]))"
   ]
  },
  {
   "cell_type": "markdown",
   "id": "fd000a51",
   "metadata": {},
   "source": [
    "# Trianing"
   ]
  },
  {
   "cell_type": "code",
   "execution_count": 9,
   "id": "106fe4e4",
   "metadata": {
    "scrolled": true
   },
   "outputs": [
    {
     "name": "stdout",
     "output_type": "stream",
     "text": [
      "predic: [0. 0. 0.], Loss: 18.66666603088379, Weight: 0.56\n",
      "predic: [0.56      1.12      1.6800001], Loss: 9.676798820495605, Weight: 0.9631999969482423\n",
      "predic: [0.9632    1.9264    2.8895998], Loss: 5.016453266143799, Weight: 1.2535040092468264\n",
      "predic: [1.253504 2.507008 3.760512], Loss: 2.6005289554595947, Weight: 1.4625228881835939\n",
      "predic: [1.4625229 2.9250457 4.3875685], Loss: 1.3481146097183228, Weight: 1.6130164909362794\n",
      "predic: [1.6130165 3.226033  4.8390493], Loss: 0.6988625526428223, Weight: 1.721371879577637\n",
      "predic: [1.7213719 3.4427438 5.164116 ], Loss: 0.3622901141643524, Weight: 1.7993877363204958\n",
      "predic: [1.7993877 3.5987754 5.398163 ], Loss: 0.1878114938735962, Weight: 1.855559196472168\n",
      "predic: [1.8555592 3.7111185 5.5666776], Loss: 0.09736133366823196, Weight: 1.8960026168823243\n",
      "predic: [1.8960027 3.7920053 5.688008 ], Loss: 0.05047212168574333, Weight: 1.9251218819618225\n",
      "===========\n",
      "predic After training: 9.625609409809112\n"
     ]
    }
   ],
   "source": [
    "lr = 0.01\n",
    "\n",
    "for epoch in range(10):\n",
    "    #forward\n",
    "    y_prediction = forward(x2)\n",
    "\n",
    "    #loss\n",
    "    loss2 = loss(y_prediction, y2)\n",
    "    \n",
    "    #gradient\n",
    "    deriva = gradient(x2, y_prediction, y2)\n",
    "    \n",
    "    #update the weight important !!!!!!!!!!!!!!!!!\n",
    "    #w = w - lr * derivative\n",
    "    w2 = w2 - lr*deriva # w2 will not be anymore 0.0\n",
    "    \n",
    "    print(f\"predic: {y_prediction}, Loss: {loss2}, Weight: {w2}\")\n",
    "    #time.sleep(2)\n",
    "\n",
    "    \n",
    "print(\"===========\")\n",
    "print(f\"predic After training: {forward(5)}\")\n"
   ]
  },
  {
   "cell_type": "code",
   "execution_count": null,
   "id": "b63e2804",
   "metadata": {},
   "outputs": [],
   "source": []
  },
  {
   "cell_type": "markdown",
   "id": "60b3db35",
   "metadata": {},
   "source": [
    "# First predic 👇"
   ]
  },
  {
   "cell_type": "code",
   "execution_count": 10,
   "id": "5e105dfb",
   "metadata": {},
   "outputs": [
    {
     "name": "stdout",
     "output_type": "stream",
     "text": [
      "[0. 0. 0.]\n"
     ]
    }
   ],
   "source": [
    "# get predic\n",
    "print(np.dot(0.0, [1, 2, 3]))"
   ]
  },
  {
   "cell_type": "code",
   "execution_count": 11,
   "id": "6725c5ae",
   "metadata": {},
   "outputs": [
    {
     "name": "stdout",
     "output_type": "stream",
     "text": [
      "18.666666666666668\n"
     ]
    }
   ],
   "source": [
    "# loss \n",
    "print((([0., 0., 0.] - y2)**2).mean())"
   ]
  },
  {
   "cell_type": "code",
   "execution_count": 12,
   "id": "c8915b6e",
   "metadata": {},
   "outputs": [
    {
     "name": "stdout",
     "output_type": "stream",
     "text": [
      "[2. 4. 6.]\n",
      "[-2. -4. -6.]\n",
      "-56.0\n"
     ]
    }
   ],
   "source": [
    "# derivative = np.dot(2*x, y_pred - y).mean()\n",
    "print(2.0*x2)\n",
    "print([0.,0.,0.] - y2)\n",
    "print(np.dot([2., 4., 6.], [-2., -4., -6.]).mean()) # Second predic"
   ]
  },
  {
   "cell_type": "code",
   "execution_count": 13,
   "id": "f2fbd0ad",
   "metadata": {},
   "outputs": [
    {
     "name": "stdout",
     "output_type": "stream",
     "text": [
      "-0.56\n"
     ]
    }
   ],
   "source": [
    "# update derivative\n",
    "# lr*dw\n",
    "print(0.01 * -56)"
   ]
  },
  {
   "cell_type": "code",
   "execution_count": 14,
   "id": "11f6c402",
   "metadata": {},
   "outputs": [
    {
     "name": "stdout",
     "output_type": "stream",
     "text": [
      "0.56\n"
     ]
    }
   ],
   "source": [
    "# update w2\n",
    "w2 = 0.0 - lr*-56\n",
    "print(w2)"
   ]
  },
  {
   "cell_type": "markdown",
   "id": "832cb687",
   "metadata": {},
   "source": [
    "# Second predic after you update your weight 👇"
   ]
  },
  {
   "cell_type": "markdown",
   "id": "05bf7088",
   "metadata": {},
   "source": [
    "## It continues like the first step till the last iteration "
   ]
  },
  {
   "cell_type": "code",
   "execution_count": null,
   "id": "7cab6aab",
   "metadata": {},
   "outputs": [],
   "source": []
  },
  {
   "cell_type": "code",
   "execution_count": null,
   "id": "1d0592ee",
   "metadata": {},
   "outputs": [],
   "source": []
  },
  {
   "cell_type": "code",
   "execution_count": null,
   "id": "4204f351",
   "metadata": {},
   "outputs": [],
   "source": []
  },
  {
   "cell_type": "code",
   "execution_count": null,
   "id": "f3457f60",
   "metadata": {},
   "outputs": [],
   "source": []
  },
  {
   "cell_type": "code",
   "execution_count": null,
   "id": "85abe88b",
   "metadata": {},
   "outputs": [],
   "source": []
  },
  {
   "cell_type": "code",
   "execution_count": null,
   "id": "5be5005c",
   "metadata": {},
   "outputs": [],
   "source": []
  },
  {
   "cell_type": "code",
   "execution_count": null,
   "id": "4ec03063",
   "metadata": {},
   "outputs": [],
   "source": []
  },
  {
   "cell_type": "code",
   "execution_count": null,
   "id": "234ce173",
   "metadata": {},
   "outputs": [],
   "source": []
  },
  {
   "cell_type": "code",
   "execution_count": null,
   "id": "db408603",
   "metadata": {},
   "outputs": [],
   "source": []
  },
  {
   "cell_type": "code",
   "execution_count": null,
   "id": "e5fb4cd3",
   "metadata": {},
   "outputs": [],
   "source": []
  },
  {
   "cell_type": "code",
   "execution_count": null,
   "id": "2609838d",
   "metadata": {},
   "outputs": [],
   "source": []
  },
  {
   "cell_type": "code",
   "execution_count": null,
   "id": "46a0a947",
   "metadata": {},
   "outputs": [],
   "source": []
  },
  {
   "cell_type": "code",
   "execution_count": null,
   "id": "1694334f",
   "metadata": {},
   "outputs": [],
   "source": []
  },
  {
   "cell_type": "code",
   "execution_count": null,
   "id": "531e10e9",
   "metadata": {},
   "outputs": [],
   "source": []
  },
  {
   "cell_type": "markdown",
   "id": "9c3b4df4",
   "metadata": {},
   "source": [
    "# =============================================================="
   ]
  },
  {
   "cell_type": "markdown",
   "id": "e08f748e",
   "metadata": {
    "slideshow": {
     "slide_type": "slide"
    }
   },
   "source": [
    "# With torch"
   ]
  },
  {
   "cell_type": "code",
   "execution_count": 15,
   "id": "30feb8de",
   "metadata": {},
   "outputs": [],
   "source": [
    "import torch\n"
   ]
  },
  {
   "cell_type": "code",
   "execution_count": null,
   "id": "56dae5f0",
   "metadata": {},
   "outputs": [],
   "source": []
  },
  {
   "cell_type": "code",
   "execution_count": 22,
   "id": "d33e385c",
   "metadata": {},
   "outputs": [
    {
     "name": "stdout",
     "output_type": "stream",
     "text": [
      "epoch 1: w = 0.300, loss = 30.00000000, Predic: tensor([0., 0., 0., 0.], grad_fn=<MulBackward0>)\n",
      "epoch 11: w = 1.665, loss = 1.16278565, Predic: tensor([1.6063, 3.2125, 4.8188, 6.4250], grad_fn=<MulBackward0>)\n",
      "epoch 21: w = 1.934, loss = 0.04506890, Predic: tensor([1.9225, 3.8450, 5.7674, 7.6899], grad_fn=<MulBackward0>)\n",
      "epoch 31: w = 1.987, loss = 0.00174685, Predic: tensor([1.9847, 3.9695, 5.9542, 7.9390], grad_fn=<MulBackward0>)\n",
      "epoch 41: w = 1.997, loss = 0.00006770, Predic: tensor([1.9970, 3.9940, 5.9910, 7.9880], grad_fn=<MulBackward0>)\n",
      "epoch 51: w = 1.999, loss = 0.00000262, Predic: tensor([1.9994, 3.9988, 5.9982, 7.9976], grad_fn=<MulBackward0>)\n",
      "epoch 61: w = 2.000, loss = 0.00000010, Predic: tensor([1.9999, 3.9998, 5.9997, 7.9995], grad_fn=<MulBackward0>)\n",
      "epoch 71: w = 2.000, loss = 0.00000000, Predic: tensor([2.0000, 4.0000, 5.9999, 7.9999], grad_fn=<MulBackward0>)\n",
      "epoch 81: w = 2.000, loss = 0.00000000, Predic: tensor([2.0000, 4.0000, 6.0000, 8.0000], grad_fn=<MulBackward0>)\n",
      "epoch 91: w = 2.000, loss = 0.00000000, Predic: tensor([2.0000, 4.0000, 6.0000, 8.0000], grad_fn=<MulBackward0>)\n"
     ]
    }
   ],
   "source": [
    "X = torch.tensor([1, 2, 3, 4], dtype=torch.float32)\n",
    "Y = torch.tensor([2, 4, 6, 8], dtype=torch.float32)\n",
    "w = torch.tensor(0.0, dtype=torch.float32, requires_grad=True)\n",
    "\n",
    "# model output\n",
    "def forward(x):\n",
    "    return w * x\n",
    "\n",
    "# loss = MSE\n",
    "def loss(y, y_pred):\n",
    "    return ((y_pred - y)**2).mean()\n",
    "\n",
    "\n",
    "# Training\n",
    "lr = 0.01\n",
    "n_iters = 100\n",
    "\n",
    "for epoch in range(100):\n",
    "    # predict = forward pass\n",
    "    y_pred = forward(X)\n",
    "\n",
    "    # loss\n",
    "    l = loss(Y, y_pred)\n",
    "\n",
    "    # calculate gradients = backward pass\n",
    "    l.backward()\n",
    "\n",
    "    # update weights\n",
    "    with torch.no_grad():\n",
    "        w -= lr * w.grad\n",
    "    \n",
    "    # zero the gradients after updating\n",
    "    w.grad.zero_()\n",
    "\n",
    "    if epoch % 10 == 0:\n",
    "        print(f'epoch {epoch+1}: w = {w.item():.3f}, loss = {l.item():.8f}, Predic: {y_pred}')\n"
   ]
  },
  {
   "cell_type": "code",
   "execution_count": null,
   "id": "a8fdb7eb",
   "metadata": {},
   "outputs": [],
   "source": []
  }
 ],
 "metadata": {
  "kernelspec": {
   "display_name": "Python 3 (ipykernel)",
   "language": "python",
   "name": "python3"
  },
  "language_info": {
   "codemirror_mode": {
    "name": "ipython",
    "version": 3
   },
   "file_extension": ".py",
   "mimetype": "text/x-python",
   "name": "python",
   "nbconvert_exporter": "python",
   "pygments_lexer": "ipython3",
   "version": "3.8.8"
  }
 },
 "nbformat": 4,
 "nbformat_minor": 5
}
